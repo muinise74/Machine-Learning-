{
 "cells": [
  {
   "cell_type": "markdown",
   "id": "16864642",
   "metadata": {},
   "source": [
    "Linear Model(선형 모델)\n",
    "- 입력 특성에 대한 선형 함수를 만들어 예측을 수행\n",
    "- 다양한 선형 모델이 존재\n",
    "- 분류와 회귀에 모두 사용 가능"
   ]
  },
  {
   "cell_type": "markdown",
   "id": "8b104dc0",
   "metadata": {},
   "source": [
    "## 성적 데이터 생성"
   ]
  },
  {
   "cell_type": "code",
   "execution_count": 1,
   "id": "9b2edb70",
   "metadata": {},
   "outputs": [],
   "source": [
    "import pandas as pd"
   ]
  },
  {
   "cell_type": "code",
   "execution_count": 2,
   "id": "b371e551",
   "metadata": {},
   "outputs": [],
   "source": [
    "data =  pd.DataFrame([[2,20],[4,40],[8,80],[9,90]],\n",
    "                    index = ['해도','병관','명훈','동원'],\n",
    "                    columns = ['시간','성적'])"
   ]
  },
  {
   "cell_type": "code",
   "execution_count": 3,
   "id": "8d9f0059",
   "metadata": {},
   "outputs": [
    {
     "data": {
      "text/html": [
       "<div>\n",
       "<style scoped>\n",
       "    .dataframe tbody tr th:only-of-type {\n",
       "        vertical-align: middle;\n",
       "    }\n",
       "\n",
       "    .dataframe tbody tr th {\n",
       "        vertical-align: top;\n",
       "    }\n",
       "\n",
       "    .dataframe thead th {\n",
       "        text-align: right;\n",
       "    }\n",
       "</style>\n",
       "<table border=\"1\" class=\"dataframe\">\n",
       "  <thead>\n",
       "    <tr style=\"text-align: right;\">\n",
       "      <th></th>\n",
       "      <th>시간</th>\n",
       "      <th>성적</th>\n",
       "    </tr>\n",
       "  </thead>\n",
       "  <tbody>\n",
       "    <tr>\n",
       "      <th>해도</th>\n",
       "      <td>2</td>\n",
       "      <td>20</td>\n",
       "    </tr>\n",
       "    <tr>\n",
       "      <th>병관</th>\n",
       "      <td>4</td>\n",
       "      <td>40</td>\n",
       "    </tr>\n",
       "    <tr>\n",
       "      <th>명훈</th>\n",
       "      <td>8</td>\n",
       "      <td>80</td>\n",
       "    </tr>\n",
       "    <tr>\n",
       "      <th>동원</th>\n",
       "      <td>9</td>\n",
       "      <td>90</td>\n",
       "    </tr>\n",
       "  </tbody>\n",
       "</table>\n",
       "</div>"
      ],
      "text/plain": [
       "    시간  성적\n",
       "해도   2  20\n",
       "병관   4  40\n",
       "명훈   8  80\n",
       "동원   9  90"
      ]
     },
     "execution_count": 3,
     "metadata": {},
     "output_type": "execute_result"
    }
   ],
   "source": [
    "data"
   ]
  },
  {
   "cell_type": "markdown",
   "id": "316fb56a",
   "metadata": {},
   "source": [
    "### 수학 공식을 이용한 해석적 방법(Ordinary Least Square)\n",
    "- Linear Regression"
   ]
  },
  {
   "cell_type": "code",
   "execution_count": 4,
   "id": "9f43304d",
   "metadata": {},
   "outputs": [],
   "source": [
    "from sklearn.linear_model import LinearRegression"
   ]
  },
  {
   "cell_type": "code",
   "execution_count": 5,
   "id": "beb85484",
   "metadata": {},
   "outputs": [],
   "source": [
    "linearModel = LinearRegression()"
   ]
  },
  {
   "cell_type": "code",
   "execution_count": 6,
   "id": "589fa990",
   "metadata": {},
   "outputs": [
    {
     "data": {
      "text/plain": [
       "LinearRegression()"
      ]
     },
     "execution_count": 6,
     "metadata": {},
     "output_type": "execute_result"
    }
   ],
   "source": [
    "linearModel.fit(data[['시간']],data['성적'])"
   ]
  },
  {
   "cell_type": "code",
   "execution_count": 7,
   "id": "2c2aeeac",
   "metadata": {},
   "outputs": [
    {
     "data": {
      "text/plain": [
       "(array([10.]), 7.105427357601002e-15)"
      ]
     },
     "execution_count": 7,
     "metadata": {},
     "output_type": "execute_result"
    }
   ],
   "source": [
    "# coef : 가중치, intercept : 절편\n",
    "linearModel.coef_,linearModel.intercept_"
   ]
  },
  {
   "cell_type": "code",
   "execution_count": 8,
   "id": "6c837dc5",
   "metadata": {},
   "outputs": [
    {
     "data": {
      "text/plain": [
       "array([70.])"
      ]
     },
     "execution_count": 8,
     "metadata": {},
     "output_type": "execute_result"
    }
   ],
   "source": [
    "linearModel.predict([[7]])"
   ]
  },
  {
   "cell_type": "code",
   "execution_count": 9,
   "id": "fe815e99",
   "metadata": {
    "scrolled": true
   },
   "outputs": [
    {
     "data": {
      "text/plain": [
       "1.0"
      ]
     },
     "execution_count": 9,
     "metadata": {},
     "output_type": "execute_result"
    }
   ],
   "source": [
    "linearModel.score(data[['시간']],data['성적'])"
   ]
  },
  {
   "cell_type": "markdown",
   "id": "3867d011",
   "metadata": {},
   "source": [
    "### 경사하강법(Gradient Descent Algorithm)"
   ]
  },
  {
   "cell_type": "code",
   "execution_count": 10,
   "id": "58afe7e8",
   "metadata": {},
   "outputs": [],
   "source": [
    "from sklearn.linear_model import SGDRegressor"
   ]
  },
  {
   "cell_type": "code",
   "execution_count": 11,
   "id": "1f5d146e",
   "metadata": {},
   "outputs": [],
   "source": [
    "sgdModel = SGDRegressor(max_iter = 5000, # 가중치 업데이트 반복 횟수\n",
    "                        eta0 = 0.01, # 학습률 (learning rate)\n",
    "                        verbose = 1) # 학습과정 확인"
   ]
  },
  {
   "cell_type": "code",
   "execution_count": 12,
   "id": "fc94a80c",
   "metadata": {},
   "outputs": [
    {
     "name": "stdout",
     "output_type": "stream",
     "text": [
      "-- Epoch 1\n",
      "Norm: 8.21, NNZs: 1, Bias: 1.260493, T: 4, Avg. loss: 965.285176\n",
      "Total training time: 0.00 seconds.\n",
      "-- Epoch 2\n",
      "Norm: 9.39, NNZs: 1, Bias: 1.431770, T: 8, Avg. loss: 29.650140\n",
      "Total training time: 0.00 seconds.\n",
      "-- Epoch 3\n",
      "Norm: 9.67, NNZs: 1, Bias: 1.467132, T: 12, Avg. loss: 2.433305\n",
      "Total training time: 0.00 seconds.\n",
      "-- Epoch 4\n",
      "Norm: 9.76, NNZs: 1, Bias: 1.474009, T: 16, Avg. loss: 0.429741\n",
      "Total training time: 0.00 seconds.\n",
      "-- Epoch 5\n",
      "Norm: 9.79, NNZs: 1, Bias: 1.472082, T: 20, Avg. loss: 0.253476\n",
      "Total training time: 0.00 seconds.\n",
      "-- Epoch 6\n",
      "Norm: 9.80, NNZs: 1, Bias: 1.468319, T: 24, Avg. loss: 0.228881\n",
      "Total training time: 0.00 seconds.\n",
      "-- Epoch 7\n",
      "Norm: 9.81, NNZs: 1, Bias: 1.463381, T: 28, Avg. loss: 0.228747\n",
      "Total training time: 0.00 seconds.\n",
      "-- Epoch 8\n",
      "Norm: 9.81, NNZs: 1, Bias: 1.458740, T: 32, Avg. loss: 0.224307\n",
      "Total training time: 0.00 seconds.\n",
      "-- Epoch 9\n",
      "Norm: 9.81, NNZs: 1, Bias: 1.453743, T: 36, Avg. loss: 0.225041\n",
      "Total training time: 0.00 seconds.\n",
      "-- Epoch 10\n",
      "Norm: 9.81, NNZs: 1, Bias: 1.449222, T: 40, Avg. loss: 0.221058\n",
      "Total training time: 0.00 seconds.\n",
      "-- Epoch 11\n",
      "Norm: 9.81, NNZs: 1, Bias: 1.444465, T: 44, Avg. loss: 0.221448\n",
      "Total training time: 0.00 seconds.\n",
      "-- Epoch 12\n",
      "Norm: 9.81, NNZs: 1, Bias: 1.440156, T: 48, Avg. loss: 0.217822\n",
      "Total training time: 0.00 seconds.\n",
      "-- Epoch 13\n",
      "Norm: 9.81, NNZs: 1, Bias: 1.435636, T: 52, Avg. loss: 0.218090\n",
      "Total training time: 0.00 seconds.\n",
      "-- Epoch 14\n",
      "Norm: 9.81, NNZs: 1, Bias: 1.431519, T: 56, Avg. loss: 0.214785\n",
      "Total training time: 0.00 seconds.\n",
      "-- Epoch 15\n",
      "Norm: 9.81, NNZs: 1, Bias: 1.427202, T: 60, Avg. loss: 0.214989\n",
      "Total training time: 0.00 seconds.\n",
      "-- Epoch 16\n",
      "Norm: 9.81, NNZs: 1, Bias: 1.423249, T: 64, Avg. loss: 0.211944\n",
      "Total training time: 0.00 seconds.\n",
      "-- Epoch 17\n",
      "Norm: 9.81, NNZs: 1, Bias: 1.419104, T: 68, Avg. loss: 0.212103\n",
      "Total training time: 0.00 seconds.\n",
      "-- Epoch 18\n",
      "Norm: 9.81, NNZs: 1, Bias: 1.415294, T: 72, Avg. loss: 0.209271\n",
      "Total training time: 0.00 seconds.\n",
      "-- Epoch 19\n",
      "Norm: 9.81, NNZs: 1, Bias: 1.411297, T: 76, Avg. loss: 0.209394\n",
      "Total training time: 0.00 seconds.\n",
      "-- Epoch 20\n",
      "Norm: 9.81, NNZs: 1, Bias: 1.407610, T: 80, Avg. loss: 0.206738\n",
      "Total training time: 0.00 seconds.\n",
      "-- Epoch 21\n",
      "Norm: 9.81, NNZs: 1, Bias: 1.403744, T: 84, Avg. loss: 0.206830\n",
      "Total training time: 0.00 seconds.\n",
      "-- Epoch 22\n",
      "Norm: 9.81, NNZs: 1, Bias: 1.400165, T: 88, Avg. loss: 0.204325\n",
      "Total training time: 0.00 seconds.\n",
      "-- Epoch 23\n",
      "Norm: 9.81, NNZs: 1, Bias: 1.396415, T: 92, Avg. loss: 0.204391\n",
      "Total training time: 0.00 seconds.\n",
      "-- Epoch 24\n",
      "Norm: 9.82, NNZs: 1, Bias: 1.392934, T: 96, Avg. loss: 0.202015\n",
      "Total training time: 0.00 seconds.\n",
      "-- Epoch 25\n",
      "Norm: 9.82, NNZs: 1, Bias: 1.389287, T: 100, Avg. loss: 0.202058\n",
      "Total training time: 0.00 seconds.\n",
      "-- Epoch 26\n",
      "Norm: 9.82, NNZs: 1, Bias: 1.385895, T: 104, Avg. loss: 0.199796\n",
      "Total training time: 0.00 seconds.\n",
      "-- Epoch 27\n",
      "Norm: 9.82, NNZs: 1, Bias: 1.382342, T: 108, Avg. loss: 0.199820\n",
      "Total training time: 0.00 seconds.\n",
      "-- Epoch 28\n",
      "Norm: 9.82, NNZs: 1, Bias: 1.379030, T: 112, Avg. loss: 0.197657\n",
      "Total training time: 0.00 seconds.\n",
      "-- Epoch 29\n",
      "Norm: 9.82, NNZs: 1, Bias: 1.375563, T: 116, Avg. loss: 0.197665\n",
      "Total training time: 0.00 seconds.\n",
      "-- Epoch 30\n",
      "Norm: 9.82, NNZs: 1, Bias: 1.372325, T: 120, Avg. loss: 0.195591\n",
      "Total training time: 0.00 seconds.\n",
      "-- Epoch 31\n",
      "Norm: 9.82, NNZs: 1, Bias: 1.368936, T: 124, Avg. loss: 0.195584\n",
      "Total training time: 0.00 seconds.\n",
      "-- Epoch 32\n",
      "Norm: 9.82, NNZs: 1, Bias: 1.365766, T: 128, Avg. loss: 0.193591\n",
      "Total training time: 0.00 seconds.\n",
      "-- Epoch 33\n",
      "Norm: 9.82, NNZs: 1, Bias: 1.362450, T: 132, Avg. loss: 0.193571\n",
      "Total training time: 0.00 seconds.\n",
      "-- Epoch 34\n",
      "Norm: 9.82, NNZs: 1, Bias: 1.359344, T: 136, Avg. loss: 0.191651\n",
      "Total training time: 0.00 seconds.\n",
      "-- Epoch 35\n",
      "Norm: 9.82, NNZs: 1, Bias: 1.356095, T: 140, Avg. loss: 0.191619\n",
      "Total training time: 0.00 seconds.\n",
      "-- Epoch 36\n",
      "Norm: 9.82, NNZs: 1, Bias: 1.353048, T: 144, Avg. loss: 0.189766\n",
      "Total training time: 0.00 seconds.\n",
      "-- Epoch 37\n",
      "Norm: 9.82, NNZs: 1, Bias: 1.349863, T: 148, Avg. loss: 0.189724\n",
      "Total training time: 0.00 seconds.\n",
      "-- Epoch 38\n",
      "Norm: 9.82, NNZs: 1, Bias: 1.346871, T: 152, Avg. loss: 0.187932\n",
      "Total training time: 0.00 seconds.\n",
      "-- Epoch 39\n",
      "Norm: 9.82, NNZs: 1, Bias: 1.343745, T: 156, Avg. loss: 0.187880\n",
      "Total training time: 0.00 seconds.\n",
      "-- Epoch 40\n",
      "Norm: 9.82, NNZs: 1, Bias: 1.340805, T: 160, Avg. loss: 0.186145\n",
      "Total training time: 0.00 seconds.\n",
      "-- Epoch 41\n",
      "Norm: 9.82, NNZs: 1, Bias: 1.337734, T: 164, Avg. loss: 0.186086\n",
      "Total training time: 0.00 seconds.\n",
      "-- Epoch 42\n",
      "Norm: 9.82, NNZs: 1, Bias: 1.334844, T: 168, Avg. loss: 0.184403\n",
      "Total training time: 0.00 seconds.\n",
      "-- Epoch 43\n",
      "Norm: 9.82, NNZs: 1, Bias: 1.331825, T: 172, Avg. loss: 0.184336\n",
      "Total training time: 0.00 seconds.\n",
      "-- Epoch 44\n",
      "Norm: 9.82, NNZs: 1, Bias: 1.328981, T: 176, Avg. loss: 0.182702\n",
      "Total training time: 0.00 seconds.\n",
      "-- Epoch 45\n",
      "Norm: 9.82, NNZs: 1, Bias: 1.326012, T: 180, Avg. loss: 0.182628\n",
      "Total training time: 0.00 seconds.\n",
      "-- Epoch 46\n",
      "Norm: 9.82, NNZs: 1, Bias: 1.323212, T: 184, Avg. loss: 0.181039\n",
      "Total training time: 0.00 seconds.\n",
      "-- Epoch 47\n",
      "Norm: 9.82, NNZs: 1, Bias: 1.320290, T: 188, Avg. loss: 0.180960\n",
      "Total training time: 0.00 seconds.\n",
      "-- Epoch 48\n",
      "Norm: 9.82, NNZs: 1, Bias: 1.317532, T: 192, Avg. loss: 0.179414\n",
      "Total training time: 0.00 seconds.\n",
      "-- Epoch 49\n",
      "Norm: 9.82, NNZs: 1, Bias: 1.314655, T: 196, Avg. loss: 0.179329\n",
      "Total training time: 0.00 seconds.\n",
      "-- Epoch 50\n",
      "Norm: 9.82, NNZs: 1, Bias: 1.311937, T: 200, Avg. loss: 0.177823\n",
      "Total training time: 0.00 seconds.\n",
      "-- Epoch 51\n",
      "Norm: 9.82, NNZs: 1, Bias: 1.309102, T: 204, Avg. loss: 0.177733\n",
      "Total training time: 0.00 seconds.\n",
      "-- Epoch 52\n",
      "Norm: 9.83, NNZs: 1, Bias: 1.306422, T: 208, Avg. loss: 0.176265\n",
      "Total training time: 0.00 seconds.\n",
      "-- Epoch 53\n",
      "Norm: 9.83, NNZs: 1, Bias: 1.303628, T: 212, Avg. loss: 0.176170\n",
      "Total training time: 0.00 seconds.\n",
      "-- Epoch 54\n",
      "Norm: 9.83, NNZs: 1, Bias: 1.300985, T: 216, Avg. loss: 0.174738\n",
      "Total training time: 0.00 seconds.\n",
      "-- Epoch 55\n",
      "Norm: 9.83, NNZs: 1, Bias: 1.298230, T: 220, Avg. loss: 0.174639\n",
      "Total training time: 0.00 seconds.\n",
      "-- Epoch 56\n",
      "Norm: 9.83, NNZs: 1, Bias: 1.295621, T: 224, Avg. loss: 0.173241\n",
      "Total training time: 0.00 seconds.\n",
      "-- Epoch 57\n",
      "Norm: 9.83, NNZs: 1, Bias: 1.292903, T: 228, Avg. loss: 0.173138\n",
      "Total training time: 0.00 seconds.\n",
      "-- Epoch 58\n",
      "Norm: 9.83, NNZs: 1, Bias: 1.290329, T: 232, Avg. loss: 0.171772\n",
      "Total training time: 0.00 seconds.\n",
      "-- Epoch 59\n",
      "Norm: 9.83, NNZs: 1, Bias: 1.287646, T: 236, Avg. loss: 0.171666\n",
      "Total training time: 0.00 seconds.\n",
      "-- Epoch 60\n",
      "Norm: 9.83, NNZs: 1, Bias: 1.285104, T: 240, Avg. loss: 0.170330\n",
      "Total training time: 0.00 seconds.\n",
      "-- Epoch 61\n",
      "Norm: 9.83, NNZs: 1, Bias: 1.282456, T: 244, Avg. loss: 0.170221\n",
      "Total training time: 0.00 seconds.\n",
      "-- Epoch 62\n",
      "Norm: 9.83, NNZs: 1, Bias: 1.279945, T: 248, Avg. loss: 0.168914\n",
      "Total training time: 0.00 seconds.\n",
      "-- Epoch 63\n",
      "Norm: 9.83, NNZs: 1, Bias: 1.277330, T: 252, Avg. loss: 0.168803\n",
      "Total training time: 0.00 seconds.\n",
      "-- Epoch 64\n",
      "Norm: 9.83, NNZs: 1, Bias: 1.274848, T: 256, Avg. loss: 0.167523\n",
      "Total training time: 0.00 seconds.\n",
      "-- Epoch 65\n",
      "Norm: 9.83, NNZs: 1, Bias: 1.272265, T: 260, Avg. loss: 0.167409\n",
      "Total training time: 0.00 seconds.\n",
      "-- Epoch 66\n",
      "Norm: 9.83, NNZs: 1, Bias: 1.269813, T: 264, Avg. loss: 0.166156\n",
      "Total training time: 0.00 seconds.\n",
      "-- Epoch 67\n",
      "Norm: 9.83, NNZs: 1, Bias: 1.267260, T: 268, Avg. loss: 0.166040\n",
      "Total training time: 0.00 seconds.\n",
      "-- Epoch 68\n",
      "Norm: 9.83, NNZs: 1, Bias: 1.264836, T: 272, Avg. loss: 0.164812\n",
      "Total training time: 0.00 seconds.\n",
      "-- Epoch 69\n",
      "Norm: 9.83, NNZs: 1, Bias: 1.262313, T: 276, Avg. loss: 0.164694\n",
      "Total training time: 0.00 seconds.\n",
      "-- Epoch 70\n",
      "Norm: 9.83, NNZs: 1, Bias: 1.259916, T: 280, Avg. loss: 0.163490\n",
      "Total training time: 0.00 seconds.\n",
      "-- Epoch 71\n",
      "Norm: 9.83, NNZs: 1, Bias: 1.257422, T: 284, Avg. loss: 0.163370\n",
      "Total training time: 0.00 seconds.\n",
      "-- Epoch 72\n",
      "Norm: 9.83, NNZs: 1, Bias: 1.255050, T: 288, Avg. loss: 0.162189\n",
      "Total training time: 0.00 seconds.\n",
      "-- Epoch 73\n",
      "Norm: 9.83, NNZs: 1, Bias: 1.252584, T: 292, Avg. loss: 0.162067\n",
      "Total training time: 0.00 seconds.\n",
      "-- Epoch 74\n",
      "Norm: 9.83, NNZs: 1, Bias: 1.250238, T: 296, Avg. loss: 0.160909\n",
      "Total training time: 0.00 seconds.\n",
      "-- Epoch 75\n",
      "Norm: 9.83, NNZs: 1, Bias: 1.247799, T: 300, Avg. loss: 0.160786\n",
      "Total training time: 0.00 seconds.\n",
      "-- Epoch 76\n",
      "Norm: 9.83, NNZs: 1, Bias: 1.245477, T: 304, Avg. loss: 0.159649\n",
      "Total training time: 0.00 seconds.\n",
      "-- Epoch 77\n",
      "Norm: 9.83, NNZs: 1, Bias: 1.243064, T: 308, Avg. loss: 0.159524\n",
      "Total training time: 0.00 seconds.\n",
      "-- Epoch 78\n",
      "Norm: 9.83, NNZs: 1, Bias: 1.240766, T: 312, Avg. loss: 0.158407\n",
      "Total training time: 0.00 seconds.\n",
      "-- Epoch 79\n",
      "Norm: 9.83, NNZs: 1, Bias: 1.238378, T: 316, Avg. loss: 0.158281\n",
      "Total training time: 0.00 seconds.\n",
      "-- Epoch 80\n",
      "Norm: 9.83, NNZs: 1, Bias: 1.236104, T: 320, Avg. loss: 0.157185\n",
      "Total training time: 0.00 seconds.\n",
      "-- Epoch 81\n",
      "Norm: 9.83, NNZs: 1, Bias: 1.233740, T: 324, Avg. loss: 0.157057\n",
      "Total training time: 0.00 seconds.\n",
      "-- Epoch 82\n",
      "Norm: 9.83, NNZs: 1, Bias: 1.231489, T: 328, Avg. loss: 0.155980\n",
      "Total training time: 0.00 seconds.\n",
      "-- Epoch 83\n",
      "Norm: 9.83, NNZs: 1, Bias: 1.229149, T: 332, Avg. loss: 0.155852\n",
      "Total training time: 0.00 seconds.\n",
      "-- Epoch 84\n",
      "Norm: 9.83, NNZs: 1, Bias: 1.226919, T: 336, Avg. loss: 0.154793\n",
      "Total training time: 0.00 seconds.\n",
      "-- Epoch 85\n",
      "Norm: 9.83, NNZs: 1, Bias: 1.224603, T: 340, Avg. loss: 0.154663\n",
      "Total training time: 0.00 seconds.\n",
      "-- Epoch 86\n",
      "Norm: 9.84, NNZs: 1, Bias: 1.222394, T: 344, Avg. loss: 0.153622\n",
      "Total training time: 0.00 seconds.\n",
      "-- Epoch 87\n",
      "Norm: 9.84, NNZs: 1, Bias: 1.220100, T: 348, Avg. loss: 0.153492\n",
      "Total training time: 0.00 seconds.\n",
      "-- Epoch 88\n",
      "Norm: 9.84, NNZs: 1, Bias: 1.217912, T: 352, Avg. loss: 0.152468\n",
      "Total training time: 0.00 seconds.\n",
      "-- Epoch 89\n",
      "Norm: 9.84, NNZs: 1, Bias: 1.215641, T: 356, Avg. loss: 0.152337\n",
      "Total training time: 0.00 seconds.\n",
      "-- Epoch 90\n",
      "Norm: 9.84, NNZs: 1, Bias: 1.213473, T: 360, Avg. loss: 0.151330\n",
      "Total training time: 0.00 seconds.\n",
      "-- Epoch 91\n",
      "Norm: 9.84, NNZs: 1, Bias: 1.211223, T: 364, Avg. loss: 0.151199\n",
      "Total training time: 0.00 seconds.\n",
      "-- Epoch 92\n",
      "Norm: 9.84, NNZs: 1, Bias: 1.209075, T: 368, Avg. loss: 0.150208\n",
      "Total training time: 0.00 seconds.\n",
      "-- Epoch 93\n",
      "Norm: 9.84, NNZs: 1, Bias: 1.206846, T: 372, Avg. loss: 0.150076\n",
      "Total training time: 0.01 seconds.\n",
      "-- Epoch 94\n",
      "Norm: 9.84, NNZs: 1, Bias: 1.204717, T: 376, Avg. loss: 0.149100\n",
      "Total training time: 0.01 seconds.\n",
      "-- Epoch 95\n",
      "Norm: 9.84, NNZs: 1, Bias: 1.202508, T: 380, Avg. loss: 0.148968\n",
      "Total training time: 0.01 seconds.\n",
      "Convergence after 95 epochs took 0.01 seconds\n"
     ]
    },
    {
     "data": {
      "text/plain": [
       "SGDRegressor(max_iter=5000, verbose=1)"
      ]
     },
     "execution_count": 12,
     "metadata": {},
     "output_type": "execute_result"
    }
   ],
   "source": [
    "sgdModel.fit(data[['시간']],data['성적'])"
   ]
  },
  {
   "cell_type": "code",
   "execution_count": 13,
   "id": "c4010d8c",
   "metadata": {
    "scrolled": true
   },
   "outputs": [
    {
     "data": {
      "text/plain": [
       "(array([9.83773774]), array([1.20250819]))"
      ]
     },
     "execution_count": 13,
     "metadata": {},
     "output_type": "execute_result"
    }
   ],
   "source": [
    "sgdModel.coef_,sgdModel.intercept_"
   ]
  },
  {
   "cell_type": "code",
   "execution_count": 14,
   "id": "e69a3757",
   "metadata": {
    "scrolled": true
   },
   "outputs": [
    {
     "data": {
      "text/plain": [
       "array([70.06667237])"
      ]
     },
     "execution_count": 14,
     "metadata": {},
     "output_type": "execute_result"
    }
   ],
   "source": [
    "sgdModel.predict([[7]])"
   ]
  },
  {
   "cell_type": "code",
   "execution_count": 15,
   "id": "ddd63088",
   "metadata": {
    "scrolled": true
   },
   "outputs": [
    {
     "data": {
      "text/plain": [
       "0.9996480007583528"
      ]
     },
     "execution_count": 15,
     "metadata": {},
     "output_type": "execute_result"
    }
   ],
   "source": [
    "sgdModel.score(data[['시간']],data['성적'])"
   ]
  },
  {
   "cell_type": "markdown",
   "id": "632d3f51",
   "metadata": {},
   "source": [
    "## 지난 시험 점수를 추가"
   ]
  },
  {
   "cell_type": "code",
   "execution_count": 16,
   "id": "d373f29b",
   "metadata": {
    "scrolled": true
   },
   "outputs": [
    {
     "data": {
      "text/html": [
       "<div>\n",
       "<style scoped>\n",
       "    .dataframe tbody tr th:only-of-type {\n",
       "        vertical-align: middle;\n",
       "    }\n",
       "\n",
       "    .dataframe tbody tr th {\n",
       "        vertical-align: top;\n",
       "    }\n",
       "\n",
       "    .dataframe thead th {\n",
       "        text-align: right;\n",
       "    }\n",
       "</style>\n",
       "<table border=\"1\" class=\"dataframe\">\n",
       "  <thead>\n",
       "    <tr style=\"text-align: right;\">\n",
       "      <th></th>\n",
       "      <th>시간</th>\n",
       "      <th>성적</th>\n",
       "      <th>전 시험 점수</th>\n",
       "    </tr>\n",
       "  </thead>\n",
       "  <tbody>\n",
       "    <tr>\n",
       "      <th>해도</th>\n",
       "      <td>2</td>\n",
       "      <td>20</td>\n",
       "      <td>20</td>\n",
       "    </tr>\n",
       "    <tr>\n",
       "      <th>병관</th>\n",
       "      <td>4</td>\n",
       "      <td>40</td>\n",
       "      <td>48</td>\n",
       "    </tr>\n",
       "    <tr>\n",
       "      <th>명훈</th>\n",
       "      <td>8</td>\n",
       "      <td>80</td>\n",
       "      <td>80</td>\n",
       "    </tr>\n",
       "    <tr>\n",
       "      <th>동원</th>\n",
       "      <td>9</td>\n",
       "      <td>90</td>\n",
       "      <td>90</td>\n",
       "    </tr>\n",
       "  </tbody>\n",
       "</table>\n",
       "</div>"
      ],
      "text/plain": [
       "    시간  성적  전 시험 점수\n",
       "해도   2  20       20\n",
       "병관   4  40       48\n",
       "명훈   8  80       80\n",
       "동원   9  90       90"
      ]
     },
     "execution_count": 16,
     "metadata": {},
     "output_type": "execute_result"
    }
   ],
   "source": [
    "data['전 시험 점수'] = [20,48,80,90]\n",
    "data"
   ]
  },
  {
   "cell_type": "code",
   "execution_count": 17,
   "id": "efa13936",
   "metadata": {},
   "outputs": [
    {
     "data": {
      "text/html": [
       "<div>\n",
       "<style scoped>\n",
       "    .dataframe tbody tr th:only-of-type {\n",
       "        vertical-align: middle;\n",
       "    }\n",
       "\n",
       "    .dataframe tbody tr th {\n",
       "        vertical-align: top;\n",
       "    }\n",
       "\n",
       "    .dataframe thead th {\n",
       "        text-align: right;\n",
       "    }\n",
       "</style>\n",
       "<table border=\"1\" class=\"dataframe\">\n",
       "  <thead>\n",
       "    <tr style=\"text-align: right;\">\n",
       "      <th></th>\n",
       "      <th>시간</th>\n",
       "      <th>전 시험 점수</th>\n",
       "    </tr>\n",
       "  </thead>\n",
       "  <tbody>\n",
       "    <tr>\n",
       "      <th>도연</th>\n",
       "      <td>7</td>\n",
       "      <td>90</td>\n",
       "    </tr>\n",
       "  </tbody>\n",
       "</table>\n",
       "</div>"
      ],
      "text/plain": [
       "    시간  전 시험 점수\n",
       "도연   7       90"
      ]
     },
     "execution_count": 17,
     "metadata": {},
     "output_type": "execute_result"
    }
   ],
   "source": [
    "test = pd.DataFrame([[7,90]],columns = ['시간','전 시험 점수'],index=['도연'])\n",
    "test"
   ]
  },
  {
   "cell_type": "markdown",
   "id": "c5dcb964",
   "metadata": {},
   "source": [
    "### 수학 공식을 이용한 해석적 방법(Ordinary Least Square)\n",
    "- Linear Regression"
   ]
  },
  {
   "cell_type": "code",
   "execution_count": 18,
   "id": "4732e875",
   "metadata": {},
   "outputs": [],
   "source": [
    "linearModel = LinearRegression()"
   ]
  },
  {
   "cell_type": "code",
   "execution_count": 19,
   "id": "cdd39eb9",
   "metadata": {},
   "outputs": [
    {
     "data": {
      "text/plain": [
       "LinearRegression()"
      ]
     },
     "execution_count": 19,
     "metadata": {},
     "output_type": "execute_result"
    }
   ],
   "source": [
    "linearModel.fit(data[['시간','전 시험 점수']],data['성적'])"
   ]
  },
  {
   "cell_type": "code",
   "execution_count": 20,
   "id": "6dfa4887",
   "metadata": {},
   "outputs": [
    {
     "data": {
      "text/plain": [
       "(array([ 1.00000000e+01, -6.48527378e-16]), 3.552713678800501e-14)"
      ]
     },
     "execution_count": 20,
     "metadata": {},
     "output_type": "execute_result"
    }
   ],
   "source": [
    "# coef : 가중치, intercept : 절편\n",
    "linearModel.coef_,linearModel.intercept_"
   ]
  },
  {
   "cell_type": "code",
   "execution_count": 21,
   "id": "6d12ecea",
   "metadata": {
    "scrolled": true
   },
   "outputs": [
    {
     "data": {
      "text/plain": [
       "array([70.])"
      ]
     },
     "execution_count": 21,
     "metadata": {},
     "output_type": "execute_result"
    }
   ],
   "source": [
    "linearModel.predict(test)"
   ]
  },
  {
   "cell_type": "code",
   "execution_count": 22,
   "id": "82ef1d57",
   "metadata": {
    "scrolled": true
   },
   "outputs": [
    {
     "data": {
      "text/plain": [
       "1.0"
      ]
     },
     "execution_count": 22,
     "metadata": {},
     "output_type": "execute_result"
    }
   ],
   "source": [
    "linearModel.score(data[['시간','전 시험 점수']],data['성적'])"
   ]
  },
  {
   "cell_type": "markdown",
   "id": "fb5c0b9d",
   "metadata": {},
   "source": [
    "### 경사하강법(Gradient Descent Algorithm)"
   ]
  },
  {
   "cell_type": "code",
   "execution_count": 23,
   "id": "76f0e1d1",
   "metadata": {},
   "outputs": [],
   "source": [
    "sgdModel2 = SGDRegressor(max_iter = 5000, # 가중치 업데이트 반복 횟수\n",
    "                        eta0 = 0.01, # 학습률 (learning rate)\n",
    "                        verbose = 1) # 학습과정 확인"
   ]
  },
  {
   "cell_type": "code",
   "execution_count": 24,
   "id": "03793e62",
   "metadata": {
    "scrolled": true
   },
   "outputs": [
    {
     "name": "stdout",
     "output_type": "stream",
     "text": [
      "-- Epoch 1\n",
      "Norm: 120034.06, NNZs: 2, Bias: -1498.908071, T: 4, Avg. loss: 5826593985.776116\n",
      "Total training time: 0.00 seconds.\n",
      "-- Epoch 2\n",
      "Norm: 5225543515.66, NNZs: 2, Bias: -57635056.327679, T: 8, Avg. loss: 12307786864938678272.000000\n",
      "Total training time: 0.00 seconds.\n",
      "-- Epoch 3\n",
      "Norm: 16459778985.91, NNZs: 2, Bias: -4109593897.568495, T: 12, Avg. loss: 165070422541078908027011072.000000\n",
      "Total training time: 0.00 seconds.\n",
      "-- Epoch 4\n",
      "Norm: 243682255990.65, NNZs: 2, Bias: -1380601330.786339, T: 16, Avg. loss: 76931966087274035847102464.000000\n",
      "Total training time: 0.00 seconds.\n",
      "-- Epoch 5\n",
      "Norm: 163587447144.43, NNZs: 2, Bias: -9177194900.274151, T: 20, Avg. loss: 55138872543519565299056640.000000\n",
      "Total training time: 0.00 seconds.\n",
      "-- Epoch 6\n",
      "Norm: 194252271982.91, NNZs: 2, Bias: 63223349.530787, T: 24, Avg. loss: 68656602098413949163667456.000000\n",
      "Total training time: 0.00 seconds.\n",
      "Convergence after 6 epochs took 0.00 seconds\n"
     ]
    },
    {
     "data": {
      "text/plain": [
       "SGDRegressor(max_iter=5000, verbose=1)"
      ]
     },
     "execution_count": 24,
     "metadata": {},
     "output_type": "execute_result"
    }
   ],
   "source": [
    "sgdModel2.fit(data[['시간','전 시험 점수']],data['성적'])"
   ]
  },
  {
   "cell_type": "code",
   "execution_count": 25,
   "id": "4f334833",
   "metadata": {
    "scrolled": true
   },
   "outputs": [
    {
     "data": {
      "text/plain": [
       "(array([1.48305441e+10, 1.93685312e+11]), array([63223349.53078747]))"
      ]
     },
     "execution_count": 25,
     "metadata": {},
     "output_type": "execute_result"
    }
   ],
   "source": [
    "sgdModel2.coef_,sgdModel2.intercept_"
   ]
  },
  {
   "cell_type": "code",
   "execution_count": 26,
   "id": "3ef9d8f2",
   "metadata": {
    "scrolled": false
   },
   "outputs": [
    {
     "data": {
      "text/plain": [
       "array([1.75355551e+13])"
      ]
     },
     "execution_count": 26,
     "metadata": {},
     "output_type": "execute_result"
    }
   ],
   "source": [
    "sgdModel2.predict(test)"
   ]
  },
  {
   "cell_type": "code",
   "execution_count": 27,
   "id": "b24ca54e",
   "metadata": {},
   "outputs": [
    {
     "data": {
      "text/html": [
       "<div>\n",
       "<style scoped>\n",
       "    .dataframe tbody tr th:only-of-type {\n",
       "        vertical-align: middle;\n",
       "    }\n",
       "\n",
       "    .dataframe tbody tr th {\n",
       "        vertical-align: top;\n",
       "    }\n",
       "\n",
       "    .dataframe thead th {\n",
       "        text-align: right;\n",
       "    }\n",
       "</style>\n",
       "<table border=\"1\" class=\"dataframe\">\n",
       "  <thead>\n",
       "    <tr style=\"text-align: right;\">\n",
       "      <th></th>\n",
       "      <th>0</th>\n",
       "    </tr>\n",
       "  </thead>\n",
       "  <tbody>\n",
       "    <tr>\n",
       "      <th>0</th>\n",
       "      <td>1.753556e+13</td>\n",
       "    </tr>\n",
       "  </tbody>\n",
       "</table>\n",
       "</div>"
      ],
      "text/plain": [
       "              0\n",
       "0  1.753556e+13"
      ]
     },
     "execution_count": 27,
     "metadata": {},
     "output_type": "execute_result"
    }
   ],
   "source": [
    "temp = pd.DataFrame(sgdModel2.predict(test),dtype=float)\n",
    "temp"
   ]
  },
  {
   "cell_type": "code",
   "execution_count": 28,
   "id": "5f6510ac",
   "metadata": {
    "scrolled": true
   },
   "outputs": [
    {
     "data": {
      "text/plain": [
       "-2.000293043594153e+23"
      ]
     },
     "execution_count": 28,
     "metadata": {},
     "output_type": "execute_result"
    }
   ],
   "source": [
    "sgdModel2.score(data[['시간','전 시험 점수']],data['성적'])"
   ]
  }
 ],
 "metadata": {
  "kernelspec": {
   "display_name": "Python 3 (ipykernel)",
   "language": "python",
   "name": "python3"
  },
  "language_info": {
   "codemirror_mode": {
    "name": "ipython",
    "version": 3
   },
   "file_extension": ".py",
   "mimetype": "text/x-python",
   "name": "python",
   "nbconvert_exporter": "python",
   "pygments_lexer": "ipython3",
   "version": "3.9.7"
  },
  "toc": {
   "base_numbering": 1,
   "nav_menu": {},
   "number_sections": true,
   "sideBar": true,
   "skip_h1_title": false,
   "title_cell": "Table of Contents",
   "title_sidebar": "Contents",
   "toc_cell": false,
   "toc_position": {
    "height": "calc(100% - 180px)",
    "left": "10px",
    "top": "150px",
    "width": "204.091px"
   },
   "toc_section_display": true,
   "toc_window_display": true
  }
 },
 "nbformat": 4,
 "nbformat_minor": 5
}
