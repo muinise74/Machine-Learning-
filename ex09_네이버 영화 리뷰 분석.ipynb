{
 "cells": [
  {
   "cell_type": "code",
   "execution_count": 1,
   "id": "4ca786c4",
   "metadata": {},
   "outputs": [],
   "source": [
    "# 한글형태소 분석기\n",
    "from konlpy.tag import Okt, Kkma\n",
    "okt = Okt()\n",
    "kkma = Kkma()"
   ]
  },
  {
   "cell_type": "code",
   "execution_count": 2,
   "id": "7dd213e7",
   "metadata": {},
   "outputs": [
    {
     "data": {
      "text/plain": [
       "['아버지', '가방', '에', '들어가신다']"
      ]
     },
     "execution_count": 2,
     "metadata": {},
     "output_type": "execute_result"
    }
   ],
   "source": [
    "# 형태소별로 분류\n",
    "okt.morphs('아버지가방에들어가신다')"
   ]
  },
  {
   "cell_type": "code",
   "execution_count": 3,
   "id": "7287f9f9",
   "metadata": {},
   "outputs": [
    {
     "data": {
      "text/plain": [
       "['아버지', '가방', '에', '들어가', '시', 'ㄴ다']"
      ]
     },
     "execution_count": 3,
     "metadata": {},
     "output_type": "execute_result"
    }
   ],
   "source": [
    "kkma.morphs('아버지가방에들어가신다')"
   ]
  },
  {
   "cell_type": "code",
   "execution_count": 4,
   "id": "568c3689",
   "metadata": {},
   "outputs": [
    {
     "data": {
      "text/plain": [
       "[('아버지', 'Noun'), ('가방', 'Noun'), ('에', 'Josa'), ('들어가신다', 'Verb')]"
      ]
     },
     "execution_count": 4,
     "metadata": {},
     "output_type": "execute_result"
    }
   ],
   "source": [
    "# 어떤 형태소인지 분류 및 매핑\n",
    "text='아버지가방에들어가신다'\n",
    "okt.pos(text)"
   ]
  },
  {
   "cell_type": "code",
   "execution_count": 5,
   "id": "129bca3f",
   "metadata": {},
   "outputs": [
    {
     "data": {
      "text/plain": [
       "[('아버지', 'NNG'),\n",
       " ('가방', 'NNG'),\n",
       " ('에', 'JKM'),\n",
       " ('들어가', 'VV'),\n",
       " ('시', 'EPH'),\n",
       " ('ㄴ다', 'EFN')]"
      ]
     },
     "execution_count": 5,
     "metadata": {},
     "output_type": "execute_result"
    }
   ],
   "source": [
    "kkma.pos(text)"
   ]
  },
  {
   "cell_type": "code",
   "execution_count": 6,
   "id": "84107d06",
   "metadata": {},
   "outputs": [
    {
     "data": {
      "text/plain": [
       "({'Adjective': '형용사',\n",
       "  'Adverb': '부사',\n",
       "  'Alpha': '알파벳',\n",
       "  'Conjunction': '접속사',\n",
       "  'Determiner': '관형사',\n",
       "  'Eomi': '어미',\n",
       "  'Exclamation': '감탄사',\n",
       "  'Foreign': '외국어, 한자 및 기타기호',\n",
       "  'Hashtag': '트위터 해쉬태그',\n",
       "  'Josa': '조사',\n",
       "  'KoreanParticle': '(ex: ㅋㅋ)',\n",
       "  'Noun': '명사',\n",
       "  'Number': '숫자',\n",
       "  'PreEomi': '선어말어미',\n",
       "  'Punctuation': '구두점',\n",
       "  'ScreenName': '트위터 아이디',\n",
       "  'Suffix': '접미사',\n",
       "  'Unknown': '미등록어',\n",
       "  'Verb': '동사'},\n",
       " {'EC': '연결 어미',\n",
       "  'ECD': '의존적 연결 어미',\n",
       "  'ECE': '대등 연결 어미',\n",
       "  'ECS': '보조적 연결 어미',\n",
       "  'EF': '종결 어미',\n",
       "  'EFA': '청유형 종결 어미',\n",
       "  'EFI': '감탄형 종결 어미',\n",
       "  'EFN': '평서형 종결 어미',\n",
       "  'EFO': '명령형 종결 어미',\n",
       "  'EFQ': '의문형 종결 어미',\n",
       "  'EFR': '존칭형 종결 어미',\n",
       "  'EP': '선어말 어미',\n",
       "  'EPH': '존칭 선어말 어미',\n",
       "  'EPP': '공손 선어말 어미',\n",
       "  'EPT': '시제 선어말 어미',\n",
       "  'ET': '전성 어미',\n",
       "  'ETD': '관형형 전성 어미',\n",
       "  'ETN': '명사형 전성 어미',\n",
       "  'IC': '감탄사',\n",
       "  'JC': '접속 조사',\n",
       "  'JK': '조사',\n",
       "  'JKC': '보격 조사',\n",
       "  'JKG': '관형격 조사',\n",
       "  'JKI': '호격 조사',\n",
       "  'JKM': '부사격 조사',\n",
       "  'JKO': '목적격 조사',\n",
       "  'JKQ': '인용격 조사',\n",
       "  'JKS': '주격 조사',\n",
       "  'JX': '보조사',\n",
       "  'MA': '부사',\n",
       "  'MAC': '접속 부사',\n",
       "  'MAG': '일반 부사',\n",
       "  'MD': '관형사',\n",
       "  'MDN': '수 관형사',\n",
       "  'MDT': '일반 관형사',\n",
       "  'NN': '명사',\n",
       "  'NNB': '일반 의존 명사',\n",
       "  'NNG': '보통명사',\n",
       "  'NNM': '단위 의존 명사',\n",
       "  'NNP': '고유명사',\n",
       "  'NP': '대명사',\n",
       "  'NR': '수사',\n",
       "  'OH': '한자',\n",
       "  'OL': '외국어',\n",
       "  'ON': '숫자',\n",
       "  'SE': '줄임표',\n",
       "  'SF': '마침표, 물음표, 느낌표',\n",
       "  'SO': '붙임표(물결,숨김,빠짐)',\n",
       "  'SP': '쉼표,가운뎃점,콜론,빗금',\n",
       "  'SS': '따옴표,괄호표,줄표',\n",
       "  'SW': '기타기호 (논리수학기호,화폐기호)',\n",
       "  'UN': '명사추정범주',\n",
       "  'VA': '형용사',\n",
       "  'VC': '지정사',\n",
       "  'VCN': \"부정 지정사, 형용사 '아니다'\",\n",
       "  'VCP': \"긍정 지정사, 서술격 조사 '이다'\",\n",
       "  'VV': '동사',\n",
       "  'VX': '보조 용언',\n",
       "  'VXA': '보조 형용사',\n",
       "  'VXV': '보조 동사',\n",
       "  'XP': '접두사',\n",
       "  'XPN': '체언 접두사',\n",
       "  'XPV': '용언 접두사',\n",
       "  'XR': '어근',\n",
       "  'XSA': '형용사 파생 접미사',\n",
       "  'XSN': '명사파생 접미사',\n",
       "  'XSV': '동사 파생 접미사'})"
      ]
     },
     "execution_count": 6,
     "metadata": {},
     "output_type": "execute_result"
    }
   ],
   "source": [
    "# 분류할 수 있는 형태소들을 나열\n",
    "okt.tagset,kkma.tagset"
   ]
  },
  {
   "cell_type": "code",
   "execution_count": 7,
   "id": "fa99a416",
   "metadata": {
    "scrolled": true
   },
   "outputs": [
    {
     "data": {
      "text/plain": [
       "['아버지', '가방']"
      ]
     },
     "execution_count": 7,
     "metadata": {},
     "output_type": "execute_result"
    }
   ],
   "source": [
    "# 명사만 추출\n",
    "okt.nouns(text)"
   ]
  },
  {
   "cell_type": "code",
   "execution_count": 8,
   "id": "1d1cc050",
   "metadata": {
    "scrolled": false
   },
   "outputs": [],
   "source": [
    "# countvectorizer와 연결해서 사용하기(BOW)\n",
    "from sklearn.feature_extraction.text import CountVectorizer\n",
    "cv = CountVectorizer()"
   ]
  },
  {
   "cell_type": "code",
   "execution_count": 9,
   "id": "af369afa",
   "metadata": {},
   "outputs": [],
   "source": [
    "text = ['동해물과 백두산이 마르고 닳도록','하느님이 보우하사 우리나라 만세','무궁화 삼천리 화려강산','대한사람 대한으로 길이 보전하세']"
   ]
  },
  {
   "cell_type": "code",
   "execution_count": 10,
   "id": "0cd23875",
   "metadata": {},
   "outputs": [
    {
     "data": {
      "text/plain": [
       "CountVectorizer()"
      ]
     },
     "execution_count": 10,
     "metadata": {},
     "output_type": "execute_result"
    }
   ],
   "source": [
    "# 토큰화 및 단어사전 구축\n",
    "cv.fit(text) "
   ]
  },
  {
   "cell_type": "code",
   "execution_count": 11,
   "id": "75871049",
   "metadata": {
    "scrolled": true
   },
   "outputs": [
    {
     "data": {
      "text/plain": [
       "{'동해물과': 4,\n",
       " '백두산이': 8,\n",
       " '마르고': 5,\n",
       " '닳도록': 1,\n",
       " '하느님이': 13,\n",
       " '보우하사': 9,\n",
       " '우리나라': 12,\n",
       " '만세': 6,\n",
       " '무궁화': 7,\n",
       " '삼천리': 11,\n",
       " '화려강산': 14,\n",
       " '대한사람': 2,\n",
       " '대한으로': 3,\n",
       " '길이': 0,\n",
       " '보전하세': 10}"
      ]
     },
     "execution_count": 11,
     "metadata": {},
     "output_type": "execute_result"
    }
   ],
   "source": [
    "# 띄어쓰기 단위로 토큰화\n",
    "cv.vocabulary_"
   ]
  },
  {
   "cell_type": "code",
   "execution_count": 12,
   "id": "3a88fd5e",
   "metadata": {},
   "outputs": [],
   "source": [
    "# 토큰화 방법 정의 함수\n",
    "def mytoken(text):\n",
    "    return okt.nouns(text)"
   ]
  },
  {
   "cell_type": "code",
   "execution_count": 13,
   "id": "7c0c9a75",
   "metadata": {},
   "outputs": [],
   "source": [
    "cv_okt = CountVectorizer(tokenizer=mytoken)"
   ]
  },
  {
   "cell_type": "code",
   "execution_count": 14,
   "id": "d96fa484",
   "metadata": {},
   "outputs": [
    {
     "name": "stderr",
     "output_type": "stream",
     "text": [
      "C:\\Users\\smhrd\\anaconda3\\envs\\test\\lib\\site-packages\\sklearn\\feature_extraction\\text.py:516: UserWarning: The parameter 'token_pattern' will not be used since 'tokenizer' is not None'\n",
      "  warnings.warn(\n"
     ]
    },
    {
     "data": {
      "text/plain": [
       "CountVectorizer(tokenizer=<function mytoken at 0x000001BBB483D3A0>)"
      ]
     },
     "execution_count": 14,
     "metadata": {},
     "output_type": "execute_result"
    }
   ],
   "source": [
    "cv_okt.fit(text)"
   ]
  },
  {
   "cell_type": "code",
   "execution_count": 15,
   "id": "fe743faf",
   "metadata": {},
   "outputs": [
    {
     "data": {
      "text/plain": [
       "{'해물': 14,\n",
       " '백두산': 6,\n",
       " '마르고': 3,\n",
       " '하느님': 12,\n",
       " '보우': 7,\n",
       " '하사': 13,\n",
       " '우리나라': 11,\n",
       " '만세': 4,\n",
       " '무궁화': 5,\n",
       " '삼천리': 10,\n",
       " '화려': 15,\n",
       " '강산': 0,\n",
       " '대한': 2,\n",
       " '사람': 9,\n",
       " '길이': 1,\n",
       " '보전': 8}"
      ]
     },
     "execution_count": 15,
     "metadata": {},
     "output_type": "execute_result"
    }
   ],
   "source": [
    "cv_okt.vocabulary_"
   ]
  },
  {
   "cell_type": "code",
   "execution_count": 16,
   "id": "4b9b7c69",
   "metadata": {},
   "outputs": [],
   "source": [
    "import pandas as pd"
   ]
  },
  {
   "cell_type": "markdown",
   "id": "50948cae",
   "metadata": {},
   "source": [
    "## 문제 정의\n",
    "- 한글 영화 리뷰 데이터셋으로 감성분석을 진행\n",
    "- kolnpy를 사용해서 형태소 분류"
   ]
  },
  {
   "cell_type": "markdown",
   "id": "ee471a8a",
   "metadata": {},
   "source": [
    "## 데이터 수집"
   ]
  },
  {
   "cell_type": "code",
   "execution_count": 17,
   "id": "b803a348",
   "metadata": {},
   "outputs": [],
   "source": [
    "text_train = pd.read_csv('./ratings_train.txt',delimiter ='\\t')\n",
    "text_test = pd.read_csv('./ratings_test.txt',delimiter ='\\t')"
   ]
  },
  {
   "cell_type": "code",
   "execution_count": 18,
   "id": "c81d4776",
   "metadata": {},
   "outputs": [
    {
     "data": {
      "text/plain": [
       "((150000, 3), (50000, 3))"
      ]
     },
     "execution_count": 18,
     "metadata": {},
     "output_type": "execute_result"
    }
   ],
   "source": [
    "text_train.shape,text_test.shape"
   ]
  },
  {
   "cell_type": "markdown",
   "id": "1c919046",
   "metadata": {},
   "source": [
    "## 데이터 전처리"
   ]
  },
  {
   "cell_type": "markdown",
   "id": "83fedfd7",
   "metadata": {},
   "source": [
    "### 결측지 확인"
   ]
  },
  {
   "cell_type": "code",
   "execution_count": 19,
   "id": "43be3e42",
   "metadata": {
    "scrolled": false
   },
   "outputs": [
    {
     "name": "stdout",
     "output_type": "stream",
     "text": [
      "<class 'pandas.core.frame.DataFrame'>\n",
      "RangeIndex: 150000 entries, 0 to 149999\n",
      "Data columns (total 3 columns):\n",
      " #   Column    Non-Null Count   Dtype \n",
      "---  ------    --------------   ----- \n",
      " 0   id        150000 non-null  int64 \n",
      " 1   document  149995 non-null  object\n",
      " 2   label     150000 non-null  int64 \n",
      "dtypes: int64(2), object(1)\n",
      "memory usage: 3.4+ MB\n"
     ]
    }
   ],
   "source": [
    "text_train.info()"
   ]
  },
  {
   "cell_type": "code",
   "execution_count": 20,
   "id": "88d39877",
   "metadata": {},
   "outputs": [
    {
     "data": {
      "text/html": [
       "<div>\n",
       "<style scoped>\n",
       "    .dataframe tbody tr th:only-of-type {\n",
       "        vertical-align: middle;\n",
       "    }\n",
       "\n",
       "    .dataframe tbody tr th {\n",
       "        vertical-align: top;\n",
       "    }\n",
       "\n",
       "    .dataframe thead th {\n",
       "        text-align: right;\n",
       "    }\n",
       "</style>\n",
       "<table border=\"1\" class=\"dataframe\">\n",
       "  <thead>\n",
       "    <tr style=\"text-align: right;\">\n",
       "      <th></th>\n",
       "      <th>id</th>\n",
       "      <th>document</th>\n",
       "      <th>label</th>\n",
       "    </tr>\n",
       "  </thead>\n",
       "  <tbody>\n",
       "    <tr>\n",
       "      <th>25857</th>\n",
       "      <td>2172111</td>\n",
       "      <td>NaN</td>\n",
       "      <td>1</td>\n",
       "    </tr>\n",
       "    <tr>\n",
       "      <th>55737</th>\n",
       "      <td>6369843</td>\n",
       "      <td>NaN</td>\n",
       "      <td>1</td>\n",
       "    </tr>\n",
       "    <tr>\n",
       "      <th>110014</th>\n",
       "      <td>1034280</td>\n",
       "      <td>NaN</td>\n",
       "      <td>0</td>\n",
       "    </tr>\n",
       "    <tr>\n",
       "      <th>126782</th>\n",
       "      <td>5942978</td>\n",
       "      <td>NaN</td>\n",
       "      <td>0</td>\n",
       "    </tr>\n",
       "    <tr>\n",
       "      <th>140721</th>\n",
       "      <td>1034283</td>\n",
       "      <td>NaN</td>\n",
       "      <td>0</td>\n",
       "    </tr>\n",
       "  </tbody>\n",
       "</table>\n",
       "</div>"
      ],
      "text/plain": [
       "             id document  label\n",
       "25857   2172111      NaN      1\n",
       "55737   6369843      NaN      1\n",
       "110014  1034280      NaN      0\n",
       "126782  5942978      NaN      0\n",
       "140721  1034283      NaN      0"
      ]
     },
     "execution_count": 20,
     "metadata": {},
     "output_type": "execute_result"
    }
   ],
   "source": [
    "text_train[pd.isnull(text_train['document'])]"
   ]
  },
  {
   "cell_type": "markdown",
   "id": "00d56a7c",
   "metadata": {},
   "source": [
    "### 결측지 제거"
   ]
  },
  {
   "cell_type": "code",
   "execution_count": 21,
   "id": "a6c8bee1",
   "metadata": {
    "scrolled": true
   },
   "outputs": [],
   "source": [
    "text_train.dropna(inplace=True)\n",
    "text_test.dropna(inplace=True)"
   ]
  },
  {
   "cell_type": "code",
   "execution_count": 22,
   "id": "f1f7d663",
   "metadata": {
    "scrolled": true
   },
   "outputs": [
    {
     "name": "stdout",
     "output_type": "stream",
     "text": [
      "<class 'pandas.core.frame.DataFrame'>\n",
      "Int64Index: 149995 entries, 0 to 149999\n",
      "Data columns (total 3 columns):\n",
      " #   Column    Non-Null Count   Dtype \n",
      "---  ------    --------------   ----- \n",
      " 0   id        149995 non-null  int64 \n",
      " 1   document  149995 non-null  object\n",
      " 2   label     149995 non-null  int64 \n",
      "dtypes: int64(2), object(1)\n",
      "memory usage: 4.6+ MB\n"
     ]
    }
   ],
   "source": [
    "text_train.info()"
   ]
  },
  {
   "cell_type": "code",
   "execution_count": 23,
   "id": "4f9e6d3a",
   "metadata": {},
   "outputs": [],
   "source": [
    "X_train = text_train['document']\n",
    "y_train = text_train['label']\n",
    "X_test = text_test['document']\n",
    "y_test = text_test['label']"
   ]
  },
  {
   "cell_type": "markdown",
   "id": "1e3c9099",
   "metadata": {},
   "source": [
    "### 토큰화"
   ]
  },
  {
   "cell_type": "code",
   "execution_count": 24,
   "id": "9255d56f",
   "metadata": {},
   "outputs": [],
   "source": [
    "cv_okt = CountVectorizer(tokenizer=mytoken)"
   ]
  },
  {
   "cell_type": "code",
   "execution_count": 25,
   "id": "63341a16",
   "metadata": {
    "scrolled": true
   },
   "outputs": [
    {
     "name": "stderr",
     "output_type": "stream",
     "text": [
      "C:\\Users\\smhrd\\anaconda3\\envs\\test\\lib\\site-packages\\sklearn\\feature_extraction\\text.py:516: UserWarning: The parameter 'token_pattern' will not be used since 'tokenizer' is not None'\n",
      "  warnings.warn(\n"
     ]
    },
    {
     "data": {
      "text/plain": [
       "CountVectorizer(tokenizer=<function mytoken at 0x000001BBB483D3A0>)"
      ]
     },
     "execution_count": 25,
     "metadata": {},
     "output_type": "execute_result"
    }
   ],
   "source": [
    "cv_okt.fit(X_train)"
   ]
  },
  {
   "cell_type": "code",
   "execution_count": 26,
   "id": "173c0e71",
   "metadata": {
    "scrolled": true
   },
   "outputs": [
    {
     "data": {
      "text/plain": [
       "38648"
      ]
     },
     "execution_count": 26,
     "metadata": {},
     "output_type": "execute_result"
    }
   ],
   "source": [
    "len(cv_okt.vocabulary_)"
   ]
  },
  {
   "cell_type": "markdown",
   "id": "46b10866",
   "metadata": {},
   "source": [
    "### 수치화"
   ]
  },
  {
   "cell_type": "code",
   "execution_count": 28,
   "id": "cfc40e0c",
   "metadata": {
    "scrolled": true
   },
   "outputs": [],
   "source": [
    "X_train_okt = cv_okt.transform(X_train)\n",
    "X_test_okt = cv_okt.transform(X_test)"
   ]
  },
  {
   "cell_type": "code",
   "execution_count": 29,
   "id": "f423b3f0",
   "metadata": {},
   "outputs": [
    {
     "data": {
      "text/plain": [
       "(149995, 38648)"
      ]
     },
     "execution_count": 29,
     "metadata": {},
     "output_type": "execute_result"
    }
   ],
   "source": [
    "X_train_okt.shape"
   ]
  },
  {
   "cell_type": "markdown",
   "id": "d9526826",
   "metadata": {},
   "source": [
    "## 탐색적 데이터 분석"
   ]
  },
  {
   "cell_type": "markdown",
   "id": "2a5b63fe",
   "metadata": {},
   "source": [
    "## 모델 선택 및 하이퍼 파라미터 튜닝"
   ]
  },
  {
   "cell_type": "markdown",
   "id": "da22af62",
   "metadata": {},
   "source": [
    "### 모델 선택"
   ]
  },
  {
   "cell_type": "code",
   "execution_count": 30,
   "id": "8e42e766",
   "metadata": {},
   "outputs": [],
   "source": [
    "from sklearn.linear_model import LogisticRegression"
   ]
  },
  {
   "cell_type": "code",
   "execution_count": 31,
   "id": "db4de255",
   "metadata": {},
   "outputs": [],
   "source": [
    "X_train_okt_mini = X_train_okt[:10000]\n",
    "X_test_okt_mini = X_test_okt[:1000]\n",
    "y_train_mini = y_train[:10000]\n",
    "y_test_mini = y_test[:1000]"
   ]
  },
  {
   "cell_type": "code",
   "execution_count": 32,
   "id": "364bd555",
   "metadata": {},
   "outputs": [],
   "source": [
    "lr_model = LogisticRegression()"
   ]
  },
  {
   "cell_type": "markdown",
   "id": "1709a958",
   "metadata": {},
   "source": [
    "## 학습"
   ]
  },
  {
   "cell_type": "code",
   "execution_count": 34,
   "id": "bd6e5f48",
   "metadata": {},
   "outputs": [
    {
     "name": "stderr",
     "output_type": "stream",
     "text": [
      "C:\\Users\\smhrd\\anaconda3\\envs\\test\\lib\\site-packages\\sklearn\\linear_model\\_logistic.py:814: ConvergenceWarning: lbfgs failed to converge (status=1):\n",
      "STOP: TOTAL NO. of ITERATIONS REACHED LIMIT.\n",
      "\n",
      "Increase the number of iterations (max_iter) or scale the data as shown in:\n",
      "    https://scikit-learn.org/stable/modules/preprocessing.html\n",
      "Please also refer to the documentation for alternative solver options:\n",
      "    https://scikit-learn.org/stable/modules/linear_model.html#logistic-regression\n",
      "  n_iter_i = _check_optimize_result(\n"
     ]
    },
    {
     "data": {
      "text/plain": [
       "LogisticRegression()"
      ]
     },
     "execution_count": 34,
     "metadata": {},
     "output_type": "execute_result"
    }
   ],
   "source": [
    "lr_model.fit(X_train_okt_mini,y_train_mini)"
   ]
  },
  {
   "cell_type": "markdown",
   "id": "12c80227",
   "metadata": {},
   "source": [
    "## 평가"
   ]
  },
  {
   "cell_type": "code",
   "execution_count": 35,
   "id": "713c5dc1",
   "metadata": {},
   "outputs": [
    {
     "data": {
      "text/plain": [
       "0.882"
      ]
     },
     "execution_count": 35,
     "metadata": {},
     "output_type": "execute_result"
    }
   ],
   "source": [
    "lr_model.score(X_train_okt_mini,y_train_mini)"
   ]
  },
  {
   "cell_type": "code",
   "execution_count": 36,
   "id": "7cf38160",
   "metadata": {
    "scrolled": true
   },
   "outputs": [
    {
     "data": {
      "text/plain": [
       "0.727"
      ]
     },
     "execution_count": 36,
     "metadata": {},
     "output_type": "execute_result"
    }
   ],
   "source": [
    "lr_model.score(X_test_okt_mini,y_test_mini)"
   ]
  },
  {
   "cell_type": "markdown",
   "id": "0c860a39",
   "metadata": {},
   "source": [
    "## 감성분석"
   ]
  },
  {
   "cell_type": "code",
   "execution_count": 37,
   "id": "b29e7aee",
   "metadata": {},
   "outputs": [],
   "source": [
    "voca = cv_okt.vocabulary_\n",
    "world_weight = lr_model.coef_"
   ]
  },
  {
   "cell_type": "code",
   "execution_count": 39,
   "id": "29b38e7b",
   "metadata": {},
   "outputs": [
    {
     "data": {
      "text/html": [
       "<div>\n",
       "<style scoped>\n",
       "    .dataframe tbody tr th:only-of-type {\n",
       "        vertical-align: middle;\n",
       "    }\n",
       "\n",
       "    .dataframe tbody tr th {\n",
       "        vertical-align: top;\n",
       "    }\n",
       "\n",
       "    .dataframe thead th {\n",
       "        text-align: right;\n",
       "    }\n",
       "</style>\n",
       "<table border=\"1\" class=\"dataframe\">\n",
       "  <thead>\n",
       "    <tr style=\"text-align: right;\">\n",
       "      <th></th>\n",
       "      <th>0</th>\n",
       "      <th>1</th>\n",
       "      <th>coef</th>\n",
       "    </tr>\n",
       "  </thead>\n",
       "  <tbody>\n",
       "    <tr>\n",
       "      <th>418</th>\n",
       "      <td>최악</td>\n",
       "      <td>32018</td>\n",
       "      <td>-3.066925</td>\n",
       "    </tr>\n",
       "    <tr>\n",
       "      <th>168</th>\n",
       "      <td>쓰레기</td>\n",
       "      <td>20116</td>\n",
       "      <td>-2.572378</td>\n",
       "    </tr>\n",
       "    <tr>\n",
       "      <th>388</th>\n",
       "      <td>실망</td>\n",
       "      <td>19690</td>\n",
       "      <td>-2.181924</td>\n",
       "    </tr>\n",
       "    <tr>\n",
       "      <th>371</th>\n",
       "      <td>졸작</td>\n",
       "      <td>29414</td>\n",
       "      <td>-2.001891</td>\n",
       "    </tr>\n",
       "    <tr>\n",
       "      <th>1786</th>\n",
       "      <td>차라리</td>\n",
       "      <td>31095</td>\n",
       "      <td>-1.967333</td>\n",
       "    </tr>\n",
       "    <tr>\n",
       "      <th>1463</th>\n",
       "      <td>이하</td>\n",
       "      <td>26316</td>\n",
       "      <td>-1.942160</td>\n",
       "    </tr>\n",
       "    <tr>\n",
       "      <th>137</th>\n",
       "      <td>별로</td>\n",
       "      <td>14042</td>\n",
       "      <td>-1.860720</td>\n",
       "    </tr>\n",
       "    <tr>\n",
       "      <th>2057</th>\n",
       "      <td>접</td>\n",
       "      <td>28533</td>\n",
       "      <td>-1.860496</td>\n",
       "    </tr>\n",
       "    <tr>\n",
       "      <th>211</th>\n",
       "      <td>돈</td>\n",
       "      <td>7498</td>\n",
       "      <td>-1.810397</td>\n",
       "    </tr>\n",
       "    <tr>\n",
       "      <th>310</th>\n",
       "      <td>짜증</td>\n",
       "      <td>30747</td>\n",
       "      <td>-1.802944</td>\n",
       "    </tr>\n",
       "    <tr>\n",
       "      <th>34</th>\n",
       "      <td>반개</td>\n",
       "      <td>12910</td>\n",
       "      <td>-1.801977</td>\n",
       "    </tr>\n",
       "    <tr>\n",
       "      <th>1647</th>\n",
       "      <td>점도</td>\n",
       "      <td>28465</td>\n",
       "      <td>-1.715567</td>\n",
       "    </tr>\n",
       "    <tr>\n",
       "      <th>5214</th>\n",
       "      <td>지루</td>\n",
       "      <td>30217</td>\n",
       "      <td>-1.648099</td>\n",
       "    </tr>\n",
       "    <tr>\n",
       "      <th>3007</th>\n",
       "      <td>노답</td>\n",
       "      <td>5551</td>\n",
       "      <td>-1.612352</td>\n",
       "    </tr>\n",
       "    <tr>\n",
       "      <th>3228</th>\n",
       "      <td>도저히</td>\n",
       "      <td>7394</td>\n",
       "      <td>-1.600272</td>\n",
       "    </tr>\n",
       "    <tr>\n",
       "      <th>659</th>\n",
       "      <td>알바</td>\n",
       "      <td>20953</td>\n",
       "      <td>-1.568024</td>\n",
       "    </tr>\n",
       "    <tr>\n",
       "      <th>1226</th>\n",
       "      <td>망작</td>\n",
       "      <td>10459</td>\n",
       "      <td>-1.555123</td>\n",
       "    </tr>\n",
       "    <tr>\n",
       "      <th>2333</th>\n",
       "      <td>줄거리</td>\n",
       "      <td>29885</td>\n",
       "      <td>-1.474112</td>\n",
       "    </tr>\n",
       "    <tr>\n",
       "      <th>2313</th>\n",
       "      <td>기세</td>\n",
       "      <td>3578</td>\n",
       "      <td>-1.471159</td>\n",
       "    </tr>\n",
       "    <tr>\n",
       "      <th>2497</th>\n",
       "      <td>어이</td>\n",
       "      <td>21749</td>\n",
       "      <td>-1.468929</td>\n",
       "    </tr>\n",
       "    <tr>\n",
       "      <th>152</th>\n",
       "      <td>발연기</td>\n",
       "      <td>13086</td>\n",
       "      <td>-1.450237</td>\n",
       "    </tr>\n",
       "    <tr>\n",
       "      <th>409</th>\n",
       "      <td>별루</td>\n",
       "      <td>14044</td>\n",
       "      <td>-1.443775</td>\n",
       "    </tr>\n",
       "    <tr>\n",
       "      <th>570</th>\n",
       "      <td>질</td>\n",
       "      <td>30604</td>\n",
       "      <td>-1.410123</td>\n",
       "    </tr>\n",
       "    <tr>\n",
       "      <th>501</th>\n",
       "      <td>문제</td>\n",
       "      <td>11867</td>\n",
       "      <td>-1.403963</td>\n",
       "    </tr>\n",
       "    <tr>\n",
       "      <th>2228</th>\n",
       "      <td>손발</td>\n",
       "      <td>17942</td>\n",
       "      <td>-1.398483</td>\n",
       "    </tr>\n",
       "    <tr>\n",
       "      <th>1546</th>\n",
       "      <td>유치</td>\n",
       "      <td>25063</td>\n",
       "      <td>-1.371199</td>\n",
       "    </tr>\n",
       "    <tr>\n",
       "      <th>1664</th>\n",
       "      <td>양심</td>\n",
       "      <td>21492</td>\n",
       "      <td>-1.333307</td>\n",
       "    </tr>\n",
       "    <tr>\n",
       "      <th>4901</th>\n",
       "      <td>영</td>\n",
       "      <td>22871</td>\n",
       "      <td>-1.326479</td>\n",
       "    </tr>\n",
       "    <tr>\n",
       "      <th>3298</th>\n",
       "      <td>남지</td>\n",
       "      <td>5151</td>\n",
       "      <td>-1.313670</td>\n",
       "    </tr>\n",
       "    <tr>\n",
       "      <th>925</th>\n",
       "      <td>쇼</td>\n",
       "      <td>18103</td>\n",
       "      <td>-1.294467</td>\n",
       "    </tr>\n",
       "    <tr>\n",
       "      <th>1106</th>\n",
       "      <td>사실</td>\n",
       "      <td>16122</td>\n",
       "      <td>1.291258</td>\n",
       "    </tr>\n",
       "    <tr>\n",
       "      <th>428</th>\n",
       "      <td>강추</td>\n",
       "      <td>629</td>\n",
       "      <td>1.299190</td>\n",
       "    </tr>\n",
       "    <tr>\n",
       "      <th>433</th>\n",
       "      <td>메인</td>\n",
       "      <td>10918</td>\n",
       "      <td>1.305135</td>\n",
       "    </tr>\n",
       "    <tr>\n",
       "      <th>2297</th>\n",
       "      <td>케미</td>\n",
       "      <td>32937</td>\n",
       "      <td>1.314903</td>\n",
       "    </tr>\n",
       "    <tr>\n",
       "      <th>2678</th>\n",
       "      <td>은근</td>\n",
       "      <td>25302</td>\n",
       "      <td>1.369250</td>\n",
       "    </tr>\n",
       "    <tr>\n",
       "      <th>321</th>\n",
       "      <td>대해</td>\n",
       "      <td>6902</td>\n",
       "      <td>1.371677</td>\n",
       "    </tr>\n",
       "    <tr>\n",
       "      <th>3667</th>\n",
       "      <td>감명</td>\n",
       "      <td>417</td>\n",
       "      <td>1.400002</td>\n",
       "    </tr>\n",
       "    <tr>\n",
       "      <th>91</th>\n",
       "      <td>감동</td>\n",
       "      <td>411</td>\n",
       "      <td>1.450897</td>\n",
       "    </tr>\n",
       "    <tr>\n",
       "      <th>159</th>\n",
       "      <td>다시</td>\n",
       "      <td>6286</td>\n",
       "      <td>1.462576</td>\n",
       "    </tr>\n",
       "    <tr>\n",
       "      <th>1301</th>\n",
       "      <td>관</td>\n",
       "      <td>2247</td>\n",
       "      <td>1.503089</td>\n",
       "    </tr>\n",
       "    <tr>\n",
       "      <th>97</th>\n",
       "      <td>긴장</td>\n",
       "      <td>3684</td>\n",
       "      <td>1.507101</td>\n",
       "    </tr>\n",
       "    <tr>\n",
       "      <th>804</th>\n",
       "      <td>마음</td>\n",
       "      <td>10016</td>\n",
       "      <td>1.517960</td>\n",
       "    </tr>\n",
       "    <tr>\n",
       "      <th>1195</th>\n",
       "      <td>삶</td>\n",
       "      <td>16422</td>\n",
       "      <td>1.524824</td>\n",
       "    </tr>\n",
       "    <tr>\n",
       "      <th>59</th>\n",
       "      <td>꽤</td>\n",
       "      <td>4467</td>\n",
       "      <td>1.531152</td>\n",
       "    </tr>\n",
       "    <tr>\n",
       "      <th>64</th>\n",
       "      <td>짱</td>\n",
       "      <td>30798</td>\n",
       "      <td>1.561036</td>\n",
       "    </tr>\n",
       "    <tr>\n",
       "      <th>3235</th>\n",
       "      <td>굿굿</td>\n",
       "      <td>2901</td>\n",
       "      <td>1.615725</td>\n",
       "    </tr>\n",
       "    <tr>\n",
       "      <th>203</th>\n",
       "      <td>발견</td>\n",
       "      <td>13020</td>\n",
       "      <td>1.619388</td>\n",
       "    </tr>\n",
       "    <tr>\n",
       "      <th>613</th>\n",
       "      <td>화이팅</td>\n",
       "      <td>37800</td>\n",
       "      <td>1.643291</td>\n",
       "    </tr>\n",
       "    <tr>\n",
       "      <th>440</th>\n",
       "      <td>대박</td>\n",
       "      <td>6757</td>\n",
       "      <td>1.670945</td>\n",
       "    </tr>\n",
       "    <tr>\n",
       "      <th>466</th>\n",
       "      <td>명작</td>\n",
       "      <td>11107</td>\n",
       "      <td>1.698034</td>\n",
       "    </tr>\n",
       "    <tr>\n",
       "      <th>2119</th>\n",
       "      <td>꿀잼</td>\n",
       "      <td>4505</td>\n",
       "      <td>1.770030</td>\n",
       "    </tr>\n",
       "    <tr>\n",
       "      <th>1027</th>\n",
       "      <td>천재</td>\n",
       "      <td>31513</td>\n",
       "      <td>1.860247</td>\n",
       "    </tr>\n",
       "    <tr>\n",
       "      <th>1088</th>\n",
       "      <td>흥미진진</td>\n",
       "      <td>38497</td>\n",
       "      <td>1.888602</td>\n",
       "    </tr>\n",
       "    <tr>\n",
       "      <th>148</th>\n",
       "      <td>꼭</td>\n",
       "      <td>4359</td>\n",
       "      <td>1.937965</td>\n",
       "    </tr>\n",
       "    <tr>\n",
       "      <th>1146</th>\n",
       "      <td>최고다</td>\n",
       "      <td>31952</td>\n",
       "      <td>1.992183</td>\n",
       "    </tr>\n",
       "    <tr>\n",
       "      <th>890</th>\n",
       "      <td>굿</td>\n",
       "      <td>2897</td>\n",
       "      <td>2.026993</td>\n",
       "    </tr>\n",
       "    <tr>\n",
       "      <th>274</th>\n",
       "      <td>가슴</td>\n",
       "      <td>132</td>\n",
       "      <td>2.152765</td>\n",
       "    </tr>\n",
       "    <tr>\n",
       "      <th>567</th>\n",
       "      <td>여운</td>\n",
       "      <td>22493</td>\n",
       "      <td>2.182035</td>\n",
       "    </tr>\n",
       "    <tr>\n",
       "      <th>175</th>\n",
       "      <td>최고</td>\n",
       "      <td>31950</td>\n",
       "      <td>2.265287</td>\n",
       "    </tr>\n",
       "    <tr>\n",
       "      <th>141</th>\n",
       "      <td>수작</td>\n",
       "      <td>18299</td>\n",
       "      <td>2.502605</td>\n",
       "    </tr>\n",
       "  </tbody>\n",
       "</table>\n",
       "</div>"
      ],
      "text/plain": [
       "         0      1      coef\n",
       "418     최악  32018 -3.066925\n",
       "168    쓰레기  20116 -2.572378\n",
       "388     실망  19690 -2.181924\n",
       "371     졸작  29414 -2.001891\n",
       "1786   차라리  31095 -1.967333\n",
       "1463    이하  26316 -1.942160\n",
       "137     별로  14042 -1.860720\n",
       "2057     접  28533 -1.860496\n",
       "211      돈   7498 -1.810397\n",
       "310     짜증  30747 -1.802944\n",
       "34      반개  12910 -1.801977\n",
       "1647    점도  28465 -1.715567\n",
       "5214    지루  30217 -1.648099\n",
       "3007    노답   5551 -1.612352\n",
       "3228   도저히   7394 -1.600272\n",
       "659     알바  20953 -1.568024\n",
       "1226    망작  10459 -1.555123\n",
       "2333   줄거리  29885 -1.474112\n",
       "2313    기세   3578 -1.471159\n",
       "2497    어이  21749 -1.468929\n",
       "152    발연기  13086 -1.450237\n",
       "409     별루  14044 -1.443775\n",
       "570      질  30604 -1.410123\n",
       "501     문제  11867 -1.403963\n",
       "2228    손발  17942 -1.398483\n",
       "1546    유치  25063 -1.371199\n",
       "1664    양심  21492 -1.333307\n",
       "4901     영  22871 -1.326479\n",
       "3298    남지   5151 -1.313670\n",
       "925      쇼  18103 -1.294467\n",
       "1106    사실  16122  1.291258\n",
       "428     강추    629  1.299190\n",
       "433     메인  10918  1.305135\n",
       "2297    케미  32937  1.314903\n",
       "2678    은근  25302  1.369250\n",
       "321     대해   6902  1.371677\n",
       "3667    감명    417  1.400002\n",
       "91      감동    411  1.450897\n",
       "159     다시   6286  1.462576\n",
       "1301     관   2247  1.503089\n",
       "97      긴장   3684  1.507101\n",
       "804     마음  10016  1.517960\n",
       "1195     삶  16422  1.524824\n",
       "59       꽤   4467  1.531152\n",
       "64       짱  30798  1.561036\n",
       "3235    굿굿   2901  1.615725\n",
       "203     발견  13020  1.619388\n",
       "613    화이팅  37800  1.643291\n",
       "440     대박   6757  1.670945\n",
       "466     명작  11107  1.698034\n",
       "2119    꿀잼   4505  1.770030\n",
       "1027    천재  31513  1.860247\n",
       "1088  흥미진진  38497  1.888602\n",
       "148      꼭   4359  1.937965\n",
       "1146   최고다  31952  1.992183\n",
       "890      굿   2897  2.026993\n",
       "274     가슴    132  2.152765\n",
       "567     여운  22493  2.182035\n",
       "175     최고  31950  2.265287\n",
       "141     수작  18299  2.502605"
      ]
     },
     "execution_count": 39,
     "metadata": {},
     "output_type": "execute_result"
    }
   ],
   "source": [
    "df = pd.DataFrame([voca.keys(),voca.values()])\n",
    "df = df.T\n",
    "df_sorted = df.sort_values(by = 1)\n",
    "df_sorted['coef'] = world_weight.reshape(-1)\n",
    "df_sorted.sort_values(by = 'coef',inplace=True)\n",
    "top30_df = pd.concat([df_sorted.head(30),df_sorted.tail(30)])\n",
    "top30_df"
   ]
  },
  {
   "cell_type": "code",
   "execution_count": 40,
   "id": "d0afe8a9",
   "metadata": {},
   "outputs": [],
   "source": [
    "import matplotlib as plt"
   ]
  },
  {
   "cell_type": "code",
   "execution_count": 41,
   "id": "f6fc0815",
   "metadata": {},
   "outputs": [
    {
     "ename": "NameError",
     "evalue": "name 'matplotlib' is not defined",
     "output_type": "error",
     "traceback": [
      "\u001b[1;31m---------------------------------------------------------------------------\u001b[0m",
      "\u001b[1;31mNameError\u001b[0m                                 Traceback (most recent call last)",
      "Input \u001b[1;32mIn [41]\u001b[0m, in \u001b[0;36m<cell line: 5>\u001b[1;34m()\u001b[0m\n\u001b[0;32m      2\u001b[0m font_name \u001b[38;5;241m=\u001b[39m font_manager\u001b[38;5;241m.\u001b[39mFontProperties(fname\u001b[38;5;241m=\u001b[39m\u001b[38;5;124m\"\u001b[39m\u001b[38;5;124mC:\u001b[39m\u001b[38;5;124m\\\u001b[39m\u001b[38;5;124mWindows\u001b[39m\u001b[38;5;124m\\\u001b[39m\u001b[38;5;124mFonts\u001b[39m\u001b[38;5;124m\\\u001b[39m\u001b[38;5;124mmalgun.ttf\u001b[39m\u001b[38;5;124m\"\u001b[39m)\u001b[38;5;241m.\u001b[39mget_name()\n\u001b[0;32m      3\u001b[0m rc(\u001b[38;5;124m'\u001b[39m\u001b[38;5;124mfont\u001b[39m\u001b[38;5;124m'\u001b[39m,family\u001b[38;5;241m=\u001b[39mfont_name)\n\u001b[1;32m----> 5\u001b[0m \u001b[43mmatplotlib\u001b[49m\u001b[38;5;241m.\u001b[39mrcParams[\u001b[38;5;124m'\u001b[39m\u001b[38;5;124maxes.unicode_minus\u001b[39m\u001b[38;5;124m'\u001b[39m] \u001b[38;5;241m=\u001b[39m \u001b[38;5;28;01mFalse\u001b[39;00m\n\u001b[0;32m      6\u001b[0m plt\u001b[38;5;241m.\u001b[39mfigure(figsize\u001b[38;5;241m=\u001b[39m(\u001b[38;5;241m15\u001b[39m,\u001b[38;5;241m5\u001b[39m)) \u001b[38;5;66;03m# 가로,세로 비율\u001b[39;00m\n\u001b[0;32m      7\u001b[0m plt\u001b[38;5;241m.\u001b[39mbar(top30_df[\u001b[38;5;241m0\u001b[39m], top30_df[\u001b[38;5;124m'\u001b[39m\u001b[38;5;124mcoef\u001b[39m\u001b[38;5;124m'\u001b[39m]) \u001b[38;5;66;03m# x축은 단어, y축은 가중치\u001b[39;00m\n",
      "\u001b[1;31mNameError\u001b[0m: name 'matplotlib' is not defined"
     ]
    }
   ],
   "source": [
    "from matplotlib import font_manager, rc\n",
    "font_name = font_manager.FontProperties(fname=\"C:\\Windows\\Fonts\\malgun.ttf\").get_name()\n",
    "rc('font',family=font_name)\n",
    "\n",
    "plt.rcParams['axes.unicode_minus'] = False\n",
    "plt.figure(figsize=(15,5)) # 가로,세로 비율\n",
    "plt.bar(top30_df[0], top30_df['coef']) # x축은 단어, y축은 가중치\n",
    "plt.xticks(rotation = 90) # x축 눈금 각도 조정\n",
    "plt.show()"
   ]
  },
  {
   "cell_type": "code",
   "execution_count": null,
   "id": "df63136b",
   "metadata": {},
   "outputs": [],
   "source": []
  }
 ],
 "metadata": {
  "kernelspec": {
   "display_name": "Python 3 (ipykernel)",
   "language": "python",
   "name": "python3"
  },
  "language_info": {
   "codemirror_mode": {
    "name": "ipython",
    "version": 3
   },
   "file_extension": ".py",
   "mimetype": "text/x-python",
   "name": "python",
   "nbconvert_exporter": "python",
   "pygments_lexer": "ipython3",
   "version": "3.8.12"
  },
  "toc": {
   "base_numbering": 1,
   "nav_menu": {},
   "number_sections": true,
   "sideBar": true,
   "skip_h1_title": false,
   "title_cell": "Table of Contents",
   "title_sidebar": "Contents",
   "toc_cell": false,
   "toc_position": {},
   "toc_section_display": true,
   "toc_window_display": true
  }
 },
 "nbformat": 4,
 "nbformat_minor": 5
}
