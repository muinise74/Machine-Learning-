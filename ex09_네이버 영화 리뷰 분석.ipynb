{
 "cells": [
  {
   "cell_type": "code",
   "execution_count": 1,
   "id": "4ca786c4",
   "metadata": {},
   "outputs": [],
   "source": [
    "# 한글형태소 분석기\n",
    "from konlpy.tag import Okt, Kkma\n",
    "okt = Okt()\n",
    "kkma = Kkma()"
   ]
  },
  {
   "cell_type": "code",
   "execution_count": 2,
   "id": "7dd213e7",
   "metadata": {},
   "outputs": [
    {
     "data": {
      "text/plain": [
       "['아버지', '가방', '에', '들어가신다']"
      ]
     },
     "execution_count": 2,
     "metadata": {},
     "output_type": "execute_result"
    }
   ],
   "source": [
    "# 형태소별로 분류\n",
    "okt.morphs('아버지가방에들어가신다')"
   ]
  },
  {
   "cell_type": "code",
   "execution_count": 3,
   "id": "7287f9f9",
   "metadata": {},
   "outputs": [
    {
     "data": {
      "text/plain": [
       "['아버지', '가방', '에', '들어가', '시', 'ㄴ다']"
      ]
     },
     "execution_count": 3,
     "metadata": {},
     "output_type": "execute_result"
    }
   ],
   "source": [
    "kkma.morphs('아버지가방에들어가신다')"
   ]
  },
  {
   "cell_type": "code",
   "execution_count": 4,
   "id": "568c3689",
   "metadata": {},
   "outputs": [
    {
     "data": {
      "text/plain": [
       "[('아버지', 'Noun'), ('가방', 'Noun'), ('에', 'Josa'), ('들어가신다', 'Verb')]"
      ]
     },
     "execution_count": 4,
     "metadata": {},
     "output_type": "execute_result"
    }
   ],
   "source": [
    "# 어떤 형태소인지 분류 및 매핑\n",
    "text='아버지가방에들어가신다'\n",
    "okt.pos(text)"
   ]
  },
  {
   "cell_type": "code",
   "execution_count": 5,
   "id": "129bca3f",
   "metadata": {},
   "outputs": [
    {
     "data": {
      "text/plain": [
       "[('아버지', 'NNG'),\n",
       " ('가방', 'NNG'),\n",
       " ('에', 'JKM'),\n",
       " ('들어가', 'VV'),\n",
       " ('시', 'EPH'),\n",
       " ('ㄴ다', 'EFN')]"
      ]
     },
     "execution_count": 5,
     "metadata": {},
     "output_type": "execute_result"
    }
   ],
   "source": [
    "kkma.pos(text)"
   ]
  },
  {
   "cell_type": "code",
   "execution_count": 6,
   "id": "84107d06",
   "metadata": {},
   "outputs": [
    {
     "data": {
      "text/plain": [
       "({'Adjective': '형용사',\n",
       "  'Adverb': '부사',\n",
       "  'Alpha': '알파벳',\n",
       "  'Conjunction': '접속사',\n",
       "  'Determiner': '관형사',\n",
       "  'Eomi': '어미',\n",
       "  'Exclamation': '감탄사',\n",
       "  'Foreign': '외국어, 한자 및 기타기호',\n",
       "  'Hashtag': '트위터 해쉬태그',\n",
       "  'Josa': '조사',\n",
       "  'KoreanParticle': '(ex: ㅋㅋ)',\n",
       "  'Noun': '명사',\n",
       "  'Number': '숫자',\n",
       "  'PreEomi': '선어말어미',\n",
       "  'Punctuation': '구두점',\n",
       "  'ScreenName': '트위터 아이디',\n",
       "  'Suffix': '접미사',\n",
       "  'Unknown': '미등록어',\n",
       "  'Verb': '동사'},\n",
       " {'EC': '연결 어미',\n",
       "  'ECD': '의존적 연결 어미',\n",
       "  'ECE': '대등 연결 어미',\n",
       "  'ECS': '보조적 연결 어미',\n",
       "  'EF': '종결 어미',\n",
       "  'EFA': '청유형 종결 어미',\n",
       "  'EFI': '감탄형 종결 어미',\n",
       "  'EFN': '평서형 종결 어미',\n",
       "  'EFO': '명령형 종결 어미',\n",
       "  'EFQ': '의문형 종결 어미',\n",
       "  'EFR': '존칭형 종결 어미',\n",
       "  'EP': '선어말 어미',\n",
       "  'EPH': '존칭 선어말 어미',\n",
       "  'EPP': '공손 선어말 어미',\n",
       "  'EPT': '시제 선어말 어미',\n",
       "  'ET': '전성 어미',\n",
       "  'ETD': '관형형 전성 어미',\n",
       "  'ETN': '명사형 전성 어미',\n",
       "  'IC': '감탄사',\n",
       "  'JC': '접속 조사',\n",
       "  'JK': '조사',\n",
       "  'JKC': '보격 조사',\n",
       "  'JKG': '관형격 조사',\n",
       "  'JKI': '호격 조사',\n",
       "  'JKM': '부사격 조사',\n",
       "  'JKO': '목적격 조사',\n",
       "  'JKQ': '인용격 조사',\n",
       "  'JKS': '주격 조사',\n",
       "  'JX': '보조사',\n",
       "  'MA': '부사',\n",
       "  'MAC': '접속 부사',\n",
       "  'MAG': '일반 부사',\n",
       "  'MD': '관형사',\n",
       "  'MDN': '수 관형사',\n",
       "  'MDT': '일반 관형사',\n",
       "  'NN': '명사',\n",
       "  'NNB': '일반 의존 명사',\n",
       "  'NNG': '보통명사',\n",
       "  'NNM': '단위 의존 명사',\n",
       "  'NNP': '고유명사',\n",
       "  'NP': '대명사',\n",
       "  'NR': '수사',\n",
       "  'OH': '한자',\n",
       "  'OL': '외국어',\n",
       "  'ON': '숫자',\n",
       "  'SE': '줄임표',\n",
       "  'SF': '마침표, 물음표, 느낌표',\n",
       "  'SO': '붙임표(물결,숨김,빠짐)',\n",
       "  'SP': '쉼표,가운뎃점,콜론,빗금',\n",
       "  'SS': '따옴표,괄호표,줄표',\n",
       "  'SW': '기타기호 (논리수학기호,화폐기호)',\n",
       "  'UN': '명사추정범주',\n",
       "  'VA': '형용사',\n",
       "  'VC': '지정사',\n",
       "  'VCN': \"부정 지정사, 형용사 '아니다'\",\n",
       "  'VCP': \"긍정 지정사, 서술격 조사 '이다'\",\n",
       "  'VV': '동사',\n",
       "  'VX': '보조 용언',\n",
       "  'VXA': '보조 형용사',\n",
       "  'VXV': '보조 동사',\n",
       "  'XP': '접두사',\n",
       "  'XPN': '체언 접두사',\n",
       "  'XPV': '용언 접두사',\n",
       "  'XR': '어근',\n",
       "  'XSA': '형용사 파생 접미사',\n",
       "  'XSN': '명사파생 접미사',\n",
       "  'XSV': '동사 파생 접미사'})"
      ]
     },
     "execution_count": 6,
     "metadata": {},
     "output_type": "execute_result"
    }
   ],
   "source": [
    "# 분류할 수 있는 형태소들을 나열\n",
    "okt.tagset,kkma.tagset"
   ]
  },
  {
   "cell_type": "code",
   "execution_count": 7,
   "id": "fa99a416",
   "metadata": {
    "scrolled": true
   },
   "outputs": [
    {
     "data": {
      "text/plain": [
       "['아버지', '가방']"
      ]
     },
     "execution_count": 7,
     "metadata": {},
     "output_type": "execute_result"
    }
   ],
   "source": [
    "# 명사만 추출\n",
    "okt.nouns(text)"
   ]
  },
  {
   "cell_type": "code",
   "execution_count": 8,
   "id": "1d1cc050",
   "metadata": {
    "scrolled": false
   },
   "outputs": [],
   "source": [
    "# countvectorizer와 연결해서 사용하기(BOW)\n",
    "from sklearn.feature_extraction.text import CountVectorizer\n",
    "cv = CountVectorizer()"
   ]
  },
  {
   "cell_type": "code",
   "execution_count": 9,
   "id": "af369afa",
   "metadata": {},
   "outputs": [],
   "source": [
    "text = ['동해물과 백두산이 마르고 닳도록','하느님이 보우하사 우리나라 만세','무궁화 삼천리 화려강산','대한사람 대한으로 길이 보전하세']"
   ]
  },
  {
   "cell_type": "code",
   "execution_count": 10,
   "id": "0cd23875",
   "metadata": {},
   "outputs": [
    {
     "data": {
      "text/plain": [
       "CountVectorizer()"
      ]
     },
     "execution_count": 10,
     "metadata": {},
     "output_type": "execute_result"
    }
   ],
   "source": [
    "# 토큰화 및 단어사전 구축\n",
    "cv.fit(text) "
   ]
  },
  {
   "cell_type": "code",
   "execution_count": 11,
   "id": "75871049",
   "metadata": {
    "scrolled": true
   },
   "outputs": [
    {
     "data": {
      "text/plain": [
       "{'동해물과': 4,\n",
       " '백두산이': 8,\n",
       " '마르고': 5,\n",
       " '닳도록': 1,\n",
       " '하느님이': 13,\n",
       " '보우하사': 9,\n",
       " '우리나라': 12,\n",
       " '만세': 6,\n",
       " '무궁화': 7,\n",
       " '삼천리': 11,\n",
       " '화려강산': 14,\n",
       " '대한사람': 2,\n",
       " '대한으로': 3,\n",
       " '길이': 0,\n",
       " '보전하세': 10}"
      ]
     },
     "execution_count": 11,
     "metadata": {},
     "output_type": "execute_result"
    }
   ],
   "source": [
    "# 띄어쓰기 단위로 토큰화\n",
    "cv.vocabulary_"
   ]
  },
  {
   "cell_type": "code",
   "execution_count": 12,
   "id": "3a88fd5e",
   "metadata": {},
   "outputs": [],
   "source": [
    "# 토큰화 방법 정의 함수\n",
    "def mytoken(text):\n",
    "    return okt.nouns(text)"
   ]
  },
  {
   "cell_type": "code",
   "execution_count": 13,
   "id": "7c0c9a75",
   "metadata": {},
   "outputs": [],
   "source": [
    "cv_okt = CountVectorizer(tokenizer=mytoken)"
   ]
  },
  {
   "cell_type": "code",
   "execution_count": 14,
   "id": "d96fa484",
   "metadata": {},
   "outputs": [
    {
     "name": "stderr",
     "output_type": "stream",
     "text": [
      "C:\\Users\\smhrd\\anaconda3\\envs\\test\\lib\\site-packages\\sklearn\\feature_extraction\\text.py:516: UserWarning: The parameter 'token_pattern' will not be used since 'tokenizer' is not None'\n",
      "  warnings.warn(\n"
     ]
    },
    {
     "data": {
      "text/plain": [
       "CountVectorizer(tokenizer=<function mytoken at 0x000001D946C2E3A0>)"
      ]
     },
     "execution_count": 14,
     "metadata": {},
     "output_type": "execute_result"
    }
   ],
   "source": [
    "cv_okt.fit(text)"
   ]
  },
  {
   "cell_type": "code",
   "execution_count": 15,
   "id": "fe743faf",
   "metadata": {},
   "outputs": [
    {
     "data": {
      "text/plain": [
       "{'해물': 14,\n",
       " '백두산': 6,\n",
       " '마르고': 3,\n",
       " '하느님': 12,\n",
       " '보우': 7,\n",
       " '하사': 13,\n",
       " '우리나라': 11,\n",
       " '만세': 4,\n",
       " '무궁화': 5,\n",
       " '삼천리': 10,\n",
       " '화려': 15,\n",
       " '강산': 0,\n",
       " '대한': 2,\n",
       " '사람': 9,\n",
       " '길이': 1,\n",
       " '보전': 8}"
      ]
     },
     "execution_count": 15,
     "metadata": {},
     "output_type": "execute_result"
    }
   ],
   "source": [
    "cv_okt.vocabulary_"
   ]
  },
  {
   "cell_type": "code",
   "execution_count": 16,
   "id": "a3429d1b",
   "metadata": {},
   "outputs": [],
   "source": [
    "import pandas as pd"
   ]
  },
  {
   "cell_type": "markdown",
   "id": "c8793d56",
   "metadata": {},
   "source": [
    "## 문제 정의\n",
    "- 한글 영화 리뷰 데이터셋으로 감성분석을 진행\n",
    "- kolnpy를 사용해서 형태소 분류"
   ]
  },
  {
   "cell_type": "markdown",
   "id": "f15e7f08",
   "metadata": {},
   "source": [
    "## 데이터 수집"
   ]
  },
  {
   "cell_type": "code",
   "execution_count": 17,
   "id": "c8689956",
   "metadata": {},
   "outputs": [],
   "source": [
    "text_train = pd.read_csv('./ratings_train.txt',delimiter ='\\t')\n",
    "text_test = pd.read_csv('./ratings_test.txt',delimiter ='\\t')"
   ]
  },
  {
   "cell_type": "code",
   "execution_count": 18,
   "id": "b0cf3570",
   "metadata": {},
   "outputs": [
    {
     "data": {
      "text/plain": [
       "((150000, 3), (50000, 3))"
      ]
     },
     "execution_count": 18,
     "metadata": {},
     "output_type": "execute_result"
    }
   ],
   "source": [
    "text_train.shape,text_test.shape"
   ]
  },
  {
   "cell_type": "markdown",
   "id": "7c4cf3db",
   "metadata": {},
   "source": [
    "## 데이터 전처리"
   ]
  },
  {
   "cell_type": "markdown",
   "id": "9ac01278",
   "metadata": {},
   "source": [
    "### 결측지 확인"
   ]
  },
  {
   "cell_type": "code",
   "execution_count": 19,
   "id": "c5cf7733",
   "metadata": {
    "scrolled": false
   },
   "outputs": [
    {
     "name": "stdout",
     "output_type": "stream",
     "text": [
      "<class 'pandas.core.frame.DataFrame'>\n",
      "RangeIndex: 150000 entries, 0 to 149999\n",
      "Data columns (total 3 columns):\n",
      " #   Column    Non-Null Count   Dtype \n",
      "---  ------    --------------   ----- \n",
      " 0   id        150000 non-null  int64 \n",
      " 1   document  149995 non-null  object\n",
      " 2   label     150000 non-null  int64 \n",
      "dtypes: int64(2), object(1)\n",
      "memory usage: 3.4+ MB\n"
     ]
    }
   ],
   "source": [
    "text_train.info()"
   ]
  },
  {
   "cell_type": "code",
   "execution_count": 20,
   "id": "a1d5b128",
   "metadata": {},
   "outputs": [
    {
     "data": {
      "text/html": [
       "<div>\n",
       "<style scoped>\n",
       "    .dataframe tbody tr th:only-of-type {\n",
       "        vertical-align: middle;\n",
       "    }\n",
       "\n",
       "    .dataframe tbody tr th {\n",
       "        vertical-align: top;\n",
       "    }\n",
       "\n",
       "    .dataframe thead th {\n",
       "        text-align: right;\n",
       "    }\n",
       "</style>\n",
       "<table border=\"1\" class=\"dataframe\">\n",
       "  <thead>\n",
       "    <tr style=\"text-align: right;\">\n",
       "      <th></th>\n",
       "      <th>id</th>\n",
       "      <th>document</th>\n",
       "      <th>label</th>\n",
       "    </tr>\n",
       "  </thead>\n",
       "  <tbody>\n",
       "    <tr>\n",
       "      <th>25857</th>\n",
       "      <td>2172111</td>\n",
       "      <td>NaN</td>\n",
       "      <td>1</td>\n",
       "    </tr>\n",
       "    <tr>\n",
       "      <th>55737</th>\n",
       "      <td>6369843</td>\n",
       "      <td>NaN</td>\n",
       "      <td>1</td>\n",
       "    </tr>\n",
       "    <tr>\n",
       "      <th>110014</th>\n",
       "      <td>1034280</td>\n",
       "      <td>NaN</td>\n",
       "      <td>0</td>\n",
       "    </tr>\n",
       "    <tr>\n",
       "      <th>126782</th>\n",
       "      <td>5942978</td>\n",
       "      <td>NaN</td>\n",
       "      <td>0</td>\n",
       "    </tr>\n",
       "    <tr>\n",
       "      <th>140721</th>\n",
       "      <td>1034283</td>\n",
       "      <td>NaN</td>\n",
       "      <td>0</td>\n",
       "    </tr>\n",
       "  </tbody>\n",
       "</table>\n",
       "</div>"
      ],
      "text/plain": [
       "             id document  label\n",
       "25857   2172111      NaN      1\n",
       "55737   6369843      NaN      1\n",
       "110014  1034280      NaN      0\n",
       "126782  5942978      NaN      0\n",
       "140721  1034283      NaN      0"
      ]
     },
     "execution_count": 20,
     "metadata": {},
     "output_type": "execute_result"
    }
   ],
   "source": [
    "text_train[pd.isnull(text_train['document'])]"
   ]
  },
  {
   "cell_type": "markdown",
   "id": "2ade169f",
   "metadata": {},
   "source": [
    "### 결측지 제거"
   ]
  },
  {
   "cell_type": "code",
   "execution_count": 21,
   "id": "7e0a50b4",
   "metadata": {
    "scrolled": true
   },
   "outputs": [],
   "source": [
    "text_train.dropna(inplace=True)\n",
    "text_test.dropna(inplace=True)"
   ]
  },
  {
   "cell_type": "code",
   "execution_count": 22,
   "id": "91cf5f78",
   "metadata": {
    "scrolled": true
   },
   "outputs": [
    {
     "name": "stdout",
     "output_type": "stream",
     "text": [
      "<class 'pandas.core.frame.DataFrame'>\n",
      "Int64Index: 149995 entries, 0 to 149999\n",
      "Data columns (total 3 columns):\n",
      " #   Column    Non-Null Count   Dtype \n",
      "---  ------    --------------   ----- \n",
      " 0   id        149995 non-null  int64 \n",
      " 1   document  149995 non-null  object\n",
      " 2   label     149995 non-null  int64 \n",
      "dtypes: int64(2), object(1)\n",
      "memory usage: 4.6+ MB\n"
     ]
    }
   ],
   "source": [
    "text_train.info()"
   ]
  },
  {
   "cell_type": "code",
   "execution_count": 23,
   "id": "3ca8b191",
   "metadata": {},
   "outputs": [],
   "source": [
    "X_train = text_train['document'][:10000]\n",
    "y_train = text_train['label'][:10000]\n",
    "X_test = text_test['document'][:1000]\n",
    "y_test = text_test['label'][:1000]"
   ]
  },
  {
   "cell_type": "markdown",
   "id": "b290386e",
   "metadata": {},
   "source": [
    "### 토큰화"
   ]
  },
  {
   "cell_type": "code",
   "execution_count": 24,
   "id": "6a926253",
   "metadata": {},
   "outputs": [],
   "source": [
    "from sklearn.feature_extraction.text import TfidfVectorizer"
   ]
  },
  {
   "cell_type": "code",
   "execution_count": 25,
   "id": "fc5bee80",
   "metadata": {},
   "outputs": [],
   "source": [
    "tf_okt = TfidfVectorizer(tokenizer=mytoken)"
   ]
  },
  {
   "cell_type": "code",
   "execution_count": 26,
   "id": "c8ae0b12",
   "metadata": {},
   "outputs": [],
   "source": [
    "cv_okt = CountVectorizer(tokenizer=mytoken)"
   ]
  },
  {
   "cell_type": "code",
   "execution_count": 27,
   "id": "3889482e",
   "metadata": {
    "scrolled": false
   },
   "outputs": [
    {
     "name": "stderr",
     "output_type": "stream",
     "text": [
      "C:\\Users\\smhrd\\anaconda3\\envs\\test\\lib\\site-packages\\sklearn\\feature_extraction\\text.py:516: UserWarning: The parameter 'token_pattern' will not be used since 'tokenizer' is not None'\n",
      "  warnings.warn(\n"
     ]
    },
    {
     "data": {
      "text/plain": [
       "TfidfVectorizer(tokenizer=<function mytoken at 0x000001D946C2E3A0>)"
      ]
     },
     "execution_count": 27,
     "metadata": {},
     "output_type": "execute_result"
    }
   ],
   "source": [
    "tf_okt.fit(X_train)"
   ]
  },
  {
   "cell_type": "code",
   "execution_count": 28,
   "id": "3889482e",
   "metadata": {
    "scrolled": false
   },
   "outputs": [
    {
     "data": {
      "text/plain": [
       "CountVectorizer(tokenizer=<function mytoken at 0x000001D946C2E3A0>)"
      ]
     },
     "execution_count": 28,
     "metadata": {},
     "output_type": "execute_result"
    }
   ],
   "source": [
    "cv_okt.fit(X_train)"
   ]
  },
  {
   "cell_type": "code",
   "execution_count": 29,
   "id": "60723c2a",
   "metadata": {
    "scrolled": true
   },
   "outputs": [
    {
     "data": {
      "text/plain": [
       "10089"
      ]
     },
     "execution_count": 29,
     "metadata": {},
     "output_type": "execute_result"
    }
   ],
   "source": [
    "len(tf_okt.vocabulary_)"
   ]
  },
  {
   "cell_type": "code",
   "execution_count": 30,
   "id": "60723c2a",
   "metadata": {
    "scrolled": true
   },
   "outputs": [
    {
     "data": {
      "text/plain": [
       "10089"
      ]
     },
     "execution_count": 30,
     "metadata": {},
     "output_type": "execute_result"
    }
   ],
   "source": [
    "len(cv_okt.vocabulary_)"
   ]
  },
  {
   "cell_type": "markdown",
   "id": "60793327",
   "metadata": {},
   "source": [
    "### 수치화"
   ]
  },
  {
   "cell_type": "code",
   "execution_count": 31,
   "id": "2a4a1cd4",
   "metadata": {
    "scrolled": true
   },
   "outputs": [],
   "source": [
    "X_train_okt2 = tf_okt.transform(X_train)\n",
    "X_test_okt2 = tf_okt.transform(X_test)"
   ]
  },
  {
   "cell_type": "code",
   "execution_count": 32,
   "id": "2a4a1cd4",
   "metadata": {
    "scrolled": true
   },
   "outputs": [],
   "source": [
    "X_train_okt = cv_okt.transform(X_train)\n",
    "X_test_okt = cv_okt.transform(X_test)"
   ]
  },
  {
   "cell_type": "code",
   "execution_count": 33,
   "id": "1f667cf5",
   "metadata": {},
   "outputs": [
    {
     "data": {
      "text/plain": [
       "(10000, 10089)"
      ]
     },
     "execution_count": 33,
     "metadata": {},
     "output_type": "execute_result"
    }
   ],
   "source": [
    "X_train_okt2.shape"
   ]
  },
  {
   "cell_type": "code",
   "execution_count": 34,
   "id": "1f667cf5",
   "metadata": {},
   "outputs": [
    {
     "data": {
      "text/plain": [
       "(10000, 10089)"
      ]
     },
     "execution_count": 34,
     "metadata": {},
     "output_type": "execute_result"
    }
   ],
   "source": [
    "X_train_okt.shape"
   ]
  },
  {
   "cell_type": "markdown",
   "id": "18a9d280",
   "metadata": {},
   "source": [
    "## 탐색적 데이터 분석"
   ]
  },
  {
   "cell_type": "markdown",
   "id": "e4a12413",
   "metadata": {},
   "source": [
    "## 모델 선택 및 하이퍼 파라미터 튜닝"
   ]
  },
  {
   "cell_type": "markdown",
   "id": "f4b6c352",
   "metadata": {},
   "source": [
    "### 모델 선택"
   ]
  },
  {
   "cell_type": "code",
   "execution_count": 35,
   "id": "934d027f",
   "metadata": {},
   "outputs": [],
   "source": [
    "from sklearn.linear_model import LogisticRegression"
   ]
  },
  {
   "cell_type": "code",
   "execution_count": 36,
   "id": "303c45be",
   "metadata": {},
   "outputs": [],
   "source": [
    "lr_model = LogisticRegression()"
   ]
  },
  {
   "cell_type": "markdown",
   "id": "ae6ffb56",
   "metadata": {},
   "source": [
    "## 학습"
   ]
  },
  {
   "cell_type": "code",
   "execution_count": 37,
   "id": "0416f296",
   "metadata": {},
   "outputs": [
    {
     "data": {
      "text/plain": [
       "LogisticRegression()"
      ]
     },
     "execution_count": 37,
     "metadata": {},
     "output_type": "execute_result"
    }
   ],
   "source": [
    "lr_model.fit(X_train_okt2,y_train)"
   ]
  },
  {
   "cell_type": "code",
   "execution_count": 38,
   "id": "0416f296",
   "metadata": {},
   "outputs": [
    {
     "name": "stderr",
     "output_type": "stream",
     "text": [
      "C:\\Users\\smhrd\\anaconda3\\envs\\test\\lib\\site-packages\\sklearn\\linear_model\\_logistic.py:814: ConvergenceWarning: lbfgs failed to converge (status=1):\n",
      "STOP: TOTAL NO. of ITERATIONS REACHED LIMIT.\n",
      "\n",
      "Increase the number of iterations (max_iter) or scale the data as shown in:\n",
      "    https://scikit-learn.org/stable/modules/preprocessing.html\n",
      "Please also refer to the documentation for alternative solver options:\n",
      "    https://scikit-learn.org/stable/modules/linear_model.html#logistic-regression\n",
      "  n_iter_i = _check_optimize_result(\n"
     ]
    },
    {
     "data": {
      "text/plain": [
       "LogisticRegression()"
      ]
     },
     "execution_count": 38,
     "metadata": {},
     "output_type": "execute_result"
    }
   ],
   "source": [
    "lr_model.fit(X_train_okt,y_train)"
   ]
  },
  {
   "cell_type": "markdown",
   "id": "ddcde2fd",
   "metadata": {},
   "source": [
    "## 평가"
   ]
  },
  {
   "cell_type": "code",
   "execution_count": 39,
   "id": "ea0c3e54",
   "metadata": {},
   "outputs": [
    {
     "data": {
      "text/plain": [
       "0.8979"
      ]
     },
     "execution_count": 39,
     "metadata": {},
     "output_type": "execute_result"
    }
   ],
   "source": [
    "lr_model.score(X_train_okt2,y_train)"
   ]
  },
  {
   "cell_type": "code",
   "execution_count": 40,
   "id": "ea0c3e54",
   "metadata": {},
   "outputs": [
    {
     "data": {
      "text/plain": [
       "0.882"
      ]
     },
     "execution_count": 40,
     "metadata": {},
     "output_type": "execute_result"
    }
   ],
   "source": [
    "lr_model.score(X_train_okt,y_train)"
   ]
  },
  {
   "cell_type": "code",
   "execution_count": 41,
   "id": "7488fae8",
   "metadata": {
    "scrolled": true
   },
   "outputs": [
    {
     "data": {
      "text/plain": [
       "0.721"
      ]
     },
     "execution_count": 41,
     "metadata": {},
     "output_type": "execute_result"
    }
   ],
   "source": [
    "lr_model.score(X_test_okt2,y_test)"
   ]
  },
  {
   "cell_type": "code",
   "execution_count": 42,
   "id": "7488fae8",
   "metadata": {
    "scrolled": true
   },
   "outputs": [
    {
     "data": {
      "text/plain": [
       "0.727"
      ]
     },
     "execution_count": 42,
     "metadata": {},
     "output_type": "execute_result"
    }
   ],
   "source": [
    "lr_model.score(X_test_okt,y_test)"
   ]
  },
  {
   "cell_type": "markdown",
   "id": "e803c12b",
   "metadata": {},
   "source": [
    "## 감성분석"
   ]
  },
  {
   "cell_type": "code",
   "execution_count": 43,
   "id": "9305bf32",
   "metadata": {},
   "outputs": [],
   "source": [
    "voca = cv_okt.vocabulary_\n",
    "world_weight = lr_model.coef_"
   ]
  },
  {
   "cell_type": "code",
   "execution_count": 44,
   "id": "ea3f42cc",
   "metadata": {},
   "outputs": [
    {
     "data": {
      "text/html": [
       "<div>\n",
       "<style scoped>\n",
       "    .dataframe tbody tr th:only-of-type {\n",
       "        vertical-align: middle;\n",
       "    }\n",
       "\n",
       "    .dataframe tbody tr th {\n",
       "        vertical-align: top;\n",
       "    }\n",
       "\n",
       "    .dataframe thead th {\n",
       "        text-align: right;\n",
       "    }\n",
       "</style>\n",
       "<table border=\"1\" class=\"dataframe\">\n",
       "  <thead>\n",
       "    <tr style=\"text-align: right;\">\n",
       "      <th></th>\n",
       "      <th>0</th>\n",
       "      <th>1</th>\n",
       "      <th>coef</th>\n",
       "    </tr>\n",
       "  </thead>\n",
       "  <tbody>\n",
       "    <tr>\n",
       "      <th>418</th>\n",
       "      <td>최악</td>\n",
       "      <td>8449</td>\n",
       "      <td>-3.066925</td>\n",
       "    </tr>\n",
       "    <tr>\n",
       "      <th>168</th>\n",
       "      <td>쓰레기</td>\n",
       "      <td>5219</td>\n",
       "      <td>-2.572370</td>\n",
       "    </tr>\n",
       "    <tr>\n",
       "      <th>388</th>\n",
       "      <td>실망</td>\n",
       "      <td>5109</td>\n",
       "      <td>-2.181924</td>\n",
       "    </tr>\n",
       "    <tr>\n",
       "      <th>371</th>\n",
       "      <td>졸작</td>\n",
       "      <td>7744</td>\n",
       "      <td>-2.001891</td>\n",
       "    </tr>\n",
       "    <tr>\n",
       "      <th>1786</th>\n",
       "      <td>차라리</td>\n",
       "      <td>8225</td>\n",
       "      <td>-1.967331</td>\n",
       "    </tr>\n",
       "    <tr>\n",
       "      <th>1463</th>\n",
       "      <td>이하</td>\n",
       "      <td>6857</td>\n",
       "      <td>-1.942159</td>\n",
       "    </tr>\n",
       "    <tr>\n",
       "      <th>137</th>\n",
       "      <td>별로</td>\n",
       "      <td>3650</td>\n",
       "      <td>-1.860713</td>\n",
       "    </tr>\n",
       "    <tr>\n",
       "      <th>2057</th>\n",
       "      <td>접</td>\n",
       "      <td>7477</td>\n",
       "      <td>-1.860496</td>\n",
       "    </tr>\n",
       "    <tr>\n",
       "      <th>211</th>\n",
       "      <td>돈</td>\n",
       "      <td>2008</td>\n",
       "      <td>-1.810393</td>\n",
       "    </tr>\n",
       "    <tr>\n",
       "      <th>310</th>\n",
       "      <td>짜증</td>\n",
       "      <td>8146</td>\n",
       "      <td>-1.802943</td>\n",
       "    </tr>\n",
       "    <tr>\n",
       "      <th>34</th>\n",
       "      <td>반개</td>\n",
       "      <td>3384</td>\n",
       "      <td>-1.801977</td>\n",
       "    </tr>\n",
       "    <tr>\n",
       "      <th>1647</th>\n",
       "      <td>점도</td>\n",
       "      <td>7462</td>\n",
       "      <td>-1.715568</td>\n",
       "    </tr>\n",
       "    <tr>\n",
       "      <th>5214</th>\n",
       "      <td>지루</td>\n",
       "      <td>7982</td>\n",
       "      <td>-1.648098</td>\n",
       "    </tr>\n",
       "    <tr>\n",
       "      <th>3007</th>\n",
       "      <td>노답</td>\n",
       "      <td>1494</td>\n",
       "      <td>-1.612352</td>\n",
       "    </tr>\n",
       "    <tr>\n",
       "      <th>3228</th>\n",
       "      <td>도저히</td>\n",
       "      <td>1979</td>\n",
       "      <td>-1.600272</td>\n",
       "    </tr>\n",
       "    <tr>\n",
       "      <th>659</th>\n",
       "      <td>알바</td>\n",
       "      <td>5430</td>\n",
       "      <td>-1.568024</td>\n",
       "    </tr>\n",
       "    <tr>\n",
       "      <th>1226</th>\n",
       "      <td>망작</td>\n",
       "      <td>2745</td>\n",
       "      <td>-1.555122</td>\n",
       "    </tr>\n",
       "    <tr>\n",
       "      <th>2333</th>\n",
       "      <td>줄거리</td>\n",
       "      <td>7879</td>\n",
       "      <td>-1.474111</td>\n",
       "    </tr>\n",
       "    <tr>\n",
       "      <th>2313</th>\n",
       "      <td>기세</td>\n",
       "      <td>1033</td>\n",
       "      <td>-1.471158</td>\n",
       "    </tr>\n",
       "    <tr>\n",
       "      <th>2497</th>\n",
       "      <td>어이</td>\n",
       "      <td>5624</td>\n",
       "      <td>-1.468929</td>\n",
       "    </tr>\n",
       "    <tr>\n",
       "      <th>152</th>\n",
       "      <td>발연기</td>\n",
       "      <td>3428</td>\n",
       "      <td>-1.450236</td>\n",
       "    </tr>\n",
       "    <tr>\n",
       "      <th>409</th>\n",
       "      <td>별루</td>\n",
       "      <td>3651</td>\n",
       "      <td>-1.443776</td>\n",
       "    </tr>\n",
       "    <tr>\n",
       "      <th>570</th>\n",
       "      <td>질</td>\n",
       "      <td>8097</td>\n",
       "      <td>-1.410123</td>\n",
       "    </tr>\n",
       "    <tr>\n",
       "      <th>501</th>\n",
       "      <td>문제</td>\n",
       "      <td>3114</td>\n",
       "      <td>-1.403962</td>\n",
       "    </tr>\n",
       "    <tr>\n",
       "      <th>2228</th>\n",
       "      <td>손발</td>\n",
       "      <td>4678</td>\n",
       "      <td>-1.398483</td>\n",
       "    </tr>\n",
       "    <tr>\n",
       "      <th>1546</th>\n",
       "      <td>유치</td>\n",
       "      <td>6506</td>\n",
       "      <td>-1.371199</td>\n",
       "    </tr>\n",
       "    <tr>\n",
       "      <th>1664</th>\n",
       "      <td>양심</td>\n",
       "      <td>5556</td>\n",
       "      <td>-1.333307</td>\n",
       "    </tr>\n",
       "    <tr>\n",
       "      <th>4901</th>\n",
       "      <td>영</td>\n",
       "      <td>5918</td>\n",
       "      <td>-1.326479</td>\n",
       "    </tr>\n",
       "    <tr>\n",
       "      <th>3298</th>\n",
       "      <td>남지</td>\n",
       "      <td>1407</td>\n",
       "      <td>-1.313669</td>\n",
       "    </tr>\n",
       "    <tr>\n",
       "      <th>925</th>\n",
       "      <td>쇼</td>\n",
       "      <td>4713</td>\n",
       "      <td>-1.294466</td>\n",
       "    </tr>\n",
       "    <tr>\n",
       "      <th>1106</th>\n",
       "      <td>사실</td>\n",
       "      <td>4174</td>\n",
       "      <td>1.291258</td>\n",
       "    </tr>\n",
       "    <tr>\n",
       "      <th>428</th>\n",
       "      <td>강추</td>\n",
       "      <td>198</td>\n",
       "      <td>1.299190</td>\n",
       "    </tr>\n",
       "    <tr>\n",
       "      <th>433</th>\n",
       "      <td>메인</td>\n",
       "      <td>2858</td>\n",
       "      <td>1.305134</td>\n",
       "    </tr>\n",
       "    <tr>\n",
       "      <th>2297</th>\n",
       "      <td>케미</td>\n",
       "      <td>8668</td>\n",
       "      <td>1.314903</td>\n",
       "    </tr>\n",
       "    <tr>\n",
       "      <th>2678</th>\n",
       "      <td>은근</td>\n",
       "      <td>6566</td>\n",
       "      <td>1.369249</td>\n",
       "    </tr>\n",
       "    <tr>\n",
       "      <th>321</th>\n",
       "      <td>대해</td>\n",
       "      <td>1859</td>\n",
       "      <td>1.371678</td>\n",
       "    </tr>\n",
       "    <tr>\n",
       "      <th>3667</th>\n",
       "      <td>감명</td>\n",
       "      <td>134</td>\n",
       "      <td>1.400002</td>\n",
       "    </tr>\n",
       "    <tr>\n",
       "      <th>91</th>\n",
       "      <td>감동</td>\n",
       "      <td>133</td>\n",
       "      <td>1.450897</td>\n",
       "    </tr>\n",
       "    <tr>\n",
       "      <th>159</th>\n",
       "      <td>다시</td>\n",
       "      <td>1670</td>\n",
       "      <td>1.462575</td>\n",
       "    </tr>\n",
       "    <tr>\n",
       "      <th>1301</th>\n",
       "      <td>관</td>\n",
       "      <td>655</td>\n",
       "      <td>1.503089</td>\n",
       "    </tr>\n",
       "    <tr>\n",
       "      <th>97</th>\n",
       "      <td>긴장</td>\n",
       "      <td>1071</td>\n",
       "      <td>1.507101</td>\n",
       "    </tr>\n",
       "    <tr>\n",
       "      <th>804</th>\n",
       "      <td>마음</td>\n",
       "      <td>2622</td>\n",
       "      <td>1.517961</td>\n",
       "    </tr>\n",
       "    <tr>\n",
       "      <th>1195</th>\n",
       "      <td>삶</td>\n",
       "      <td>4253</td>\n",
       "      <td>1.524823</td>\n",
       "    </tr>\n",
       "    <tr>\n",
       "      <th>59</th>\n",
       "      <td>꽤</td>\n",
       "      <td>1241</td>\n",
       "      <td>1.531153</td>\n",
       "    </tr>\n",
       "    <tr>\n",
       "      <th>64</th>\n",
       "      <td>짱</td>\n",
       "      <td>8161</td>\n",
       "      <td>1.561037</td>\n",
       "    </tr>\n",
       "    <tr>\n",
       "      <th>3235</th>\n",
       "      <td>굿굿</td>\n",
       "      <td>832</td>\n",
       "      <td>1.615725</td>\n",
       "    </tr>\n",
       "    <tr>\n",
       "      <th>203</th>\n",
       "      <td>발견</td>\n",
       "      <td>3413</td>\n",
       "      <td>1.619387</td>\n",
       "    </tr>\n",
       "    <tr>\n",
       "      <th>613</th>\n",
       "      <td>화이팅</td>\n",
       "      <td>9862</td>\n",
       "      <td>1.643290</td>\n",
       "    </tr>\n",
       "    <tr>\n",
       "      <th>440</th>\n",
       "      <td>대박</td>\n",
       "      <td>1811</td>\n",
       "      <td>1.670947</td>\n",
       "    </tr>\n",
       "    <tr>\n",
       "      <th>466</th>\n",
       "      <td>명작</td>\n",
       "      <td>2902</td>\n",
       "      <td>1.698030</td>\n",
       "    </tr>\n",
       "    <tr>\n",
       "      <th>2119</th>\n",
       "      <td>꿀잼</td>\n",
       "      <td>1248</td>\n",
       "      <td>1.770030</td>\n",
       "    </tr>\n",
       "    <tr>\n",
       "      <th>1027</th>\n",
       "      <td>천재</td>\n",
       "      <td>8336</td>\n",
       "      <td>1.860246</td>\n",
       "    </tr>\n",
       "    <tr>\n",
       "      <th>1088</th>\n",
       "      <td>흥미진진</td>\n",
       "      <td>10044</td>\n",
       "      <td>1.888600</td>\n",
       "    </tr>\n",
       "    <tr>\n",
       "      <th>148</th>\n",
       "      <td>꼭</td>\n",
       "      <td>1220</td>\n",
       "      <td>1.937964</td>\n",
       "    </tr>\n",
       "    <tr>\n",
       "      <th>1146</th>\n",
       "      <td>최고다</td>\n",
       "      <td>8426</td>\n",
       "      <td>1.992183</td>\n",
       "    </tr>\n",
       "    <tr>\n",
       "      <th>890</th>\n",
       "      <td>굿</td>\n",
       "      <td>831</td>\n",
       "      <td>2.026994</td>\n",
       "    </tr>\n",
       "    <tr>\n",
       "      <th>274</th>\n",
       "      <td>가슴</td>\n",
       "      <td>47</td>\n",
       "      <td>2.152766</td>\n",
       "    </tr>\n",
       "    <tr>\n",
       "      <th>567</th>\n",
       "      <td>여운</td>\n",
       "      <td>5811</td>\n",
       "      <td>2.182034</td>\n",
       "    </tr>\n",
       "    <tr>\n",
       "      <th>175</th>\n",
       "      <td>최고</td>\n",
       "      <td>8425</td>\n",
       "      <td>2.265286</td>\n",
       "    </tr>\n",
       "    <tr>\n",
       "      <th>141</th>\n",
       "      <td>수작</td>\n",
       "      <td>4768</td>\n",
       "      <td>2.502610</td>\n",
       "    </tr>\n",
       "  </tbody>\n",
       "</table>\n",
       "</div>"
      ],
      "text/plain": [
       "         0      1      coef\n",
       "418     최악   8449 -3.066925\n",
       "168    쓰레기   5219 -2.572370\n",
       "388     실망   5109 -2.181924\n",
       "371     졸작   7744 -2.001891\n",
       "1786   차라리   8225 -1.967331\n",
       "1463    이하   6857 -1.942159\n",
       "137     별로   3650 -1.860713\n",
       "2057     접   7477 -1.860496\n",
       "211      돈   2008 -1.810393\n",
       "310     짜증   8146 -1.802943\n",
       "34      반개   3384 -1.801977\n",
       "1647    점도   7462 -1.715568\n",
       "5214    지루   7982 -1.648098\n",
       "3007    노답   1494 -1.612352\n",
       "3228   도저히   1979 -1.600272\n",
       "659     알바   5430 -1.568024\n",
       "1226    망작   2745 -1.555122\n",
       "2333   줄거리   7879 -1.474111\n",
       "2313    기세   1033 -1.471158\n",
       "2497    어이   5624 -1.468929\n",
       "152    발연기   3428 -1.450236\n",
       "409     별루   3651 -1.443776\n",
       "570      질   8097 -1.410123\n",
       "501     문제   3114 -1.403962\n",
       "2228    손발   4678 -1.398483\n",
       "1546    유치   6506 -1.371199\n",
       "1664    양심   5556 -1.333307\n",
       "4901     영   5918 -1.326479\n",
       "3298    남지   1407 -1.313669\n",
       "925      쇼   4713 -1.294466\n",
       "1106    사실   4174  1.291258\n",
       "428     강추    198  1.299190\n",
       "433     메인   2858  1.305134\n",
       "2297    케미   8668  1.314903\n",
       "2678    은근   6566  1.369249\n",
       "321     대해   1859  1.371678\n",
       "3667    감명    134  1.400002\n",
       "91      감동    133  1.450897\n",
       "159     다시   1670  1.462575\n",
       "1301     관    655  1.503089\n",
       "97      긴장   1071  1.507101\n",
       "804     마음   2622  1.517961\n",
       "1195     삶   4253  1.524823\n",
       "59       꽤   1241  1.531153\n",
       "64       짱   8161  1.561037\n",
       "3235    굿굿    832  1.615725\n",
       "203     발견   3413  1.619387\n",
       "613    화이팅   9862  1.643290\n",
       "440     대박   1811  1.670947\n",
       "466     명작   2902  1.698030\n",
       "2119    꿀잼   1248  1.770030\n",
       "1027    천재   8336  1.860246\n",
       "1088  흥미진진  10044  1.888600\n",
       "148      꼭   1220  1.937964\n",
       "1146   최고다   8426  1.992183\n",
       "890      굿    831  2.026994\n",
       "274     가슴     47  2.152766\n",
       "567     여운   5811  2.182034\n",
       "175     최고   8425  2.265286\n",
       "141     수작   4768  2.502610"
      ]
     },
     "execution_count": 44,
     "metadata": {},
     "output_type": "execute_result"
    }
   ],
   "source": [
    "df = pd.DataFrame([voca.keys(),voca.values()])\n",
    "df = df.T\n",
    "df_sorted = df.sort_values(by = 1)\n",
    "df_sorted['coef'] = world_weight.reshape(-1)\n",
    "df_sorted.sort_values(by = 'coef',inplace=True)\n",
    "top30_df = pd.concat([df_sorted.head(30),df_sorted.tail(30)])\n",
    "top30_df"
   ]
  },
  {
   "cell_type": "code",
   "execution_count": 45,
   "id": "5432f70b",
   "metadata": {},
   "outputs": [],
   "source": [
    "import matplotlib.pyplot as plt\n",
    "import matplotlib"
   ]
  },
  {
   "cell_type": "code",
   "execution_count": 46,
   "id": "c673d413",
   "metadata": {},
   "outputs": [
    {
     "data": {
      "image/png": "[encoded data removed]",
      "text/plain": [
       "<Figure size 1080x360 with 1 Axes>"
      ]
     },
     "metadata": {
      "needs_background": "light"
     },
     "output_type": "display_data"
    }
   ],
   "source": [
    "from matplotlib import font_manager, rc\n",
    "font_name = font_manager.FontProperties(fname=\"C:\\Windows\\Fonts\\malgun.ttf\").get_name()\n",
    "rc('font',family=font_name)\n",
    "\n",
    "matplotlib.rcParams['axes.unicode_minus'] = False\n",
    "plt.figure(figsize=(15,5)) # 가로,세로 비율\n",
    "plt.bar(top30_df[0], top30_df['coef']) # x축은 단어, y축은 가중치\n",
    "plt.xticks(rotation = 90) # x축 눈금 각도 조정\n",
    "plt.show()"
   ]
  },
  {
   "cell_type": "markdown",
   "id": "3b9917da",
   "metadata": {},
   "source": [
    "## 파이프라인\n",
    "- 기능을 연결하는 역할, 데이터 분석 순서에 맞게 기능을 연결"
   ]
  },
  {
   "cell_type": "markdown",
   "id": "1482a63f",
   "metadata": {},
   "source": [
    "### 토큰화, 수치화, 모델학습"
   ]
  },
  {
   "cell_type": "code",
   "execution_count": 47,
   "id": "27db8f83",
   "metadata": {},
   "outputs": [],
   "source": [
    "from sklearn.pipeline import make_pipeline"
   ]
  },
  {
   "cell_type": "code",
   "execution_count": 48,
   "id": "bfccd3cb",
   "metadata": {},
   "outputs": [],
   "source": [
    "pipe_model = make_pipeline(CountVectorizer(tokenizer=mytoken), LogisticRegression())"
   ]
  },
  {
   "cell_type": "code",
   "execution_count": 49,
   "id": "b30ce10d",
   "metadata": {
    "scrolled": true
   },
   "outputs": [
    {
     "name": "stderr",
     "output_type": "stream",
     "text": [
      "C:\\Users\\smhrd\\anaconda3\\envs\\test\\lib\\site-packages\\sklearn\\linear_model\\_logistic.py:814: ConvergenceWarning: lbfgs failed to converge (status=1):\n",
      "STOP: TOTAL NO. of ITERATIONS REACHED LIMIT.\n",
      "\n",
      "Increase the number of iterations (max_iter) or scale the data as shown in:\n",
      "    https://scikit-learn.org/stable/modules/preprocessing.html\n",
      "Please also refer to the documentation for alternative solver options:\n",
      "    https://scikit-learn.org/stable/modules/linear_model.html#logistic-regression\n",
      "  n_iter_i = _check_optimize_result(\n"
     ]
    },
    {
     "data": {
      "text/plain": [
       "Pipeline(steps=[('countvectorizer',\n",
       "                 CountVectorizer(tokenizer=<function mytoken at 0x000001D946C2E3A0>)),\n",
       "                ('logisticregression', LogisticRegression())])"
      ]
     },
     "execution_count": 49,
     "metadata": {},
     "output_type": "execute_result"
    }
   ],
   "source": [
    "pipe_model.fit(X_train,y_train)"
   ]
  },
  {
   "cell_type": "markdown",
   "id": "b1a1e2f8",
   "metadata": {},
   "source": [
    "### 결과 확인"
   ]
  },
  {
   "cell_type": "markdown",
   "id": "c0b75373",
   "metadata": {},
   "source": [
    "#### score"
   ]
  },
  {
   "cell_type": "code",
   "execution_count": 50,
   "id": "7b2a9e0e",
   "metadata": {},
   "outputs": [
    {
     "data": {
      "text/plain": [
       "0.882"
      ]
     },
     "execution_count": 50,
     "metadata": {},
     "output_type": "execute_result"
    }
   ],
   "source": [
    "pipe_model.score(X_train,y_train)"
   ]
  },
  {
   "cell_type": "code",
   "execution_count": 51,
   "id": "18105909",
   "metadata": {},
   "outputs": [
    {
     "data": {
      "text/plain": [
       "0.727"
      ]
     },
     "execution_count": 51,
     "metadata": {},
     "output_type": "execute_result"
    }
   ],
   "source": [
    "pipe_model.score(X_test,y_test)"
   ]
  },
  {
   "cell_type": "code",
   "execution_count": 52,
   "id": "2d9b11f0",
   "metadata": {},
   "outputs": [
    {
     "data": {
      "text/plain": [
       "[('countvectorizer',\n",
       "  CountVectorizer(tokenizer=<function mytoken at 0x000001D946C2E3A0>)),\n",
       " ('logisticregression', LogisticRegression())]"
      ]
     },
     "execution_count": 52,
     "metadata": {},
     "output_type": "execute_result"
    }
   ],
   "source": [
    "pipe_model.steps"
   ]
  },
  {
   "cell_type": "code",
   "execution_count": 53,
   "id": "c7bbd1eb",
   "metadata": {},
   "outputs": [],
   "source": [
    "pipe_cv = pipe_model.steps[0][1]"
   ]
  },
  {
   "cell_type": "code",
   "execution_count": 54,
   "id": "4c9058b4",
   "metadata": {},
   "outputs": [
    {
     "data": {
      "text/plain": [
       "{'더빙': 1885,\n",
       " '진짜': 8081,\n",
       " '목소리': 2971,\n",
       " '흠': 10034,\n",
       " '포스터': 9259,\n",
       " '보고': 3672,\n",
       " '초딩': 8385,\n",
       " '영화': 5945,\n",
       " '줄': 7878,\n",
       " '오버': 6039,\n",
       " '연기': 5866,\n",
       " '무재': 3078,\n",
       " '밓었': 3285,\n",
       " '다그': 1644,\n",
       " '래서': 2311,\n",
       " '추천': 8490,\n",
       " '교도소': 725,\n",
       " '이야기': 6761,\n",
       " '구먼': 761,\n",
       " '재미': 7255,\n",
       " '평점': 9232,\n",
       " '조정': 7694,\n",
       " '몬페': 2985,\n",
       " '의': 6607,\n",
       " '스파이더맨': 4930,\n",
       " '커스틴': 8635,\n",
       " '던스트': 1901,\n",
       " '막': 2652,\n",
       " '걸음': 341,\n",
       " '마': 2569,\n",
       " '세': 4542,\n",
       " '초등학교': 8383,\n",
       " '학년': 9463,\n",
       " '생인': 4369,\n",
       " '반개': 3384,\n",
       " '움': 6340,\n",
       " '원작': 6377,\n",
       " '긴장감': 1072,\n",
       " '제대로': 7598,\n",
       " '별': 3646,\n",
       " '욕': 6241,\n",
       " '이응경': 6794,\n",
       " '길용우': 1077,\n",
       " '생활': 4375,\n",
       " '년': 1481,\n",
       " '정말': 7505,\n",
       " '발': 3411,\n",
       " '해도': 9578,\n",
       " '그것': 877,\n",
       " '납치': 1413,\n",
       " '감금': 127,\n",
       " '반복': 3393,\n",
       " '드라마': 2105,\n",
       " '가족': 70,\n",
       " '사람': 4146,\n",
       " '네': 1464,\n",
       " '액션': 5504,\n",
       " '몇': 2910,\n",
       " '왜케': 6189,\n",
       " '꽤': 1241,\n",
       " '볼': 3754,\n",
       " '데': 1908,\n",
       " '헐리우드': 9672,\n",
       " '인피니트': 6949,\n",
       " '짱': 8161,\n",
       " '볼때': 3760,\n",
       " '향수': 9643,\n",
       " '자극': 7068,\n",
       " '허진호': 9663,\n",
       " '감성': 140,\n",
       " '절제': 7455,\n",
       " '멜로': 2871,\n",
       " '달인': 1751,\n",
       " '울면': 6332,\n",
       " '손': 4675,\n",
       " '횡단보도': 9947,\n",
       " '때': 2198,\n",
       " '뻔': 4088,\n",
       " '이범수': 6707,\n",
       " '로만': 2410,\n",
       " '자꾸': 7070,\n",
       " '그': 875,\n",
       " '것': 356,\n",
       " '취향': 8531,\n",
       " '존중': 7728,\n",
       " '다지': 1693,\n",
       " '내생': 1432,\n",
       " '극장': 935,\n",
       " '가장': 66,\n",
       " '노잼': 1518,\n",
       " '노': 1487,\n",
       " '감동': 133,\n",
       " '임': 7020,\n",
       " '스토리': 4907,\n",
       " '어거지': 5572,\n",
       " '냥': 1446,\n",
       " '매번': 2770,\n",
       " '긴장': 1071,\n",
       " '재밋음': 7280,\n",
       " '바스코': 3312,\n",
       " '이기': 6652,\n",
       " '락스': 2301,\n",
       " '코': 8682,\n",
       " '바비': 3310,\n",
       " '아이돌': 5318,\n",
       " '그냥': 880,\n",
       " '안달': 5383,\n",
       " '굿바이': 836,\n",
       " '레닌': 2348,\n",
       " '표절': 9300,\n",
       " '이해': 6862,\n",
       " '왜': 6169,\n",
       " '뒤': 2089,\n",
       " '갈수록': 117,\n",
       " '이건': 6639,\n",
       " '깨알': 1197,\n",
       " '캐스팅': 8618,\n",
       " '질퍽': 8114,\n",
       " '용구성': 6255,\n",
       " '버무러진': 3553,\n",
       " '일드': 6962,\n",
       " '약탈': 5543,\n",
       " '위': 6418,\n",
       " '변명': 3637,\n",
       " '놈': 1543,\n",
       " '절대': 7439,\n",
       " '걸': 332,\n",
       " '나름': 1285,\n",
       " '뜻': 2250,\n",
       " '듯': 2139,\n",
       " '학생': 9468,\n",
       " '선생': 4458,\n",
       " '건': 314,\n",
       " '음식': 6591,\n",
       " '도': 1941,\n",
       " '바베트': 3307,\n",
       " '만찬': 2695,\n",
       " '별로': 3650,\n",
       " '핀란드': 9387,\n",
       " '풍경': 9319,\n",
       " '할랫': 9538,\n",
       " '수작': 4768,\n",
       " '는걸': 1606,\n",
       " '주제': 7853,\n",
       " '중반': 7915,\n",
       " '짤랐을꺼': 8154,\n",
       " '납득': 1412,\n",
       " '수': 4726,\n",
       " '꼭': 1220,\n",
       " '고추': 556,\n",
       " '카밀라': 8586,\n",
       " '벨': 3631,\n",
       " '발연기': 3428,\n",
       " '재밋는뎅': 7271,\n",
       " '센스': 4581,\n",
       " '연출': 5896,\n",
       " '점': 7459,\n",
       " '엄포스': 5685,\n",
       " '위력': 6421,\n",
       " '다시': 1670,\n",
       " '한번': 9500,\n",
       " '적': 7350,\n",
       " '남': 1382,\n",
       " '꽃': 1236,\n",
       " '검사': 349,\n",
       " '완전': 6138,\n",
       " '명품': 2907,\n",
       " '졸': 7735,\n",
       " '쓰레기': 5219,\n",
       " '도안': 1972,\n",
       " '시간': 4976,\n",
       " '내': 1425,\n",
       " '죄인': 7789,\n",
       " '이': 6638,\n",
       " '인생': 6916,\n",
       " '최고': 8425,\n",
       " '패션': 9145,\n",
       " '대한': 1857,\n",
       " '열정': 5906,\n",
       " '안나': 5379,\n",
       " '윈': 6438,\n",
       " '투어': 8994,\n",
       " '키이라': 8811,\n",
       " '나이틀리': 1323,\n",
       " '대체': 1844,\n",
       " '정신장애': 7537,\n",
       " '틱장애': 9063,\n",
       " '정신': 7527,\n",
       " '유령': 6465,\n",
       " '관객': 656,\n",
       " '명': 2886,\n",
       " '평가': 9216,\n",
       " '매력': 2767,\n",
       " '알바생': 5431,\n",
       " '내용': 1434,\n",
       " '하나': 9405,\n",
       " '낚임': 1349,\n",
       " '서리': 4405,\n",
       " '맘': 2727,\n",
       " '또': 2220,\n",
       " '방법': 3459,\n",
       " '윤제문': 6548,\n",
       " '배우': 3505,\n",
       " '발견': 3413,\n",
       " '탈': 8856,\n",
       " '미소': 3210,\n",
       " '머금': 2805,\n",
       " '음악': 6592,\n",
       " '조금': 7648,\n",
       " '속지': 4672,\n",
       " '낭비': 1419,\n",
       " '돈': 2008,\n",
       " '리얼리티': 2534,\n",
       " '공감': 588,\n",
       " '안': 5371,\n",
       " '간다': 100,\n",
       " '이민기': 6699,\n",
       " '캐릭터': 8616,\n",
       " '정신의학': 7536,\n",
       " '분노조절': 3865,\n",
       " '장애': 7217,\n",
       " '초기': 8375,\n",
       " '증상': 7952,\n",
       " '툭하면': 9007,\n",
       " '패': 9134,\n",
       " '물건': 3123,\n",
       " '파손': 9087,\n",
       " '바': 3286,\n",
       " '초반': 8390,\n",
       " '가면': 32,\n",
       " '상태': 4315,\n",
       " '불가': 3883,\n",
       " '마이너스': 2626,\n",
       " '뮤비': 3156,\n",
       " '수준': 4772,\n",
       " '알': 5418,\n",
       " '북한': 3859,\n",
       " '난': 1351,\n",
       " '우리': 6280,\n",
       " '사랑': 4149,\n",
       " '리스': 2523,\n",
       " '타르': 8836,\n",
       " '용의': 6262,\n",
       " '주인': 7844,\n",
       " '누': 1556,\n",
       " '근친상간': 949,\n",
       " '소설': 4630,\n",
       " '속': 4665,\n",
       " '제일': 7621,\n",
       " '자': 7061,\n",
       " '메': 2840,\n",
       " '니스': 1626,\n",
       " '터': 8895,\n",
       " '드래곤': 2115,\n",
       " '용': 6252,\n",
       " '웃음': 6349,\n",
       " '감독': 130,\n",
       " '토르': 8941,\n",
       " '다크': 1701,\n",
       " '월드': 6392,\n",
       " '말': 2706,\n",
       " '기본': 1025,\n",
       " '선방': 4455,\n",
       " '영혼': 5944,\n",
       " '수도': 4737,\n",
       " '상사': 4291,\n",
       " '잠시': 7168,\n",
       " '동화': 2059,\n",
       " '세르게이': 4555,\n",
       " '맛': 2734,\n",
       " '포퐁': 9271,\n",
       " '저그': 7328,\n",
       " '콩': 8717,\n",
       " '진호': 8092,\n",
       " '가슴': 47,\n",
       " '시리': 4994,\n",
       " '자체': 7121,\n",
       " '난또': 1360,\n",
       " '저': 7325,\n",
       " '꼬마': 1215,\n",
       " '애가': 5470,\n",
       " '무슨': 3063,\n",
       " '원한': 6387,\n",
       " '혼자': 9803,\n",
       " '전': 7362,\n",
       " '충격': 8512,\n",
       " '기분': 1027,\n",
       " '푹': 9310,\n",
       " '느낌': 1597,\n",
       " '활': 9902,\n",
       " '일본인': 6983,\n",
       " '상상력': 4293,\n",
       " '생각': 4351,\n",
       " '백봉기': 3525,\n",
       " '언제': 5663,\n",
       " '그대로': 887,\n",
       " '예측': 6001,\n",
       " '카리스마': 8581,\n",
       " '악역': 5366,\n",
       " '불알': 3912,\n",
       " '당황': 1781,\n",
       " '중간': 7891,\n",
       " '일상': 6990,\n",
       " '계속': 474,\n",
       " '전개도': 7364,\n",
       " '주인공': 7845,\n",
       " '은희': 6581,\n",
       " '컷': 8659,\n",
       " '극적': 937,\n",
       " '모습': 2940,\n",
       " '짜증': 8146,\n",
       " '대만': 1807,\n",
       " '전개': 7363,\n",
       " '좀': 7746,\n",
       " '가슴속': 48,\n",
       " '감정': 150,\n",
       " '다큐': 1698,\n",
       " '우리나라': 6281,\n",
       " '현대': 9713,\n",
       " '사의': 4181,\n",
       " '단면': 1718,\n",
       " '대해': 1859,\n",
       " '깊이': 1176,\n",
       " '사죄': 4194,\n",
       " '바로': 3304,\n",
       " '잡기': 7173,\n",
       " '위해': 6436,\n",
       " '노력': 1504,\n",
       " '말로': 2709,\n",
       " '보도': 3681,\n",
       " '연맹': 5874,\n",
       " '민간인': 3246,\n",
       " '학살': 9467,\n",
       " '이정': 6811,\n",
       " '일': 6954,\n",
       " '살인': 4246,\n",
       " '살인자': 4249,\n",
       " '어디': 5581,\n",
       " '예전': 5995,\n",
       " '작품': 7144,\n",
       " '에피소드': 5750,\n",
       " '재탕': 7300,\n",
       " '탕': 8870,\n",
       " '사골': 4123,\n",
       " '우려': 6276,\n",
       " '먹듯': 2821,\n",
       " '산': 4218,\n",
       " '시청률': 5032,\n",
       " '아예': 5308,\n",
       " '이제': 6816,\n",
       " '부작': 3840,\n",
       " '김남길': 1086,\n",
       " '연기력': 5867,\n",
       " '몰입도': 2990,\n",
       " '불구': 3887,\n",
       " '손예진': 4683,\n",
       " '분': 3860,\n",
       " '노래실력': 1503,\n",
       " '박시환': 3342,\n",
       " '망신': 2743,\n",
       " '일본': 6977,\n",
       " '건가': 315,\n",
       " '이틀': 6853,\n",
       " '차': 8221,\n",
       " '조작': 7691,\n",
       " '안이': 5402,\n",
       " '집': 8121,\n",
       " '활짝': 9909,\n",
       " '아무나': 5278,\n",
       " '문자': 3112,\n",
       " '비번': 3998,\n",
       " '졸작': 7744,\n",
       " '재밋네': 7267,\n",
       " '달팽이': 1752,\n",
       " '빨': 4074,\n",
       " '더': 1871,\n",
       " '결말': 418,\n",
       " '로마노프': 2407,\n",
       " '왕조': 6163,\n",
       " '기리': 1017,\n",
       " '뭣같': 3154,\n",
       " '온몸': 6101,\n",
       " '항거': 9566,\n",
       " '러시아': 2332,\n",
       " '민중': 3259,\n",
       " '폭도': 9275,\n",
       " '무난': 3026,\n",
       " '매우': 2771,\n",
       " '실망': 5109,\n",
       " '한국영': 9489,\n",
       " '흥행': 10047,\n",
       " '코드': 8688,\n",
       " '갈등': 112,\n",
       " '계': 465,\n",
       " '화해': 9879,\n",
       " '남발': 1391,\n",
       " '뭐': 3142,\n",
       " '아햏햏': 5360,\n",
       " '시작': 5023,\n",
       " '리플릿': 2552,\n",
       " '사진': 4195,\n",
       " '단연': 1729,\n",
       " '럼': 2341,\n",
       " '뭘': 3150,\n",
       " '엉망': 5700,\n",
       " '진창': 8087,\n",
       " '개': 210,\n",
       " '우뢰매': 6279,\n",
       " '진정': 8076,\n",
       " '별루': 3651,\n",
       " '내일': 1435,\n",
       " '기대': 1006,\n",
       " '조미': 7661,\n",
       " '막문위': 2660,\n",
       " '가요': 56,\n",
       " '골깜': 570,\n",
       " '눈': 1567,\n",
       " '성룡': 4511,\n",
       " '최악': 8449,\n",
       " '골': 569,\n",
       " '걸스데이': 339,\n",
       " '이혜리': 6872,\n",
       " '서기': 4398,\n",
       " '인공': 6892,\n",
       " '주귀': 7799,\n",
       " '인상': 6915,\n",
       " '어내스트': 5576,\n",
       " '셀레스틴': 4584,\n",
       " '강추': 198,\n",
       " '클라라': 8786,\n",
       " '볼라': 3763,\n",
       " '화신': 9858,\n",
       " '설정': 4488,\n",
       " '메인': 2858,\n",
       " '차차': 8244,\n",
       " '신카이': 5098,\n",
       " '마코토': 2647,\n",
       " '작화': 7146,\n",
       " '유': 6444,\n",
       " '카나': 8576,\n",
       " '대박': 1811,\n",
       " '진심': 8064,\n",
       " '이훨': 6877,\n",
       " '못': 3001,\n",
       " '고은님': 541,\n",
       " '노골': 1490,\n",
       " '술': 4804,\n",
       " '광고': 690,\n",
       " '킬링타임': 8819,\n",
       " '크리스마스': 8775,\n",
       " '행복': 9630,\n",
       " '요': 6216,\n",
       " '쫌': 8193,\n",
       " '처음': 8311,\n",
       " '불륜': 3894,\n",
       " '로맨스': 2412,\n",
       " '왕': 6155,\n",
       " '아주': 5342,\n",
       " '짬뽕': 8160,\n",
       " '믹스': 3244,\n",
       " '음향': 6599,\n",
       " '별루더': 3652,\n",
       " '기준': 1056,\n",
       " '패널': 9137,\n",
       " '가구': 6,\n",
       " '머': 2804,\n",
       " '명작': 2902,\n",
       " '망치': 2749,\n",
       " '몬스터': 2980,\n",
       " '주식회사': 7832,\n",
       " '소재': 4653,\n",
       " '흥미': 10043,\n",
       " '끌': 1257,\n",
       " '투': 8986,\n",
       " '몰입': 2989,\n",
       " '중국인': 7904,\n",
       " '특유': 9043,\n",
       " '과장': 647,\n",
       " '허풍': 9666,\n",
       " '안간힘': 5372,\n",
       " '고증': 550,\n",
       " '실감': 5107,\n",
       " '거북': 294,\n",
       " '도대체': 1951,\n",
       " '스스로': 4860,\n",
       " '과대': 636,\n",
       " '포장': 9264,\n",
       " '불법체류자': 3903,\n",
       " '우상화': 6292,\n",
       " '미국': 3169,\n",
       " '뭥미': 3155,\n",
       " '삶속': 4254,\n",
       " '생애': 4367,\n",
       " '전부': 7389,\n",
       " '지난': 7967,\n",
       " '후': 9959,\n",
       " '지나': 7966,\n",
       " '숀펜': 4724,\n",
       " '또한': 2222,\n",
       " '올레': 6107,\n",
       " '공짜': 621,\n",
       " '문제': 3114,\n",
       " '연기자': 5868,\n",
       " '전혀': 7430,\n",
       " '배역': 3504,\n",
       " '상대': 4283,\n",
       " '보아': 3702,\n",
       " '라미란': 2268,\n",
       " '아들': 5256,\n",
       " '젤': 7638,\n",
       " '욕심': 6245,\n",
       " '쪽': 8186,\n",
       " '빵점': 4081,\n",
       " '베댓': 3607,\n",
       " '도둑': 1955,\n",
       " '뫼비우스': 3011,\n",
       " '나라': 1279,\n",
       " '찌릿': 8215,\n",
       " '짜릿': 8142,\n",
       " '나': 1270,\n",
       " '용기': 6256,\n",
       " '교훈': 742,\n",
       " '화이': 9860,\n",
       " '당시': 1774,\n",
       " '상황': 4322,\n",
       " '주입': 7847,\n",
       " '식이': 5052,\n",
       " '전하': 7428,\n",
       " '케이블': 8672,\n",
       " '다르덴': 1653,\n",
       " '차이밍량': 8241,\n",
       " '채': 8285,\n",
       " '그릇': 912,\n",
       " '여군': 5782,\n",
       " '잼': 7314,\n",
       " '엠비씨': 5772,\n",
       " '한석규': 9502,\n",
       " '김혜수': 1168,\n",
       " '어딘': 5583,\n",
       " '에볼라': 5730,\n",
       " '바이러스': 3314,\n",
       " '해': 9569,\n",
       " '면': 2878,\n",
       " '년전': 1486,\n",
       " '보기': 3676,\n",
       " '정도': 7500,\n",
       " '마지막': 2635,\n",
       " '후반': 9969,\n",
       " '부가': 3803,\n",
       " '살짝': 4250,\n",
       " '만해': 2698,\n",
       " '용가리': 6253,\n",
       " '짱짱맨': 8166,\n",
       " '감히': 157,\n",
       " '하나로': 9408,\n",
       " '꼽': 1229,\n",
       " '살': 4232,\n",
       " '고민': 517,\n",
       " '모건': 2915,\n",
       " '프리': 9347,\n",
       " '나이': 1319,\n",
       " '작가': 7127,\n",
       " '용이': 6264,\n",
       " '재방송': 7287,\n",
       " '혹': 9795,\n",
       " '시나': 4984,\n",
       " '답': 1761,\n",
       " '여운': 5811,\n",
       " '상업': 4299,\n",
       " '퀄리티': 8740,\n",
       " '질': 8097,\n",
       " '개인': 252,\n",
       " '노출씬': 1522,\n",
       " '국산': 808,\n",
       " '보임': 3708,\n",
       " '끝내': 1261,\n",
       " '역시': 5848,\n",
       " '드니': 2102,\n",
       " '일품': 7018,\n",
       " '맥스': 2785,\n",
       " '샘': 4343,\n",
       " '바랬다': 3301,\n",
       " '스러웟음': 4845,\n",
       " '지네': 7970,\n",
       " '찍을껀데': 8219,\n",
       " '면상': 2881,\n",
       " '자신': 7098,\n",
       " '어린이': 5593,\n",
       " '동심': 2042,\n",
       " '멀리': 2828,\n",
       " '무술': 3061,\n",
       " '총을드': 8415,\n",
       " '크리스토퍼': 8778,\n",
       " '왈츠': 6150,\n",
       " '타란티노': 8833,\n",
       " '조합': 7705,\n",
       " '한국': 9486,\n",
       " '유명': 6471,\n",
       " '한편': 9530,\n",
       " '외국': 6196,\n",
       " '상상': 4292,\n",
       " '초월': 8394,\n",
       " '만': 2669,\n",
       " '재밋': 7260,\n",
       " '종방': 7764,\n",
       " '오늘': 6009,\n",
       " '방도': 3457,\n",
       " '방송': 3462,\n",
       " '대본': 1814,\n",
       " '완성': 6137,\n",
       " '요즘': 6236,\n",
       " '막장': 2666,\n",
       " '수백향': 4750,\n",
       " '화이팅': 9862,\n",
       " '조절': 7693,\n",
       " '위원회': 6428,\n",
       " '김혜선': 1166,\n",
       " '김': 1079,\n",
       " '순정': 4800,\n",
       " '역할': 5853,\n",
       " '팜므파탈': 9130,\n",
       " '로써': 2431,\n",
       " '의외': 6624,\n",
       " '사극': 4129,\n",
       " '그녀': 881,\n",
       " '논란': 1534,\n",
       " '코미디': 8694,\n",
       " '장면': 7199,\n",
       " '끝': 1260,\n",
       " '한마디': 9496,\n",
       " '공유': 606,\n",
       " '존잘': 7725,\n",
       " '상쾌': 4313,\n",
       " '껄끄런': 1207,\n",
       " '성': 4498,\n",
       " '해설': 9593,\n",
       " '소파': 4657,\n",
       " '죽': 7864,\n",
       " '이유': 6786,\n",
       " '로큰롤': 2442,\n",
       " '타겟': 8829,\n",
       " '일반': 6970,\n",
       " '논리': 1535,\n",
       " '통': 8965,\n",
       " '게임': 384,\n",
       " '요원': 6233,\n",
       " '배경': 3481,\n",
       " '뮤지컬': 3158,\n",
       " '사운드': 4178,\n",
       " '녹음': 1530,\n",
       " '춤': 8510,\n",
       " '어제': 5625,\n",
       " '말리': 2710,\n",
       " '영국': 5924,\n",
       " '예산': 5983,\n",
       " '뮤지컬영화': 3159,\n",
       " '맘마미아': 2729,\n",
       " '로맨틱코미디': 2416,\n",
       " '게이물': 381,\n",
       " '알바': 5430,\n",
       " '머임': 2816,\n",
       " '알고싶다': 5419,\n",
       " '스텝': 4904,\n",
       " '꼭두각시': 1221,\n",
       " '현대인': 9714,\n",
       " '뻑': 4086,\n",
       " '볼걸': 3756,\n",
       " '극치': 939,\n",
       " '언밸러스': 5661,\n",
       " '남자': 1402,\n",
       " '애': 5469,\n",
       " '시종일관': 5028,\n",
       " '고역': 537,\n",
       " '클래식': 8788,\n",
       " '듣기': 2132,\n",
       " '주기도': 7803,\n",
       " '얼마나': 5672,\n",
       " '화가': 9833,\n",
       " '아무': 5277,\n",
       " '보지': 3714,\n",
       " '티비': 9058,\n",
       " '판': 9111,\n",
       " '거': 274,\n",
       " '돼지': 2061,\n",
       " '피': 9358,\n",
       " '닭목': 1754,\n",
       " '우웩': 6309,\n",
       " '무당': 3033,\n",
       " '잠': 7164,\n",
       " '류': 2481,\n",
       " '판타지': 9120,\n",
       " '윤종신': 6549,\n",
       " '복귀': 3720,\n",
       " '이하늘': 6859,\n",
       " '참가자': 8263,\n",
       " '실력': 5108,\n",
       " '심사': 5145,\n",
       " '위원': 6427,\n",
       " '인격': 6891,\n",
       " '어': 5569,\n",
       " '광장': 696,\n",
       " '옛날': 6003,\n",
       " '생': 4349,\n",
       " '어린시절': 5592,\n",
       " '추억': 8484,\n",
       " '판타지영화': 9121,\n",
       " '금물': 968,\n",
       " '지옥': 8009,\n",
       " '기존': 1055,\n",
       " '멜로영화': 2873,\n",
       " '형식': 9751,\n",
       " '탈피': 8863,\n",
       " '사랑비': 4151,\n",
       " '서준': 4435,\n",
       " '쏙': 5206,\n",
       " '후회': 9985,\n",
       " '이영화': 6775,\n",
       " '보': 3670,\n",
       " '주네': 7804,\n",
       " '싸이코': 5177,\n",
       " '물': 3122,\n",
       " '개봉': 235,\n",
       " '접해': 7485,\n",
       " '청춘': 8363,\n",
       " '순간': 4790,\n",
       " '무한': 3094,\n",
       " '젊음': 7458,\n",
       " '건담': 319,\n",
       " '시리즈': 4995,\n",
       " '중': 7890,\n",
       " '최고봉': 8427,\n",
       " '개콘': 263,\n",
       " '코너': 8685,\n",
       " '이안': 6759,\n",
       " '사다코': 4136,\n",
       " '서린': 4406,\n",
       " '우물': 6288,\n",
       " '펀치': 9178,\n",
       " '후세': 9972,\n",
       " '결정': 425,\n",
       " '계기': 468,\n",
       " '표현': 9305,\n",
       " '람': 2308,\n",
       " '생명': 4360,\n",
       " '등': 2141,\n",
       " '출현': 8509,\n",
       " '연극': 5864,\n",
       " '로': 2388,\n",
       " '본능': 3740,\n",
       " '면서': 2882,\n",
       " '시': 4972,\n",
       " '새벽': 4332,\n",
       " '다': 1641,\n",
       " '강수연': 180,\n",
       " '최정원': 8454,\n",
       " '신음': 5094,\n",
       " '신': 5058,\n",
       " '김혜성': 1167,\n",
       " '이현진': 6870,\n",
       " '가발': 35,\n",
       " '여정': 5822,\n",
       " '이인상': 6801,\n",
       " '재밋어': 7277,\n",
       " '배두나': 3487,\n",
       " '성적': 4530,\n",
       " '호기심': 9769,\n",
       " '필요': 9395,\n",
       " '닥치고': 1710,\n",
       " '각기': 89,\n",
       " '다른': 1654,\n",
       " '미국드라마': 3170,\n",
       " '파워': 9092,\n",
       " '응답': 6602,\n",
       " '하라': 9421,\n",
       " '은지원': 6575,\n",
       " '웃기': 6345,\n",
       " '배꼽': 3486,\n",
       " '컴': 8651,\n",
       " '구성': 768,\n",
       " '네이버': 1469,\n",
       " '장끌': 7185,\n",
       " '로드': 2396,\n",
       " '몰락': 2987,\n",
       " '오우삼': 6054,\n",
       " '제적': 7629,\n",
       " '영웅본색': 5937,\n",
       " '현실': 9718,\n",
       " '제로': 7601,\n",
       " '학창시절': 9475,\n",
       " '그때': 890,\n",
       " '대사': 1818,\n",
       " '배경음악': 3482,\n",
       " '화남': 9836,\n",
       " '형태': 9756,\n",
       " '영양가': 5933,\n",
       " '이승기': 6752,\n",
       " '조연': 7681,\n",
       " '꿈': 1249,\n",
       " '현충일': 9725,\n",
       " '특집': 9046,\n",
       " '프로': 9341,\n",
       " '미로': 3195,\n",
       " '급': 984,\n",
       " '제대': 7597,\n",
       " '마음': 2622,\n",
       " '휴가': 10004,\n",
       " '햇살': 9622,\n",
       " '비': 3974,\n",
       " '이의': 6795,\n",
       " '부엌': 3832,\n",
       " '요리': 6225,\n",
       " '코믹': 8695,\n",
       " '짜임새': 8144,\n",
       " '신현준': 5102,\n",
       " '황': 9912,\n",
       " '장군': 7183,\n",
       " '음': 6586,\n",
       " '대가': 1783,\n",
       " '일단': 6959,\n",
       " '재생': 7288,\n",
       " '괴물': 718,\n",
       " '서스펜스': 4418,\n",
       " '귀신': 864,\n",
       " '흡입': 10040,\n",
       " '댓글': 1868,\n",
       " '기': 993,\n",
       " '게': 367,\n",
       " '버킷리스트': 3561,\n",
       " '직전': 8045,\n",
       " '소원': 4645,\n",
       " '란': 2302,\n",
       " '발톱': 3435,\n",
       " '완존': 6143,\n",
       " '긍정': 991,\n",
       " '무표': 3092,\n",
       " '홍혜정': 9831,\n",
       " '역': 5836,\n",
       " '이그': 6649,\n",
       " '마도': 2582,\n",
       " '후련': 9967,\n",
       " '기도': 1007,\n",
       " '나머': 1287,\n",
       " '낼': 1440,\n",
       " '월요일': 6398,\n",
       " '해피': 9610,\n",
       " '정치인': 7579,\n",
       " '모순': 2938,\n",
       " '정치범': 7577,\n",
       " '전쟁': 7409,\n",
       " '묘사': 3016,\n",
       " '주년': 7805,\n",
       " '극장판': 936,\n",
       " '재개': 7245,\n",
       " '봉하': 3783,\n",
       " '대희': 1863,\n",
       " '개그콘서트': 217,\n",
       " '전화': 7432,\n",
       " '끊음': 1256,\n",
       " '간': 99,\n",
       " '서양': 4420,\n",
       " '두': 2068,\n",
       " '싸움판': 5175,\n",
       " '푸하하하': 9309,\n",
       " '세계': 4543,\n",
       " '최초': 8462,\n",
       " '반공': 3385,\n",
       " '애니매이션': 5479,\n",
       " '역사': 5842,\n",
       " '가치': 80,\n",
       " '감각': 123,\n",
       " '시각': 4974,\n",
       " '문학': 3118,\n",
       " '엄마': 5680,\n",
       " '무고': 3021,\n",
       " '딸': 2189,\n",
       " '감옥살이': 144,\n",
       " '제발': 7604,\n",
       " '책': 8295,\n",
       " '날': 1372,\n",
       " '흑인음악': 10029,\n",
       " '아이스': 5325,\n",
       " '큐브': 8759,\n",
       " '뿐': 4105,\n",
       " '건데': 320,\n",
       " '알리시아': 5428,\n",
       " '옥소리': 6091,\n",
       " '프로필': 9345,\n",
       " '아우': 5311,\n",
       " '재밓당': 7284,\n",
       " '짱짱': 8165,\n",
       " '굿': 831,\n",
       " '시절': 5025,\n",
       " '부터': 3852,\n",
       " '이적': 6809,\n",
       " '액션영화': 5506,\n",
       " '범죄': 3589,\n",
       " '느와르': 1602,\n",
       " '실패': 5134,\n",
       " '작': 7126,\n",
       " '뭔가': 3149,\n",
       " '모녀': 2918,\n",
       " '토막': 8944,\n",
       " '살해': 4252,\n",
       " '부': 3802,\n",
       " '본인': 3749,\n",
       " '피해자': 9383,\n",
       " '구리지': 757,\n",
       " '필름': 9391,\n",
       " '값': 162,\n",
       " '매미': 2769,\n",
       " '드': 2098,\n",
       " '안습': 5401,\n",
       " '혀': 9708,\n",
       " '소리': 4619,\n",
       " '매니저': 2764,\n",
       " '역활': 5855,\n",
       " '훨': 9996,\n",
       " '스릴러': 4849,\n",
       " '스릴': 4848,\n",
       " '이구': 6647,\n",
       " '전달': 7371,\n",
       " '할머니': 9545,\n",
       " '월': 6389,\n",
       " '편이': 9211,\n",
       " '모든': 2925,\n",
       " '쇼': 4713,\n",
       " '기억': 1041,\n",
       " '진개': 8050,\n",
       " '천카이거': 8339,\n",
       " '이름': 6684,\n",
       " '정은지': 7552,\n",
       " '언니': 5657,\n",
       " '노래': 1502,\n",
       " '회': 9934,\n",
       " '트로트': 9023,\n",
       " '연인': 5892,\n",
       " '아이': 5317,\n",
       " '시선': 5006,\n",
       " '내내': 1428,\n",
       " '레알': 2361,\n",
       " '함': 9552,\n",
       " '여자애': 5818,\n",
       " '복': 3718,\n",
       " '순이': 4799,\n",
       " '굳이': 827,\n",
       " '어색': 5609,\n",
       " '연속극': 5882,\n",
       " '인터뷰': 6946,\n",
       " '박스': 3340,\n",
       " '오피스': 6081,\n",
       " '물폭탄': 3136,\n",
       " '싸움': 5174,\n",
       " '여자': 5815,\n",
       " '기량': 1013,\n",
       " '울': 6330,\n",
       " '개연': 247,\n",
       " '조디': 7653,\n",
       " '개막': 228,\n",
       " '당신': 1775,\n",
       " '호구': 9766,\n",
       " '두기': 2070,\n",
       " '쌀': 5180,\n",
       " '세기': 4548,\n",
       " '명대사': 2890,\n",
       " '뒷받침': 2095,\n",
       " '여배우': 5796,\n",
       " '저스트': 7338,\n",
       " '위드': 6420,\n",
       " '애니스톤': 5483,\n",
       " '런가': 2336,\n",
       " '맛깔': 2735,\n",
       " '시베리아': 5001,\n",
       " '거기': 278,\n",
       " '훈련': 9989,\n",
       " '작살': 7135,\n",
       " '질왜': 8107,\n",
       " '제목': 7603,\n",
       " '야경': 5521,\n",
       " '지금': 7964,\n",
       " '즉': 7941,\n",
       " '달이': 1750,\n",
       " '앞': 5464,\n",
       " '누군가': 1559,\n",
       " '얘기': 5566,\n",
       " '훅': 9987,\n",
       " '지루함': 7983,\n",
       " '지존': 8021,\n",
       " '수록': 4741,\n",
       " '슬픔': 4953,\n",
       " '성도': 4508,\n",
       " '아역': 5305,\n",
       " '추노': 8476,\n",
       " '민폐': 3262,\n",
       " '저급': 7329,\n",
       " '킁': 8800,\n",
       " '송강호': 4696,\n",
       " '그로': 906,\n",
       " '즐거움': 7945,\n",
       " '파다': 9076,\n",
       " '수입': 4767,\n",
       " ...}"
      ]
     },
     "execution_count": 54,
     "metadata": {},
     "output_type": "execute_result"
    }
   ],
   "source": [
    "pipe_cv.vocabulary_"
   ]
  },
  {
   "cell_type": "code",
   "execution_count": 55,
   "id": "83d788a4",
   "metadata": {},
   "outputs": [],
   "source": [
    "pipe_lr = pipe_model.steps[1][1]"
   ]
  },
  {
   "cell_type": "code",
   "execution_count": 56,
   "id": "ac21a93c",
   "metadata": {
    "scrolled": true
   },
   "outputs": [
    {
     "data": {
      "text/plain": [
       "array([[ 2.85013101e-01, -2.57599092e-04,  3.07913738e-01, ...,\n",
       "         2.10010784e-01,  7.17628223e-02,  1.99440186e-01]])"
      ]
     },
     "execution_count": 56,
     "metadata": {},
     "output_type": "execute_result"
    }
   ],
   "source": [
    "pipe_lr.coef_"
   ]
  },
  {
   "cell_type": "markdown",
   "id": "aa4634ca",
   "metadata": {},
   "source": [
    "### GridSearch"
   ]
  },
  {
   "cell_type": "code",
   "execution_count": 57,
   "id": "0f2533df",
   "metadata": {},
   "outputs": [],
   "source": [
    "from sklearn.model_selection import GridSearchCV"
   ]
  },
  {
   "cell_type": "code",
   "execution_count": 58,
   "id": "cde0401b",
   "metadata": {},
   "outputs": [],
   "source": [
    "param_grid = {\n",
    "    'countvectorizer__max_df' : [100,200,300],\n",
    "    'countvectorizer__min_df' : [10,20,30],\n",
    "    'countvectorizer__ngram_range' : [(1,1),(1,2),(1,3)],\n",
    "    'logisticregression__C' : [0.01,0.1,1,10,100]\n",
    "}"
   ]
  },
  {
   "cell_type": "code",
   "execution_count": 59,
   "id": "2883797e",
   "metadata": {},
   "outputs": [],
   "source": [
    "grid = GridSearchCV(pipe_model,param_grid,cv=5)"
   ]
  },
  {
   "cell_type": "code",
   "execution_count": null,
   "id": "b060e9bf",
   "metadata": {
    "scrolled": true
   },
   "outputs": [
    {
     "name": "stderr",
     "output_type": "stream",
     "text": [
      "C:\\Users\\smhrd\\anaconda3\\envs\\test\\lib\\site-packages\\sklearn\\linear_model\\_logistic.py:814: ConvergenceWarning: lbfgs failed to converge (status=1):\n",
      "STOP: TOTAL NO. of ITERATIONS REACHED LIMIT.\n",
      "\n",
      "Increase the number of iterations (max_iter) or scale the data as shown in:\n",
      "    https://scikit-learn.org/stable/modules/preprocessing.html\n",
      "Please also refer to the documentation for alternative solver options:\n",
      "    https://scikit-learn.org/stable/modules/linear_model.html#logistic-regression\n",
      "  n_iter_i = _check_optimize_result(\n",
      "C:\\Users\\smhrd\\anaconda3\\envs\\test\\lib\\site-packages\\sklearn\\linear_model\\_logistic.py:814: ConvergenceWarning: lbfgs failed to converge (status=1):\n",
      "STOP: TOTAL NO. of ITERATIONS REACHED LIMIT.\n",
      "\n",
      "Increase the number of iterations (max_iter) or scale the data as shown in:\n",
      "    https://scikit-learn.org/stable/modules/preprocessing.html\n",
      "Please also refer to the documentation for alternative solver options:\n",
      "    https://scikit-learn.org/stable/modules/linear_model.html#logistic-regression\n",
      "  n_iter_i = _check_optimize_result(\n",
      "C:\\Users\\smhrd\\anaconda3\\envs\\test\\lib\\site-packages\\sklearn\\linear_model\\_logistic.py:814: ConvergenceWarning: lbfgs failed to converge (status=1):\n",
      "STOP: TOTAL NO. of ITERATIONS REACHED LIMIT.\n",
      "\n",
      "Increase the number of iterations (max_iter) or scale the data as shown in:\n",
      "    https://scikit-learn.org/stable/modules/preprocessing.html\n",
      "Please also refer to the documentation for alternative solver options:\n",
      "    https://scikit-learn.org/stable/modules/linear_model.html#logistic-regression\n",
      "  n_iter_i = _check_optimize_result(\n",
      "C:\\Users\\smhrd\\anaconda3\\envs\\test\\lib\\site-packages\\sklearn\\linear_model\\_logistic.py:814: ConvergenceWarning: lbfgs failed to converge (status=1):\n",
      "STOP: TOTAL NO. of ITERATIONS REACHED LIMIT.\n",
      "\n",
      "Increase the number of iterations (max_iter) or scale the data as shown in:\n",
      "    https://scikit-learn.org/stable/modules/preprocessing.html\n",
      "Please also refer to the documentation for alternative solver options:\n",
      "    https://scikit-learn.org/stable/modules/linear_model.html#logistic-regression\n",
      "  n_iter_i = _check_optimize_result(\n",
      "C:\\Users\\smhrd\\anaconda3\\envs\\test\\lib\\site-packages\\sklearn\\linear_model\\_logistic.py:814: ConvergenceWarning: lbfgs failed to converge (status=1):\n",
      "STOP: TOTAL NO. of ITERATIONS REACHED LIMIT.\n",
      "\n",
      "Increase the number of iterations (max_iter) or scale the data as shown in:\n",
      "    https://scikit-learn.org/stable/modules/preprocessing.html\n",
      "Please also refer to the documentation for alternative solver options:\n",
      "    https://scikit-learn.org/stable/modules/linear_model.html#logistic-regression\n",
      "  n_iter_i = _check_optimize_result(\n",
      "C:\\Users\\smhrd\\anaconda3\\envs\\test\\lib\\site-packages\\sklearn\\linear_model\\_logistic.py:814: ConvergenceWarning: lbfgs failed to converge (status=1):\n",
      "STOP: TOTAL NO. of ITERATIONS REACHED LIMIT.\n",
      "\n",
      "Increase the number of iterations (max_iter) or scale the data as shown in:\n",
      "    https://scikit-learn.org/stable/modules/preprocessing.html\n",
      "Please also refer to the documentation for alternative solver options:\n",
      "    https://scikit-learn.org/stable/modules/linear_model.html#logistic-regression\n",
      "  n_iter_i = _check_optimize_result(\n",
      "C:\\Users\\smhrd\\anaconda3\\envs\\test\\lib\\site-packages\\sklearn\\linear_model\\_logistic.py:814: ConvergenceWarning: lbfgs failed to converge (status=1):\n",
      "STOP: TOTAL NO. of ITERATIONS REACHED LIMIT.\n",
      "\n",
      "Increase the number of iterations (max_iter) or scale the data as shown in:\n",
      "    https://scikit-learn.org/stable/modules/preprocessing.html\n",
      "Please also refer to the documentation for alternative solver options:\n",
      "    https://scikit-learn.org/stable/modules/linear_model.html#logistic-regression\n",
      "  n_iter_i = _check_optimize_result(\n",
      "C:\\Users\\smhrd\\anaconda3\\envs\\test\\lib\\site-packages\\sklearn\\linear_model\\_logistic.py:814: ConvergenceWarning: lbfgs failed to converge (status=1):\n",
      "STOP: TOTAL NO. of ITERATIONS REACHED LIMIT.\n",
      "\n",
      "Increase the number of iterations (max_iter) or scale the data as shown in:\n",
      "    https://scikit-learn.org/stable/modules/preprocessing.html\n",
      "Please also refer to the documentation for alternative solver options:\n",
      "    https://scikit-learn.org/stable/modules/linear_model.html#logistic-regression\n",
      "  n_iter_i = _check_optimize_result(\n",
      "C:\\Users\\smhrd\\anaconda3\\envs\\test\\lib\\site-packages\\sklearn\\linear_model\\_logistic.py:814: ConvergenceWarning: lbfgs failed to converge (status=1):\n",
      "STOP: TOTAL NO. of ITERATIONS REACHED LIMIT.\n",
      "\n",
      "Increase the number of iterations (max_iter) or scale the data as shown in:\n",
      "    https://scikit-learn.org/stable/modules/preprocessing.html\n",
      "Please also refer to the documentation for alternative solver options:\n",
      "    https://scikit-learn.org/stable/modules/linear_model.html#logistic-regression\n",
      "  n_iter_i = _check_optimize_result(\n",
      "C:\\Users\\smhrd\\anaconda3\\envs\\test\\lib\\site-packages\\sklearn\\linear_model\\_logistic.py:814: ConvergenceWarning: lbfgs failed to converge (status=1):\n",
      "STOP: TOTAL NO. of ITERATIONS REACHED LIMIT.\n",
      "\n",
      "Increase the number of iterations (max_iter) or scale the data as shown in:\n",
      "    https://scikit-learn.org/stable/modules/preprocessing.html\n",
      "Please also refer to the documentation for alternative solver options:\n",
      "    https://scikit-learn.org/stable/modules/linear_model.html#logistic-regression\n",
      "  n_iter_i = _check_optimize_result(\n",
      "C:\\Users\\smhrd\\anaconda3\\envs\\test\\lib\\site-packages\\sklearn\\linear_model\\_logistic.py:814: ConvergenceWarning: lbfgs failed to converge (status=1):\n",
      "STOP: TOTAL NO. of ITERATIONS REACHED LIMIT.\n",
      "\n",
      "Increase the number of iterations (max_iter) or scale the data as shown in:\n",
      "    https://scikit-learn.org/stable/modules/preprocessing.html\n",
      "Please also refer to the documentation for alternative solver options:\n",
      "    https://scikit-learn.org/stable/modules/linear_model.html#logistic-regression\n",
      "  n_iter_i = _check_optimize_result(\n",
      "C:\\Users\\smhrd\\anaconda3\\envs\\test\\lib\\site-packages\\sklearn\\linear_model\\_logistic.py:814: ConvergenceWarning: lbfgs failed to converge (status=1):\n",
      "STOP: TOTAL NO. of ITERATIONS REACHED LIMIT.\n",
      "\n",
      "Increase the number of iterations (max_iter) or scale the data as shown in:\n",
      "    https://scikit-learn.org/stable/modules/preprocessing.html\n",
      "Please also refer to the documentation for alternative solver options:\n",
      "    https://scikit-learn.org/stable/modules/linear_model.html#logistic-regression\n",
      "  n_iter_i = _check_optimize_result(\n",
      "C:\\Users\\smhrd\\anaconda3\\envs\\test\\lib\\site-packages\\sklearn\\linear_model\\_logistic.py:814: ConvergenceWarning: lbfgs failed to converge (status=1):\n",
      "STOP: TOTAL NO. of ITERATIONS REACHED LIMIT.\n",
      "\n",
      "Increase the number of iterations (max_iter) or scale the data as shown in:\n",
      "    https://scikit-learn.org/stable/modules/preprocessing.html\n",
      "Please also refer to the documentation for alternative solver options:\n",
      "    https://scikit-learn.org/stable/modules/linear_model.html#logistic-regression\n",
      "  n_iter_i = _check_optimize_result(\n",
      "C:\\Users\\smhrd\\anaconda3\\envs\\test\\lib\\site-packages\\sklearn\\linear_model\\_logistic.py:814: ConvergenceWarning: lbfgs failed to converge (status=1):\n",
      "STOP: TOTAL NO. of ITERATIONS REACHED LIMIT.\n",
      "\n",
      "Increase the number of iterations (max_iter) or scale the data as shown in:\n",
      "    https://scikit-learn.org/stable/modules/preprocessing.html\n",
      "Please also refer to the documentation for alternative solver options:\n",
      "    https://scikit-learn.org/stable/modules/linear_model.html#logistic-regression\n",
      "  n_iter_i = _check_optimize_result(\n",
      "C:\\Users\\smhrd\\anaconda3\\envs\\test\\lib\\site-packages\\sklearn\\linear_model\\_logistic.py:814: ConvergenceWarning: lbfgs failed to converge (status=1):\n",
      "STOP: TOTAL NO. of ITERATIONS REACHED LIMIT.\n",
      "\n",
      "Increase the number of iterations (max_iter) or scale the data as shown in:\n",
      "    https://scikit-learn.org/stable/modules/preprocessing.html\n",
      "Please also refer to the documentation for alternative solver options:\n",
      "    https://scikit-learn.org/stable/modules/linear_model.html#logistic-regression\n",
      "  n_iter_i = _check_optimize_result(\n",
      "C:\\Users\\smhrd\\anaconda3\\envs\\test\\lib\\site-packages\\sklearn\\linear_model\\_logistic.py:814: ConvergenceWarning: lbfgs failed to converge (status=1):\n",
      "STOP: TOTAL NO. of ITERATIONS REACHED LIMIT.\n",
      "\n",
      "Increase the number of iterations (max_iter) or scale the data as shown in:\n",
      "    https://scikit-learn.org/stable/modules/preprocessing.html\n",
      "Please also refer to the documentation for alternative solver options:\n",
      "    https://scikit-learn.org/stable/modules/linear_model.html#logistic-regression\n",
      "  n_iter_i = _check_optimize_result(\n"
     ]
    },
    {
     "name": "stderr",
     "output_type": "stream",
     "text": [
      "C:\\Users\\smhrd\\anaconda3\\envs\\test\\lib\\site-packages\\sklearn\\linear_model\\_logistic.py:814: ConvergenceWarning: lbfgs failed to converge (status=1):\n",
      "STOP: TOTAL NO. of ITERATIONS REACHED LIMIT.\n",
      "\n",
      "Increase the number of iterations (max_iter) or scale the data as shown in:\n",
      "    https://scikit-learn.org/stable/modules/preprocessing.html\n",
      "Please also refer to the documentation for alternative solver options:\n",
      "    https://scikit-learn.org/stable/modules/linear_model.html#logistic-regression\n",
      "  n_iter_i = _check_optimize_result(\n",
      "C:\\Users\\smhrd\\anaconda3\\envs\\test\\lib\\site-packages\\sklearn\\linear_model\\_logistic.py:814: ConvergenceWarning: lbfgs failed to converge (status=1):\n",
      "STOP: TOTAL NO. of ITERATIONS REACHED LIMIT.\n",
      "\n",
      "Increase the number of iterations (max_iter) or scale the data as shown in:\n",
      "    https://scikit-learn.org/stable/modules/preprocessing.html\n",
      "Please also refer to the documentation for alternative solver options:\n",
      "    https://scikit-learn.org/stable/modules/linear_model.html#logistic-regression\n",
      "  n_iter_i = _check_optimize_result(\n",
      "C:\\Users\\smhrd\\anaconda3\\envs\\test\\lib\\site-packages\\sklearn\\linear_model\\_logistic.py:814: ConvergenceWarning: lbfgs failed to converge (status=1):\n",
      "STOP: TOTAL NO. of ITERATIONS REACHED LIMIT.\n",
      "\n",
      "Increase the number of iterations (max_iter) or scale the data as shown in:\n",
      "    https://scikit-learn.org/stable/modules/preprocessing.html\n",
      "Please also refer to the documentation for alternative solver options:\n",
      "    https://scikit-learn.org/stable/modules/linear_model.html#logistic-regression\n",
      "  n_iter_i = _check_optimize_result(\n",
      "C:\\Users\\smhrd\\anaconda3\\envs\\test\\lib\\site-packages\\sklearn\\linear_model\\_logistic.py:814: ConvergenceWarning: lbfgs failed to converge (status=1):\n",
      "STOP: TOTAL NO. of ITERATIONS REACHED LIMIT.\n",
      "\n",
      "Increase the number of iterations (max_iter) or scale the data as shown in:\n",
      "    https://scikit-learn.org/stable/modules/preprocessing.html\n",
      "Please also refer to the documentation for alternative solver options:\n",
      "    https://scikit-learn.org/stable/modules/linear_model.html#logistic-regression\n",
      "  n_iter_i = _check_optimize_result(\n",
      "C:\\Users\\smhrd\\anaconda3\\envs\\test\\lib\\site-packages\\sklearn\\linear_model\\_logistic.py:814: ConvergenceWarning: lbfgs failed to converge (status=1):\n",
      "STOP: TOTAL NO. of ITERATIONS REACHED LIMIT.\n",
      "\n",
      "Increase the number of iterations (max_iter) or scale the data as shown in:\n",
      "    https://scikit-learn.org/stable/modules/preprocessing.html\n",
      "Please also refer to the documentation for alternative solver options:\n",
      "    https://scikit-learn.org/stable/modules/linear_model.html#logistic-regression\n",
      "  n_iter_i = _check_optimize_result(\n",
      "C:\\Users\\smhrd\\anaconda3\\envs\\test\\lib\\site-packages\\sklearn\\linear_model\\_logistic.py:814: ConvergenceWarning: lbfgs failed to converge (status=1):\n",
      "STOP: TOTAL NO. of ITERATIONS REACHED LIMIT.\n",
      "\n",
      "Increase the number of iterations (max_iter) or scale the data as shown in:\n",
      "    https://scikit-learn.org/stable/modules/preprocessing.html\n",
      "Please also refer to the documentation for alternative solver options:\n",
      "    https://scikit-learn.org/stable/modules/linear_model.html#logistic-regression\n",
      "  n_iter_i = _check_optimize_result(\n",
      "C:\\Users\\smhrd\\anaconda3\\envs\\test\\lib\\site-packages\\sklearn\\linear_model\\_logistic.py:814: ConvergenceWarning: lbfgs failed to converge (status=1):\n",
      "STOP: TOTAL NO. of ITERATIONS REACHED LIMIT.\n",
      "\n",
      "Increase the number of iterations (max_iter) or scale the data as shown in:\n",
      "    https://scikit-learn.org/stable/modules/preprocessing.html\n",
      "Please also refer to the documentation for alternative solver options:\n",
      "    https://scikit-learn.org/stable/modules/linear_model.html#logistic-regression\n",
      "  n_iter_i = _check_optimize_result(\n",
      "C:\\Users\\smhrd\\anaconda3\\envs\\test\\lib\\site-packages\\sklearn\\linear_model\\_logistic.py:814: ConvergenceWarning: lbfgs failed to converge (status=1):\n",
      "STOP: TOTAL NO. of ITERATIONS REACHED LIMIT.\n",
      "\n",
      "Increase the number of iterations (max_iter) or scale the data as shown in:\n",
      "    https://scikit-learn.org/stable/modules/preprocessing.html\n",
      "Please also refer to the documentation for alternative solver options:\n",
      "    https://scikit-learn.org/stable/modules/linear_model.html#logistic-regression\n",
      "  n_iter_i = _check_optimize_result(\n",
      "C:\\Users\\smhrd\\anaconda3\\envs\\test\\lib\\site-packages\\sklearn\\linear_model\\_logistic.py:814: ConvergenceWarning: lbfgs failed to converge (status=1):\n",
      "STOP: TOTAL NO. of ITERATIONS REACHED LIMIT.\n",
      "\n",
      "Increase the number of iterations (max_iter) or scale the data as shown in:\n",
      "    https://scikit-learn.org/stable/modules/preprocessing.html\n",
      "Please also refer to the documentation for alternative solver options:\n",
      "    https://scikit-learn.org/stable/modules/linear_model.html#logistic-regression\n",
      "  n_iter_i = _check_optimize_result(\n",
      "C:\\Users\\smhrd\\anaconda3\\envs\\test\\lib\\site-packages\\sklearn\\linear_model\\_logistic.py:814: ConvergenceWarning: lbfgs failed to converge (status=1):\n",
      "STOP: TOTAL NO. of ITERATIONS REACHED LIMIT.\n",
      "\n",
      "Increase the number of iterations (max_iter) or scale the data as shown in:\n",
      "    https://scikit-learn.org/stable/modules/preprocessing.html\n",
      "Please also refer to the documentation for alternative solver options:\n",
      "    https://scikit-learn.org/stable/modules/linear_model.html#logistic-regression\n",
      "  n_iter_i = _check_optimize_result(\n",
      "C:\\Users\\smhrd\\anaconda3\\envs\\test\\lib\\site-packages\\sklearn\\linear_model\\_logistic.py:814: ConvergenceWarning: lbfgs failed to converge (status=1):\n",
      "STOP: TOTAL NO. of ITERATIONS REACHED LIMIT.\n",
      "\n",
      "Increase the number of iterations (max_iter) or scale the data as shown in:\n",
      "    https://scikit-learn.org/stable/modules/preprocessing.html\n",
      "Please also refer to the documentation for alternative solver options:\n",
      "    https://scikit-learn.org/stable/modules/linear_model.html#logistic-regression\n",
      "  n_iter_i = _check_optimize_result(\n",
      "C:\\Users\\smhrd\\anaconda3\\envs\\test\\lib\\site-packages\\sklearn\\linear_model\\_logistic.py:814: ConvergenceWarning: lbfgs failed to converge (status=1):\n",
      "STOP: TOTAL NO. of ITERATIONS REACHED LIMIT.\n",
      "\n",
      "Increase the number of iterations (max_iter) or scale the data as shown in:\n",
      "    https://scikit-learn.org/stable/modules/preprocessing.html\n",
      "Please also refer to the documentation for alternative solver options:\n",
      "    https://scikit-learn.org/stable/modules/linear_model.html#logistic-regression\n",
      "  n_iter_i = _check_optimize_result(\n"
     ]
    }
   ],
   "source": [
    "grid.fit(X_train,y_train)"
   ]
  },
  {
   "cell_type": "code",
   "execution_count": null,
   "id": "91713828",
   "metadata": {},
   "outputs": [],
   "source": [
    "grid.best_params_"
   ]
  },
  {
   "cell_type": "code",
   "execution_count": null,
   "id": "b44f6a3b",
   "metadata": {},
   "outputs": [],
   "source": [
    "grid.best_score"
   ]
  },
  {
   "cell_type": "code",
   "execution_count": null,
   "id": "4c318a77",
   "metadata": {},
   "outputs": [],
   "source": []
  }
 ],
 "metadata": {
  "kernelspec": {
   "display_name": "Python 3 (ipykernel)",
   "language": "python",
   "name": "python3"
  },
  "language_info": {
   "codemirror_mode": {
    "name": "ipython",
    "version": 3
   },
   "file_extension": ".py",
   "mimetype": "text/x-python",
   "name": "python",
   "nbconvert_exporter": "python",
   "pygments_lexer": "ipython3",
   "version": "3.8.12"
  },
  "toc": {
   "base_numbering": 1,
   "nav_menu": {},
   "number_sections": true,
   "sideBar": true,
   "skip_h1_title": false,
   "title_cell": "Table of Contents",
   "title_sidebar": "Contents",
   "toc_cell": false,
   "toc_position": {},
   "toc_section_display": true,
   "toc_window_display": true
  }
 },
 "nbformat": 4,
 "nbformat_minor": 5
}
