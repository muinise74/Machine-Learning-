{
 "cells": [
  {
   "cell_type": "markdown",
   "id": "77e61c3b",
   "metadata": {},
   "source": [
    "## Topic Modeling\n",
    "- 비지도 학습\n",
    "- 하나 또는 여러가지 문서를 토픽으로 할당하는 작업\n",
    "- LDA(Latent Dirlchlet Allocation) 잠재 디리클레 할당"
   ]
  },
  {
   "cell_type": "markdown",
   "id": "8d60ce92",
   "metadata": {},
   "source": [
    "## LDA\n",
    "- 자주 나타나든 단어의 그룹(토픽)을 찾는 것\n",
    "- 주제와는 거리가 멀 수도 있음\n",
    "- 의미가 있는 성분을 찾는 것이기 때문"
   ]
  },
  {
   "cell_type": "code",
   "execution_count": 1,
   "id": "5f54baf1",
   "metadata": {},
   "outputs": [],
   "source": [
    "import pandas as pd, numpy as np"
   ]
  },
  {
   "cell_type": "markdown",
   "id": "b09621ba",
   "metadata": {},
   "source": [
    "### 데이터 받아오기"
   ]
  },
  {
   "cell_type": "code",
   "execution_count": 2,
   "id": "e9f7e1b4",
   "metadata": {},
   "outputs": [],
   "source": [
    "df_train = pd.read_csv('ratings_train.txt',delimiter='\\t')\n",
    "df_test = pd.read_csv('ratings_test.txt',delimiter='\\t')"
   ]
  },
  {
   "cell_type": "markdown",
   "id": "b60213a4",
   "metadata": {},
   "source": [
    "### 결측지 제거"
   ]
  },
  {
   "cell_type": "code",
   "execution_count": 3,
   "id": "1953ef58",
   "metadata": {},
   "outputs": [],
   "source": [
    "df_train.dropna(inplace=True)\n",
    "df_test.dropna(inplace=True)"
   ]
  },
  {
   "cell_type": "code",
   "execution_count": 4,
   "id": "4fe4054a",
   "metadata": {},
   "outputs": [],
   "source": [
    "text_train = df_train['document']"
   ]
  },
  {
   "cell_type": "markdown",
   "id": "cf6db2b0",
   "metadata": {},
   "source": [
    "### 토큰화"
   ]
  },
  {
   "cell_type": "code",
   "execution_count": 5,
   "id": "dc4321d1",
   "metadata": {},
   "outputs": [],
   "source": [
    "from sklearn.feature_extraction.text import CountVectorizer"
   ]
  },
  {
   "cell_type": "code",
   "execution_count": 6,
   "id": "7b88d68f",
   "metadata": {},
   "outputs": [],
   "source": [
    "# max_feqtures : 가장 많이 등장흐는 단어 n개 사용\n",
    "# max_df : n% 이상의 문서에서 등장하는 단어 제거\n",
    "cv = CountVectorizer(max_features=10000, max_df=15)\n",
    "X = cv.fit_transform(text_train)"
   ]
  },
  {
   "cell_type": "code",
   "execution_count": 7,
   "id": "ebb0063f",
   "metadata": {},
   "outputs": [
    {
     "data": {
      "text/plain": [
       "<149995x10000 sparse matrix of type '<class 'numpy.int64'>'\n",
       "\twith 96120 stored elements in Compressed Sparse Row format>"
      ]
     },
     "execution_count": 7,
     "metadata": {},
     "output_type": "execute_result"
    }
   ],
   "source": [
    "# 149995개 문장을 10000개 단어로 표시한 데이터를 벡터화\n",
    "# 10000차원 벡터 149995개\n",
    "X"
   ]
  },
  {
   "cell_type": "markdown",
   "id": "54bc834f",
   "metadata": {},
   "source": [
    "### LDA"
   ]
  },
  {
   "cell_type": "code",
   "execution_count": 8,
   "id": "3dc9e7e8",
   "metadata": {},
   "outputs": [],
   "source": [
    "from sklearn.decomposition import LatentDirichletAllocation"
   ]
  },
  {
   "cell_type": "code",
   "execution_count": 9,
   "id": "f95aefe3",
   "metadata": {},
   "outputs": [],
   "source": [
    "# n_componet : n개의 토픽 그룹 생성\n",
    "# learning_method :  default > online batch > 느리지만 성능 UP\n",
    "lda  = LatentDirichletAllocation(n_components=10,learning_method='batch',max_iter=25,random_state=0)"
   ]
  },
  {
   "cell_type": "code",
   "execution_count": 10,
   "id": "4a196d09",
   "metadata": {},
   "outputs": [],
   "source": [
    "document_topics = lda.fit_transform(X)"
   ]
  },
  {
   "cell_type": "code",
   "execution_count": 11,
   "id": "6d4eec87",
   "metadata": {
    "scrolled": true
   },
   "outputs": [
    {
     "data": {
      "text/plain": [
       "(149995, 10)"
      ]
     },
     "execution_count": 11,
     "metadata": {},
     "output_type": "execute_result"
    }
   ],
   "source": [
    "document_topics.shape"
   ]
  },
  {
   "cell_type": "code",
   "execution_count": 12,
   "id": "a4a55792",
   "metadata": {},
   "outputs": [
    {
     "data": {
      "text/plain": [
       "array([0.1, 0.1, 0.1, 0.1, 0.1, 0.1, 0.1, 0.1, 0.1, 0.1])"
      ]
     },
     "execution_count": 12,
     "metadata": {},
     "output_type": "execute_result"
    }
   ],
   "source": [
    "document_topics[0]"
   ]
  },
  {
   "cell_type": "markdown",
   "id": "6593499d",
   "metadata": {},
   "source": [
    "### 토픽 확인"
   ]
  },
  {
   "cell_type": "code",
   "execution_count": 13,
   "id": "ad00cc96",
   "metadata": {},
   "outputs": [],
   "source": [
    "import mglearn"
   ]
  },
  {
   "cell_type": "code",
   "execution_count": 14,
   "id": "4f6a5681",
   "metadata": {
    "scrolled": true
   },
   "outputs": [
    {
     "name": "stdout",
     "output_type": "stream",
     "text": [
      "topic 0       topic 1       topic 2       topic 3       topic 4       \n",
      "--------      --------      --------      --------      --------      \n",
      "다르고           놀라고           있음을           인피니트          재미짐           \n",
      "이수근           아기            주지훈           쓰렉            행복합니다         \n",
      "한장면           머여            미개한           황정민           장난으로          \n",
      "짜증나요          진부            종교를           이자벨           년이            \n",
      "구혜선           부모가           잠만            자다가           이딴것도          \n",
      "싫다고           위안부           요리            허술            최고야           \n",
      "흘러            진짜재미없다        아내가           어린이들이         좋던데           \n",
      "따른            영화자체도         나두            입을            너무좋고          \n",
      "다봄            가나            잠수함           본거지           이딴영화          \n",
      "1점준것중         여러가지를         둘째            사다코           나와요           \n",
      "\n",
      "\n",
      "topic 5       topic 6       topic 7       topic 8       topic 9       \n",
      "--------      --------      --------      --------      --------      \n",
      "돋는            게이는           케이온           14            겨울왕국          \n",
      "톰크루즈          boring        헛웃음           뻔해            우웩            \n",
      "연예인이          대통령           때로는           장동건           의미로           \n",
      "건가요           기타노           댓글이           막장도           아름답습니다        \n",
      "상업영화          줬어            어른들은          신은경           보는건지          \n",
      "윤시윤           외국인           송강호의          선한            재주            \n",
      "사랑함           we            ㅡ_ㅡ           원한다면          하이킥           \n",
      "끌지            알바들아          어렸을땐          lt            대화가           \n",
      "주고싶은          보고싶어서         ㄴㄴ            잼따            일상적인          \n",
      "영원하라          일본에           배워라           프로젝트          간첩            \n",
      "\n",
      "\n"
     ]
    },
    {
     "name": "stderr",
     "output_type": "stream",
     "text": [
      "C:\\Users\\smhrd\\anaconda3\\envs\\test\\lib\\site-packages\\sklearn\\utils\\deprecation.py:87: FutureWarning: Function get_feature_names is deprecated; get_feature_names is deprecated in 1.0 and will be removed in 1.2. Please use get_feature_names_out instead.\n",
      "  warnings.warn(msg, category=FutureWarning)\n"
     ]
    }
   ],
   "source": [
    "sorting = np.argsort(lda.components_, axis = 1)[:, ::-1]\n",
    "feature_names = np.array(cv.get_feature_names())\n",
    "mglearn.tools.print_topics(topics=range(10), feature_names = feature_names, \n",
    "                           sorting = sorting, topics_per_chunk = 5, n_words = 10)"
   ]
  }
 ],
 "metadata": {
  "kernelspec": {
   "display_name": "Python 3 (ipykernel)",
   "language": "python",
   "name": "python3"
  },
  "language_info": {
   "codemirror_mode": {
    "name": "ipython",
    "version": 3
   },
   "file_extension": ".py",
   "mimetype": "text/x-python",
   "name": "python",
   "nbconvert_exporter": "python",
   "pygments_lexer": "ipython3",
   "version": "3.8.12"
  },
  "toc": {
   "base_numbering": 1,
   "nav_menu": {},
   "number_sections": true,
   "sideBar": true,
   "skip_h1_title": false,
   "title_cell": "Table of Contents",
   "title_sidebar": "Contents",
   "toc_cell": false,
   "toc_position": {
    "height": "calc(100% - 180px)",
    "left": "10px",
    "top": "150px",
    "width": "209.323px"
   },
   "toc_section_display": true,
   "toc_window_display": true
  }
 },
 "nbformat": 4,
 "nbformat_minor": 5
}
