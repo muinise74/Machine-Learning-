{
 "cells": [
  {
   "cell_type": "markdown",
   "id": "aeeac3a2",
   "metadata": {},
   "source": [
    "## 문제정의\n",
    "- Kaggle titanic"
   ]
  },
  {
   "cell_type": "markdown",
   "id": "addd8b09",
   "metadata": {},
   "source": [
    "## 데이터 수집"
   ]
  },
  {
   "cell_type": "code",
   "execution_count": 1,
   "id": "b41de79e",
   "metadata": {
    "scrolled": true
   },
   "outputs": [
    {
     "data": {
      "text/html": [
       "<div>\n",
       "<style scoped>\n",
       "    .dataframe tbody tr th:only-of-type {\n",
       "        vertical-align: middle;\n",
       "    }\n",
       "\n",
       "    .dataframe tbody tr th {\n",
       "        vertical-align: top;\n",
       "    }\n",
       "\n",
       "    .dataframe thead th {\n",
       "        text-align: right;\n",
       "    }\n",
       "</style>\n",
       "<table border=\"1\" class=\"dataframe\">\n",
       "  <thead>\n",
       "    <tr style=\"text-align: right;\">\n",
       "      <th></th>\n",
       "      <th>Survived</th>\n",
       "      <th>Pclass</th>\n",
       "      <th>Name</th>\n",
       "      <th>Sex</th>\n",
       "      <th>Age</th>\n",
       "      <th>SibSp</th>\n",
       "      <th>Parch</th>\n",
       "      <th>Ticket</th>\n",
       "      <th>Fare</th>\n",
       "      <th>Cabin</th>\n",
       "      <th>Embarked</th>\n",
       "    </tr>\n",
       "    <tr>\n",
       "      <th>PassengerId</th>\n",
       "      <th></th>\n",
       "      <th></th>\n",
       "      <th></th>\n",
       "      <th></th>\n",
       "      <th></th>\n",
       "      <th></th>\n",
       "      <th></th>\n",
       "      <th></th>\n",
       "      <th></th>\n",
       "      <th></th>\n",
       "      <th></th>\n",
       "    </tr>\n",
       "  </thead>\n",
       "  <tbody>\n",
       "    <tr>\n",
       "      <th>1</th>\n",
       "      <td>0</td>\n",
       "      <td>3</td>\n",
       "      <td>Braund, Mr. Owen Harris</td>\n",
       "      <td>male</td>\n",
       "      <td>22.0</td>\n",
       "      <td>1</td>\n",
       "      <td>0</td>\n",
       "      <td>A/5 21171</td>\n",
       "      <td>7.2500</td>\n",
       "      <td>NaN</td>\n",
       "      <td>S</td>\n",
       "    </tr>\n",
       "    <tr>\n",
       "      <th>2</th>\n",
       "      <td>1</td>\n",
       "      <td>1</td>\n",
       "      <td>Cumings, Mrs. John Bradley (Florence Briggs Th...</td>\n",
       "      <td>female</td>\n",
       "      <td>38.0</td>\n",
       "      <td>1</td>\n",
       "      <td>0</td>\n",
       "      <td>PC 17599</td>\n",
       "      <td>71.2833</td>\n",
       "      <td>C85</td>\n",
       "      <td>C</td>\n",
       "    </tr>\n",
       "    <tr>\n",
       "      <th>3</th>\n",
       "      <td>1</td>\n",
       "      <td>3</td>\n",
       "      <td>Heikkinen, Miss. Laina</td>\n",
       "      <td>female</td>\n",
       "      <td>26.0</td>\n",
       "      <td>0</td>\n",
       "      <td>0</td>\n",
       "      <td>STON/O2. 3101282</td>\n",
       "      <td>7.9250</td>\n",
       "      <td>NaN</td>\n",
       "      <td>S</td>\n",
       "    </tr>\n",
       "    <tr>\n",
       "      <th>4</th>\n",
       "      <td>1</td>\n",
       "      <td>1</td>\n",
       "      <td>Futrelle, Mrs. Jacques Heath (Lily May Peel)</td>\n",
       "      <td>female</td>\n",
       "      <td>35.0</td>\n",
       "      <td>1</td>\n",
       "      <td>0</td>\n",
       "      <td>113803</td>\n",
       "      <td>53.1000</td>\n",
       "      <td>C123</td>\n",
       "      <td>S</td>\n",
       "    </tr>\n",
       "    <tr>\n",
       "      <th>5</th>\n",
       "      <td>0</td>\n",
       "      <td>3</td>\n",
       "      <td>Allen, Mr. William Henry</td>\n",
       "      <td>male</td>\n",
       "      <td>35.0</td>\n",
       "      <td>0</td>\n",
       "      <td>0</td>\n",
       "      <td>373450</td>\n",
       "      <td>8.0500</td>\n",
       "      <td>NaN</td>\n",
       "      <td>S</td>\n",
       "    </tr>\n",
       "    <tr>\n",
       "      <th>...</th>\n",
       "      <td>...</td>\n",
       "      <td>...</td>\n",
       "      <td>...</td>\n",
       "      <td>...</td>\n",
       "      <td>...</td>\n",
       "      <td>...</td>\n",
       "      <td>...</td>\n",
       "      <td>...</td>\n",
       "      <td>...</td>\n",
       "      <td>...</td>\n",
       "      <td>...</td>\n",
       "    </tr>\n",
       "    <tr>\n",
       "      <th>887</th>\n",
       "      <td>0</td>\n",
       "      <td>2</td>\n",
       "      <td>Montvila, Rev. Juozas</td>\n",
       "      <td>male</td>\n",
       "      <td>27.0</td>\n",
       "      <td>0</td>\n",
       "      <td>0</td>\n",
       "      <td>211536</td>\n",
       "      <td>13.0000</td>\n",
       "      <td>NaN</td>\n",
       "      <td>S</td>\n",
       "    </tr>\n",
       "    <tr>\n",
       "      <th>888</th>\n",
       "      <td>1</td>\n",
       "      <td>1</td>\n",
       "      <td>Graham, Miss. Margaret Edith</td>\n",
       "      <td>female</td>\n",
       "      <td>19.0</td>\n",
       "      <td>0</td>\n",
       "      <td>0</td>\n",
       "      <td>112053</td>\n",
       "      <td>30.0000</td>\n",
       "      <td>B42</td>\n",
       "      <td>S</td>\n",
       "    </tr>\n",
       "    <tr>\n",
       "      <th>889</th>\n",
       "      <td>0</td>\n",
       "      <td>3</td>\n",
       "      <td>Johnston, Miss. Catherine Helen \"Carrie\"</td>\n",
       "      <td>female</td>\n",
       "      <td>NaN</td>\n",
       "      <td>1</td>\n",
       "      <td>2</td>\n",
       "      <td>W./C. 6607</td>\n",
       "      <td>23.4500</td>\n",
       "      <td>NaN</td>\n",
       "      <td>S</td>\n",
       "    </tr>\n",
       "    <tr>\n",
       "      <th>890</th>\n",
       "      <td>1</td>\n",
       "      <td>1</td>\n",
       "      <td>Behr, Mr. Karl Howell</td>\n",
       "      <td>male</td>\n",
       "      <td>26.0</td>\n",
       "      <td>0</td>\n",
       "      <td>0</td>\n",
       "      <td>111369</td>\n",
       "      <td>30.0000</td>\n",
       "      <td>C148</td>\n",
       "      <td>C</td>\n",
       "    </tr>\n",
       "    <tr>\n",
       "      <th>891</th>\n",
       "      <td>0</td>\n",
       "      <td>3</td>\n",
       "      <td>Dooley, Mr. Patrick</td>\n",
       "      <td>male</td>\n",
       "      <td>32.0</td>\n",
       "      <td>0</td>\n",
       "      <td>0</td>\n",
       "      <td>370376</td>\n",
       "      <td>7.7500</td>\n",
       "      <td>NaN</td>\n",
       "      <td>Q</td>\n",
       "    </tr>\n",
       "  </tbody>\n",
       "</table>\n",
       "<p>891 rows × 11 columns</p>\n",
       "</div>"
      ],
      "text/plain": [
       "             Survived  Pclass  \\\n",
       "PassengerId                     \n",
       "1                   0       3   \n",
       "2                   1       1   \n",
       "3                   1       3   \n",
       "4                   1       1   \n",
       "5                   0       3   \n",
       "...               ...     ...   \n",
       "887                 0       2   \n",
       "888                 1       1   \n",
       "889                 0       3   \n",
       "890                 1       1   \n",
       "891                 0       3   \n",
       "\n",
       "                                                          Name     Sex   Age  \\\n",
       "PassengerId                                                                    \n",
       "1                                      Braund, Mr. Owen Harris    male  22.0   \n",
       "2            Cumings, Mrs. John Bradley (Florence Briggs Th...  female  38.0   \n",
       "3                                       Heikkinen, Miss. Laina  female  26.0   \n",
       "4                 Futrelle, Mrs. Jacques Heath (Lily May Peel)  female  35.0   \n",
       "5                                     Allen, Mr. William Henry    male  35.0   \n",
       "...                                                        ...     ...   ...   \n",
       "887                                      Montvila, Rev. Juozas    male  27.0   \n",
       "888                               Graham, Miss. Margaret Edith  female  19.0   \n",
       "889                   Johnston, Miss. Catherine Helen \"Carrie\"  female   NaN   \n",
       "890                                      Behr, Mr. Karl Howell    male  26.0   \n",
       "891                                        Dooley, Mr. Patrick    male  32.0   \n",
       "\n",
       "             SibSp  Parch            Ticket     Fare Cabin Embarked  \n",
       "PassengerId                                                          \n",
       "1                1      0         A/5 21171   7.2500   NaN        S  \n",
       "2                1      0          PC 17599  71.2833   C85        C  \n",
       "3                0      0  STON/O2. 3101282   7.9250   NaN        S  \n",
       "4                1      0            113803  53.1000  C123        S  \n",
       "5                0      0            373450   8.0500   NaN        S  \n",
       "...            ...    ...               ...      ...   ...      ...  \n",
       "887              0      0            211536  13.0000   NaN        S  \n",
       "888              0      0            112053  30.0000   B42        S  \n",
       "889              1      2        W./C. 6607  23.4500   NaN        S  \n",
       "890              0      0            111369  30.0000  C148        C  \n",
       "891              0      0            370376   7.7500   NaN        Q  \n",
       "\n",
       "[891 rows x 11 columns]"
      ]
     },
     "execution_count": 1,
     "metadata": {},
     "output_type": "execute_result"
    }
   ],
   "source": [
    "import pandas as pd\n",
    "titanic = pd.read_csv(\"./data/titanic/train.csv\",index_col='PassengerId')\n",
    "titanic"
   ]
  },
  {
   "cell_type": "markdown",
   "id": "92c7b853",
   "metadata": {},
   "source": [
    "## 데이터 전처리"
   ]
  },
  {
   "cell_type": "markdown",
   "id": "8dce0b44",
   "metadata": {},
   "source": [
    "### 문자형 데이터를 정수형으로 변환"
   ]
  },
  {
   "cell_type": "code",
   "execution_count": 2,
   "id": "b34cbf7f",
   "metadata": {},
   "outputs": [
    {
     "data": {
      "text/html": [
       "<div>\n",
       "<style scoped>\n",
       "    .dataframe tbody tr th:only-of-type {\n",
       "        vertical-align: middle;\n",
       "    }\n",
       "\n",
       "    .dataframe tbody tr th {\n",
       "        vertical-align: top;\n",
       "    }\n",
       "\n",
       "    .dataframe thead th {\n",
       "        text-align: right;\n",
       "    }\n",
       "</style>\n",
       "<table border=\"1\" class=\"dataframe\">\n",
       "  <thead>\n",
       "    <tr style=\"text-align: right;\">\n",
       "      <th></th>\n",
       "      <th>Survived</th>\n",
       "      <th>Pclass</th>\n",
       "      <th>Name</th>\n",
       "      <th>Sex</th>\n",
       "      <th>Age</th>\n",
       "      <th>SibSp</th>\n",
       "      <th>Parch</th>\n",
       "      <th>Ticket</th>\n",
       "      <th>Fare</th>\n",
       "      <th>Cabin</th>\n",
       "      <th>Embarked</th>\n",
       "    </tr>\n",
       "    <tr>\n",
       "      <th>PassengerId</th>\n",
       "      <th></th>\n",
       "      <th></th>\n",
       "      <th></th>\n",
       "      <th></th>\n",
       "      <th></th>\n",
       "      <th></th>\n",
       "      <th></th>\n",
       "      <th></th>\n",
       "      <th></th>\n",
       "      <th></th>\n",
       "      <th></th>\n",
       "    </tr>\n",
       "  </thead>\n",
       "  <tbody>\n",
       "    <tr>\n",
       "      <th>1</th>\n",
       "      <td>0</td>\n",
       "      <td>3</td>\n",
       "      <td>Braund, Mr. Owen Harris</td>\n",
       "      <td>1</td>\n",
       "      <td>22.0</td>\n",
       "      <td>1</td>\n",
       "      <td>0</td>\n",
       "      <td>A/5 21171</td>\n",
       "      <td>7.2500</td>\n",
       "      <td>NaN</td>\n",
       "      <td>1.0</td>\n",
       "    </tr>\n",
       "    <tr>\n",
       "      <th>2</th>\n",
       "      <td>1</td>\n",
       "      <td>1</td>\n",
       "      <td>Cumings, Mrs. John Bradley (Florence Briggs Th...</td>\n",
       "      <td>2</td>\n",
       "      <td>38.0</td>\n",
       "      <td>1</td>\n",
       "      <td>0</td>\n",
       "      <td>PC 17599</td>\n",
       "      <td>71.2833</td>\n",
       "      <td>C85</td>\n",
       "      <td>2.0</td>\n",
       "    </tr>\n",
       "    <tr>\n",
       "      <th>3</th>\n",
       "      <td>1</td>\n",
       "      <td>3</td>\n",
       "      <td>Heikkinen, Miss. Laina</td>\n",
       "      <td>2</td>\n",
       "      <td>26.0</td>\n",
       "      <td>0</td>\n",
       "      <td>0</td>\n",
       "      <td>STON/O2. 3101282</td>\n",
       "      <td>7.9250</td>\n",
       "      <td>NaN</td>\n",
       "      <td>1.0</td>\n",
       "    </tr>\n",
       "    <tr>\n",
       "      <th>4</th>\n",
       "      <td>1</td>\n",
       "      <td>1</td>\n",
       "      <td>Futrelle, Mrs. Jacques Heath (Lily May Peel)</td>\n",
       "      <td>2</td>\n",
       "      <td>35.0</td>\n",
       "      <td>1</td>\n",
       "      <td>0</td>\n",
       "      <td>113803</td>\n",
       "      <td>53.1000</td>\n",
       "      <td>C123</td>\n",
       "      <td>1.0</td>\n",
       "    </tr>\n",
       "    <tr>\n",
       "      <th>5</th>\n",
       "      <td>0</td>\n",
       "      <td>3</td>\n",
       "      <td>Allen, Mr. William Henry</td>\n",
       "      <td>1</td>\n",
       "      <td>35.0</td>\n",
       "      <td>0</td>\n",
       "      <td>0</td>\n",
       "      <td>373450</td>\n",
       "      <td>8.0500</td>\n",
       "      <td>NaN</td>\n",
       "      <td>1.0</td>\n",
       "    </tr>\n",
       "    <tr>\n",
       "      <th>...</th>\n",
       "      <td>...</td>\n",
       "      <td>...</td>\n",
       "      <td>...</td>\n",
       "      <td>...</td>\n",
       "      <td>...</td>\n",
       "      <td>...</td>\n",
       "      <td>...</td>\n",
       "      <td>...</td>\n",
       "      <td>...</td>\n",
       "      <td>...</td>\n",
       "      <td>...</td>\n",
       "    </tr>\n",
       "    <tr>\n",
       "      <th>887</th>\n",
       "      <td>0</td>\n",
       "      <td>2</td>\n",
       "      <td>Montvila, Rev. Juozas</td>\n",
       "      <td>1</td>\n",
       "      <td>27.0</td>\n",
       "      <td>0</td>\n",
       "      <td>0</td>\n",
       "      <td>211536</td>\n",
       "      <td>13.0000</td>\n",
       "      <td>NaN</td>\n",
       "      <td>1.0</td>\n",
       "    </tr>\n",
       "    <tr>\n",
       "      <th>888</th>\n",
       "      <td>1</td>\n",
       "      <td>1</td>\n",
       "      <td>Graham, Miss. Margaret Edith</td>\n",
       "      <td>2</td>\n",
       "      <td>19.0</td>\n",
       "      <td>0</td>\n",
       "      <td>0</td>\n",
       "      <td>112053</td>\n",
       "      <td>30.0000</td>\n",
       "      <td>B42</td>\n",
       "      <td>1.0</td>\n",
       "    </tr>\n",
       "    <tr>\n",
       "      <th>889</th>\n",
       "      <td>0</td>\n",
       "      <td>3</td>\n",
       "      <td>Johnston, Miss. Catherine Helen \"Carrie\"</td>\n",
       "      <td>2</td>\n",
       "      <td>NaN</td>\n",
       "      <td>1</td>\n",
       "      <td>2</td>\n",
       "      <td>W./C. 6607</td>\n",
       "      <td>23.4500</td>\n",
       "      <td>NaN</td>\n",
       "      <td>1.0</td>\n",
       "    </tr>\n",
       "    <tr>\n",
       "      <th>890</th>\n",
       "      <td>1</td>\n",
       "      <td>1</td>\n",
       "      <td>Behr, Mr. Karl Howell</td>\n",
       "      <td>1</td>\n",
       "      <td>26.0</td>\n",
       "      <td>0</td>\n",
       "      <td>0</td>\n",
       "      <td>111369</td>\n",
       "      <td>30.0000</td>\n",
       "      <td>C148</td>\n",
       "      <td>2.0</td>\n",
       "    </tr>\n",
       "    <tr>\n",
       "      <th>891</th>\n",
       "      <td>0</td>\n",
       "      <td>3</td>\n",
       "      <td>Dooley, Mr. Patrick</td>\n",
       "      <td>1</td>\n",
       "      <td>32.0</td>\n",
       "      <td>0</td>\n",
       "      <td>0</td>\n",
       "      <td>370376</td>\n",
       "      <td>7.7500</td>\n",
       "      <td>NaN</td>\n",
       "      <td>3.0</td>\n",
       "    </tr>\n",
       "  </tbody>\n",
       "</table>\n",
       "<p>891 rows × 11 columns</p>\n",
       "</div>"
      ],
      "text/plain": [
       "             Survived  Pclass  \\\n",
       "PassengerId                     \n",
       "1                   0       3   \n",
       "2                   1       1   \n",
       "3                   1       3   \n",
       "4                   1       1   \n",
       "5                   0       3   \n",
       "...               ...     ...   \n",
       "887                 0       2   \n",
       "888                 1       1   \n",
       "889                 0       3   \n",
       "890                 1       1   \n",
       "891                 0       3   \n",
       "\n",
       "                                                          Name  Sex   Age  \\\n",
       "PassengerId                                                                 \n",
       "1                                      Braund, Mr. Owen Harris    1  22.0   \n",
       "2            Cumings, Mrs. John Bradley (Florence Briggs Th...    2  38.0   \n",
       "3                                       Heikkinen, Miss. Laina    2  26.0   \n",
       "4                 Futrelle, Mrs. Jacques Heath (Lily May Peel)    2  35.0   \n",
       "5                                     Allen, Mr. William Henry    1  35.0   \n",
       "...                                                        ...  ...   ...   \n",
       "887                                      Montvila, Rev. Juozas    1  27.0   \n",
       "888                               Graham, Miss. Margaret Edith    2  19.0   \n",
       "889                   Johnston, Miss. Catherine Helen \"Carrie\"    2   NaN   \n",
       "890                                      Behr, Mr. Karl Howell    1  26.0   \n",
       "891                                        Dooley, Mr. Patrick    1  32.0   \n",
       "\n",
       "             SibSp  Parch            Ticket     Fare Cabin  Embarked  \n",
       "PassengerId                                                           \n",
       "1                1      0         A/5 21171   7.2500   NaN       1.0  \n",
       "2                1      0          PC 17599  71.2833   C85       2.0  \n",
       "3                0      0  STON/O2. 3101282   7.9250   NaN       1.0  \n",
       "4                1      0            113803  53.1000  C123       1.0  \n",
       "5                0      0            373450   8.0500   NaN       1.0  \n",
       "...            ...    ...               ...      ...   ...       ...  \n",
       "887              0      0            211536  13.0000   NaN       1.0  \n",
       "888              0      0            112053  30.0000   B42       1.0  \n",
       "889              1      2        W./C. 6607  23.4500   NaN       1.0  \n",
       "890              0      0            111369  30.0000  C148       2.0  \n",
       "891              0      0            370376   7.7500   NaN       3.0  \n",
       "\n",
       "[891 rows x 11 columns]"
      ]
     },
     "execution_count": 2,
     "metadata": {},
     "output_type": "execute_result"
    }
   ],
   "source": [
    "titanic['Embarked'] = titanic['Embarked'].map({'S':1,'C':2,'Q':3})\n",
    "titanic['Sex'] = titanic['Sex'].map({'male':1,'female':2})\n",
    "titanic"
   ]
  },
  {
   "cell_type": "code",
   "execution_count": 3,
   "id": "91e5aa7b",
   "metadata": {},
   "outputs": [
    {
     "name": "stderr",
     "output_type": "stream",
     "text": [
      "C:\\Users\\smhrd\\anaconda3\\lib\\site-packages\\pandas\\core\\indexing.py:1732: SettingWithCopyWarning: \n",
      "A value is trying to be set on a copy of a slice from a DataFrame\n",
      "\n",
      "See the caveats in the documentation: https://pandas.pydata.org/pandas-docs/stable/user_guide/indexing.html#returning-a-view-versus-a-copy\n",
      "  self._setitem_single_block(indexer, value, name)\n"
     ]
    }
   ],
   "source": [
    "for i in range(891):\n",
    "    if (pd.notnull(titanic['Cabin'].iloc[i])):\n",
    "        titanic['Cabin'].iloc[i] = titanic['Cabin'].iloc[i][0]"
   ]
  },
  {
   "cell_type": "code",
   "execution_count": 4,
   "id": "cbc89c30",
   "metadata": {},
   "outputs": [
    {
     "data": {
      "text/plain": [
       "C    59\n",
       "B    47\n",
       "D    33\n",
       "E    32\n",
       "A    15\n",
       "F    13\n",
       "G     4\n",
       "T     1\n",
       "Name: Cabin, dtype: int64"
      ]
     },
     "execution_count": 4,
     "metadata": {},
     "output_type": "execute_result"
    }
   ],
   "source": [
    "titanic['Cabin'][pd.notnull(titanic['Cabin'])].value_counts()"
   ]
  },
  {
   "cell_type": "code",
   "execution_count": 5,
   "id": "d04b9d45",
   "metadata": {},
   "outputs": [],
   "source": [
    "titanic['Cabin'] = titanic['Cabin'].map({'A':1,'B':1,'C':1,'D':1,'E':1,'F':1,'G':1,'T':1})"
   ]
  },
  {
   "cell_type": "code",
   "execution_count": 6,
   "id": "7fca7e59",
   "metadata": {},
   "outputs": [
    {
     "data": {
      "text/html": [
       "<div>\n",
       "<style scoped>\n",
       "    .dataframe tbody tr th:only-of-type {\n",
       "        vertical-align: middle;\n",
       "    }\n",
       "\n",
       "    .dataframe tbody tr th {\n",
       "        vertical-align: top;\n",
       "    }\n",
       "\n",
       "    .dataframe thead th {\n",
       "        text-align: right;\n",
       "    }\n",
       "</style>\n",
       "<table border=\"1\" class=\"dataframe\">\n",
       "  <thead>\n",
       "    <tr style=\"text-align: right;\">\n",
       "      <th></th>\n",
       "      <th>Survived</th>\n",
       "      <th>Pclass</th>\n",
       "      <th>Name</th>\n",
       "      <th>Sex</th>\n",
       "      <th>Age</th>\n",
       "      <th>SibSp</th>\n",
       "      <th>Parch</th>\n",
       "      <th>Ticket</th>\n",
       "      <th>Fare</th>\n",
       "      <th>Cabin</th>\n",
       "      <th>Embarked</th>\n",
       "    </tr>\n",
       "    <tr>\n",
       "      <th>PassengerId</th>\n",
       "      <th></th>\n",
       "      <th></th>\n",
       "      <th></th>\n",
       "      <th></th>\n",
       "      <th></th>\n",
       "      <th></th>\n",
       "      <th></th>\n",
       "      <th></th>\n",
       "      <th></th>\n",
       "      <th></th>\n",
       "      <th></th>\n",
       "    </tr>\n",
       "  </thead>\n",
       "  <tbody>\n",
       "    <tr>\n",
       "      <th>1</th>\n",
       "      <td>0</td>\n",
       "      <td>3</td>\n",
       "      <td>Braund, Mr. Owen Harris</td>\n",
       "      <td>1</td>\n",
       "      <td>22.0</td>\n",
       "      <td>1</td>\n",
       "      <td>0</td>\n",
       "      <td>A/5 21171</td>\n",
       "      <td>7.2500</td>\n",
       "      <td>NaN</td>\n",
       "      <td>1.0</td>\n",
       "    </tr>\n",
       "    <tr>\n",
       "      <th>2</th>\n",
       "      <td>1</td>\n",
       "      <td>1</td>\n",
       "      <td>Cumings, Mrs. John Bradley (Florence Briggs Th...</td>\n",
       "      <td>2</td>\n",
       "      <td>38.0</td>\n",
       "      <td>1</td>\n",
       "      <td>0</td>\n",
       "      <td>PC 17599</td>\n",
       "      <td>71.2833</td>\n",
       "      <td>1.0</td>\n",
       "      <td>2.0</td>\n",
       "    </tr>\n",
       "    <tr>\n",
       "      <th>3</th>\n",
       "      <td>1</td>\n",
       "      <td>3</td>\n",
       "      <td>Heikkinen, Miss. Laina</td>\n",
       "      <td>2</td>\n",
       "      <td>26.0</td>\n",
       "      <td>0</td>\n",
       "      <td>0</td>\n",
       "      <td>STON/O2. 3101282</td>\n",
       "      <td>7.9250</td>\n",
       "      <td>NaN</td>\n",
       "      <td>1.0</td>\n",
       "    </tr>\n",
       "    <tr>\n",
       "      <th>4</th>\n",
       "      <td>1</td>\n",
       "      <td>1</td>\n",
       "      <td>Futrelle, Mrs. Jacques Heath (Lily May Peel)</td>\n",
       "      <td>2</td>\n",
       "      <td>35.0</td>\n",
       "      <td>1</td>\n",
       "      <td>0</td>\n",
       "      <td>113803</td>\n",
       "      <td>53.1000</td>\n",
       "      <td>1.0</td>\n",
       "      <td>1.0</td>\n",
       "    </tr>\n",
       "    <tr>\n",
       "      <th>5</th>\n",
       "      <td>0</td>\n",
       "      <td>3</td>\n",
       "      <td>Allen, Mr. William Henry</td>\n",
       "      <td>1</td>\n",
       "      <td>35.0</td>\n",
       "      <td>0</td>\n",
       "      <td>0</td>\n",
       "      <td>373450</td>\n",
       "      <td>8.0500</td>\n",
       "      <td>NaN</td>\n",
       "      <td>1.0</td>\n",
       "    </tr>\n",
       "    <tr>\n",
       "      <th>...</th>\n",
       "      <td>...</td>\n",
       "      <td>...</td>\n",
       "      <td>...</td>\n",
       "      <td>...</td>\n",
       "      <td>...</td>\n",
       "      <td>...</td>\n",
       "      <td>...</td>\n",
       "      <td>...</td>\n",
       "      <td>...</td>\n",
       "      <td>...</td>\n",
       "      <td>...</td>\n",
       "    </tr>\n",
       "    <tr>\n",
       "      <th>887</th>\n",
       "      <td>0</td>\n",
       "      <td>2</td>\n",
       "      <td>Montvila, Rev. Juozas</td>\n",
       "      <td>1</td>\n",
       "      <td>27.0</td>\n",
       "      <td>0</td>\n",
       "      <td>0</td>\n",
       "      <td>211536</td>\n",
       "      <td>13.0000</td>\n",
       "      <td>NaN</td>\n",
       "      <td>1.0</td>\n",
       "    </tr>\n",
       "    <tr>\n",
       "      <th>888</th>\n",
       "      <td>1</td>\n",
       "      <td>1</td>\n",
       "      <td>Graham, Miss. Margaret Edith</td>\n",
       "      <td>2</td>\n",
       "      <td>19.0</td>\n",
       "      <td>0</td>\n",
       "      <td>0</td>\n",
       "      <td>112053</td>\n",
       "      <td>30.0000</td>\n",
       "      <td>1.0</td>\n",
       "      <td>1.0</td>\n",
       "    </tr>\n",
       "    <tr>\n",
       "      <th>889</th>\n",
       "      <td>0</td>\n",
       "      <td>3</td>\n",
       "      <td>Johnston, Miss. Catherine Helen \"Carrie\"</td>\n",
       "      <td>2</td>\n",
       "      <td>NaN</td>\n",
       "      <td>1</td>\n",
       "      <td>2</td>\n",
       "      <td>W./C. 6607</td>\n",
       "      <td>23.4500</td>\n",
       "      <td>NaN</td>\n",
       "      <td>1.0</td>\n",
       "    </tr>\n",
       "    <tr>\n",
       "      <th>890</th>\n",
       "      <td>1</td>\n",
       "      <td>1</td>\n",
       "      <td>Behr, Mr. Karl Howell</td>\n",
       "      <td>1</td>\n",
       "      <td>26.0</td>\n",
       "      <td>0</td>\n",
       "      <td>0</td>\n",
       "      <td>111369</td>\n",
       "      <td>30.0000</td>\n",
       "      <td>1.0</td>\n",
       "      <td>2.0</td>\n",
       "    </tr>\n",
       "    <tr>\n",
       "      <th>891</th>\n",
       "      <td>0</td>\n",
       "      <td>3</td>\n",
       "      <td>Dooley, Mr. Patrick</td>\n",
       "      <td>1</td>\n",
       "      <td>32.0</td>\n",
       "      <td>0</td>\n",
       "      <td>0</td>\n",
       "      <td>370376</td>\n",
       "      <td>7.7500</td>\n",
       "      <td>NaN</td>\n",
       "      <td>3.0</td>\n",
       "    </tr>\n",
       "  </tbody>\n",
       "</table>\n",
       "<p>891 rows × 11 columns</p>\n",
       "</div>"
      ],
      "text/plain": [
       "             Survived  Pclass  \\\n",
       "PassengerId                     \n",
       "1                   0       3   \n",
       "2                   1       1   \n",
       "3                   1       3   \n",
       "4                   1       1   \n",
       "5                   0       3   \n",
       "...               ...     ...   \n",
       "887                 0       2   \n",
       "888                 1       1   \n",
       "889                 0       3   \n",
       "890                 1       1   \n",
       "891                 0       3   \n",
       "\n",
       "                                                          Name  Sex   Age  \\\n",
       "PassengerId                                                                 \n",
       "1                                      Braund, Mr. Owen Harris    1  22.0   \n",
       "2            Cumings, Mrs. John Bradley (Florence Briggs Th...    2  38.0   \n",
       "3                                       Heikkinen, Miss. Laina    2  26.0   \n",
       "4                 Futrelle, Mrs. Jacques Heath (Lily May Peel)    2  35.0   \n",
       "5                                     Allen, Mr. William Henry    1  35.0   \n",
       "...                                                        ...  ...   ...   \n",
       "887                                      Montvila, Rev. Juozas    1  27.0   \n",
       "888                               Graham, Miss. Margaret Edith    2  19.0   \n",
       "889                   Johnston, Miss. Catherine Helen \"Carrie\"    2   NaN   \n",
       "890                                      Behr, Mr. Karl Howell    1  26.0   \n",
       "891                                        Dooley, Mr. Patrick    1  32.0   \n",
       "\n",
       "             SibSp  Parch            Ticket     Fare  Cabin  Embarked  \n",
       "PassengerId                                                            \n",
       "1                1      0         A/5 21171   7.2500    NaN       1.0  \n",
       "2                1      0          PC 17599  71.2833    1.0       2.0  \n",
       "3                0      0  STON/O2. 3101282   7.9250    NaN       1.0  \n",
       "4                1      0            113803  53.1000    1.0       1.0  \n",
       "5                0      0            373450   8.0500    NaN       1.0  \n",
       "...            ...    ...               ...      ...    ...       ...  \n",
       "887              0      0            211536  13.0000    NaN       1.0  \n",
       "888              0      0            112053  30.0000    1.0       1.0  \n",
       "889              1      2        W./C. 6607  23.4500    NaN       1.0  \n",
       "890              0      0            111369  30.0000    1.0       2.0  \n",
       "891              0      0            370376   7.7500    NaN       3.0  \n",
       "\n",
       "[891 rows x 11 columns]"
      ]
     },
     "execution_count": 6,
     "metadata": {},
     "output_type": "execute_result"
    }
   ],
   "source": [
    "titanic"
   ]
  },
  {
   "cell_type": "markdown",
   "id": "644d004a",
   "metadata": {},
   "source": [
    "### 불필요한 컬럼 제거"
   ]
  },
  {
   "cell_type": "code",
   "execution_count": 7,
   "id": "fe975e97",
   "metadata": {},
   "outputs": [],
   "source": [
    "del titanic['Name']\n",
    "del titanic['Ticket']"
   ]
  },
  {
   "cell_type": "markdown",
   "id": "569b8ab1",
   "metadata": {},
   "source": [
    "### 결측지 확인"
   ]
  },
  {
   "cell_type": "code",
   "execution_count": 8,
   "id": "ca455f5c",
   "metadata": {},
   "outputs": [
    {
     "name": "stdout",
     "output_type": "stream",
     "text": [
      "<class 'pandas.core.frame.DataFrame'>\n",
      "Int64Index: 891 entries, 1 to 891\n",
      "Data columns (total 9 columns):\n",
      " #   Column    Non-Null Count  Dtype  \n",
      "---  ------    --------------  -----  \n",
      " 0   Survived  891 non-null    int64  \n",
      " 1   Pclass    891 non-null    int64  \n",
      " 2   Sex       891 non-null    int64  \n",
      " 3   Age       714 non-null    float64\n",
      " 4   SibSp     891 non-null    int64  \n",
      " 5   Parch     891 non-null    int64  \n",
      " 6   Fare      891 non-null    float64\n",
      " 7   Cabin     204 non-null    float64\n",
      " 8   Embarked  889 non-null    float64\n",
      "dtypes: float64(4), int64(5)\n",
      "memory usage: 69.6 KB\n"
     ]
    }
   ],
   "source": [
    "titanic.info()"
   ]
  },
  {
   "cell_type": "markdown",
   "id": "95df51db",
   "metadata": {},
   "source": [
    "### 결측지 제거"
   ]
  },
  {
   "cell_type": "markdown",
   "id": "4c22a84a",
   "metadata": {},
   "source": [
    "#### 수치형 데이터간 상관 관계를 확인"
   ]
  },
  {
   "cell_type": "code",
   "execution_count": 9,
   "id": "276a738f",
   "metadata": {},
   "outputs": [
    {
     "data": {
      "text/html": [
       "<div>\n",
       "<style scoped>\n",
       "    .dataframe tbody tr th:only-of-type {\n",
       "        vertical-align: middle;\n",
       "    }\n",
       "\n",
       "    .dataframe tbody tr th {\n",
       "        vertical-align: top;\n",
       "    }\n",
       "\n",
       "    .dataframe thead th {\n",
       "        text-align: right;\n",
       "    }\n",
       "</style>\n",
       "<table border=\"1\" class=\"dataframe\">\n",
       "  <thead>\n",
       "    <tr style=\"text-align: right;\">\n",
       "      <th></th>\n",
       "      <th>Survived</th>\n",
       "      <th>Pclass</th>\n",
       "      <th>Sex</th>\n",
       "      <th>Age</th>\n",
       "      <th>SibSp</th>\n",
       "      <th>Parch</th>\n",
       "      <th>Fare</th>\n",
       "      <th>Cabin</th>\n",
       "      <th>Embarked</th>\n",
       "    </tr>\n",
       "  </thead>\n",
       "  <tbody>\n",
       "    <tr>\n",
       "      <th>Survived</th>\n",
       "      <td>1.000000</td>\n",
       "      <td>-0.338481</td>\n",
       "      <td>0.543351</td>\n",
       "      <td>-0.077221</td>\n",
       "      <td>-0.035322</td>\n",
       "      <td>0.081629</td>\n",
       "      <td>0.257307</td>\n",
       "      <td>NaN</td>\n",
       "      <td>0.108669</td>\n",
       "    </tr>\n",
       "    <tr>\n",
       "      <th>Pclass</th>\n",
       "      <td>-0.338481</td>\n",
       "      <td>1.000000</td>\n",
       "      <td>-0.131900</td>\n",
       "      <td>-0.369226</td>\n",
       "      <td>0.083081</td>\n",
       "      <td>0.018443</td>\n",
       "      <td>-0.549500</td>\n",
       "      <td>NaN</td>\n",
       "      <td>0.043835</td>\n",
       "    </tr>\n",
       "    <tr>\n",
       "      <th>Sex</th>\n",
       "      <td>0.543351</td>\n",
       "      <td>-0.131900</td>\n",
       "      <td>1.000000</td>\n",
       "      <td>-0.093254</td>\n",
       "      <td>0.114631</td>\n",
       "      <td>0.245489</td>\n",
       "      <td>0.182333</td>\n",
       "      <td>NaN</td>\n",
       "      <td>0.118593</td>\n",
       "    </tr>\n",
       "    <tr>\n",
       "      <th>Age</th>\n",
       "      <td>-0.077221</td>\n",
       "      <td>-0.369226</td>\n",
       "      <td>-0.093254</td>\n",
       "      <td>1.000000</td>\n",
       "      <td>-0.308247</td>\n",
       "      <td>-0.189119</td>\n",
       "      <td>0.096067</td>\n",
       "      <td>NaN</td>\n",
       "      <td>0.012186</td>\n",
       "    </tr>\n",
       "    <tr>\n",
       "      <th>SibSp</th>\n",
       "      <td>-0.035322</td>\n",
       "      <td>0.083081</td>\n",
       "      <td>0.114631</td>\n",
       "      <td>-0.308247</td>\n",
       "      <td>1.000000</td>\n",
       "      <td>0.414838</td>\n",
       "      <td>0.159651</td>\n",
       "      <td>NaN</td>\n",
       "      <td>-0.060606</td>\n",
       "    </tr>\n",
       "    <tr>\n",
       "      <th>Parch</th>\n",
       "      <td>0.081629</td>\n",
       "      <td>0.018443</td>\n",
       "      <td>0.245489</td>\n",
       "      <td>-0.189119</td>\n",
       "      <td>0.414838</td>\n",
       "      <td>1.000000</td>\n",
       "      <td>0.216225</td>\n",
       "      <td>NaN</td>\n",
       "      <td>-0.079320</td>\n",
       "    </tr>\n",
       "    <tr>\n",
       "      <th>Fare</th>\n",
       "      <td>0.257307</td>\n",
       "      <td>-0.549500</td>\n",
       "      <td>0.182333</td>\n",
       "      <td>0.096067</td>\n",
       "      <td>0.159651</td>\n",
       "      <td>0.216225</td>\n",
       "      <td>1.000000</td>\n",
       "      <td>NaN</td>\n",
       "      <td>0.063462</td>\n",
       "    </tr>\n",
       "    <tr>\n",
       "      <th>Cabin</th>\n",
       "      <td>NaN</td>\n",
       "      <td>NaN</td>\n",
       "      <td>NaN</td>\n",
       "      <td>NaN</td>\n",
       "      <td>NaN</td>\n",
       "      <td>NaN</td>\n",
       "      <td>NaN</td>\n",
       "      <td>NaN</td>\n",
       "      <td>NaN</td>\n",
       "    </tr>\n",
       "    <tr>\n",
       "      <th>Embarked</th>\n",
       "      <td>0.108669</td>\n",
       "      <td>0.043835</td>\n",
       "      <td>0.118593</td>\n",
       "      <td>0.012186</td>\n",
       "      <td>-0.060606</td>\n",
       "      <td>-0.079320</td>\n",
       "      <td>0.063462</td>\n",
       "      <td>NaN</td>\n",
       "      <td>1.000000</td>\n",
       "    </tr>\n",
       "  </tbody>\n",
       "</table>\n",
       "</div>"
      ],
      "text/plain": [
       "          Survived    Pclass       Sex       Age     SibSp     Parch  \\\n",
       "Survived  1.000000 -0.338481  0.543351 -0.077221 -0.035322  0.081629   \n",
       "Pclass   -0.338481  1.000000 -0.131900 -0.369226  0.083081  0.018443   \n",
       "Sex       0.543351 -0.131900  1.000000 -0.093254  0.114631  0.245489   \n",
       "Age      -0.077221 -0.369226 -0.093254  1.000000 -0.308247 -0.189119   \n",
       "SibSp    -0.035322  0.083081  0.114631 -0.308247  1.000000  0.414838   \n",
       "Parch     0.081629  0.018443  0.245489 -0.189119  0.414838  1.000000   \n",
       "Fare      0.257307 -0.549500  0.182333  0.096067  0.159651  0.216225   \n",
       "Cabin          NaN       NaN       NaN       NaN       NaN       NaN   \n",
       "Embarked  0.108669  0.043835  0.118593  0.012186 -0.060606 -0.079320   \n",
       "\n",
       "              Fare  Cabin  Embarked  \n",
       "Survived  0.257307    NaN  0.108669  \n",
       "Pclass   -0.549500    NaN  0.043835  \n",
       "Sex       0.182333    NaN  0.118593  \n",
       "Age       0.096067    NaN  0.012186  \n",
       "SibSp     0.159651    NaN -0.060606  \n",
       "Parch     0.216225    NaN -0.079320  \n",
       "Fare      1.000000    NaN  0.063462  \n",
       "Cabin          NaN    NaN       NaN  \n",
       "Embarked  0.063462    NaN  1.000000  "
      ]
     },
     "execution_count": 9,
     "metadata": {},
     "output_type": "execute_result"
    }
   ],
   "source": [
    "titanic.corr()"
   ]
  },
  {
   "cell_type": "code",
   "execution_count": 10,
   "id": "73c55661",
   "metadata": {
    "scrolled": true
   },
   "outputs": [
    {
     "data": {
      "text/html": [
       "<div>\n",
       "<style scoped>\n",
       "    .dataframe tbody tr th:only-of-type {\n",
       "        vertical-align: middle;\n",
       "    }\n",
       "\n",
       "    .dataframe tbody tr th {\n",
       "        vertical-align: top;\n",
       "    }\n",
       "\n",
       "    .dataframe thead th {\n",
       "        text-align: right;\n",
       "    }\n",
       "</style>\n",
       "<table border=\"1\" class=\"dataframe\">\n",
       "  <thead>\n",
       "    <tr style=\"text-align: right;\">\n",
       "      <th></th>\n",
       "      <th></th>\n",
       "      <th>Age</th>\n",
       "    </tr>\n",
       "    <tr>\n",
       "      <th>Pclass</th>\n",
       "      <th>Sex</th>\n",
       "      <th></th>\n",
       "    </tr>\n",
       "  </thead>\n",
       "  <tbody>\n",
       "    <tr>\n",
       "      <th rowspan=\"2\" valign=\"top\">1</th>\n",
       "      <th>1</th>\n",
       "      <td>40.0</td>\n",
       "    </tr>\n",
       "    <tr>\n",
       "      <th>2</th>\n",
       "      <td>35.0</td>\n",
       "    </tr>\n",
       "    <tr>\n",
       "      <th rowspan=\"2\" valign=\"top\">2</th>\n",
       "      <th>1</th>\n",
       "      <td>30.0</td>\n",
       "    </tr>\n",
       "    <tr>\n",
       "      <th>2</th>\n",
       "      <td>28.0</td>\n",
       "    </tr>\n",
       "    <tr>\n",
       "      <th rowspan=\"2\" valign=\"top\">3</th>\n",
       "      <th>1</th>\n",
       "      <td>25.0</td>\n",
       "    </tr>\n",
       "    <tr>\n",
       "      <th>2</th>\n",
       "      <td>21.5</td>\n",
       "    </tr>\n",
       "  </tbody>\n",
       "</table>\n",
       "</div>"
      ],
      "text/plain": [
       "             Age\n",
       "Pclass Sex      \n",
       "1      1    40.0\n",
       "       2    35.0\n",
       "2      1    30.0\n",
       "       2    28.0\n",
       "3      1    25.0\n",
       "       2    21.5"
      ]
     },
     "execution_count": 10,
     "metadata": {},
     "output_type": "execute_result"
    }
   ],
   "source": [
    "titanic[['Pclass','Sex','Age']].groupby(by = ['Pclass','Sex']).median()"
   ]
  },
  {
   "cell_type": "code",
   "execution_count": 11,
   "id": "720d4aef",
   "metadata": {
    "scrolled": true
   },
   "outputs": [
    {
     "name": "stderr",
     "output_type": "stream",
     "text": [
      "C:\\Users\\smhrd\\anaconda3\\lib\\site-packages\\pandas\\core\\indexing.py:1732: SettingWithCopyWarning: \n",
      "A value is trying to be set on a copy of a slice from a DataFrame\n",
      "\n",
      "See the caveats in the documentation: https://pandas.pydata.org/pandas-docs/stable/user_guide/indexing.html#returning-a-view-versus-a-copy\n",
      "  self._setitem_single_block(indexer, value, name)\n"
     ]
    }
   ],
   "source": [
    "for i in range(891):\n",
    "    if (pd.isnull(titanic.iloc[i]['Age'])):\n",
    "        if (titanic.iloc[i]['Sex']==1):\n",
    "            if(titanic.iloc[i]['Pclass']==1):\n",
    "                titanic['Age'].iloc[i] = 40\n",
    "            elif(titanic.iloc[i]['Pclass']==2):\n",
    "                titanic['Age'].iloc[i] = 30\n",
    "            else:\n",
    "                titanic['Age'].iloc[i] = 25\n",
    "        else:\n",
    "            if(titanic.iloc[i]['Pclass']==1):\n",
    "                titanic['Age'].iloc[i] = 35\n",
    "            elif(titanic.iloc[i]['Pclass']==2):\n",
    "                titanic['Age'].iloc[i] = 28\n",
    "            else:\n",
    "                titanic['Age'].iloc[i] = 22"
   ]
  },
  {
   "cell_type": "code",
   "execution_count": 12,
   "id": "c06daca8",
   "metadata": {
    "scrolled": true
   },
   "outputs": [
    {
     "name": "stderr",
     "output_type": "stream",
     "text": [
      "C:\\Users\\smhrd\\AppData\\Local\\Temp/ipykernel_13604/3917771703.py:1: SettingWithCopyWarning: \n",
      "A value is trying to be set on a copy of a slice from a DataFrame\n",
      "\n",
      "See the caveats in the documentation: https://pandas.pydata.org/pandas-docs/stable/user_guide/indexing.html#returning-a-view-versus-a-copy\n",
      "  titanic['Cabin'][pd.isnull(titanic['Cabin'])]=0\n"
     ]
    }
   ],
   "source": [
    "titanic['Cabin'][pd.isnull(titanic['Cabin'])]=0"
   ]
  },
  {
   "cell_type": "code",
   "execution_count": 13,
   "id": "807442d4",
   "metadata": {
    "scrolled": true
   },
   "outputs": [
    {
     "name": "stderr",
     "output_type": "stream",
     "text": [
      "C:\\Users\\smhrd\\AppData\\Local\\Temp/ipykernel_13604/2901830325.py:1: SettingWithCopyWarning: \n",
      "A value is trying to be set on a copy of a slice from a DataFrame\n",
      "\n",
      "See the caveats in the documentation: https://pandas.pydata.org/pandas-docs/stable/user_guide/indexing.html#returning-a-view-versus-a-copy\n",
      "  titanic['Embarked'][pd.isnull(titanic['Embarked'])]=1\n"
     ]
    }
   ],
   "source": [
    "titanic['Embarked'][pd.isnull(titanic['Embarked'])]=1"
   ]
  },
  {
   "cell_type": "code",
   "execution_count": 14,
   "id": "c7baf40a",
   "metadata": {
    "scrolled": true
   },
   "outputs": [
    {
     "data": {
      "text/html": [
       "<div>\n",
       "<style scoped>\n",
       "    .dataframe tbody tr th:only-of-type {\n",
       "        vertical-align: middle;\n",
       "    }\n",
       "\n",
       "    .dataframe tbody tr th {\n",
       "        vertical-align: top;\n",
       "    }\n",
       "\n",
       "    .dataframe thead th {\n",
       "        text-align: right;\n",
       "    }\n",
       "</style>\n",
       "<table border=\"1\" class=\"dataframe\">\n",
       "  <thead>\n",
       "    <tr style=\"text-align: right;\">\n",
       "      <th></th>\n",
       "      <th>Survived</th>\n",
       "      <th>Pclass</th>\n",
       "      <th>Sex</th>\n",
       "      <th>Age</th>\n",
       "      <th>SibSp</th>\n",
       "      <th>Parch</th>\n",
       "      <th>Fare</th>\n",
       "      <th>Cabin</th>\n",
       "      <th>Embarked</th>\n",
       "    </tr>\n",
       "    <tr>\n",
       "      <th>PassengerId</th>\n",
       "      <th></th>\n",
       "      <th></th>\n",
       "      <th></th>\n",
       "      <th></th>\n",
       "      <th></th>\n",
       "      <th></th>\n",
       "      <th></th>\n",
       "      <th></th>\n",
       "      <th></th>\n",
       "    </tr>\n",
       "  </thead>\n",
       "  <tbody>\n",
       "    <tr>\n",
       "      <th>1</th>\n",
       "      <td>0</td>\n",
       "      <td>3</td>\n",
       "      <td>1</td>\n",
       "      <td>22.0</td>\n",
       "      <td>1</td>\n",
       "      <td>0</td>\n",
       "      <td>7.2500</td>\n",
       "      <td>0.0</td>\n",
       "      <td>1.0</td>\n",
       "    </tr>\n",
       "    <tr>\n",
       "      <th>2</th>\n",
       "      <td>1</td>\n",
       "      <td>1</td>\n",
       "      <td>2</td>\n",
       "      <td>38.0</td>\n",
       "      <td>1</td>\n",
       "      <td>0</td>\n",
       "      <td>71.2833</td>\n",
       "      <td>1.0</td>\n",
       "      <td>2.0</td>\n",
       "    </tr>\n",
       "    <tr>\n",
       "      <th>3</th>\n",
       "      <td>1</td>\n",
       "      <td>3</td>\n",
       "      <td>2</td>\n",
       "      <td>26.0</td>\n",
       "      <td>0</td>\n",
       "      <td>0</td>\n",
       "      <td>7.9250</td>\n",
       "      <td>0.0</td>\n",
       "      <td>1.0</td>\n",
       "    </tr>\n",
       "    <tr>\n",
       "      <th>4</th>\n",
       "      <td>1</td>\n",
       "      <td>1</td>\n",
       "      <td>2</td>\n",
       "      <td>35.0</td>\n",
       "      <td>1</td>\n",
       "      <td>0</td>\n",
       "      <td>53.1000</td>\n",
       "      <td>1.0</td>\n",
       "      <td>1.0</td>\n",
       "    </tr>\n",
       "    <tr>\n",
       "      <th>5</th>\n",
       "      <td>0</td>\n",
       "      <td>3</td>\n",
       "      <td>1</td>\n",
       "      <td>35.0</td>\n",
       "      <td>0</td>\n",
       "      <td>0</td>\n",
       "      <td>8.0500</td>\n",
       "      <td>0.0</td>\n",
       "      <td>1.0</td>\n",
       "    </tr>\n",
       "    <tr>\n",
       "      <th>...</th>\n",
       "      <td>...</td>\n",
       "      <td>...</td>\n",
       "      <td>...</td>\n",
       "      <td>...</td>\n",
       "      <td>...</td>\n",
       "      <td>...</td>\n",
       "      <td>...</td>\n",
       "      <td>...</td>\n",
       "      <td>...</td>\n",
       "    </tr>\n",
       "    <tr>\n",
       "      <th>887</th>\n",
       "      <td>0</td>\n",
       "      <td>2</td>\n",
       "      <td>1</td>\n",
       "      <td>27.0</td>\n",
       "      <td>0</td>\n",
       "      <td>0</td>\n",
       "      <td>13.0000</td>\n",
       "      <td>0.0</td>\n",
       "      <td>1.0</td>\n",
       "    </tr>\n",
       "    <tr>\n",
       "      <th>888</th>\n",
       "      <td>1</td>\n",
       "      <td>1</td>\n",
       "      <td>2</td>\n",
       "      <td>19.0</td>\n",
       "      <td>0</td>\n",
       "      <td>0</td>\n",
       "      <td>30.0000</td>\n",
       "      <td>1.0</td>\n",
       "      <td>1.0</td>\n",
       "    </tr>\n",
       "    <tr>\n",
       "      <th>889</th>\n",
       "      <td>0</td>\n",
       "      <td>3</td>\n",
       "      <td>2</td>\n",
       "      <td>22.0</td>\n",
       "      <td>1</td>\n",
       "      <td>2</td>\n",
       "      <td>23.4500</td>\n",
       "      <td>0.0</td>\n",
       "      <td>1.0</td>\n",
       "    </tr>\n",
       "    <tr>\n",
       "      <th>890</th>\n",
       "      <td>1</td>\n",
       "      <td>1</td>\n",
       "      <td>1</td>\n",
       "      <td>26.0</td>\n",
       "      <td>0</td>\n",
       "      <td>0</td>\n",
       "      <td>30.0000</td>\n",
       "      <td>1.0</td>\n",
       "      <td>2.0</td>\n",
       "    </tr>\n",
       "    <tr>\n",
       "      <th>891</th>\n",
       "      <td>0</td>\n",
       "      <td>3</td>\n",
       "      <td>1</td>\n",
       "      <td>32.0</td>\n",
       "      <td>0</td>\n",
       "      <td>0</td>\n",
       "      <td>7.7500</td>\n",
       "      <td>0.0</td>\n",
       "      <td>3.0</td>\n",
       "    </tr>\n",
       "  </tbody>\n",
       "</table>\n",
       "<p>891 rows × 9 columns</p>\n",
       "</div>"
      ],
      "text/plain": [
       "             Survived  Pclass  Sex   Age  SibSp  Parch     Fare  Cabin  \\\n",
       "PassengerId                                                              \n",
       "1                   0       3    1  22.0      1      0   7.2500    0.0   \n",
       "2                   1       1    2  38.0      1      0  71.2833    1.0   \n",
       "3                   1       3    2  26.0      0      0   7.9250    0.0   \n",
       "4                   1       1    2  35.0      1      0  53.1000    1.0   \n",
       "5                   0       3    1  35.0      0      0   8.0500    0.0   \n",
       "...               ...     ...  ...   ...    ...    ...      ...    ...   \n",
       "887                 0       2    1  27.0      0      0  13.0000    0.0   \n",
       "888                 1       1    2  19.0      0      0  30.0000    1.0   \n",
       "889                 0       3    2  22.0      1      2  23.4500    0.0   \n",
       "890                 1       1    1  26.0      0      0  30.0000    1.0   \n",
       "891                 0       3    1  32.0      0      0   7.7500    0.0   \n",
       "\n",
       "             Embarked  \n",
       "PassengerId            \n",
       "1                 1.0  \n",
       "2                 2.0  \n",
       "3                 1.0  \n",
       "4                 1.0  \n",
       "5                 1.0  \n",
       "...               ...  \n",
       "887               1.0  \n",
       "888               1.0  \n",
       "889               1.0  \n",
       "890               2.0  \n",
       "891               3.0  \n",
       "\n",
       "[891 rows x 9 columns]"
      ]
     },
     "execution_count": 14,
     "metadata": {},
     "output_type": "execute_result"
    }
   ],
   "source": [
    "titanic"
   ]
  },
  {
   "cell_type": "code",
   "execution_count": 15,
   "id": "6aaa96ea",
   "metadata": {},
   "outputs": [
    {
     "name": "stdout",
     "output_type": "stream",
     "text": [
      "<class 'pandas.core.frame.DataFrame'>\n",
      "Int64Index: 891 entries, 1 to 891\n",
      "Data columns (total 9 columns):\n",
      " #   Column    Non-Null Count  Dtype  \n",
      "---  ------    --------------  -----  \n",
      " 0   Survived  891 non-null    int64  \n",
      " 1   Pclass    891 non-null    int64  \n",
      " 2   Sex       891 non-null    int64  \n",
      " 3   Age       891 non-null    float64\n",
      " 4   SibSp     891 non-null    int64  \n",
      " 5   Parch     891 non-null    int64  \n",
      " 6   Fare      891 non-null    float64\n",
      " 7   Cabin     891 non-null    float64\n",
      " 8   Embarked  891 non-null    float64\n",
      "dtypes: float64(4), int64(5)\n",
      "memory usage: 69.6 KB\n"
     ]
    }
   ],
   "source": [
    "titanic.info()"
   ]
  },
  {
   "cell_type": "markdown",
   "id": "071a6934",
   "metadata": {},
   "source": [
    "### 이상치 확인"
   ]
  },
  {
   "cell_type": "code",
   "execution_count": 16,
   "id": "b66df85b",
   "metadata": {
    "scrolled": true
   },
   "outputs": [
    {
     "data": {
      "text/html": [
       "<div>\n",
       "<style scoped>\n",
       "    .dataframe tbody tr th:only-of-type {\n",
       "        vertical-align: middle;\n",
       "    }\n",
       "\n",
       "    .dataframe tbody tr th {\n",
       "        vertical-align: top;\n",
       "    }\n",
       "\n",
       "    .dataframe thead th {\n",
       "        text-align: right;\n",
       "    }\n",
       "</style>\n",
       "<table border=\"1\" class=\"dataframe\">\n",
       "  <thead>\n",
       "    <tr style=\"text-align: right;\">\n",
       "      <th></th>\n",
       "      <th>Survived</th>\n",
       "      <th>Pclass</th>\n",
       "      <th>Sex</th>\n",
       "      <th>Age</th>\n",
       "      <th>SibSp</th>\n",
       "      <th>Parch</th>\n",
       "      <th>Fare</th>\n",
       "      <th>Cabin</th>\n",
       "      <th>Embarked</th>\n",
       "    </tr>\n",
       "  </thead>\n",
       "  <tbody>\n",
       "    <tr>\n",
       "      <th>count</th>\n",
       "      <td>891.000000</td>\n",
       "      <td>891.000000</td>\n",
       "      <td>891.000000</td>\n",
       "      <td>891.000000</td>\n",
       "      <td>891.000000</td>\n",
       "      <td>891.000000</td>\n",
       "      <td>891.000000</td>\n",
       "      <td>891.000000</td>\n",
       "      <td>891.000000</td>\n",
       "    </tr>\n",
       "    <tr>\n",
       "      <th>mean</th>\n",
       "      <td>0.383838</td>\n",
       "      <td>2.308642</td>\n",
       "      <td>1.352413</td>\n",
       "      <td>29.135993</td>\n",
       "      <td>0.523008</td>\n",
       "      <td>0.381594</td>\n",
       "      <td>32.204208</td>\n",
       "      <td>0.228956</td>\n",
       "      <td>1.361392</td>\n",
       "    </tr>\n",
       "    <tr>\n",
       "      <th>std</th>\n",
       "      <td>0.486592</td>\n",
       "      <td>0.836071</td>\n",
       "      <td>0.477990</td>\n",
       "      <td>13.291339</td>\n",
       "      <td>1.102743</td>\n",
       "      <td>0.806057</td>\n",
       "      <td>49.693429</td>\n",
       "      <td>0.420397</td>\n",
       "      <td>0.635673</td>\n",
       "    </tr>\n",
       "    <tr>\n",
       "      <th>min</th>\n",
       "      <td>0.000000</td>\n",
       "      <td>1.000000</td>\n",
       "      <td>1.000000</td>\n",
       "      <td>0.420000</td>\n",
       "      <td>0.000000</td>\n",
       "      <td>0.000000</td>\n",
       "      <td>0.000000</td>\n",
       "      <td>0.000000</td>\n",
       "      <td>1.000000</td>\n",
       "    </tr>\n",
       "    <tr>\n",
       "      <th>25%</th>\n",
       "      <td>0.000000</td>\n",
       "      <td>2.000000</td>\n",
       "      <td>1.000000</td>\n",
       "      <td>22.000000</td>\n",
       "      <td>0.000000</td>\n",
       "      <td>0.000000</td>\n",
       "      <td>7.910400</td>\n",
       "      <td>0.000000</td>\n",
       "      <td>1.000000</td>\n",
       "    </tr>\n",
       "    <tr>\n",
       "      <th>50%</th>\n",
       "      <td>0.000000</td>\n",
       "      <td>3.000000</td>\n",
       "      <td>1.000000</td>\n",
       "      <td>26.000000</td>\n",
       "      <td>0.000000</td>\n",
       "      <td>0.000000</td>\n",
       "      <td>14.454200</td>\n",
       "      <td>0.000000</td>\n",
       "      <td>1.000000</td>\n",
       "    </tr>\n",
       "    <tr>\n",
       "      <th>75%</th>\n",
       "      <td>1.000000</td>\n",
       "      <td>3.000000</td>\n",
       "      <td>2.000000</td>\n",
       "      <td>36.000000</td>\n",
       "      <td>1.000000</td>\n",
       "      <td>0.000000</td>\n",
       "      <td>31.000000</td>\n",
       "      <td>0.000000</td>\n",
       "      <td>2.000000</td>\n",
       "    </tr>\n",
       "    <tr>\n",
       "      <th>max</th>\n",
       "      <td>1.000000</td>\n",
       "      <td>3.000000</td>\n",
       "      <td>2.000000</td>\n",
       "      <td>80.000000</td>\n",
       "      <td>8.000000</td>\n",
       "      <td>6.000000</td>\n",
       "      <td>512.329200</td>\n",
       "      <td>1.000000</td>\n",
       "      <td>3.000000</td>\n",
       "    </tr>\n",
       "  </tbody>\n",
       "</table>\n",
       "</div>"
      ],
      "text/plain": [
       "         Survived      Pclass         Sex         Age       SibSp       Parch  \\\n",
       "count  891.000000  891.000000  891.000000  891.000000  891.000000  891.000000   \n",
       "mean     0.383838    2.308642    1.352413   29.135993    0.523008    0.381594   \n",
       "std      0.486592    0.836071    0.477990   13.291339    1.102743    0.806057   \n",
       "min      0.000000    1.000000    1.000000    0.420000    0.000000    0.000000   \n",
       "25%      0.000000    2.000000    1.000000   22.000000    0.000000    0.000000   \n",
       "50%      0.000000    3.000000    1.000000   26.000000    0.000000    0.000000   \n",
       "75%      1.000000    3.000000    2.000000   36.000000    1.000000    0.000000   \n",
       "max      1.000000    3.000000    2.000000   80.000000    8.000000    6.000000   \n",
       "\n",
       "             Fare       Cabin    Embarked  \n",
       "count  891.000000  891.000000  891.000000  \n",
       "mean    32.204208    0.228956    1.361392  \n",
       "std     49.693429    0.420397    0.635673  \n",
       "min      0.000000    0.000000    1.000000  \n",
       "25%      7.910400    0.000000    1.000000  \n",
       "50%     14.454200    0.000000    1.000000  \n",
       "75%     31.000000    0.000000    2.000000  \n",
       "max    512.329200    1.000000    3.000000  "
      ]
     },
     "execution_count": 16,
     "metadata": {},
     "output_type": "execute_result"
    }
   ],
   "source": [
    "titanic.describe()"
   ]
  },
  {
   "cell_type": "markdown",
   "id": "686603ff",
   "metadata": {},
   "source": [
    "### 이상치 제거"
   ]
  },
  {
   "cell_type": "code",
   "execution_count": 17,
   "id": "e65c86e8",
   "metadata": {},
   "outputs": [],
   "source": [
    "titanic['Age'] = titanic['Age']//1"
   ]
  },
  {
   "cell_type": "code",
   "execution_count": 18,
   "id": "f52c74ed",
   "metadata": {},
   "outputs": [],
   "source": [
    "for i in range(891):\n",
    "    if (pd.isnull(titanic.iloc[i]['Cabin'])):\n",
    "        if (titanic.iloc[i]['Pclass']==1):\n",
    "            titanic['Cabin'].iloc[i]=3\n",
    "        elif (titanic.iloc[i]['Pclass']==2):\n",
    "            titanic['Cabin'].iloc[i]=5\n",
    "        else:\n",
    "            titanic['Cabin'].iloc[i]=6"
   ]
  },
  {
   "cell_type": "code",
   "execution_count": 19,
   "id": "8174a14d",
   "metadata": {},
   "outputs": [
    {
     "data": {
      "text/html": [
       "<div>\n",
       "<style scoped>\n",
       "    .dataframe tbody tr th:only-of-type {\n",
       "        vertical-align: middle;\n",
       "    }\n",
       "\n",
       "    .dataframe tbody tr th {\n",
       "        vertical-align: top;\n",
       "    }\n",
       "\n",
       "    .dataframe thead th {\n",
       "        text-align: right;\n",
       "    }\n",
       "</style>\n",
       "<table border=\"1\" class=\"dataframe\">\n",
       "  <thead>\n",
       "    <tr style=\"text-align: right;\">\n",
       "      <th></th>\n",
       "      <th>Survived</th>\n",
       "      <th>Pclass</th>\n",
       "      <th>Sex</th>\n",
       "      <th>Age</th>\n",
       "      <th>SibSp</th>\n",
       "      <th>Parch</th>\n",
       "      <th>Fare</th>\n",
       "      <th>Cabin</th>\n",
       "      <th>Embarked</th>\n",
       "    </tr>\n",
       "  </thead>\n",
       "  <tbody>\n",
       "    <tr>\n",
       "      <th>Survived</th>\n",
       "      <td>1.000000</td>\n",
       "      <td>-0.338481</td>\n",
       "      <td>0.543351</td>\n",
       "      <td>-0.058871</td>\n",
       "      <td>-0.035322</td>\n",
       "      <td>0.081629</td>\n",
       "      <td>0.257307</td>\n",
       "      <td>0.316912</td>\n",
       "      <td>0.106811</td>\n",
       "    </tr>\n",
       "    <tr>\n",
       "      <th>Pclass</th>\n",
       "      <td>-0.338481</td>\n",
       "      <td>1.000000</td>\n",
       "      <td>-0.131900</td>\n",
       "      <td>-0.412588</td>\n",
       "      <td>0.083081</td>\n",
       "      <td>0.018443</td>\n",
       "      <td>-0.549500</td>\n",
       "      <td>-0.725541</td>\n",
       "      <td>0.045702</td>\n",
       "    </tr>\n",
       "    <tr>\n",
       "      <th>Sex</th>\n",
       "      <td>0.543351</td>\n",
       "      <td>-0.131900</td>\n",
       "      <td>1.000000</td>\n",
       "      <td>-0.099989</td>\n",
       "      <td>0.114631</td>\n",
       "      <td>0.245489</td>\n",
       "      <td>0.182333</td>\n",
       "      <td>0.140391</td>\n",
       "      <td>0.116569</td>\n",
       "    </tr>\n",
       "    <tr>\n",
       "      <th>Age</th>\n",
       "      <td>-0.058871</td>\n",
       "      <td>-0.412588</td>\n",
       "      <td>-0.099989</td>\n",
       "      <td>1.000000</td>\n",
       "      <td>-0.248990</td>\n",
       "      <td>-0.175857</td>\n",
       "      <td>0.122394</td>\n",
       "      <td>0.276426</td>\n",
       "      <td>-0.054314</td>\n",
       "    </tr>\n",
       "    <tr>\n",
       "      <th>SibSp</th>\n",
       "      <td>-0.035322</td>\n",
       "      <td>0.083081</td>\n",
       "      <td>0.114631</td>\n",
       "      <td>-0.248990</td>\n",
       "      <td>1.000000</td>\n",
       "      <td>0.414838</td>\n",
       "      <td>0.159651</td>\n",
       "      <td>-0.040460</td>\n",
       "      <td>-0.059961</td>\n",
       "    </tr>\n",
       "    <tr>\n",
       "      <th>Parch</th>\n",
       "      <td>0.081629</td>\n",
       "      <td>0.018443</td>\n",
       "      <td>0.245489</td>\n",
       "      <td>-0.175857</td>\n",
       "      <td>0.414838</td>\n",
       "      <td>1.000000</td>\n",
       "      <td>0.216225</td>\n",
       "      <td>0.036987</td>\n",
       "      <td>-0.078665</td>\n",
       "    </tr>\n",
       "    <tr>\n",
       "      <th>Fare</th>\n",
       "      <td>0.257307</td>\n",
       "      <td>-0.549500</td>\n",
       "      <td>0.182333</td>\n",
       "      <td>0.122394</td>\n",
       "      <td>0.159651</td>\n",
       "      <td>0.216225</td>\n",
       "      <td>1.000000</td>\n",
       "      <td>0.482075</td>\n",
       "      <td>0.062142</td>\n",
       "    </tr>\n",
       "    <tr>\n",
       "      <th>Cabin</th>\n",
       "      <td>0.316912</td>\n",
       "      <td>-0.725541</td>\n",
       "      <td>0.140391</td>\n",
       "      <td>0.276426</td>\n",
       "      <td>-0.040460</td>\n",
       "      <td>0.036987</td>\n",
       "      <td>0.482075</td>\n",
       "      <td>1.000000</td>\n",
       "      <td>0.013774</td>\n",
       "    </tr>\n",
       "    <tr>\n",
       "      <th>Embarked</th>\n",
       "      <td>0.106811</td>\n",
       "      <td>0.045702</td>\n",
       "      <td>0.116569</td>\n",
       "      <td>-0.054314</td>\n",
       "      <td>-0.059961</td>\n",
       "      <td>-0.078665</td>\n",
       "      <td>0.062142</td>\n",
       "      <td>0.013774</td>\n",
       "      <td>1.000000</td>\n",
       "    </tr>\n",
       "  </tbody>\n",
       "</table>\n",
       "</div>"
      ],
      "text/plain": [
       "          Survived    Pclass       Sex       Age     SibSp     Parch  \\\n",
       "Survived  1.000000 -0.338481  0.543351 -0.058871 -0.035322  0.081629   \n",
       "Pclass   -0.338481  1.000000 -0.131900 -0.412588  0.083081  0.018443   \n",
       "Sex       0.543351 -0.131900  1.000000 -0.099989  0.114631  0.245489   \n",
       "Age      -0.058871 -0.412588 -0.099989  1.000000 -0.248990 -0.175857   \n",
       "SibSp    -0.035322  0.083081  0.114631 -0.248990  1.000000  0.414838   \n",
       "Parch     0.081629  0.018443  0.245489 -0.175857  0.414838  1.000000   \n",
       "Fare      0.257307 -0.549500  0.182333  0.122394  0.159651  0.216225   \n",
       "Cabin     0.316912 -0.725541  0.140391  0.276426 -0.040460  0.036987   \n",
       "Embarked  0.106811  0.045702  0.116569 -0.054314 -0.059961 -0.078665   \n",
       "\n",
       "              Fare     Cabin  Embarked  \n",
       "Survived  0.257307  0.316912  0.106811  \n",
       "Pclass   -0.549500 -0.725541  0.045702  \n",
       "Sex       0.182333  0.140391  0.116569  \n",
       "Age       0.122394  0.276426 -0.054314  \n",
       "SibSp     0.159651 -0.040460 -0.059961  \n",
       "Parch     0.216225  0.036987 -0.078665  \n",
       "Fare      1.000000  0.482075  0.062142  \n",
       "Cabin     0.482075  1.000000  0.013774  \n",
       "Embarked  0.062142  0.013774  1.000000  "
      ]
     },
     "execution_count": 19,
     "metadata": {},
     "output_type": "execute_result"
    }
   ],
   "source": [
    "titanic.corr()"
   ]
  },
  {
   "cell_type": "code",
   "execution_count": 20,
   "id": "27d0953a",
   "metadata": {
    "scrolled": true
   },
   "outputs": [
    {
     "name": "stderr",
     "output_type": "stream",
     "text": [
      "C:\\Users\\smhrd\\AppData\\Local\\Temp/ipykernel_13604/637036922.py:1: SettingWithCopyWarning: \n",
      "A value is trying to be set on a copy of a slice from a DataFrame\n",
      "\n",
      "See the caveats in the documentation: https://pandas.pydata.org/pandas-docs/stable/user_guide/indexing.html#returning-a-view-versus-a-copy\n",
      "  titanic['Fare'][titanic['Fare']<8]=8\n"
     ]
    }
   ],
   "source": [
    "titanic['Fare'][titanic['Fare']<8]=8"
   ]
  },
  {
   "cell_type": "code",
   "execution_count": 21,
   "id": "d765bbdd",
   "metadata": {
    "scrolled": true
   },
   "outputs": [
    {
     "name": "stderr",
     "output_type": "stream",
     "text": [
      "C:\\Users\\smhrd\\AppData\\Local\\Temp/ipykernel_13604/1609469039.py:1: SettingWithCopyWarning: \n",
      "A value is trying to be set on a copy of a slice from a DataFrame\n",
      "\n",
      "See the caveats in the documentation: https://pandas.pydata.org/pandas-docs/stable/user_guide/indexing.html#returning-a-view-versus-a-copy\n",
      "  titanic['Fare'][titanic['Fare']>=200]=200\n"
     ]
    }
   ],
   "source": [
    "titanic['Fare'][titanic['Fare']>=200]=200"
   ]
  },
  {
   "cell_type": "markdown",
   "id": "8885cf0f",
   "metadata": {},
   "source": [
    "### 탐색적 데이터 분석"
   ]
  },
  {
   "cell_type": "code",
   "execution_count": 22,
   "id": "924e9259",
   "metadata": {},
   "outputs": [],
   "source": [
    "import seaborn as sns"
   ]
  },
  {
   "cell_type": "code",
   "execution_count": 23,
   "id": "f8c31df8",
   "metadata": {
    "scrolled": false
   },
   "outputs": [
    {
     "data": {
      "text/plain": [
       "<AxesSubplot:xlabel='Cabin', ylabel='count'>"
      ]
     },
     "execution_count": 23,
     "metadata": {},
     "output_type": "execute_result"
    },
    {
     "data": {
      "image/png": "[encoded data removed]",
      "text/plain": [
       "<Figure size 432x288 with 1 Axes>"
      ]
     },
     "metadata": {
      "needs_background": "light"
     },
     "output_type": "display_data"
    }
   ],
   "source": [
    "sns.countplot(data = titanic, x = 'Cabin', hue = 'Survived')"
   ]
  },
  {
   "cell_type": "code",
   "execution_count": 24,
   "id": "60ca4d98",
   "metadata": {
    "scrolled": true
   },
   "outputs": [
    {
     "data": {
      "text/plain": [
       "<AxesSubplot:xlabel='Pclass', ylabel='count'>"
      ]
     },
     "execution_count": 24,
     "metadata": {},
     "output_type": "execute_result"
    },
    {
     "data": {
      "image/png": "[encoded data removed]",
      "text/plain": [
       "<Figure size 432x288 with 1 Axes>"
      ]
     },
     "metadata": {
      "needs_background": "light"
     },
     "output_type": "display_data"
    }
   ],
   "source": [
    "sns.countplot(data = titanic, x = 'Pclass', hue = 'Survived')"
   ]
  },
  {
   "cell_type": "code",
   "execution_count": 25,
   "id": "7f9bc593",
   "metadata": {},
   "outputs": [
    {
     "data": {
      "text/plain": [
       "<AxesSubplot:xlabel='Embarked', ylabel='count'>"
      ]
     },
     "execution_count": 25,
     "metadata": {},
     "output_type": "execute_result"
    },
    {
     "data": {
      "image/png": "[encoded data removed]",
      "text/plain": [
       "<Figure size 432x288 with 1 Axes>"
      ]
     },
     "metadata": {
      "needs_background": "light"
     },
     "output_type": "display_data"
    }
   ],
   "source": [
    "sns.countplot(data = titanic, x = 'Embarked', hue = 'Pclass')"
   ]
  },
  {
   "cell_type": "code",
   "execution_count": 26,
   "id": "888302b3",
   "metadata": {
    "scrolled": true
   },
   "outputs": [
    {
     "data": {
      "text/plain": [
       "<AxesSubplot:xlabel='Sex', ylabel='Age'>"
      ]
     },
     "execution_count": 26,
     "metadata": {},
     "output_type": "execute_result"
    },
    {
     "data": {
      "image/png": "[encoded data removed]",
      "text/plain": [
       "<Figure size 432x288 with 1 Axes>"
      ]
     },
     "metadata": {
      "needs_background": "light"
     },
     "output_type": "display_data"
    }
   ],
   "source": [
    "sns.violinplot(data = titanic, x = 'Sex', y = 'Age', hue = 'Survived', split = True)"
   ]
  },
  {
   "cell_type": "code",
   "execution_count": 27,
   "id": "d95ed6c9",
   "metadata": {},
   "outputs": [
    {
     "data": {
      "text/plain": [
       "PassengerId\n",
       "1      2\n",
       "2      2\n",
       "3      1\n",
       "4      2\n",
       "5      1\n",
       "      ..\n",
       "887    1\n",
       "888    1\n",
       "889    4\n",
       "890    1\n",
       "891    1\n",
       "Name: family, Length: 891, dtype: int64"
      ]
     },
     "execution_count": 27,
     "metadata": {},
     "output_type": "execute_result"
    }
   ],
   "source": [
    "# 특성 공학 : 컬럼에 연산을 통해서 의미있는 새로운 정보룰 추출하는 행위\n",
    "titanic['family'] = titanic['SibSp']+titanic['Parch']+1\n",
    "titanic['family']"
   ]
  },
  {
   "cell_type": "code",
   "execution_count": 28,
   "id": "758f26b0",
   "metadata": {},
   "outputs": [
    {
     "data": {
      "text/plain": [
       "<AxesSubplot:xlabel='family', ylabel='count'>"
      ]
     },
     "execution_count": 28,
     "metadata": {},
     "output_type": "execute_result"
    },
    {
     "data": {
      "image/png": "[encoded data removed]",
      "text/plain": [
       "<Figure size 432x288 with 1 Axes>"
      ]
     },
     "metadata": {
      "needs_background": "light"
     },
     "output_type": "display_data"
    }
   ],
   "source": [
    "sns.countplot(data = titanic, x = 'family', hue = 'Survived')"
   ]
  },
  {
   "cell_type": "code",
   "execution_count": 29,
   "id": "eff887dd",
   "metadata": {},
   "outputs": [],
   "source": [
    "bins=[0,1,4,20]"
   ]
  },
  {
   "cell_type": "code",
   "execution_count": 30,
   "id": "807227c6",
   "metadata": {},
   "outputs": [],
   "source": [
    "#1 : alone, 2 : 2~4, 3 : more than 4\n",
    "labels=[1,2,3]"
   ]
  },
  {
   "cell_type": "code",
   "execution_count": 31,
   "id": "effe78da",
   "metadata": {
    "scrolled": false
   },
   "outputs": [
    {
     "data": {
      "text/plain": [
       "PassengerId\n",
       "1      2\n",
       "2      2\n",
       "3      1\n",
       "4      2\n",
       "5      1\n",
       "      ..\n",
       "887    1\n",
       "888    1\n",
       "889    2\n",
       "890    1\n",
       "891    1\n",
       "Name: familyGroup, Length: 891, dtype: category\n",
       "Categories (3, int64): [1 < 2 < 3]"
      ]
     },
     "execution_count": 31,
     "metadata": {},
     "output_type": "execute_result"
    }
   ],
   "source": [
    "titanic['familyGroup'] = pd.cut(titanic['family'],bins=bins,labels=labels)\n",
    "titanic['familyGroup']"
   ]
  },
  {
   "cell_type": "code",
   "execution_count": 32,
   "id": "846629c4",
   "metadata": {},
   "outputs": [
    {
     "data": {
      "text/plain": [
       "<AxesSubplot:xlabel='familyGroup', ylabel='count'>"
      ]
     },
     "execution_count": 32,
     "metadata": {},
     "output_type": "execute_result"
    },
    {
     "data": {
      "image/png": "[encoded data removed]",
      "text/plain": [
       "<Figure size 432x288 with 1 Axes>"
      ]
     },
     "metadata": {
      "needs_background": "light"
     },
     "output_type": "display_data"
    }
   ],
   "source": [
    "sns.countplot(data = titanic, x = 'familyGroup', hue = 'Survived')"
   ]
  },
  {
   "cell_type": "code",
   "execution_count": 33,
   "id": "288c050a",
   "metadata": {},
   "outputs": [],
   "source": [
    "titanic['F/P'] = titanic['Fare']/titanic['Pclass']"
   ]
  },
  {
   "cell_type": "code",
   "execution_count": 34,
   "id": "ca211365",
   "metadata": {
    "scrolled": true
   },
   "outputs": [
    {
     "data": {
      "text/plain": [
       "PassengerId\n",
       "1      2\n",
       "2      3\n",
       "3      2\n",
       "4      3\n",
       "5      3\n",
       "      ..\n",
       "887    2\n",
       "888    1\n",
       "889    2\n",
       "890    2\n",
       "891    3\n",
       "Name: AgeGroup, Length: 891, dtype: category\n",
       "Categories (11, int64): [0 < 1 < 2 < 3 ... 7 < 8 < 9 < 10]"
      ]
     },
     "execution_count": 34,
     "metadata": {},
     "output_type": "execute_result"
    }
   ],
   "source": [
    "ageBins = [-1,10,20,30,40,50,60,70,80,90,100,200]\n",
    "ageLabels = [0,1,2,3,4,5,6,7,8,9,10]\n",
    "titanic['AgeGroup'] = pd.cut(titanic['Age'],bins=ageBins,labels=ageLabels)\n",
    "titanic['AgeGroup']"
   ]
  },
  {
   "cell_type": "code",
   "execution_count": 35,
   "id": "68fcad68",
   "metadata": {},
   "outputs": [
    {
     "data": {
      "text/html": [
       "<div>\n",
       "<style scoped>\n",
       "    .dataframe tbody tr th:only-of-type {\n",
       "        vertical-align: middle;\n",
       "    }\n",
       "\n",
       "    .dataframe tbody tr th {\n",
       "        vertical-align: top;\n",
       "    }\n",
       "\n",
       "    .dataframe thead th {\n",
       "        text-align: right;\n",
       "    }\n",
       "</style>\n",
       "<table border=\"1\" class=\"dataframe\">\n",
       "  <thead>\n",
       "    <tr style=\"text-align: right;\">\n",
       "      <th></th>\n",
       "      <th>Survived</th>\n",
       "      <th>Pclass</th>\n",
       "      <th>Sex</th>\n",
       "      <th>Age</th>\n",
       "      <th>SibSp</th>\n",
       "      <th>Parch</th>\n",
       "      <th>Fare</th>\n",
       "      <th>Cabin</th>\n",
       "      <th>Embarked</th>\n",
       "      <th>family</th>\n",
       "      <th>F/P</th>\n",
       "    </tr>\n",
       "  </thead>\n",
       "  <tbody>\n",
       "    <tr>\n",
       "      <th>Survived</th>\n",
       "      <td>1.000000</td>\n",
       "      <td>-0.338481</td>\n",
       "      <td>0.543351</td>\n",
       "      <td>-0.058871</td>\n",
       "      <td>-0.035322</td>\n",
       "      <td>0.081629</td>\n",
       "      <td>0.283180</td>\n",
       "      <td>0.316912</td>\n",
       "      <td>0.106811</td>\n",
       "      <td>0.016639</td>\n",
       "      <td>0.295332</td>\n",
       "    </tr>\n",
       "    <tr>\n",
       "      <th>Pclass</th>\n",
       "      <td>-0.338481</td>\n",
       "      <td>1.000000</td>\n",
       "      <td>-0.131900</td>\n",
       "      <td>-0.412588</td>\n",
       "      <td>0.083081</td>\n",
       "      <td>0.018443</td>\n",
       "      <td>-0.634378</td>\n",
       "      <td>-0.725541</td>\n",
       "      <td>0.045702</td>\n",
       "      <td>0.065997</td>\n",
       "      <td>-0.692039</td>\n",
       "    </tr>\n",
       "    <tr>\n",
       "      <th>Sex</th>\n",
       "      <td>0.543351</td>\n",
       "      <td>-0.131900</td>\n",
       "      <td>1.000000</td>\n",
       "      <td>-0.099989</td>\n",
       "      <td>0.114631</td>\n",
       "      <td>0.245489</td>\n",
       "      <td>0.220637</td>\n",
       "      <td>0.140391</td>\n",
       "      <td>0.116569</td>\n",
       "      <td>0.200988</td>\n",
       "      <td>0.204868</td>\n",
       "    </tr>\n",
       "    <tr>\n",
       "      <th>Age</th>\n",
       "      <td>-0.058871</td>\n",
       "      <td>-0.412588</td>\n",
       "      <td>-0.099989</td>\n",
       "      <td>1.000000</td>\n",
       "      <td>-0.248990</td>\n",
       "      <td>-0.175857</td>\n",
       "      <td>0.142998</td>\n",
       "      <td>0.276426</td>\n",
       "      <td>-0.054314</td>\n",
       "      <td>-0.258031</td>\n",
       "      <td>0.197451</td>\n",
       "    </tr>\n",
       "    <tr>\n",
       "      <th>SibSp</th>\n",
       "      <td>-0.035322</td>\n",
       "      <td>0.083081</td>\n",
       "      <td>0.114631</td>\n",
       "      <td>-0.248990</td>\n",
       "      <td>1.000000</td>\n",
       "      <td>0.414838</td>\n",
       "      <td>0.200627</td>\n",
       "      <td>-0.040460</td>\n",
       "      <td>-0.059961</td>\n",
       "      <td>0.890712</td>\n",
       "      <td>0.076147</td>\n",
       "    </tr>\n",
       "    <tr>\n",
       "      <th>Parch</th>\n",
       "      <td>0.081629</td>\n",
       "      <td>0.018443</td>\n",
       "      <td>0.245489</td>\n",
       "      <td>-0.175857</td>\n",
       "      <td>0.414838</td>\n",
       "      <td>1.000000</td>\n",
       "      <td>0.249113</td>\n",
       "      <td>0.036987</td>\n",
       "      <td>-0.078665</td>\n",
       "      <td>0.783111</td>\n",
       "      <td>0.157898</td>\n",
       "    </tr>\n",
       "    <tr>\n",
       "      <th>Fare</th>\n",
       "      <td>0.283180</td>\n",
       "      <td>-0.634378</td>\n",
       "      <td>0.220637</td>\n",
       "      <td>0.142998</td>\n",
       "      <td>0.200627</td>\n",
       "      <td>0.249113</td>\n",
       "      <td>1.000000</td>\n",
       "      <td>0.559702</td>\n",
       "      <td>0.046806</td>\n",
       "      <td>0.261574</td>\n",
       "      <td>0.982048</td>\n",
       "    </tr>\n",
       "    <tr>\n",
       "      <th>Cabin</th>\n",
       "      <td>0.316912</td>\n",
       "      <td>-0.725541</td>\n",
       "      <td>0.140391</td>\n",
       "      <td>0.276426</td>\n",
       "      <td>-0.040460</td>\n",
       "      <td>0.036987</td>\n",
       "      <td>0.559702</td>\n",
       "      <td>1.000000</td>\n",
       "      <td>0.013774</td>\n",
       "      <td>-0.009175</td>\n",
       "      <td>0.617908</td>\n",
       "    </tr>\n",
       "    <tr>\n",
       "      <th>Embarked</th>\n",
       "      <td>0.106811</td>\n",
       "      <td>0.045702</td>\n",
       "      <td>0.116569</td>\n",
       "      <td>-0.054314</td>\n",
       "      <td>-0.059961</td>\n",
       "      <td>-0.078665</td>\n",
       "      <td>0.046806</td>\n",
       "      <td>0.013774</td>\n",
       "      <td>1.000000</td>\n",
       "      <td>-0.080281</td>\n",
       "      <td>0.066004</td>\n",
       "    </tr>\n",
       "    <tr>\n",
       "      <th>family</th>\n",
       "      <td>0.016639</td>\n",
       "      <td>0.065997</td>\n",
       "      <td>0.200988</td>\n",
       "      <td>-0.258031</td>\n",
       "      <td>0.890712</td>\n",
       "      <td>0.783111</td>\n",
       "      <td>0.261574</td>\n",
       "      <td>-0.009175</td>\n",
       "      <td>-0.080281</td>\n",
       "      <td>1.000000</td>\n",
       "      <td>0.130927</td>\n",
       "    </tr>\n",
       "    <tr>\n",
       "      <th>F/P</th>\n",
       "      <td>0.295332</td>\n",
       "      <td>-0.692039</td>\n",
       "      <td>0.204868</td>\n",
       "      <td>0.197451</td>\n",
       "      <td>0.076147</td>\n",
       "      <td>0.157898</td>\n",
       "      <td>0.982048</td>\n",
       "      <td>0.617908</td>\n",
       "      <td>0.066004</td>\n",
       "      <td>0.130927</td>\n",
       "      <td>1.000000</td>\n",
       "    </tr>\n",
       "  </tbody>\n",
       "</table>\n",
       "</div>"
      ],
      "text/plain": [
       "          Survived    Pclass       Sex       Age     SibSp     Parch  \\\n",
       "Survived  1.000000 -0.338481  0.543351 -0.058871 -0.035322  0.081629   \n",
       "Pclass   -0.338481  1.000000 -0.131900 -0.412588  0.083081  0.018443   \n",
       "Sex       0.543351 -0.131900  1.000000 -0.099989  0.114631  0.245489   \n",
       "Age      -0.058871 -0.412588 -0.099989  1.000000 -0.248990 -0.175857   \n",
       "SibSp    -0.035322  0.083081  0.114631 -0.248990  1.000000  0.414838   \n",
       "Parch     0.081629  0.018443  0.245489 -0.175857  0.414838  1.000000   \n",
       "Fare      0.283180 -0.634378  0.220637  0.142998  0.200627  0.249113   \n",
       "Cabin     0.316912 -0.725541  0.140391  0.276426 -0.040460  0.036987   \n",
       "Embarked  0.106811  0.045702  0.116569 -0.054314 -0.059961 -0.078665   \n",
       "family    0.016639  0.065997  0.200988 -0.258031  0.890712  0.783111   \n",
       "F/P       0.295332 -0.692039  0.204868  0.197451  0.076147  0.157898   \n",
       "\n",
       "              Fare     Cabin  Embarked    family       F/P  \n",
       "Survived  0.283180  0.316912  0.106811  0.016639  0.295332  \n",
       "Pclass   -0.634378 -0.725541  0.045702  0.065997 -0.692039  \n",
       "Sex       0.220637  0.140391  0.116569  0.200988  0.204868  \n",
       "Age       0.142998  0.276426 -0.054314 -0.258031  0.197451  \n",
       "SibSp     0.200627 -0.040460 -0.059961  0.890712  0.076147  \n",
       "Parch     0.249113  0.036987 -0.078665  0.783111  0.157898  \n",
       "Fare      1.000000  0.559702  0.046806  0.261574  0.982048  \n",
       "Cabin     0.559702  1.000000  0.013774 -0.009175  0.617908  \n",
       "Embarked  0.046806  0.013774  1.000000 -0.080281  0.066004  \n",
       "family    0.261574 -0.009175 -0.080281  1.000000  0.130927  \n",
       "F/P       0.982048  0.617908  0.066004  0.130927  1.000000  "
      ]
     },
     "execution_count": 35,
     "metadata": {},
     "output_type": "execute_result"
    }
   ],
   "source": [
    "titanic.corr()"
   ]
  },
  {
   "cell_type": "markdown",
   "id": "6f0f6381",
   "metadata": {},
   "source": [
    "## 데이터 셋 구성하기"
   ]
  },
  {
   "cell_type": "markdown",
   "id": "32c7060a",
   "metadata": {},
   "source": [
    "### 문제와 정답으로 분리"
   ]
  },
  {
   "cell_type": "code",
   "execution_count": 36,
   "id": "34423ebd",
   "metadata": {
    "scrolled": false
   },
   "outputs": [
    {
     "data": {
      "text/plain": [
       "(             Sex        F/P\n",
       " PassengerId                \n",
       " 1              1   2.666667\n",
       " 2              2  71.283300\n",
       " 3              2   2.666667\n",
       " 4              2  53.100000\n",
       " 5              1   2.683333\n",
       " ...          ...        ...\n",
       " 887            1   6.500000\n",
       " 888            2  30.000000\n",
       " 889            2   7.816667\n",
       " 890            1  30.000000\n",
       " 891            1   2.666667\n",
       " \n",
       " [891 rows x 2 columns],\n",
       " PassengerId\n",
       " 1      0\n",
       " 2      1\n",
       " 3      1\n",
       " 4      1\n",
       " 5      0\n",
       "       ..\n",
       " 887    0\n",
       " 888    1\n",
       " 889    0\n",
       " 890    1\n",
       " 891    0\n",
       " Name: Survived, Length: 891, dtype: int64)"
      ]
     },
     "execution_count": 36,
     "metadata": {},
     "output_type": "execute_result"
    }
   ],
   "source": [
    "X=titanic[['Sex','F/P']]\n",
    "y = titanic['Survived']\n",
    "X,y"
   ]
  },
  {
   "cell_type": "code",
   "execution_count": 37,
   "id": "75f31c50",
   "metadata": {},
   "outputs": [],
   "source": [
    "from sklearn.model_selection import train_test_split\n",
    "XTrain, XTest, yTrain, yTest = train_test_split(X,y,test_size = 0.3,random_state = 2)"
   ]
  },
  {
   "cell_type": "code",
   "execution_count": 38,
   "id": "2614dccf",
   "metadata": {},
   "outputs": [
    {
     "data": {
      "text/plain": [
       "(             Sex         F/P\n",
       " PassengerId                 \n",
       " 452            1    6.655567\n",
       " 346            2    6.500000\n",
       " 688            1    3.390267\n",
       " 280            2    6.750000\n",
       " 743            2  200.000000\n",
       " ...          ...         ...\n",
       " 535            2    2.887500\n",
       " 585            1    2.904167\n",
       " 494            1   49.504200\n",
       " 528            1  200.000000\n",
       " 169            1   25.925000\n",
       " \n",
       " [623 rows x 2 columns],\n",
       "              Sex        F/P\n",
       " PassengerId                \n",
       " 708            1  26.287500\n",
       " 38             1   2.683333\n",
       " 616            2  32.500000\n",
       " 170            1  18.831933\n",
       " 69             2   2.666667\n",
       " ...          ...        ...\n",
       " 843            2  31.000000\n",
       " 672            1  52.000000\n",
       " 697            1   2.683333\n",
       " 43             1   2.666667\n",
       " 397            2   2.666667\n",
       " \n",
       " [268 rows x 2 columns],\n",
       " PassengerId\n",
       " 452    0\n",
       " 346    1\n",
       " 688    0\n",
       " 280    1\n",
       " 743    1\n",
       "       ..\n",
       " 535    0\n",
       " 585    0\n",
       " 494    0\n",
       " 528    0\n",
       " 169    0\n",
       " Name: Survived, Length: 623, dtype: int64,\n",
       " PassengerId\n",
       " 708    1\n",
       " 38     0\n",
       " 616    1\n",
       " 170    0\n",
       " 69     1\n",
       "       ..\n",
       " 843    1\n",
       " 672    0\n",
       " 697    0\n",
       " 43     0\n",
       " 397    0\n",
       " Name: Survived, Length: 268, dtype: int64)"
      ]
     },
     "execution_count": 38,
     "metadata": {},
     "output_type": "execute_result"
    }
   ],
   "source": [
    "XTrain, XTest, yTrain, yTest"
   ]
  },
  {
   "cell_type": "markdown",
   "id": "1fcbbb32",
   "metadata": {},
   "source": [
    "## 모델 선택 및 하이퍼 파라미터 튜닝"
   ]
  },
  {
   "cell_type": "markdown",
   "id": "42b393dc",
   "metadata": {},
   "source": [
    "### 모델 선택_KNN"
   ]
  },
  {
   "cell_type": "code",
   "execution_count": 39,
   "id": "72c3f717",
   "metadata": {},
   "outputs": [],
   "source": [
    "from sklearn.neighbors import KNeighborsClassifier"
   ]
  },
  {
   "cell_type": "markdown",
   "id": "68fc40e5",
   "metadata": {},
   "source": [
    "### 하이퍼 파라미터 튜닝"
   ]
  },
  {
   "cell_type": "code",
   "execution_count": 40,
   "id": "b6623b28",
   "metadata": {},
   "outputs": [],
   "source": [
    "from sklearn.model_selection import GridSearchCV"
   ]
  },
  {
   "cell_type": "code",
   "execution_count": 41,
   "id": "f858831f",
   "metadata": {},
   "outputs": [],
   "source": [
    "parameterGrid = {\n",
    "    'n_neighbors' : range(1,51),\n",
    "    'p' : [1,2],\n",
    "    'weights' : ['uniform','distance']\n",
    "}"
   ]
  },
  {
   "cell_type": "code",
   "execution_count": 42,
   "id": "89171842",
   "metadata": {},
   "outputs": [],
   "source": [
    "grid = GridSearchCV(KNeighborsClassifier(), parameterGrid, cv = 5)"
   ]
  },
  {
   "cell_type": "markdown",
   "id": "1dc08d74",
   "metadata": {},
   "source": [
    "### 학습"
   ]
  },
  {
   "cell_type": "code",
   "execution_count": 43,
   "id": "71921346",
   "metadata": {
    "scrolled": true
   },
   "outputs": [
    {
     "data": {
      "text/plain": [
       "GridSearchCV(cv=5, estimator=KNeighborsClassifier(),\n",
       "             param_grid={'n_neighbors': range(1, 51), 'p': [1, 2],\n",
       "                         'weights': ['uniform', 'distance']})"
      ]
     },
     "execution_count": 43,
     "metadata": {},
     "output_type": "execute_result"
    }
   ],
   "source": [
    "grid.fit(X,y)"
   ]
  },
  {
   "cell_type": "markdown",
   "id": "cd32d801",
   "metadata": {},
   "source": [
    "### 평가"
   ]
  },
  {
   "cell_type": "code",
   "execution_count": 44,
   "id": "9d4e42b7",
   "metadata": {},
   "outputs": [
    {
     "data": {
      "text/plain": [
       "0.8193459293201932"
      ]
     },
     "execution_count": 44,
     "metadata": {},
     "output_type": "execute_result"
    }
   ],
   "source": [
    "grid.best_score_"
   ]
  },
  {
   "cell_type": "code",
   "execution_count": 45,
   "id": "ff474d07",
   "metadata": {},
   "outputs": [
    {
     "data": {
      "text/plain": [
       "{'n_neighbors': 8, 'p': 2, 'weights': 'distance'}"
      ]
     },
     "execution_count": 45,
     "metadata": {},
     "output_type": "execute_result"
    }
   ],
   "source": [
    "grid.best_params_"
   ]
  },
  {
   "cell_type": "markdown",
   "id": "45e98b3e",
   "metadata": {},
   "source": [
    "### 모델 선택 _ TreeModel"
   ]
  },
  {
   "cell_type": "code",
   "execution_count": 46,
   "id": "1a028945",
   "metadata": {},
   "outputs": [],
   "source": [
    "from sklearn.tree import DecisionTreeClassifier"
   ]
  },
  {
   "cell_type": "markdown",
   "id": "964d80ec",
   "metadata": {},
   "source": [
    "## TestData"
   ]
  },
  {
   "cell_type": "markdown",
   "id": "013d16dc",
   "metadata": {},
   "source": [
    "### 불러오기"
   ]
  },
  {
   "cell_type": "code",
   "execution_count": 47,
   "id": "edb644a7",
   "metadata": {},
   "outputs": [
    {
     "data": {
      "text/html": [
       "<div>\n",
       "<style scoped>\n",
       "    .dataframe tbody tr th:only-of-type {\n",
       "        vertical-align: middle;\n",
       "    }\n",
       "\n",
       "    .dataframe tbody tr th {\n",
       "        vertical-align: top;\n",
       "    }\n",
       "\n",
       "    .dataframe thead th {\n",
       "        text-align: right;\n",
       "    }\n",
       "</style>\n",
       "<table border=\"1\" class=\"dataframe\">\n",
       "  <thead>\n",
       "    <tr style=\"text-align: right;\">\n",
       "      <th></th>\n",
       "      <th>Pclass</th>\n",
       "      <th>Name</th>\n",
       "      <th>Sex</th>\n",
       "      <th>Age</th>\n",
       "      <th>SibSp</th>\n",
       "      <th>Parch</th>\n",
       "      <th>Ticket</th>\n",
       "      <th>Fare</th>\n",
       "      <th>Cabin</th>\n",
       "      <th>Embarked</th>\n",
       "    </tr>\n",
       "    <tr>\n",
       "      <th>PassengerId</th>\n",
       "      <th></th>\n",
       "      <th></th>\n",
       "      <th></th>\n",
       "      <th></th>\n",
       "      <th></th>\n",
       "      <th></th>\n",
       "      <th></th>\n",
       "      <th></th>\n",
       "      <th></th>\n",
       "      <th></th>\n",
       "    </tr>\n",
       "  </thead>\n",
       "  <tbody>\n",
       "    <tr>\n",
       "      <th>892</th>\n",
       "      <td>3</td>\n",
       "      <td>Kelly, Mr. James</td>\n",
       "      <td>male</td>\n",
       "      <td>34.5</td>\n",
       "      <td>0</td>\n",
       "      <td>0</td>\n",
       "      <td>330911</td>\n",
       "      <td>7.8292</td>\n",
       "      <td>NaN</td>\n",
       "      <td>Q</td>\n",
       "    </tr>\n",
       "    <tr>\n",
       "      <th>893</th>\n",
       "      <td>3</td>\n",
       "      <td>Wilkes, Mrs. James (Ellen Needs)</td>\n",
       "      <td>female</td>\n",
       "      <td>47.0</td>\n",
       "      <td>1</td>\n",
       "      <td>0</td>\n",
       "      <td>363272</td>\n",
       "      <td>7.0000</td>\n",
       "      <td>NaN</td>\n",
       "      <td>S</td>\n",
       "    </tr>\n",
       "    <tr>\n",
       "      <th>894</th>\n",
       "      <td>2</td>\n",
       "      <td>Myles, Mr. Thomas Francis</td>\n",
       "      <td>male</td>\n",
       "      <td>62.0</td>\n",
       "      <td>0</td>\n",
       "      <td>0</td>\n",
       "      <td>240276</td>\n",
       "      <td>9.6875</td>\n",
       "      <td>NaN</td>\n",
       "      <td>Q</td>\n",
       "    </tr>\n",
       "    <tr>\n",
       "      <th>895</th>\n",
       "      <td>3</td>\n",
       "      <td>Wirz, Mr. Albert</td>\n",
       "      <td>male</td>\n",
       "      <td>27.0</td>\n",
       "      <td>0</td>\n",
       "      <td>0</td>\n",
       "      <td>315154</td>\n",
       "      <td>8.6625</td>\n",
       "      <td>NaN</td>\n",
       "      <td>S</td>\n",
       "    </tr>\n",
       "    <tr>\n",
       "      <th>896</th>\n",
       "      <td>3</td>\n",
       "      <td>Hirvonen, Mrs. Alexander (Helga E Lindqvist)</td>\n",
       "      <td>female</td>\n",
       "      <td>22.0</td>\n",
       "      <td>1</td>\n",
       "      <td>1</td>\n",
       "      <td>3101298</td>\n",
       "      <td>12.2875</td>\n",
       "      <td>NaN</td>\n",
       "      <td>S</td>\n",
       "    </tr>\n",
       "    <tr>\n",
       "      <th>...</th>\n",
       "      <td>...</td>\n",
       "      <td>...</td>\n",
       "      <td>...</td>\n",
       "      <td>...</td>\n",
       "      <td>...</td>\n",
       "      <td>...</td>\n",
       "      <td>...</td>\n",
       "      <td>...</td>\n",
       "      <td>...</td>\n",
       "      <td>...</td>\n",
       "    </tr>\n",
       "    <tr>\n",
       "      <th>1305</th>\n",
       "      <td>3</td>\n",
       "      <td>Spector, Mr. Woolf</td>\n",
       "      <td>male</td>\n",
       "      <td>NaN</td>\n",
       "      <td>0</td>\n",
       "      <td>0</td>\n",
       "      <td>A.5. 3236</td>\n",
       "      <td>8.0500</td>\n",
       "      <td>NaN</td>\n",
       "      <td>S</td>\n",
       "    </tr>\n",
       "    <tr>\n",
       "      <th>1306</th>\n",
       "      <td>1</td>\n",
       "      <td>Oliva y Ocana, Dona. Fermina</td>\n",
       "      <td>female</td>\n",
       "      <td>39.0</td>\n",
       "      <td>0</td>\n",
       "      <td>0</td>\n",
       "      <td>PC 17758</td>\n",
       "      <td>108.9000</td>\n",
       "      <td>C105</td>\n",
       "      <td>C</td>\n",
       "    </tr>\n",
       "    <tr>\n",
       "      <th>1307</th>\n",
       "      <td>3</td>\n",
       "      <td>Saether, Mr. Simon Sivertsen</td>\n",
       "      <td>male</td>\n",
       "      <td>38.5</td>\n",
       "      <td>0</td>\n",
       "      <td>0</td>\n",
       "      <td>SOTON/O.Q. 3101262</td>\n",
       "      <td>7.2500</td>\n",
       "      <td>NaN</td>\n",
       "      <td>S</td>\n",
       "    </tr>\n",
       "    <tr>\n",
       "      <th>1308</th>\n",
       "      <td>3</td>\n",
       "      <td>Ware, Mr. Frederick</td>\n",
       "      <td>male</td>\n",
       "      <td>NaN</td>\n",
       "      <td>0</td>\n",
       "      <td>0</td>\n",
       "      <td>359309</td>\n",
       "      <td>8.0500</td>\n",
       "      <td>NaN</td>\n",
       "      <td>S</td>\n",
       "    </tr>\n",
       "    <tr>\n",
       "      <th>1309</th>\n",
       "      <td>3</td>\n",
       "      <td>Peter, Master. Michael J</td>\n",
       "      <td>male</td>\n",
       "      <td>NaN</td>\n",
       "      <td>1</td>\n",
       "      <td>1</td>\n",
       "      <td>2668</td>\n",
       "      <td>22.3583</td>\n",
       "      <td>NaN</td>\n",
       "      <td>C</td>\n",
       "    </tr>\n",
       "  </tbody>\n",
       "</table>\n",
       "<p>418 rows × 10 columns</p>\n",
       "</div>"
      ],
      "text/plain": [
       "             Pclass                                          Name     Sex  \\\n",
       "PassengerId                                                                 \n",
       "892               3                              Kelly, Mr. James    male   \n",
       "893               3              Wilkes, Mrs. James (Ellen Needs)  female   \n",
       "894               2                     Myles, Mr. Thomas Francis    male   \n",
       "895               3                              Wirz, Mr. Albert    male   \n",
       "896               3  Hirvonen, Mrs. Alexander (Helga E Lindqvist)  female   \n",
       "...             ...                                           ...     ...   \n",
       "1305              3                            Spector, Mr. Woolf    male   \n",
       "1306              1                  Oliva y Ocana, Dona. Fermina  female   \n",
       "1307              3                  Saether, Mr. Simon Sivertsen    male   \n",
       "1308              3                           Ware, Mr. Frederick    male   \n",
       "1309              3                      Peter, Master. Michael J    male   \n",
       "\n",
       "              Age  SibSp  Parch              Ticket      Fare Cabin Embarked  \n",
       "PassengerId                                                                   \n",
       "892          34.5      0      0              330911    7.8292   NaN        Q  \n",
       "893          47.0      1      0              363272    7.0000   NaN        S  \n",
       "894          62.0      0      0              240276    9.6875   NaN        Q  \n",
       "895          27.0      0      0              315154    8.6625   NaN        S  \n",
       "896          22.0      1      1             3101298   12.2875   NaN        S  \n",
       "...           ...    ...    ...                 ...       ...   ...      ...  \n",
       "1305          NaN      0      0           A.5. 3236    8.0500   NaN        S  \n",
       "1306         39.0      0      0            PC 17758  108.9000  C105        C  \n",
       "1307         38.5      0      0  SOTON/O.Q. 3101262    7.2500   NaN        S  \n",
       "1308          NaN      0      0              359309    8.0500   NaN        S  \n",
       "1309          NaN      1      1                2668   22.3583   NaN        C  \n",
       "\n",
       "[418 rows x 10 columns]"
      ]
     },
     "execution_count": 47,
     "metadata": {},
     "output_type": "execute_result"
    }
   ],
   "source": [
    "test = pd.read_csv(\"./data/titanic/test.csv\",index_col=\"PassengerId\")\n",
    "test"
   ]
  },
  {
   "cell_type": "markdown",
   "id": "296d42dc",
   "metadata": {},
   "source": [
    "### 전처리"
   ]
  },
  {
   "cell_type": "markdown",
   "id": "45716fd5",
   "metadata": {},
   "source": [
    "#### 문자형 데이터 숫자형으로 변환"
   ]
  },
  {
   "cell_type": "code",
   "execution_count": 48,
   "id": "3de236be",
   "metadata": {},
   "outputs": [],
   "source": [
    "test['Embarked'] = test['Embarked'].map({'S':1,'C':2,'Q':3})\n",
    "test['Sex'] = test['Sex'].map({'male':1,'female':2})"
   ]
  },
  {
   "cell_type": "code",
   "execution_count": 49,
   "id": "1f5b5371",
   "metadata": {
    "scrolled": true
   },
   "outputs": [
    {
     "name": "stderr",
     "output_type": "stream",
     "text": [
      "C:\\Users\\smhrd\\anaconda3\\lib\\site-packages\\pandas\\core\\indexing.py:1732: SettingWithCopyWarning: \n",
      "A value is trying to be set on a copy of a slice from a DataFrame\n",
      "\n",
      "See the caveats in the documentation: https://pandas.pydata.org/pandas-docs/stable/user_guide/indexing.html#returning-a-view-versus-a-copy\n",
      "  self._setitem_single_block(indexer, value, name)\n"
     ]
    }
   ],
   "source": [
    "for i in range(418):\n",
    "    if (pd.notnull(test['Cabin'].iloc[i])):\n",
    "        test['Cabin'].iloc[i] = test['Cabin'].iloc[i][0]"
   ]
  },
  {
   "cell_type": "code",
   "execution_count": 50,
   "id": "89b20faf",
   "metadata": {},
   "outputs": [
    {
     "data": {
      "text/plain": [
       "C    35\n",
       "B    18\n",
       "D    13\n",
       "E     9\n",
       "F     8\n",
       "A     7\n",
       "G     1\n",
       "Name: Cabin, dtype: int64"
      ]
     },
     "execution_count": 50,
     "metadata": {},
     "output_type": "execute_result"
    }
   ],
   "source": [
    "test['Cabin'].value_counts()"
   ]
  },
  {
   "cell_type": "code",
   "execution_count": 51,
   "id": "dcf6372c",
   "metadata": {},
   "outputs": [],
   "source": [
    "test['Cabin'] = test['Cabin'].map({'A':1,'B':1,'C':1,'D':1,'E':1,'F':1,'G':1,'T':1})"
   ]
  },
  {
   "cell_type": "markdown",
   "id": "32e96db4",
   "metadata": {},
   "source": [
    "#### 불필요한 컬럼 제거"
   ]
  },
  {
   "cell_type": "code",
   "execution_count": 52,
   "id": "9d1d6216",
   "metadata": {},
   "outputs": [],
   "source": [
    "del test['Name']\n",
    "del test['Ticket']"
   ]
  },
  {
   "cell_type": "markdown",
   "id": "a7a85ea3",
   "metadata": {},
   "source": [
    "#### 결측지 확인"
   ]
  },
  {
   "cell_type": "code",
   "execution_count": 53,
   "id": "5178138c",
   "metadata": {},
   "outputs": [
    {
     "name": "stdout",
     "output_type": "stream",
     "text": [
      "<class 'pandas.core.frame.DataFrame'>\n",
      "Int64Index: 418 entries, 892 to 1309\n",
      "Data columns (total 8 columns):\n",
      " #   Column    Non-Null Count  Dtype  \n",
      "---  ------    --------------  -----  \n",
      " 0   Pclass    418 non-null    int64  \n",
      " 1   Sex       418 non-null    int64  \n",
      " 2   Age       332 non-null    float64\n",
      " 3   SibSp     418 non-null    int64  \n",
      " 4   Parch     418 non-null    int64  \n",
      " 5   Fare      417 non-null    float64\n",
      " 6   Cabin     91 non-null     float64\n",
      " 7   Embarked  418 non-null    int64  \n",
      "dtypes: float64(3), int64(5)\n",
      "memory usage: 29.4 KB\n"
     ]
    }
   ],
   "source": [
    "test.info()"
   ]
  },
  {
   "cell_type": "markdown",
   "id": "44bee30c",
   "metadata": {},
   "source": [
    "#### 결측지 제거"
   ]
  },
  {
   "cell_type": "code",
   "execution_count": 54,
   "id": "4f2ff7f0",
   "metadata": {},
   "outputs": [
    {
     "data": {
      "text/html": [
       "<div>\n",
       "<style scoped>\n",
       "    .dataframe tbody tr th:only-of-type {\n",
       "        vertical-align: middle;\n",
       "    }\n",
       "\n",
       "    .dataframe tbody tr th {\n",
       "        vertical-align: top;\n",
       "    }\n",
       "\n",
       "    .dataframe thead th {\n",
       "        text-align: right;\n",
       "    }\n",
       "</style>\n",
       "<table border=\"1\" class=\"dataframe\">\n",
       "  <thead>\n",
       "    <tr style=\"text-align: right;\">\n",
       "      <th></th>\n",
       "      <th></th>\n",
       "      <th>Age</th>\n",
       "    </tr>\n",
       "    <tr>\n",
       "      <th>Pclass</th>\n",
       "      <th>Sex</th>\n",
       "      <th></th>\n",
       "    </tr>\n",
       "  </thead>\n",
       "  <tbody>\n",
       "    <tr>\n",
       "      <th rowspan=\"2\" valign=\"top\">1</th>\n",
       "      <th>1</th>\n",
       "      <td>42.0</td>\n",
       "    </tr>\n",
       "    <tr>\n",
       "      <th>2</th>\n",
       "      <td>41.0</td>\n",
       "    </tr>\n",
       "    <tr>\n",
       "      <th rowspan=\"2\" valign=\"top\">2</th>\n",
       "      <th>1</th>\n",
       "      <td>28.0</td>\n",
       "    </tr>\n",
       "    <tr>\n",
       "      <th>2</th>\n",
       "      <td>24.0</td>\n",
       "    </tr>\n",
       "    <tr>\n",
       "      <th rowspan=\"2\" valign=\"top\">3</th>\n",
       "      <th>1</th>\n",
       "      <td>24.0</td>\n",
       "    </tr>\n",
       "    <tr>\n",
       "      <th>2</th>\n",
       "      <td>22.0</td>\n",
       "    </tr>\n",
       "  </tbody>\n",
       "</table>\n",
       "</div>"
      ],
      "text/plain": [
       "             Age\n",
       "Pclass Sex      \n",
       "1      1    42.0\n",
       "       2    41.0\n",
       "2      1    28.0\n",
       "       2    24.0\n",
       "3      1    24.0\n",
       "       2    22.0"
      ]
     },
     "execution_count": 54,
     "metadata": {},
     "output_type": "execute_result"
    }
   ],
   "source": [
    "test[['Pclass','Sex','Age']].groupby(by = ['Pclass','Sex']).median()"
   ]
  },
  {
   "cell_type": "code",
   "execution_count": 55,
   "id": "367beb6f",
   "metadata": {},
   "outputs": [
    {
     "name": "stderr",
     "output_type": "stream",
     "text": [
      "C:\\Users\\smhrd\\anaconda3\\lib\\site-packages\\pandas\\core\\indexing.py:1732: SettingWithCopyWarning: \n",
      "A value is trying to be set on a copy of a slice from a DataFrame\n",
      "\n",
      "See the caveats in the documentation: https://pandas.pydata.org/pandas-docs/stable/user_guide/indexing.html#returning-a-view-versus-a-copy\n",
      "  self._setitem_single_block(indexer, value, name)\n"
     ]
    }
   ],
   "source": [
    "for i in range(418):\n",
    "    if (pd.isnull(test.iloc[i]['Age'])):\n",
    "        if (test.iloc[i]['Sex']==1):\n",
    "            if(test.iloc[i]['Pclass']==1):\n",
    "                test['Age'].iloc[i] = 42\n",
    "            elif(test.iloc[i]['Pclass']==2):\n",
    "                test['Age'].iloc[i] = 28\n",
    "            else:\n",
    "                test['Age'].iloc[i] = 24\n",
    "        else:\n",
    "            if(test.iloc[i]['Pclass']==1):\n",
    "                test['Age'].iloc[i] = 41\n",
    "            elif(test.iloc[i]['Pclass']==2):\n",
    "                test['Age'].iloc[i] = 24\n",
    "            else:\n",
    "                test['Age'].iloc[i] = 22"
   ]
  },
  {
   "cell_type": "code",
   "execution_count": 56,
   "id": "248cbf56",
   "metadata": {
    "scrolled": true
   },
   "outputs": [
    {
     "name": "stderr",
     "output_type": "stream",
     "text": [
      "C:\\Users\\smhrd\\AppData\\Local\\Temp/ipykernel_13604/1678956821.py:1: SettingWithCopyWarning: \n",
      "A value is trying to be set on a copy of a slice from a DataFrame\n",
      "\n",
      "See the caveats in the documentation: https://pandas.pydata.org/pandas-docs/stable/user_guide/indexing.html#returning-a-view-versus-a-copy\n",
      "  test['Cabin'][pd.isnull(test['Cabin'])]=0\n"
     ]
    }
   ],
   "source": [
    "test['Cabin'][pd.isnull(test['Cabin'])]=0"
   ]
  },
  {
   "cell_type": "code",
   "execution_count": 57,
   "id": "3ff4c59a",
   "metadata": {},
   "outputs": [
    {
     "name": "stderr",
     "output_type": "stream",
     "text": [
      "C:\\Users\\smhrd\\AppData\\Local\\Temp/ipykernel_13604/1672224348.py:1: SettingWithCopyWarning: \n",
      "A value is trying to be set on a copy of a slice from a DataFrame\n",
      "\n",
      "See the caveats in the documentation: https://pandas.pydata.org/pandas-docs/stable/user_guide/indexing.html#returning-a-view-versus-a-copy\n",
      "  test['Fare'][pd.isnull(test['Fare'])]=8.0000\n"
     ]
    }
   ],
   "source": [
    "test['Fare'][pd.isnull(test['Fare'])]=8.0000"
   ]
  },
  {
   "cell_type": "code",
   "execution_count": 58,
   "id": "54d4ca8b",
   "metadata": {},
   "outputs": [
    {
     "name": "stdout",
     "output_type": "stream",
     "text": [
      "<class 'pandas.core.frame.DataFrame'>\n",
      "Int64Index: 418 entries, 892 to 1309\n",
      "Data columns (total 8 columns):\n",
      " #   Column    Non-Null Count  Dtype  \n",
      "---  ------    --------------  -----  \n",
      " 0   Pclass    418 non-null    int64  \n",
      " 1   Sex       418 non-null    int64  \n",
      " 2   Age       418 non-null    float64\n",
      " 3   SibSp     418 non-null    int64  \n",
      " 4   Parch     418 non-null    int64  \n",
      " 5   Fare      418 non-null    float64\n",
      " 6   Cabin     418 non-null    float64\n",
      " 7   Embarked  418 non-null    int64  \n",
      "dtypes: float64(3), int64(5)\n",
      "memory usage: 29.4 KB\n"
     ]
    }
   ],
   "source": [
    "test.info()"
   ]
  },
  {
   "cell_type": "markdown",
   "id": "ade04779",
   "metadata": {},
   "source": [
    "#### 이상치 확인"
   ]
  },
  {
   "cell_type": "code",
   "execution_count": 59,
   "id": "ea46aef4",
   "metadata": {},
   "outputs": [
    {
     "data": {
      "text/html": [
       "<div>\n",
       "<style scoped>\n",
       "    .dataframe tbody tr th:only-of-type {\n",
       "        vertical-align: middle;\n",
       "    }\n",
       "\n",
       "    .dataframe tbody tr th {\n",
       "        vertical-align: top;\n",
       "    }\n",
       "\n",
       "    .dataframe thead th {\n",
       "        text-align: right;\n",
       "    }\n",
       "</style>\n",
       "<table border=\"1\" class=\"dataframe\">\n",
       "  <thead>\n",
       "    <tr style=\"text-align: right;\">\n",
       "      <th></th>\n",
       "      <th>Pclass</th>\n",
       "      <th>Sex</th>\n",
       "      <th>Age</th>\n",
       "      <th>SibSp</th>\n",
       "      <th>Parch</th>\n",
       "      <th>Fare</th>\n",
       "      <th>Cabin</th>\n",
       "      <th>Embarked</th>\n",
       "    </tr>\n",
       "  </thead>\n",
       "  <tbody>\n",
       "    <tr>\n",
       "      <th>count</th>\n",
       "      <td>418.000000</td>\n",
       "      <td>418.000000</td>\n",
       "      <td>418.000000</td>\n",
       "      <td>418.000000</td>\n",
       "      <td>418.000000</td>\n",
       "      <td>418.000000</td>\n",
       "      <td>418.000000</td>\n",
       "      <td>418.000000</td>\n",
       "    </tr>\n",
       "    <tr>\n",
       "      <th>mean</th>\n",
       "      <td>2.265550</td>\n",
       "      <td>1.363636</td>\n",
       "      <td>29.297847</td>\n",
       "      <td>0.447368</td>\n",
       "      <td>0.392344</td>\n",
       "      <td>35.561095</td>\n",
       "      <td>0.217703</td>\n",
       "      <td>1.464115</td>\n",
       "    </tr>\n",
       "    <tr>\n",
       "      <th>std</th>\n",
       "      <td>0.841838</td>\n",
       "      <td>0.481622</td>\n",
       "      <td>13.038856</td>\n",
       "      <td>0.896760</td>\n",
       "      <td>0.981429</td>\n",
       "      <td>55.856848</td>\n",
       "      <td>0.413179</td>\n",
       "      <td>0.685516</td>\n",
       "    </tr>\n",
       "    <tr>\n",
       "      <th>min</th>\n",
       "      <td>1.000000</td>\n",
       "      <td>1.000000</td>\n",
       "      <td>0.170000</td>\n",
       "      <td>0.000000</td>\n",
       "      <td>0.000000</td>\n",
       "      <td>0.000000</td>\n",
       "      <td>0.000000</td>\n",
       "      <td>1.000000</td>\n",
       "    </tr>\n",
       "    <tr>\n",
       "      <th>25%</th>\n",
       "      <td>1.000000</td>\n",
       "      <td>1.000000</td>\n",
       "      <td>22.000000</td>\n",
       "      <td>0.000000</td>\n",
       "      <td>0.000000</td>\n",
       "      <td>7.895800</td>\n",
       "      <td>0.000000</td>\n",
       "      <td>1.000000</td>\n",
       "    </tr>\n",
       "    <tr>\n",
       "      <th>50%</th>\n",
       "      <td>3.000000</td>\n",
       "      <td>1.000000</td>\n",
       "      <td>25.000000</td>\n",
       "      <td>0.000000</td>\n",
       "      <td>0.000000</td>\n",
       "      <td>14.454200</td>\n",
       "      <td>0.000000</td>\n",
       "      <td>1.000000</td>\n",
       "    </tr>\n",
       "    <tr>\n",
       "      <th>75%</th>\n",
       "      <td>3.000000</td>\n",
       "      <td>2.000000</td>\n",
       "      <td>36.375000</td>\n",
       "      <td>1.000000</td>\n",
       "      <td>0.000000</td>\n",
       "      <td>31.471875</td>\n",
       "      <td>0.000000</td>\n",
       "      <td>2.000000</td>\n",
       "    </tr>\n",
       "    <tr>\n",
       "      <th>max</th>\n",
       "      <td>3.000000</td>\n",
       "      <td>2.000000</td>\n",
       "      <td>76.000000</td>\n",
       "      <td>8.000000</td>\n",
       "      <td>9.000000</td>\n",
       "      <td>512.329200</td>\n",
       "      <td>1.000000</td>\n",
       "      <td>3.000000</td>\n",
       "    </tr>\n",
       "  </tbody>\n",
       "</table>\n",
       "</div>"
      ],
      "text/plain": [
       "           Pclass         Sex         Age       SibSp       Parch        Fare  \\\n",
       "count  418.000000  418.000000  418.000000  418.000000  418.000000  418.000000   \n",
       "mean     2.265550    1.363636   29.297847    0.447368    0.392344   35.561095   \n",
       "std      0.841838    0.481622   13.038856    0.896760    0.981429   55.856848   \n",
       "min      1.000000    1.000000    0.170000    0.000000    0.000000    0.000000   \n",
       "25%      1.000000    1.000000   22.000000    0.000000    0.000000    7.895800   \n",
       "50%      3.000000    1.000000   25.000000    0.000000    0.000000   14.454200   \n",
       "75%      3.000000    2.000000   36.375000    1.000000    0.000000   31.471875   \n",
       "max      3.000000    2.000000   76.000000    8.000000    9.000000  512.329200   \n",
       "\n",
       "            Cabin    Embarked  \n",
       "count  418.000000  418.000000  \n",
       "mean     0.217703    1.464115  \n",
       "std      0.413179    0.685516  \n",
       "min      0.000000    1.000000  \n",
       "25%      0.000000    1.000000  \n",
       "50%      0.000000    1.000000  \n",
       "75%      0.000000    2.000000  \n",
       "max      1.000000    3.000000  "
      ]
     },
     "execution_count": 59,
     "metadata": {},
     "output_type": "execute_result"
    }
   ],
   "source": [
    "test.describe()"
   ]
  },
  {
   "cell_type": "markdown",
   "id": "795210a2",
   "metadata": {},
   "source": [
    "#### 이상치 제거"
   ]
  },
  {
   "cell_type": "code",
   "execution_count": 60,
   "id": "a935a243",
   "metadata": {},
   "outputs": [],
   "source": [
    "test['Age'] = test['Age']//1"
   ]
  },
  {
   "cell_type": "code",
   "execution_count": 61,
   "id": "f79f4d5c",
   "metadata": {
    "scrolled": true
   },
   "outputs": [
    {
     "name": "stderr",
     "output_type": "stream",
     "text": [
      "C:\\Users\\smhrd\\AppData\\Local\\Temp/ipykernel_13604/1087081510.py:1: SettingWithCopyWarning: \n",
      "A value is trying to be set on a copy of a slice from a DataFrame\n",
      "\n",
      "See the caveats in the documentation: https://pandas.pydata.org/pandas-docs/stable/user_guide/indexing.html#returning-a-view-versus-a-copy\n",
      "  test['Fare'][test['Fare']<8]=8\n"
     ]
    }
   ],
   "source": [
    "test['Fare'][test['Fare']<8]=8"
   ]
  },
  {
   "cell_type": "code",
   "execution_count": 62,
   "id": "21500730",
   "metadata": {
    "scrolled": true
   },
   "outputs": [
    {
     "name": "stderr",
     "output_type": "stream",
     "text": [
      "C:\\Users\\smhrd\\AppData\\Local\\Temp/ipykernel_13604/981238444.py:1: SettingWithCopyWarning: \n",
      "A value is trying to be set on a copy of a slice from a DataFrame\n",
      "\n",
      "See the caveats in the documentation: https://pandas.pydata.org/pandas-docs/stable/user_guide/indexing.html#returning-a-view-versus-a-copy\n",
      "  test['Fare'][test['Fare']>=200]=200\n"
     ]
    }
   ],
   "source": [
    "test['Fare'][test['Fare']>=200]=200"
   ]
  },
  {
   "cell_type": "markdown",
   "id": "9bd983ac",
   "metadata": {},
   "source": [
    "#### 컬럼 생성"
   ]
  },
  {
   "cell_type": "code",
   "execution_count": 63,
   "id": "b9f41aa1",
   "metadata": {},
   "outputs": [
    {
     "data": {
      "text/plain": [
       "PassengerId\n",
       "892     1\n",
       "893     2\n",
       "894     1\n",
       "895     1\n",
       "896     3\n",
       "       ..\n",
       "1305    1\n",
       "1306    1\n",
       "1307    1\n",
       "1308    1\n",
       "1309    3\n",
       "Name: family, Length: 418, dtype: int64"
      ]
     },
     "execution_count": 63,
     "metadata": {},
     "output_type": "execute_result"
    }
   ],
   "source": [
    "# 특성 공학 : 컬럼에 연산을 통해서 의미있는 새로운 정보룰 추출하는 행위\n",
    "test['family'] = test['SibSp']+test['Parch']+1\n",
    "test['family']"
   ]
  },
  {
   "cell_type": "code",
   "execution_count": 64,
   "id": "1fb3452f",
   "metadata": {
    "scrolled": true
   },
   "outputs": [
    {
     "data": {
      "text/plain": [
       "PassengerId\n",
       "892     1\n",
       "893     2\n",
       "894     1\n",
       "895     1\n",
       "896     2\n",
       "       ..\n",
       "1305    1\n",
       "1306    1\n",
       "1307    1\n",
       "1308    1\n",
       "1309    2\n",
       "Name: familyGroup, Length: 418, dtype: category\n",
       "Categories (3, int64): [1 < 2 < 3]"
      ]
     },
     "execution_count": 64,
     "metadata": {},
     "output_type": "execute_result"
    }
   ],
   "source": [
    "test['familyGroup'] = pd.cut(test['family'],bins=bins,labels=labels)\n",
    "test['familyGroup']"
   ]
  },
  {
   "cell_type": "code",
   "execution_count": 65,
   "id": "44fed8e2",
   "metadata": {},
   "outputs": [],
   "source": [
    "test['F/P'] = test['Fare']/test['Pclass']"
   ]
  },
  {
   "cell_type": "code",
   "execution_count": 66,
   "id": "8e7f45bc",
   "metadata": {},
   "outputs": [
    {
     "data": {
      "text/plain": [
       "PassengerId\n",
       "892     3\n",
       "893     4\n",
       "894     6\n",
       "895     2\n",
       "896     2\n",
       "       ..\n",
       "1305    2\n",
       "1306    3\n",
       "1307    3\n",
       "1308    2\n",
       "1309    2\n",
       "Name: AgeGroup, Length: 418, dtype: category\n",
       "Categories (11, int64): [0 < 1 < 2 < 3 ... 7 < 8 < 9 < 10]"
      ]
     },
     "execution_count": 66,
     "metadata": {},
     "output_type": "execute_result"
    }
   ],
   "source": [
    "test['AgeGroup'] = pd.cut(test['Age'],bins=ageBins,labels=ageLabels)\n",
    "test['AgeGroup']"
   ]
  },
  {
   "cell_type": "markdown",
   "id": "f7caf4fe",
   "metadata": {},
   "source": [
    "#### 테스트 셋 구성"
   ]
  },
  {
   "cell_type": "code",
   "execution_count": 67,
   "id": "9ee377bc",
   "metadata": {},
   "outputs": [],
   "source": [
    "test=test[['Sex','F/P']]"
   ]
  },
  {
   "cell_type": "markdown",
   "id": "602dc7ab",
   "metadata": {},
   "source": [
    "## 예측"
   ]
  },
  {
   "cell_type": "markdown",
   "id": "e64eb875",
   "metadata": {},
   "source": [
    "### 모델 생성_KNN"
   ]
  },
  {
   "cell_type": "code",
   "execution_count": 68,
   "id": "cf872f71",
   "metadata": {},
   "outputs": [],
   "source": [
    "knn_model = KNeighborsClassifier(n_neighbors=8,p=2, weights='distance')"
   ]
  },
  {
   "cell_type": "markdown",
   "id": "15c5947d",
   "metadata": {},
   "source": [
    "### 학습"
   ]
  },
  {
   "cell_type": "code",
   "execution_count": 69,
   "id": "a095ec54",
   "metadata": {
    "scrolled": true
   },
   "outputs": [
    {
     "data": {
      "text/plain": [
       "KNeighborsClassifier(n_neighbors=8, weights='distance')"
      ]
     },
     "execution_count": 69,
     "metadata": {},
     "output_type": "execute_result"
    }
   ],
   "source": [
    "knn_model.fit(X,y)"
   ]
  },
  {
   "cell_type": "markdown",
   "id": "79b27f31",
   "metadata": {},
   "source": [
    "### 예측"
   ]
  },
  {
   "cell_type": "code",
   "execution_count": 70,
   "id": "b6afbbe8",
   "metadata": {
    "scrolled": true
   },
   "outputs": [
    {
     "data": {
      "text/plain": [
       "array([0, 1, 0, 0, 1, 0, 1, 1, 1, 0, 0, 0, 1, 0, 0, 1, 0, 0, 1, 1, 1, 0,\n",
       "       1, 0, 1, 0, 0, 0, 1, 0, 0, 0, 1, 0, 1, 0, 0, 0, 0, 1, 0, 0, 0, 1,\n",
       "       1, 0, 0, 0, 1, 1, 1, 0, 1, 1, 0, 0, 0, 0, 0, 1, 0, 0, 0, 1, 0, 1,\n",
       "       1, 0, 0, 1, 1, 0, 1, 0, 1, 0, 0, 1, 0, 1, 1, 0, 0, 0, 0, 0, 1, 0,\n",
       "       1, 0, 0, 0, 1, 0, 0, 0, 1, 0, 1, 0, 1, 0, 0, 0, 0, 0, 0, 0, 0, 0,\n",
       "       0, 1, 1, 1, 1, 0, 0, 1, 1, 1, 1, 0, 1, 0, 0, 1, 0, 1, 0, 0, 0, 0,\n",
       "       0, 0, 0, 0, 0, 0, 0, 0, 0, 0, 0, 0, 0, 0, 0, 0, 0, 0, 1, 0, 0, 1,\n",
       "       0, 0, 1, 1, 0, 0, 1, 1, 1, 0, 0, 1, 0, 0, 1, 0, 0, 0, 0, 0, 0, 1,\n",
       "       1, 1, 1, 1, 0, 1, 1, 0, 1, 0, 1, 0, 0, 0, 0, 0, 0, 0, 0, 0, 1, 1,\n",
       "       0, 0, 1, 0, 0, 1, 0, 0, 1, 0, 1, 0, 0, 0, 0, 1, 1, 0, 1, 1, 1, 0,\n",
       "       1, 0, 1, 0, 1, 0, 0, 1, 0, 0, 0, 1, 0, 0, 0, 0, 1, 0, 1, 1, 1, 1,\n",
       "       1, 0, 0, 0, 1, 0, 1, 0, 1, 0, 1, 0, 0, 0, 0, 0, 1, 0, 0, 0, 1, 1,\n",
       "       0, 0, 0, 0, 0, 0, 1, 0, 1, 1, 0, 1, 0, 0, 0, 0, 0, 0, 1, 0, 0, 0,\n",
       "       0, 0, 0, 0, 0, 1, 0, 1, 0, 0, 1, 0, 0, 0, 0, 0, 0, 0, 1, 1, 1, 0,\n",
       "       1, 0, 0, 0, 0, 1, 1, 1, 1, 0, 0, 0, 0, 0, 0, 0, 1, 0, 1, 0, 0, 0,\n",
       "       1, 0, 0, 1, 0, 0, 0, 0, 0, 0, 0, 0, 0, 1, 0, 1, 0, 1, 0, 1, 0, 0,\n",
       "       0, 0, 1, 0, 1, 0, 0, 1, 0, 1, 1, 0, 1, 0, 0, 0, 1, 1, 0, 1, 0, 0,\n",
       "       1, 1, 0, 0, 0, 0, 0, 0, 0, 1, 0, 1, 0, 0, 0, 0, 1, 1, 0, 0, 0, 1,\n",
       "       0, 1, 0, 0, 1, 0, 1, 0, 0, 1, 0, 0, 1, 0, 1, 1, 1, 0, 1, 0, 0, 0],\n",
       "      dtype=int64)"
      ]
     },
     "execution_count": 70,
     "metadata": {},
     "output_type": "execute_result"
    }
   ],
   "source": [
    "result = knn_model.predict(test)\n",
    "result"
   ]
  },
  {
   "cell_type": "markdown",
   "id": "fdc16649",
   "metadata": {},
   "source": [
    "### csv로 내보내기"
   ]
  },
  {
   "cell_type": "code",
   "execution_count": 71,
   "id": "75d704aa",
   "metadata": {},
   "outputs": [
    {
     "data": {
      "text/html": [
       "<div>\n",
       "<style scoped>\n",
       "    .dataframe tbody tr th:only-of-type {\n",
       "        vertical-align: middle;\n",
       "    }\n",
       "\n",
       "    .dataframe tbody tr th {\n",
       "        vertical-align: top;\n",
       "    }\n",
       "\n",
       "    .dataframe thead th {\n",
       "        text-align: right;\n",
       "    }\n",
       "</style>\n",
       "<table border=\"1\" class=\"dataframe\">\n",
       "  <thead>\n",
       "    <tr style=\"text-align: right;\">\n",
       "      <th></th>\n",
       "      <th>result</th>\n",
       "    </tr>\n",
       "  </thead>\n",
       "  <tbody>\n",
       "    <tr>\n",
       "      <th>0</th>\n",
       "      <td>0</td>\n",
       "    </tr>\n",
       "    <tr>\n",
       "      <th>1</th>\n",
       "      <td>1</td>\n",
       "    </tr>\n",
       "    <tr>\n",
       "      <th>2</th>\n",
       "      <td>0</td>\n",
       "    </tr>\n",
       "    <tr>\n",
       "      <th>3</th>\n",
       "      <td>0</td>\n",
       "    </tr>\n",
       "    <tr>\n",
       "      <th>4</th>\n",
       "      <td>1</td>\n",
       "    </tr>\n",
       "    <tr>\n",
       "      <th>...</th>\n",
       "      <td>...</td>\n",
       "    </tr>\n",
       "    <tr>\n",
       "      <th>413</th>\n",
       "      <td>0</td>\n",
       "    </tr>\n",
       "    <tr>\n",
       "      <th>414</th>\n",
       "      <td>1</td>\n",
       "    </tr>\n",
       "    <tr>\n",
       "      <th>415</th>\n",
       "      <td>0</td>\n",
       "    </tr>\n",
       "    <tr>\n",
       "      <th>416</th>\n",
       "      <td>0</td>\n",
       "    </tr>\n",
       "    <tr>\n",
       "      <th>417</th>\n",
       "      <td>0</td>\n",
       "    </tr>\n",
       "  </tbody>\n",
       "</table>\n",
       "<p>418 rows × 1 columns</p>\n",
       "</div>"
      ],
      "text/plain": [
       "     result\n",
       "0         0\n",
       "1         1\n",
       "2         0\n",
       "3         0\n",
       "4         1\n",
       "..      ...\n",
       "413       0\n",
       "414       1\n",
       "415       0\n",
       "416       0\n",
       "417       0\n",
       "\n",
       "[418 rows x 1 columns]"
      ]
     },
     "execution_count": 71,
     "metadata": {},
     "output_type": "execute_result"
    }
   ],
   "source": [
    "dfResult = pd.DataFrame(result,columns=['result'])\n",
    "dfResult"
   ]
  },
  {
   "cell_type": "code",
   "execution_count": 72,
   "id": "0d0b368b",
   "metadata": {
    "scrolled": true
   },
   "outputs": [],
   "source": [
    "dfResult.to_csv(\"./data/titanic/result.csv\",encoding=\"euc-kr\")"
   ]
  },
  {
   "cell_type": "markdown",
   "id": "9f5219cb",
   "metadata": {},
   "source": [
    "### 모델 생성_TreeModel"
   ]
  },
  {
   "cell_type": "code",
   "execution_count": 73,
   "id": "15c901bb",
   "metadata": {},
   "outputs": [],
   "source": [
    "treeModel = DecisionTreeClassifier()"
   ]
  },
  {
   "cell_type": "markdown",
   "id": "058c8e60",
   "metadata": {},
   "source": [
    "### 학습"
   ]
  },
  {
   "cell_type": "code",
   "execution_count": 74,
   "id": "a0a75eb2",
   "metadata": {},
   "outputs": [
    {
     "data": {
      "text/plain": [
       "DecisionTreeClassifier()"
      ]
     },
     "execution_count": 74,
     "metadata": {},
     "output_type": "execute_result"
    }
   ],
   "source": [
    "treeModel.fit(X,y)"
   ]
  },
  {
   "cell_type": "code",
   "execution_count": 75,
   "id": "b67eb725",
   "metadata": {},
   "outputs": [
    {
     "data": {
      "text/plain": [
       "array([0.4383463, 0.5616537])"
      ]
     },
     "execution_count": 75,
     "metadata": {},
     "output_type": "execute_result"
    }
   ],
   "source": [
    "treeModel.feature_importances_"
   ]
  },
  {
   "cell_type": "markdown",
   "id": "8b4da152",
   "metadata": {},
   "source": [
    "### 예측"
   ]
  },
  {
   "cell_type": "code",
   "execution_count": 76,
   "id": "e2be057a",
   "metadata": {},
   "outputs": [
    {
     "data": {
      "text/plain": [
       "array([0, 1, 0, 0, 1, 0, 1, 1, 1, 0, 0, 0, 1, 0, 1, 1, 0, 0, 1, 1, 0, 0,\n",
       "       1, 0, 1, 0, 1, 0, 1, 0, 0, 0, 1, 0, 1, 0, 0, 0, 0, 1, 0, 0, 0, 1,\n",
       "       1, 0, 0, 0, 1, 1, 0, 0, 1, 1, 0, 0, 0, 0, 0, 1, 0, 0, 0, 1, 0, 1,\n",
       "       1, 0, 0, 1, 1, 0, 1, 0, 1, 0, 0, 1, 0, 1, 1, 0, 0, 0, 0, 0, 1, 0,\n",
       "       1, 0, 1, 0, 1, 0, 0, 0, 1, 0, 1, 0, 1, 0, 0, 0, 0, 0, 0, 0, 0, 0,\n",
       "       0, 1, 1, 1, 1, 0, 0, 1, 1, 1, 1, 0, 1, 0, 0, 1, 0, 1, 0, 0, 0, 0,\n",
       "       0, 0, 0, 0, 0, 0, 0, 0, 0, 0, 0, 0, 0, 0, 0, 0, 0, 0, 1, 0, 0, 1,\n",
       "       0, 0, 1, 1, 0, 1, 1, 1, 1, 0, 0, 1, 0, 0, 1, 0, 0, 0, 0, 0, 0, 1,\n",
       "       1, 1, 1, 1, 0, 0, 1, 0, 1, 0, 1, 0, 0, 0, 0, 0, 0, 0, 0, 0, 1, 1,\n",
       "       0, 0, 1, 0, 0, 1, 0, 0, 1, 0, 1, 0, 0, 0, 0, 1, 1, 0, 1, 0, 1, 0,\n",
       "       1, 0, 1, 0, 1, 0, 0, 1, 0, 0, 0, 1, 0, 0, 0, 0, 1, 0, 1, 1, 1, 1,\n",
       "       1, 0, 0, 0, 1, 0, 1, 0, 1, 0, 0, 0, 0, 0, 0, 0, 1, 0, 0, 0, 1, 1,\n",
       "       0, 0, 0, 0, 0, 0, 1, 0, 1, 1, 0, 1, 0, 0, 0, 0, 0, 0, 1, 0, 0, 0,\n",
       "       0, 0, 0, 0, 0, 1, 0, 1, 0, 0, 1, 0, 0, 0, 0, 0, 0, 0, 1, 1, 1, 0,\n",
       "       1, 0, 0, 0, 0, 1, 1, 1, 1, 0, 0, 0, 0, 0, 0, 0, 1, 0, 1, 0, 0, 0,\n",
       "       1, 0, 0, 1, 0, 0, 0, 0, 0, 0, 0, 0, 0, 1, 0, 1, 0, 1, 0, 1, 1, 0,\n",
       "       0, 0, 1, 0, 1, 0, 0, 1, 0, 1, 1, 0, 1, 0, 0, 0, 1, 1, 0, 1, 0, 0,\n",
       "       1, 1, 0, 0, 0, 0, 0, 0, 0, 1, 0, 1, 0, 0, 0, 0, 1, 1, 0, 0, 1, 1,\n",
       "       0, 1, 0, 0, 1, 0, 1, 0, 0, 1, 0, 0, 1, 1, 1, 1, 1, 0, 1, 0, 0, 0],\n",
       "      dtype=int64)"
      ]
     },
     "execution_count": 76,
     "metadata": {},
     "output_type": "execute_result"
    }
   ],
   "source": [
    "resultTree = treeModel.predict(test)\n",
    "resultTree"
   ]
  },
  {
   "cell_type": "markdown",
   "id": "0a05ff52",
   "metadata": {},
   "source": [
    "### csv로 내보내기"
   ]
  },
  {
   "cell_type": "code",
   "execution_count": 77,
   "id": "d2a3db2b",
   "metadata": {},
   "outputs": [
    {
     "data": {
      "text/html": [
       "<div>\n",
       "<style scoped>\n",
       "    .dataframe tbody tr th:only-of-type {\n",
       "        vertical-align: middle;\n",
       "    }\n",
       "\n",
       "    .dataframe tbody tr th {\n",
       "        vertical-align: top;\n",
       "    }\n",
       "\n",
       "    .dataframe thead th {\n",
       "        text-align: right;\n",
       "    }\n",
       "</style>\n",
       "<table border=\"1\" class=\"dataframe\">\n",
       "  <thead>\n",
       "    <tr style=\"text-align: right;\">\n",
       "      <th></th>\n",
       "      <th>result</th>\n",
       "    </tr>\n",
       "  </thead>\n",
       "  <tbody>\n",
       "    <tr>\n",
       "      <th>0</th>\n",
       "      <td>0</td>\n",
       "    </tr>\n",
       "    <tr>\n",
       "      <th>1</th>\n",
       "      <td>1</td>\n",
       "    </tr>\n",
       "    <tr>\n",
       "      <th>2</th>\n",
       "      <td>0</td>\n",
       "    </tr>\n",
       "    <tr>\n",
       "      <th>3</th>\n",
       "      <td>0</td>\n",
       "    </tr>\n",
       "    <tr>\n",
       "      <th>4</th>\n",
       "      <td>1</td>\n",
       "    </tr>\n",
       "    <tr>\n",
       "      <th>...</th>\n",
       "      <td>...</td>\n",
       "    </tr>\n",
       "    <tr>\n",
       "      <th>413</th>\n",
       "      <td>0</td>\n",
       "    </tr>\n",
       "    <tr>\n",
       "      <th>414</th>\n",
       "      <td>1</td>\n",
       "    </tr>\n",
       "    <tr>\n",
       "      <th>415</th>\n",
       "      <td>0</td>\n",
       "    </tr>\n",
       "    <tr>\n",
       "      <th>416</th>\n",
       "      <td>0</td>\n",
       "    </tr>\n",
       "    <tr>\n",
       "      <th>417</th>\n",
       "      <td>0</td>\n",
       "    </tr>\n",
       "  </tbody>\n",
       "</table>\n",
       "<p>418 rows × 1 columns</p>\n",
       "</div>"
      ],
      "text/plain": [
       "     result\n",
       "0         0\n",
       "1         1\n",
       "2         0\n",
       "3         0\n",
       "4         1\n",
       "..      ...\n",
       "413       0\n",
       "414       1\n",
       "415       0\n",
       "416       0\n",
       "417       0\n",
       "\n",
       "[418 rows x 1 columns]"
      ]
     },
     "execution_count": 77,
     "metadata": {},
     "output_type": "execute_result"
    }
   ],
   "source": [
    "dfResultTree = pd.DataFrame(resultTree,columns=['result'])\n",
    "dfResultTree"
   ]
  },
  {
   "cell_type": "code",
   "execution_count": 78,
   "id": "4206f6db",
   "metadata": {},
   "outputs": [],
   "source": [
    "dfResultTree.to_csv(\"./data/titanic/resultTree.csv\",encoding=\"euc-kr\")"
   ]
  },
  {
   "cell_type": "markdown",
   "id": "1f3649a5",
   "metadata": {},
   "source": [
    "### 모델 생성_RandomForest"
   ]
  },
  {
   "cell_type": "code",
   "execution_count": 79,
   "id": "f573f405",
   "metadata": {},
   "outputs": [],
   "source": [
    "from sklearn.ensemble import RandomForestClassifier\n",
    "forest = RandomForestClassifier(n_estimators=200)"
   ]
  },
  {
   "cell_type": "markdown",
   "id": "a397ac0e",
   "metadata": {},
   "source": [
    "### 학습"
   ]
  },
  {
   "cell_type": "code",
   "execution_count": 80,
   "id": "ba49a2e1",
   "metadata": {
    "scrolled": false
   },
   "outputs": [
    {
     "data": {
      "text/plain": [
       "RandomForestClassifier(n_estimators=200)"
      ]
     },
     "execution_count": 80,
     "metadata": {},
     "output_type": "execute_result"
    }
   ],
   "source": [
    "forest.fit(X,y)"
   ]
  },
  {
   "cell_type": "code",
   "execution_count": 81,
   "id": "ae7f37e0",
   "metadata": {
    "scrolled": true
   },
   "outputs": [
    {
     "data": {
      "text/plain": [
       "array([0.3694473, 0.6305527])"
      ]
     },
     "execution_count": 81,
     "metadata": {},
     "output_type": "execute_result"
    }
   ],
   "source": [
    "forest.feature_importances_"
   ]
  },
  {
   "cell_type": "code",
   "execution_count": 82,
   "id": "a4c63a1c",
   "metadata": {},
   "outputs": [
    {
     "data": {
      "image/png": "[encoded data removed]",
      "text/plain": [
       "<Figure size 432x288 with 1 Axes>"
      ]
     },
     "metadata": {
      "needs_background": "light"
     },
     "output_type": "display_data"
    }
   ],
   "source": [
    "import numpy as np\n",
    "import matplotlib.pyplot as plt\n",
    "\n",
    "plt.barh(range(2), forest.feature_importances_)\n",
    "# 축 번호에 축 이름을 출력\n",
    "plt.yticks(np.arange(2), X.columns)\n",
    "plt.xlabel(\"attr importances\")\n",
    "plt.ylabel(\"attr\")\n",
    "plt.ylim(-1, 2)\n",
    "plt.show()"
   ]
  },
  {
   "cell_type": "code",
   "execution_count": 83,
   "id": "485c5ee3",
   "metadata": {},
   "outputs": [],
   "source": [
    "from sklearn.model_selection import cross_val_score"
   ]
  },
  {
   "cell_type": "code",
   "execution_count": 84,
   "id": "632d0de2",
   "metadata": {},
   "outputs": [
    {
     "data": {
      "text/plain": [
       "0.813732833957553"
      ]
     },
     "execution_count": 84,
     "metadata": {},
     "output_type": "execute_result"
    }
   ],
   "source": [
    "result = cross_val_score(forest,X,y,cv=10)\n",
    "result.mean()"
   ]
  },
  {
   "cell_type": "markdown",
   "id": "e5ce927a",
   "metadata": {},
   "source": [
    "### 예측"
   ]
  },
  {
   "cell_type": "code",
   "execution_count": 85,
   "id": "37cf29c6",
   "metadata": {},
   "outputs": [
    {
     "data": {
      "text/plain": [
       "array([0, 1, 0, 0, 1, 0, 1, 1, 1, 0, 0, 0, 1, 0, 1, 1, 0, 0, 1, 1, 0, 0,\n",
       "       1, 0, 1, 0, 1, 0, 1, 0, 0, 0, 1, 0, 1, 0, 0, 0, 0, 1, 0, 0, 0, 1,\n",
       "       1, 0, 0, 0, 1, 1, 0, 0, 1, 1, 0, 0, 0, 0, 0, 1, 0, 0, 0, 1, 0, 1,\n",
       "       1, 0, 0, 1, 1, 0, 1, 0, 1, 0, 0, 1, 0, 1, 1, 0, 0, 0, 0, 0, 1, 0,\n",
       "       1, 0, 1, 0, 1, 0, 0, 0, 1, 0, 1, 0, 1, 0, 0, 0, 0, 0, 0, 0, 0, 0,\n",
       "       0, 1, 1, 1, 1, 0, 0, 1, 1, 1, 1, 0, 1, 0, 0, 1, 0, 1, 0, 0, 0, 0,\n",
       "       0, 0, 0, 0, 0, 0, 0, 0, 0, 0, 0, 0, 0, 0, 0, 0, 0, 0, 1, 0, 0, 1,\n",
       "       0, 0, 1, 1, 0, 1, 1, 1, 1, 0, 0, 1, 0, 0, 1, 0, 0, 0, 0, 0, 0, 1,\n",
       "       1, 1, 1, 1, 0, 0, 1, 0, 1, 0, 1, 0, 0, 0, 0, 0, 0, 0, 0, 0, 1, 1,\n",
       "       0, 0, 1, 0, 0, 1, 0, 0, 1, 0, 1, 0, 0, 0, 0, 1, 1, 0, 1, 0, 1, 0,\n",
       "       1, 0, 1, 0, 1, 0, 0, 1, 0, 0, 0, 1, 0, 0, 0, 0, 1, 0, 1, 1, 1, 1,\n",
       "       1, 0, 0, 0, 1, 0, 1, 0, 1, 0, 0, 0, 0, 0, 0, 0, 1, 0, 0, 0, 1, 1,\n",
       "       0, 0, 0, 0, 0, 0, 1, 0, 1, 1, 0, 1, 0, 0, 0, 0, 0, 0, 1, 0, 0, 0,\n",
       "       0, 0, 0, 0, 0, 1, 0, 1, 0, 0, 1, 0, 0, 0, 0, 0, 0, 0, 1, 1, 1, 0,\n",
       "       1, 0, 0, 0, 0, 1, 1, 1, 1, 0, 0, 0, 0, 0, 0, 0, 1, 0, 1, 0, 0, 0,\n",
       "       1, 0, 0, 1, 0, 0, 0, 0, 0, 0, 0, 0, 0, 1, 0, 1, 0, 1, 0, 1, 1, 0,\n",
       "       0, 0, 1, 0, 1, 0, 0, 1, 0, 1, 1, 0, 1, 0, 0, 0, 1, 1, 0, 1, 0, 0,\n",
       "       1, 1, 0, 0, 0, 0, 0, 0, 0, 1, 0, 1, 0, 0, 0, 0, 1, 1, 0, 0, 1, 1,\n",
       "       0, 1, 0, 0, 1, 0, 1, 0, 0, 1, 0, 0, 1, 1, 1, 1, 1, 0, 1, 0, 0, 0],\n",
       "      dtype=int64)"
      ]
     },
     "execution_count": 85,
     "metadata": {},
     "output_type": "execute_result"
    }
   ],
   "source": [
    "resultForest = forest.predict(test)\n",
    "resultForest"
   ]
  },
  {
   "cell_type": "markdown",
   "id": "8caf0ca8",
   "metadata": {},
   "source": [
    "### csv로 내보내기"
   ]
  },
  {
   "cell_type": "code",
   "execution_count": 86,
   "id": "52a30f84",
   "metadata": {
    "scrolled": false
   },
   "outputs": [
    {
     "data": {
      "text/html": [
       "<div>\n",
       "<style scoped>\n",
       "    .dataframe tbody tr th:only-of-type {\n",
       "        vertical-align: middle;\n",
       "    }\n",
       "\n",
       "    .dataframe tbody tr th {\n",
       "        vertical-align: top;\n",
       "    }\n",
       "\n",
       "    .dataframe thead th {\n",
       "        text-align: right;\n",
       "    }\n",
       "</style>\n",
       "<table border=\"1\" class=\"dataframe\">\n",
       "  <thead>\n",
       "    <tr style=\"text-align: right;\">\n",
       "      <th></th>\n",
       "      <th>result</th>\n",
       "    </tr>\n",
       "  </thead>\n",
       "  <tbody>\n",
       "    <tr>\n",
       "      <th>0</th>\n",
       "      <td>0</td>\n",
       "    </tr>\n",
       "    <tr>\n",
       "      <th>1</th>\n",
       "      <td>1</td>\n",
       "    </tr>\n",
       "    <tr>\n",
       "      <th>2</th>\n",
       "      <td>0</td>\n",
       "    </tr>\n",
       "    <tr>\n",
       "      <th>3</th>\n",
       "      <td>0</td>\n",
       "    </tr>\n",
       "    <tr>\n",
       "      <th>4</th>\n",
       "      <td>1</td>\n",
       "    </tr>\n",
       "    <tr>\n",
       "      <th>...</th>\n",
       "      <td>...</td>\n",
       "    </tr>\n",
       "    <tr>\n",
       "      <th>413</th>\n",
       "      <td>0</td>\n",
       "    </tr>\n",
       "    <tr>\n",
       "      <th>414</th>\n",
       "      <td>1</td>\n",
       "    </tr>\n",
       "    <tr>\n",
       "      <th>415</th>\n",
       "      <td>0</td>\n",
       "    </tr>\n",
       "    <tr>\n",
       "      <th>416</th>\n",
       "      <td>0</td>\n",
       "    </tr>\n",
       "    <tr>\n",
       "      <th>417</th>\n",
       "      <td>0</td>\n",
       "    </tr>\n",
       "  </tbody>\n",
       "</table>\n",
       "<p>418 rows × 1 columns</p>\n",
       "</div>"
      ],
      "text/plain": [
       "     result\n",
       "0         0\n",
       "1         1\n",
       "2         0\n",
       "3         0\n",
       "4         1\n",
       "..      ...\n",
       "413       0\n",
       "414       1\n",
       "415       0\n",
       "416       0\n",
       "417       0\n",
       "\n",
       "[418 rows x 1 columns]"
      ]
     },
     "execution_count": 86,
     "metadata": {},
     "output_type": "execute_result"
    }
   ],
   "source": [
    "dfResultForest = pd.DataFrame(resultForest,columns=['result'])\n",
    "dfResultForest"
   ]
  },
  {
   "cell_type": "code",
   "execution_count": 87,
   "id": "45076601",
   "metadata": {},
   "outputs": [],
   "source": [
    "dfResultForest.to_csv(\"./data/titanic/resultForest.csv\",encoding=\"euc-kr\")"
   ]
  },
  {
   "cell_type": "markdown",
   "id": "db6b4726",
   "metadata": {},
   "source": [
    "## 데이터 스케일링"
   ]
  },
  {
   "cell_type": "code",
   "execution_count": 88,
   "id": "bb7b77bc",
   "metadata": {},
   "outputs": [],
   "source": [
    "from sklearn.preprocessing import RobustScaler, StandardScaler"
   ]
  },
  {
   "cell_type": "markdown",
   "id": "aa24da85",
   "metadata": {},
   "source": [
    "### RobustScaler"
   ]
  },
  {
   "cell_type": "code",
   "execution_count": 89,
   "id": "12643ebc",
   "metadata": {},
   "outputs": [],
   "source": [
    "rbScaler = RobustScaler()"
   ]
  },
  {
   "cell_type": "code",
   "execution_count": 90,
   "id": "ced47f72",
   "metadata": {},
   "outputs": [
    {
     "data": {
      "text/plain": [
       "RobustScaler()"
      ]
     },
     "execution_count": 90,
     "metadata": {},
     "output_type": "execute_result"
    }
   ],
   "source": [
    "# 어떤 컬럼에는 어떤 값으로 변경해야 하는지\n",
    "rbScaler.fit(X)"
   ]
  },
  {
   "cell_type": "code",
   "execution_count": 91,
   "id": "2a041a27",
   "metadata": {},
   "outputs": [],
   "source": [
    "XRb = rbScaler.transform(X)\n",
    "testRb = rbScaler.transform(test)"
   ]
  },
  {
   "cell_type": "code",
   "execution_count": 92,
   "id": "34e50942",
   "metadata": {},
   "outputs": [
    {
     "data": {
      "text/plain": [
       "array([[ 0.        , -0.18683997],\n",
       "       [ 1.        ,  3.15759383],\n",
       "       [ 1.        , -0.18683997],\n",
       "       ...,\n",
       "       [ 1.        ,  0.06417547],\n",
       "       [ 0.        ,  1.14541024],\n",
       "       [ 0.        , -0.18683997]])"
      ]
     },
     "execution_count": 92,
     "metadata": {},
     "output_type": "execute_result"
    }
   ],
   "source": [
    "XRb"
   ]
  },
  {
   "cell_type": "code",
   "execution_count": 93,
   "id": "1993d85b",
   "metadata": {
    "scrolled": false
   },
   "outputs": [
    {
     "data": {
      "text/plain": [
       "array([[ 0.00000000e+00, -1.86839968e-01],\n",
       "       [ 1.00000000e+00, -1.86839968e-01],\n",
       "       [ 0.00000000e+00, -8.07270512e-02],\n",
       "       [ 0.00000000e+00, -1.76076361e-01],\n",
       "       [ 1.00000000e+00, -1.17181154e-01],\n",
       "       [ 0.00000000e+00, -1.66937449e-01],\n",
       "       [ 1.00000000e+00, -1.86839968e-01],\n",
       "       [ 0.00000000e+00,  3.89926889e-01],\n",
       "       [ 1.00000000e+00, -1.86839968e-01],\n",
       "       [ 0.00000000e+00,  7.55483347e-02],\n",
       "       [ 0.00000000e+00, -1.86839968e-01],\n",
       "       [ 0.00000000e+00,  9.50446791e-01],\n",
       "       [ 1.00000000e+00,  3.69293420e+00],\n",
       "       [ 0.00000000e+00,  3.16815597e-01],\n",
       "       [ 1.00000000e+00,  2.66490658e+00],\n",
       "       [ 1.00000000e+00,  3.58752234e-01],\n",
       "       [ 0.00000000e+00, -1.58407799e-02],\n",
       "       [ 0.00000000e+00, -1.86839968e-01],\n",
       "       [ 1.00000000e+00, -1.86839968e-01],\n",
       "       [ 1.00000000e+00, -1.86839968e-01],\n",
       "       [ 0.00000000e+00,  2.57839155e+00],\n",
       "       [ 0.00000000e+00, -1.86839968e-01],\n",
       "       [ 1.00000000e+00,  1.22745573e+00],\n",
       "       [ 0.00000000e+00,  2.67485946e+00],\n",
       "       [ 1.00000000e+00,  9.43135662e+00],\n",
       "       [ 0.00000000e+00, -8.12347685e-02],\n",
       "       [ 1.00000000e+00,  2.70410398e+00],\n",
       "       [ 0.00000000e+00, -1.86839968e-01],\n",
       "       [ 0.00000000e+00,  1.16978067e+00],\n",
       "       [ 0.00000000e+00,  3.54053615e-02],\n",
       "       [ 0.00000000e+00,  3.16815597e-01],\n",
       "       [ 0.00000000e+00,  4.50852965e-01],\n",
       "       [ 1.00000000e+00,  1.74654752e-02],\n",
       "       [ 1.00000000e+00,  6.41754671e-02],\n",
       "       [ 0.00000000e+00,  2.49796913e+00],\n",
       "       [ 0.00000000e+00, -1.86839968e-01],\n",
       "       [ 1.00000000e+00, -1.86027620e-01],\n",
       "       [ 1.00000000e+00, -1.76076361e-01],\n",
       "       [ 0.00000000e+00, -1.62469537e-01],\n",
       "       [ 0.00000000e+00,  6.01069050e-01],\n",
       "       [ 0.00000000e+00, -9.88350934e-02],\n",
       "       [ 0.00000000e+00,  9.77254265e-01],\n",
       "       [ 0.00000000e+00, -1.86839968e-01],\n",
       "       [ 1.00000000e+00,  0.00000000e+00],\n",
       "       [ 1.00000000e+00,  2.24472136e+00],\n",
       "       [ 0.00000000e+00, -1.86839968e-01],\n",
       "       [ 0.00000000e+00,  1.13078798e+00],\n",
       "       [ 0.00000000e+00, -1.86839968e-01],\n",
       "       [ 1.00000000e+00,  3.40170755e+00],\n",
       "       [ 1.00000000e+00, -5.84890333e-02],\n",
       "       [ 0.00000000e+00,  2.60763607e+00],\n",
       "       [ 0.00000000e+00,  4.95523964e-02],\n",
       "       [ 1.00000000e+00,  2.43704305e-01],\n",
       "       [ 1.00000000e+00,  9.43135662e+00],\n",
       "       [ 0.00000000e+00,  6.28562145e-02],\n",
       "       [ 0.00000000e+00,  1.56376929e-01],\n",
       "       [ 0.00000000e+00, -1.86839968e-01],\n",
       "       [ 0.00000000e+00, -1.86839968e-01],\n",
       "       [ 0.00000000e+00, -5.52396426e-02],\n",
       "       [ 1.00000000e+00,  9.43135662e+00],\n",
       "       [ 0.00000000e+00, -1.86839968e-01],\n",
       "       [ 0.00000000e+00,  1.21852153e-02],\n",
       "       [ 0.00000000e+00, -1.86839968e-01],\n",
       "       [ 1.00000000e+00, -1.86839968e-01],\n",
       "       [ 0.00000000e+00,  9.43135662e+00],\n",
       "       [ 1.00000000e+00,  1.94963444e-01],\n",
       "       [ 1.00000000e+00, -1.86839968e-01],\n",
       "       [ 0.00000000e+00,  1.74979691e+00],\n",
       "       [ 0.00000000e+00,  1.07412673e+00],\n",
       "       [ 1.00000000e+00,  9.43135662e+00],\n",
       "       [ 1.00000000e+00, -1.86839968e-01],\n",
       "       [ 0.00000000e+00, -1.86839968e-01],\n",
       "       [ 1.00000000e+00, -1.86839968e-01],\n",
       "       [ 0.00000000e+00,  1.03432006e+00],\n",
       "       [ 1.00000000e+00,  9.43135662e+00],\n",
       "       [ 0.00000000e+00,  9.43135662e+00],\n",
       "       [ 0.00000000e+00, -1.86027620e-01],\n",
       "       [ 1.00000000e+00,  9.35824533e-01],\n",
       "       [ 0.00000000e+00,  0.00000000e+00],\n",
       "       [ 1.00000000e+00, -1.86839968e-01],\n",
       "       [ 0.00000000e+00, -6.91177904e-02],\n",
       "       [ 0.00000000e+00,  9.43135662e+00],\n",
       "       [ 0.00000000e+00,  9.50446791e-01],\n",
       "       [ 0.00000000e+00, -1.86839968e-01],\n",
       "       [ 0.00000000e+00, -5.58497157e-02],\n",
       "       [ 0.00000000e+00, -8.19788790e-02],\n",
       "       [ 1.00000000e+00, -1.86839968e-01],\n",
       "       [ 1.00000000e+00, -1.86027620e-01],\n",
       "       [ 1.00000000e+00, -1.86839968e-01],\n",
       "       [ 0.00000000e+00,  2.43704305e-01],\n",
       "       [ 1.00000000e+00, -9.09829407e-02],\n",
       "       [ 0.00000000e+00, -1.86839968e-01],\n",
       "       [ 1.00000000e+00,  2.21770918e+00],\n",
       "       [ 0.00000000e+00, -1.86027620e-01],\n",
       "       [ 0.00000000e+00,  9.50446791e-01],\n",
       "       [ 0.00000000e+00, -1.86839968e-01],\n",
       "       [ 1.00000000e+00,  3.52640130e+00],\n",
       "       [ 0.00000000e+00, -1.86839968e-01],\n",
       "       [ 1.00000000e+00, -1.86839968e-01],\n",
       "       [ 0.00000000e+00, -1.86027620e-01],\n",
       "       [ 1.00000000e+00,  2.38546060e+00],\n",
       "       [ 0.00000000e+00,  3.16815597e-01],\n",
       "       [ 0.00000000e+00, -1.86839968e-01],\n",
       "       [ 0.00000000e+00, -1.86839968e-01],\n",
       "       [ 1.00000000e+00, -1.78445167e-01],\n",
       "       [ 0.00000000e+00,  4.91470349e-02],\n",
       "       [ 0.00000000e+00, -1.86839968e-01],\n",
       "       [ 0.00000000e+00, -1.86839968e-01],\n",
       "       [ 0.00000000e+00, -1.75264013e-01],\n",
       "       [ 0.00000000e+00,  0.00000000e+00],\n",
       "       [ 0.00000000e+00,  4.98570268e-02],\n",
       "       [ 1.00000000e+00, -1.86839968e-01],\n",
       "       [ 1.00000000e+00,  1.22725589e+00],\n",
       "       [ 1.00000000e+00, -1.86839968e-01],\n",
       "       [ 1.00000000e+00,  9.43135662e+00],\n",
       "       [ 0.00000000e+00, -8.19788790e-02],\n",
       "       [ 0.00000000e+00, -1.86839968e-01],\n",
       "       [ 1.00000000e+00, -4.54914703e-02],\n",
       "       [ 0.00000000e+00,  3.35052965e+00],\n",
       "       [ 1.00000000e+00,  3.16815597e-01],\n",
       "       [ 1.00000000e+00,  6.70186840e-02],\n",
       "       [ 0.00000000e+00, -1.86839968e-01],\n",
       "       [ 1.00000000e+00,  2.49796913e+00],\n",
       "       [ 0.00000000e+00, -1.86839968e-01],\n",
       "       [ 0.00000000e+00, -1.86839968e-01],\n",
       "       [ 1.00000000e+00, -5.52396426e-02],\n",
       "       [ 0.00000000e+00, -1.86839968e-01],\n",
       "       [ 1.00000000e+00,  6.09260764e-02],\n",
       "       [ 0.00000000e+00,  0.00000000e+00],\n",
       "       [ 0.00000000e+00, -1.86027620e-01],\n",
       "       [ 0.00000000e+00, -1.86027620e-01],\n",
       "       [ 0.00000000e+00,  1.07229894e+00],\n",
       "       [ 1.00000000e+00,  9.69406986e-02],\n",
       "       [ 0.00000000e+00, -1.86839968e-01],\n",
       "       [ 0.00000000e+00, -1.86839968e-01],\n",
       "       [ 0.00000000e+00, -1.86839968e-01],\n",
       "       [ 0.00000000e+00, -1.86839968e-01],\n",
       "       [ 0.00000000e+00,  0.00000000e+00],\n",
       "       [ 1.00000000e+00, -1.86027620e-01],\n",
       "       [ 0.00000000e+00,  4.45166531e-01],\n",
       "       [ 1.00000000e+00,  4.45166531e-01],\n",
       "       [ 1.00000000e+00,  7.06986190e+00],\n",
       "       [ 0.00000000e+00,  9.43135662e+00],\n",
       "       [ 0.00000000e+00,  3.16815597e-01],\n",
       "       [ 0.00000000e+00,  9.77254265e-01],\n",
       "       [ 0.00000000e+00, -2.43704305e-02],\n",
       "       [ 0.00000000e+00,  2.21100731e+00],\n",
       "       [ 0.00000000e+00, -1.86027620e-01],\n",
       "       [ 0.00000000e+00,  9.77254265e-01],\n",
       "       [ 0.00000000e+00,  3.16815597e-01],\n",
       "       [ 1.00000000e+00,  3.73639155e+00],\n",
       "       [ 0.00000000e+00, -1.86839968e-01],\n",
       "       [ 0.00000000e+00, -1.86839968e-01],\n",
       "       [ 1.00000000e+00, -1.18874086e-01],\n",
       "       [ 0.00000000e+00,  1.93135662e-01],\n",
       "       [ 0.00000000e+00, -1.86839968e-01],\n",
       "       [ 1.00000000e+00,  9.43135662e+00],\n",
       "       [ 1.00000000e+00, -1.86839968e-01],\n",
       "       [ 0.00000000e+00,  9.77254265e-01],\n",
       "       [ 1.00000000e+00, -9.30138099e-02],\n",
       "       [ 1.00000000e+00, -1.86839968e-01],\n",
       "       [ 0.00000000e+00, -6.91177904e-02],\n",
       "       [ 1.00000000e+00,  1.21852153e-02],\n",
       "       [ 0.00000000e+00, -1.86839968e-01],\n",
       "       [ 0.00000000e+00,  0.00000000e+00],\n",
       "       [ 1.00000000e+00,  4.10235581e-02],\n",
       "       [ 0.00000000e+00,  2.14439318e+00],\n",
       "       [ 0.00000000e+00,  2.41673436e-01],\n",
       "       [ 1.00000000e+00,  1.03432006e+00],\n",
       "       [ 1.00000000e+00, -1.71202275e-01],\n",
       "       [ 0.00000000e+00, -1.86839968e-01],\n",
       "       [ 0.00000000e+00, -1.86839968e-01],\n",
       "       [ 0.00000000e+00, -9.09829407e-02],\n",
       "       [ 0.00000000e+00, -1.86839968e-01],\n",
       "       [ 0.00000000e+00,  1.93135662e-01],\n",
       "       [ 1.00000000e+00,  6.33631194e-01],\n",
       "       [ 1.00000000e+00,  5.78797725e-01],\n",
       "       [ 0.00000000e+00,  2.38546060e+00],\n",
       "       [ 1.00000000e+00,  6.33631194e-01],\n",
       "       [ 1.00000000e+00,  3.73639155e+00],\n",
       "       [ 0.00000000e+00,  0.00000000e+00],\n",
       "       [ 0.00000000e+00,  3.73639155e+00],\n",
       "       [ 1.00000000e+00,  2.27132413e+00],\n",
       "       [ 0.00000000e+00, -1.86839968e-01],\n",
       "       [ 1.00000000e+00,  9.43135662e+00],\n",
       "       [ 0.00000000e+00,  7.31112916e-02],\n",
       "       [ 1.00000000e+00,  1.94963444e-01],\n",
       "       [ 0.00000000e+00, -1.86027620e-01],\n",
       "       [ 1.00000000e+00,  8.13160032e-01],\n",
       "       [ 0.00000000e+00,  0.00000000e+00],\n",
       "       [ 0.00000000e+00,  3.16815597e-01],\n",
       "       [ 0.00000000e+00,  9.50446791e-01],\n",
       "       [ 0.00000000e+00, -8.12347685e-02],\n",
       "       [ 0.00000000e+00, -1.58407799e-02],\n",
       "       [ 0.00000000e+00,  4.75223396e-01],\n",
       "       [ 0.00000000e+00, -1.86839968e-01],\n",
       "       [ 0.00000000e+00,  6.23883022e+00],\n",
       "       [ 1.00000000e+00, -1.86839968e-01],\n",
       "       [ 0.00000000e+00, -6.09260764e-02],\n",
       "       [ 1.00000000e+00, -1.85012185e-01],\n",
       "       [ 1.00000000e+00, -6.49878148e-02],\n",
       "       [ 0.00000000e+00, -8.28594639e-02],\n",
       "       [ 0.00000000e+00,  9.43135662e+00],\n",
       "       [ 1.00000000e+00,  3.16815597e-01],\n",
       "       [ 0.00000000e+00, -6.09260764e-02],\n",
       "       [ 0.00000000e+00,  9.37857027e-01],\n",
       "       [ 1.00000000e+00, -1.86839968e-01],\n",
       "       [ 0.00000000e+00, -6.09260764e-02],\n",
       "       [ 1.00000000e+00,  1.03432006e+00],\n",
       "       [ 0.00000000e+00, -1.86839968e-01],\n",
       "       [ 0.00000000e+00,  4.91470349e-02],\n",
       "       [ 0.00000000e+00, -1.86839968e-01],\n",
       "       [ 0.00000000e+00,  1.47441105e+00],\n",
       "       [ 1.00000000e+00,  3.16815597e-01],\n",
       "       [ 1.00000000e+00, -1.86839968e-01],\n",
       "       [ 0.00000000e+00,  1.75467100e+00],\n",
       "       [ 1.00000000e+00, -1.86839968e-01],\n",
       "       [ 0.00000000e+00,  7.71892933e+00],\n",
       "       [ 1.00000000e+00,  9.43135662e+00],\n",
       "       [ 0.00000000e+00, -1.86027620e-01],\n",
       "       [ 1.00000000e+00,  2.09171405e-02],\n",
       "       [ 0.00000000e+00, -1.86027620e-01],\n",
       "       [ 1.00000000e+00, -6.09260764e-02],\n",
       "       [ 0.00000000e+00, -1.86839968e-01],\n",
       "       [ 1.00000000e+00,  1.02091633e+00],\n",
       "       [ 1.00000000e+00, -6.91177904e-02],\n",
       "       [ 0.00000000e+00, -1.86839968e-01],\n",
       "       [ 1.00000000e+00, -1.86839968e-01],\n",
       "       [ 0.00000000e+00, -7.14865963e-02],\n",
       "       [ 0.00000000e+00,  0.00000000e+00],\n",
       "       [ 0.00000000e+00,  1.26726239e+00],\n",
       "       [ 1.00000000e+00,  9.77254265e-01],\n",
       "       [ 0.00000000e+00, -1.86839968e-01],\n",
       "       [ 0.00000000e+00, -1.86839968e-01],\n",
       "       [ 0.00000000e+00,  3.15759383e+00],\n",
       "       [ 0.00000000e+00, -1.86839968e-01],\n",
       "       [ 0.00000000e+00,  3.35093420e+00],\n",
       "       [ 0.00000000e+00, -1.86839968e-01],\n",
       "       [ 1.00000000e+00,  0.00000000e+00],\n",
       "       [ 1.00000000e+00,  4.87043054e+00],\n",
       "       [ 1.00000000e+00,  1.03432006e+00],\n",
       "       [ 1.00000000e+00,  4.14297319e-01],\n",
       "       [ 0.00000000e+00,  6.23883022e+00],\n",
       "       [ 0.00000000e+00, -1.86839968e-01],\n",
       "       [ 0.00000000e+00,  6.41754671e-02],\n",
       "       [ 0.00000000e+00,  2.21100731e+00],\n",
       "       [ 1.00000000e+00,  1.94963444e-01],\n",
       "       [ 0.00000000e+00,  4.75223396e-01],\n",
       "       [ 1.00000000e+00,  3.16815597e-01],\n",
       "       [ 1.00000000e+00, -8.19788790e-02],\n",
       "       [ 1.00000000e+00,  3.59463851e-01],\n",
       "       [ 0.00000000e+00, -1.86839968e-01],\n",
       "       [ 0.00000000e+00,  6.34992039e+00],\n",
       "       [ 0.00000000e+00, -1.65312754e-01],\n",
       "       [ 0.00000000e+00, -1.62469537e-01],\n",
       "       [ 0.00000000e+00, -1.86839968e-01],\n",
       "       [ 0.00000000e+00, -1.86839968e-01],\n",
       "       [ 0.00000000e+00, -1.86027620e-01],\n",
       "       [ 1.00000000e+00,  0.00000000e+00],\n",
       "       [ 0.00000000e+00, -1.86839968e-01],\n",
       "       [ 0.00000000e+00, -3.41186028e-02],\n",
       "       [ 0.00000000e+00, -1.86839968e-01],\n",
       "       [ 1.00000000e+00,  2.43704305e-01],\n",
       "       [ 1.00000000e+00, -1.18874086e-01],\n",
       "       [ 0.00000000e+00, -6.39723802e-03],\n",
       "       [ 0.00000000e+00, -1.86839968e-01],\n",
       "       [ 0.00000000e+00,  7.31112916e-02],\n",
       "       [ 0.00000000e+00, -1.86839968e-01],\n",
       "       [ 1.00000000e+00, -1.86027620e-01],\n",
       "       [ 0.00000000e+00, -1.76076361e-01],\n",
       "       [ 0.00000000e+00,  3.35052965e+00],\n",
       "       [ 0.00000000e+00, -1.86839968e-01],\n",
       "       [ 1.00000000e+00,  6.34992039e+00],\n",
       "       [ 1.00000000e+00, -6.49878148e-02],\n",
       "       [ 0.00000000e+00, -1.86839968e-01],\n",
       "       [ 1.00000000e+00,  3.16815597e-01],\n",
       "       [ 0.00000000e+00, -6.09260764e-02],\n",
       "       [ 0.00000000e+00,  3.16815597e-01],\n",
       "       [ 0.00000000e+00,  1.94963444e-01],\n",
       "       [ 0.00000000e+00, -6.09260764e-02],\n",
       "       [ 1.00000000e+00, -1.76076361e-01],\n",
       "       [ 0.00000000e+00, -9.30138099e-02],\n",
       "       [ 1.00000000e+00, -1.86839968e-01],\n",
       "       [ 1.00000000e+00, -6.91177904e-02],\n",
       "       [ 1.00000000e+00,  1.15759545e-02],\n",
       "       [ 0.00000000e+00, -1.86839968e-01],\n",
       "       [ 0.00000000e+00, -1.86839968e-01],\n",
       "       [ 0.00000000e+00,  3.69293420e+00],\n",
       "       [ 0.00000000e+00, -1.86839968e-01],\n",
       "       [ 0.00000000e+00, -1.86027620e-01],\n",
       "       [ 0.00000000e+00,  1.61332250e+00],\n",
       "       [ 1.00000000e+00, -1.86839968e-01],\n",
       "       [ 0.00000000e+00, -1.86839968e-01],\n",
       "       [ 0.00000000e+00,  3.67302843e+00],\n",
       "       [ 0.00000000e+00, -1.62469537e-01],\n",
       "       [ 0.00000000e+00, -1.86839968e-01],\n",
       "       [ 1.00000000e+00,  6.96487409e-01],\n",
       "       [ 0.00000000e+00,  3.54053615e-02],\n",
       "       [ 0.00000000e+00,  1.90089358e+00],\n",
       "       [ 0.00000000e+00, -1.86839968e-01],\n",
       "       [ 0.00000000e+00, -1.86839968e-01],\n",
       "       [ 0.00000000e+00,  4.98570268e-02],\n",
       "       [ 0.00000000e+00,  1.94963444e-01],\n",
       "       [ 0.00000000e+00, -1.76076361e-01],\n",
       "       [ 1.00000000e+00, -1.86839968e-01],\n",
       "       [ 1.00000000e+00,  9.77254265e-01],\n",
       "       [ 0.00000000e+00,  7.06986190e+00],\n",
       "       [ 0.00000000e+00, -1.64906580e-01],\n",
       "       [ 0.00000000e+00,  4.24045491e+00],\n",
       "       [ 1.00000000e+00, -8.75987002e-02],\n",
       "       [ 0.00000000e+00, -1.76076361e-01],\n",
       "       [ 0.00000000e+00, -1.86839968e-01],\n",
       "       [ 0.00000000e+00, -1.86839968e-01],\n",
       "       [ 1.00000000e+00, -1.86839968e-01],\n",
       "       [ 1.00000000e+00,  6.29406824e+00],\n",
       "       [ 1.00000000e+00, -1.86839968e-01],\n",
       "       [ 0.00000000e+00,  6.82473436e+00],\n",
       "       [ 0.00000000e+00, -6.09260764e-02],\n",
       "       [ 0.00000000e+00, -1.86839968e-01],\n",
       "       [ 0.00000000e+00,  4.50852965e-01],\n",
       "       [ 0.00000000e+00, -1.86839968e-01],\n",
       "       [ 0.00000000e+00, -1.86839968e-01],\n",
       "       [ 0.00000000e+00,  0.00000000e+00],\n",
       "       [ 0.00000000e+00,  9.77254265e-01],\n",
       "       [ 1.00000000e+00,  9.43135662e+00],\n",
       "       [ 0.00000000e+00, -1.86839968e-01],\n",
       "       [ 1.00000000e+00,  6.33631194e-01],\n",
       "       [ 0.00000000e+00,  3.54346060e+00],\n",
       "       [ 0.00000000e+00,  3.16815597e-01],\n",
       "       [ 0.00000000e+00,  0.00000000e+00],\n",
       "       [ 1.00000000e+00,  5.78797725e-01],\n",
       "       [ 0.00000000e+00,  1.13078798e+00],\n",
       "       [ 0.00000000e+00, -1.86839968e-01],\n",
       "       [ 1.00000000e+00, -6.10609261e-02],\n",
       "       [ 0.00000000e+00, -1.86839968e-01],\n",
       "       [ 0.00000000e+00,  9.50446791e-01],\n",
       "       [ 0.00000000e+00,  0.00000000e+00],\n",
       "       [ 0.00000000e+00, -1.86839968e-01],\n",
       "       [ 0.00000000e+00,  4.50852965e-01],\n",
       "       [ 0.00000000e+00, -1.86839968e-01],\n",
       "       [ 0.00000000e+00, -6.09260764e-02],\n",
       "       [ 0.00000000e+00, -1.86839968e-01],\n",
       "       [ 0.00000000e+00,  8.13160032e-01],\n",
       "       [ 1.00000000e+00,  9.43135662e+00],\n",
       "       [ 0.00000000e+00, -8.12347685e-02],\n",
       "       [ 1.00000000e+00, -1.86839968e-01],\n",
       "       [ 0.00000000e+00,  0.00000000e+00],\n",
       "       [ 1.00000000e+00, -1.86839968e-01],\n",
       "       [ 0.00000000e+00,  1.21852153e-02],\n",
       "       [ 1.00000000e+00,  1.94963444e-01],\n",
       "       [ 1.00000000e+00,  2.77132250e+00],\n",
       "       [ 0.00000000e+00, -6.09260764e-02],\n",
       "       [ 0.00000000e+00,  1.47441105e+00],\n",
       "       [ 0.00000000e+00,  1.26726239e+00],\n",
       "       [ 1.00000000e+00,  1.74654752e-02],\n",
       "       [ 0.00000000e+00,  9.50446791e-01],\n",
       "       [ 1.00000000e+00,  2.19232494e+00],\n",
       "       [ 0.00000000e+00, -1.86839968e-01],\n",
       "       [ 0.00000000e+00, -1.86839968e-01],\n",
       "       [ 1.00000000e+00, -6.41754671e-02],\n",
       "       [ 0.00000000e+00,  8.13160032e-01],\n",
       "       [ 1.00000000e+00,  5.84992689e-01],\n",
       "       [ 1.00000000e+00,  1.94963444e-01],\n",
       "       [ 0.00000000e+00, -1.76076361e-01],\n",
       "       [ 1.00000000e+00,  2.38546060e+00],\n",
       "       [ 1.00000000e+00,  8.13160032e-01],\n",
       "       [ 0.00000000e+00, -8.19122665e-02],\n",
       "       [ 1.00000000e+00,  3.27985378e-01],\n",
       "       [ 1.00000000e+00,  2.57839155e+00],\n",
       "       [ 0.00000000e+00,  2.09171405e-02],\n",
       "       [ 0.00000000e+00, -3.65556458e-02],\n",
       "       [ 1.00000000e+00,  6.23883022e+00],\n",
       "       [ 0.00000000e+00,  7.31112916e-02],\n",
       "       [ 0.00000000e+00,  0.00000000e+00],\n",
       "       [ 1.00000000e+00,  3.67302843e+00],\n",
       "       [ 1.00000000e+00,  9.43135662e+00],\n",
       "       [ 1.00000000e+00, -1.76076361e-01],\n",
       "       [ 0.00000000e+00, -3.65556458e-02],\n",
       "       [ 0.00000000e+00,  2.12022746e+00],\n",
       "       [ 0.00000000e+00,  1.93135662e-01],\n",
       "       [ 0.00000000e+00, -1.86839968e-01],\n",
       "       [ 0.00000000e+00, -1.86839968e-01],\n",
       "       [ 1.00000000e+00, -8.12347685e-02],\n",
       "       [ 1.00000000e+00, -5.52396426e-02],\n",
       "       [ 0.00000000e+00, -3.04630382e-03],\n",
       "       [ 1.00000000e+00,  1.26726239e+00],\n",
       "       [ 0.00000000e+00, -1.86839968e-01],\n",
       "       [ 0.00000000e+00,  0.00000000e+00],\n",
       "       [ 0.00000000e+00, -1.86839968e-01],\n",
       "       [ 0.00000000e+00,  2.55889521e-02],\n",
       "       [ 0.00000000e+00,  4.24045491e+00],\n",
       "       [ 1.00000000e+00,  1.60357433e+00],\n",
       "       [ 0.00000000e+00,  1.21852153e-02],\n",
       "       [ 0.00000000e+00, -6.09260764e-02],\n",
       "       [ 0.00000000e+00,  4.10235581e-02],\n",
       "       [ 1.00000000e+00,  2.60763607e+00],\n",
       "       [ 0.00000000e+00, -1.86839968e-01],\n",
       "       [ 1.00000000e+00,  3.54346060e+00],\n",
       "       [ 0.00000000e+00, -1.86839968e-01],\n",
       "       [ 0.00000000e+00, -1.86839968e-01],\n",
       "       [ 1.00000000e+00,  7.71892933e+00],\n",
       "       [ 0.00000000e+00,  1.94963444e-01],\n",
       "       [ 1.00000000e+00,  2.57839155e+00],\n",
       "       [ 0.00000000e+00,  1.97887896e+00],\n",
       "       [ 0.00000000e+00,  1.03432006e+00],\n",
       "       [ 0.00000000e+00,  2.10194963e-02],\n",
       "       [ 0.00000000e+00, -6.09260764e-02],\n",
       "       [ 0.00000000e+00,  9.43135662e+00],\n",
       "       [ 1.00000000e+00, -1.86839968e-01],\n",
       "       [ 1.00000000e+00, -9.30138099e-02],\n",
       "       [ 1.00000000e+00, -1.86839968e-01],\n",
       "       [ 1.00000000e+00,  4.06986190e+00],\n",
       "       [ 1.00000000e+00, -1.86839968e-01],\n",
       "       [ 0.00000000e+00, -1.86027620e-01],\n",
       "       [ 1.00000000e+00,  4.99106418e+00],\n",
       "       [ 0.00000000e+00, -1.86839968e-01],\n",
       "       [ 0.00000000e+00, -1.86027620e-01],\n",
       "       [ 0.00000000e+00,  4.64386677e-02]])"
      ]
     },
     "execution_count": 93,
     "metadata": {},
     "output_type": "execute_result"
    }
   ],
   "source": [
    "testRb"
   ]
  },
  {
   "cell_type": "markdown",
   "id": "4d7cdc3a",
   "metadata": {},
   "source": [
    "#### RandomForest 모델 확인"
   ]
  },
  {
   "cell_type": "code",
   "execution_count": 94,
   "id": "2bf6e020",
   "metadata": {},
   "outputs": [
    {
     "data": {
      "text/plain": [
       "0.8125967540574284"
      ]
     },
     "execution_count": 94,
     "metadata": {},
     "output_type": "execute_result"
    }
   ],
   "source": [
    "result = cross_val_score(forest,X,y,cv=10)\n",
    "result.mean()"
   ]
  },
  {
   "cell_type": "code",
   "execution_count": 95,
   "id": "6525f48a",
   "metadata": {},
   "outputs": [
    {
     "data": {
      "text/plain": [
       "0.813732833957553"
      ]
     },
     "execution_count": 95,
     "metadata": {},
     "output_type": "execute_result"
    }
   ],
   "source": [
    "result = cross_val_score(forest,XRb,y,cv=10)\n",
    "result.mean()"
   ]
  },
  {
   "cell_type": "markdown",
   "id": "8cf9b476",
   "metadata": {},
   "source": [
    "#### KNN 모델 확인"
   ]
  },
  {
   "cell_type": "code",
   "execution_count": 96,
   "id": "1428b45a",
   "metadata": {},
   "outputs": [
    {
     "data": {
      "text/plain": [
       "0.8059425717852683"
      ]
     },
     "execution_count": 96,
     "metadata": {},
     "output_type": "execute_result"
    }
   ],
   "source": [
    "result = cross_val_score(knn_model,X,y,cv=10)\n",
    "result.mean()"
   ]
  },
  {
   "cell_type": "code",
   "execution_count": 97,
   "id": "b7266784",
   "metadata": {
    "scrolled": true
   },
   "outputs": [
    {
     "data": {
      "text/plain": [
       "0.8227840199750311"
      ]
     },
     "execution_count": 97,
     "metadata": {},
     "output_type": "execute_result"
    }
   ],
   "source": [
    "result = cross_val_score(knn_model,XRb,y,cv=10)\n",
    "result.mean()"
   ]
  },
  {
   "cell_type": "markdown",
   "id": "6a6d8311",
   "metadata": {},
   "source": [
    "### StandardScaler"
   ]
  },
  {
   "cell_type": "code",
   "execution_count": 98,
   "id": "e820e3af",
   "metadata": {},
   "outputs": [],
   "source": [
    "stScaler = StandardScaler()"
   ]
  },
  {
   "cell_type": "code",
   "execution_count": 99,
   "id": "6f9a543c",
   "metadata": {},
   "outputs": [
    {
     "data": {
      "text/plain": [
       "StandardScaler()"
      ]
     },
     "execution_count": 99,
     "metadata": {},
     "output_type": "execute_result"
    }
   ],
   "source": [
    "stScaler.fit(X)"
   ]
  },
  {
   "cell_type": "code",
   "execution_count": 100,
   "id": "e467fb38",
   "metadata": {},
   "outputs": [],
   "source": [
    "XSt = stScaler.transform(X)\n",
    "testSt = stScaler.transform(test)"
   ]
  },
  {
   "cell_type": "code",
   "execution_count": 101,
   "id": "2429ec84",
   "metadata": {},
   "outputs": [
    {
     "data": {
      "text/plain": [
       "array([[-0.73769513, -0.51365188],\n",
       "       [ 1.35557354,  1.1872003 ],\n",
       "       [ 1.35557354, -0.51365188],\n",
       "       ...,\n",
       "       [ 1.35557354, -0.38599495],\n",
       "       [-0.73769513,  0.16388004],\n",
       "       [-0.73769513, -0.51365188]])"
      ]
     },
     "execution_count": 101,
     "metadata": {},
     "output_type": "execute_result"
    }
   ],
   "source": [
    "XSt"
   ]
  },
  {
   "cell_type": "code",
   "execution_count": 102,
   "id": "4be3568a",
   "metadata": {
    "scrolled": false
   },
   "outputs": [
    {
     "data": {
      "text/plain": [
       "array([[-0.73769513, -0.51365188],\n",
       "       [ 1.35557354, -0.51365188],\n",
       "       [-0.73769513, -0.45968688],\n",
       "       [-0.73769513, -0.50817792],\n",
       "       [ 1.35557354, -0.47822605],\n",
       "       [-0.73769513, -0.50353022],\n",
       "       [ 1.35557354, -0.51365188],\n",
       "       [-0.73769513, -0.22033013],\n",
       "       [ 1.35557354, -0.51365188],\n",
       "       [-0.73769513, -0.38021114],\n",
       "       [-0.73769513, -0.51365188],\n",
       "       [-0.73769513,  0.06472903],\n",
       "       [ 1.35557354,  1.45945411],\n",
       "       [-0.73769513, -0.25751176],\n",
       "       [ 1.35557354,  0.93663825],\n",
       "       [ 1.35557354, -0.23618438],\n",
       "       [-0.73769513, -0.42668818],\n",
       "       [-0.73769513, -0.51365188],\n",
       "       [ 1.35557354, -0.51365188],\n",
       "       [ 1.35557354, -0.51365188],\n",
       "       [-0.73769513,  0.89263999],\n",
       "       [-0.73769513, -0.51365188],\n",
       "       [ 1.35557354,  0.20560527],\n",
       "       [-0.73769513,  0.94169991],\n",
       "       [ 1.35557354,  4.37779811],\n",
       "       [-0.73769513, -0.45994508],\n",
       "       [ 1.35557354,  0.95657256],\n",
       "       [-0.73769513, -0.51365188],\n",
       "       [-0.73769513,  0.17627392],\n",
       "       [-0.73769513, -0.40062634],\n",
       "       [-0.73769513, -0.25751176],\n",
       "       [-0.73769513, -0.18934544],\n",
       "       [ 1.35557354, -0.40974988],\n",
       "       [ 1.35557354, -0.38599495],\n",
       "       [-0.73769513,  0.8517402 ],\n",
       "       [-0.73769513, -0.51365188],\n",
       "       [ 1.35557354, -0.51323875],\n",
       "       [ 1.35557354, -0.50817792],\n",
       "       [-0.73769513, -0.501258  ],\n",
       "       [-0.73769513, -0.11295124],\n",
       "       [-0.73769513, -0.46889594],\n",
       "       [-0.73769513,  0.07836229],\n",
       "       [-0.73769513, -0.51365188],\n",
       "       [ 1.35557354, -0.41863216],\n",
       "       [ 1.35557354,  0.72294799],\n",
       "       [-0.73769513, -0.51365188],\n",
       "       [-0.73769513,  0.15644372],\n",
       "       [-0.73769513, -0.51365188],\n",
       "       [ 1.35557354,  1.31134728],\n",
       "       [ 1.35557354, -0.44837746],\n",
       "       [-0.73769513,  0.90751264],\n",
       "       [-0.73769513, -0.39343169],\n",
       "       [ 1.35557354, -0.29469339],\n",
       "       [ 1.35557354,  4.37779811],\n",
       "       [-0.73769513, -0.38666587],\n",
       "       [-0.73769513, -0.33910479],\n",
       "       [-0.73769513, -0.51365188],\n",
       "       [-0.73769513, -0.51365188],\n",
       "       [-0.73769513, -0.44672495],\n",
       "       [ 1.35557354,  4.37779811],\n",
       "       [-0.73769513, -0.51365188],\n",
       "       [-0.73769513, -0.41243522],\n",
       "       [-0.73769513, -0.51365188],\n",
       "       [ 1.35557354, -0.51365188],\n",
       "       [-0.73769513,  4.37779811],\n",
       "       [ 1.35557354, -0.31948115],\n",
       "       [ 1.35557354, -0.51365188],\n",
       "       [-0.73769513,  0.47124818],\n",
       "       [-0.73769513,  0.12762795],\n",
       "       [ 1.35557354,  4.37779811],\n",
       "       [ 1.35557354, -0.51365188],\n",
       "       [-0.73769513, -0.51365188],\n",
       "       [ 1.35557354, -0.51365188],\n",
       "       [-0.73769513,  0.1073838 ],\n",
       "       [ 1.35557354,  4.37779811],\n",
       "       [-0.73769513,  4.37779811],\n",
       "       [-0.73769513, -0.51323875],\n",
       "       [ 1.35557354,  0.0572927 ],\n",
       "       [-0.73769513, -0.41863216],\n",
       "       [ 1.35557354, -0.51365188],\n",
       "       [-0.73769513, -0.45378285],\n",
       "       [-0.73769513,  4.37779811],\n",
       "       [-0.73769513,  0.06472903],\n",
       "       [-0.73769513, -0.51365188],\n",
       "       [-0.73769513, -0.44703521],\n",
       "       [-0.73769513, -0.46032351],\n",
       "       [ 1.35557354, -0.51365188],\n",
       "       [ 1.35557354, -0.51323875],\n",
       "       [ 1.35557354, -0.51365188],\n",
       "       [-0.73769513, -0.29469339],\n",
       "       [ 1.35557354, -0.46490263],\n",
       "       [-0.73769513, -0.51365188],\n",
       "       [ 1.35557354,  0.70921062],\n",
       "       [-0.73769513, -0.51323875],\n",
       "       [-0.73769513,  0.06472903],\n",
       "       [-0.73769513, -0.51365188],\n",
       "       [ 1.35557354,  1.37476179],\n",
       "       [-0.73769513, -0.51365188],\n",
       "       [ 1.35557354, -0.51365188],\n",
       "       [-0.73769513, -0.51323875],\n",
       "       [ 1.35557354,  0.79452263],\n",
       "       [-0.73769513, -0.25751176],\n",
       "       [-0.73769513, -0.51365188],\n",
       "       [-0.73769513, -0.51365188],\n",
       "       [ 1.35557354, -0.5093826 ],\n",
       "       [-0.73769513, -0.39363784],\n",
       "       [-0.73769513, -0.51365188],\n",
       "       [-0.73769513, -0.51365188],\n",
       "       [-0.73769513, -0.50776479],\n",
       "       [-0.73769513, -0.41863216],\n",
       "       [-0.73769513, -0.39327677],\n",
       "       [ 1.35557354, -0.51365188],\n",
       "       [ 1.35557354,  0.20550364],\n",
       "       [ 1.35557354, -0.51365188],\n",
       "       [ 1.35557354,  4.37779811],\n",
       "       [-0.73769513, -0.46032351],\n",
       "       [-0.73769513, -0.51365188],\n",
       "       [ 1.35557354, -0.4417674 ],\n",
       "       [-0.73769513,  1.28532014],\n",
       "       [ 1.35557354, -0.25751176],\n",
       "       [ 1.35557354, -0.384549  ],\n",
       "       [-0.73769513, -0.51365188],\n",
       "       [ 1.35557354,  0.8517402 ],\n",
       "       [-0.73769513, -0.51365188],\n",
       "       [-0.73769513, -0.51365188],\n",
       "       [ 1.35557354, -0.44672495],\n",
       "       [-0.73769513, -0.51365188],\n",
       "       [ 1.35557354, -0.38764747],\n",
       "       [-0.73769513, -0.41863216],\n",
       "       [-0.73769513, -0.51323875],\n",
       "       [-0.73769513, -0.51323875],\n",
       "       [-0.73769513,  0.12669841],\n",
       "       [ 1.35557354, -0.3693318 ],\n",
       "       [-0.73769513, -0.51365188],\n",
       "       [-0.73769513, -0.51365188],\n",
       "       [-0.73769513, -0.51365188],\n",
       "       [-0.73769513, -0.51365188],\n",
       "       [-0.73769513, -0.41863216],\n",
       "       [ 1.35557354, -0.51323875],\n",
       "       [-0.73769513, -0.19223735],\n",
       "       [ 1.35557354, -0.19223735],\n",
       "       [ 1.35557354,  3.17683146],\n",
       "       [-0.73769513,  4.37779811],\n",
       "       [-0.73769513, -0.25751176],\n",
       "       [-0.73769513,  0.07836229],\n",
       "       [-0.73769513, -0.43102604],\n",
       "       [-0.73769513,  0.7058023 ],\n",
       "       [-0.73769513, -0.51323875],\n",
       "       [-0.73769513,  0.07836229],\n",
       "       [-0.73769513, -0.25751176],\n",
       "       [ 1.35557354,  1.48155487],\n",
       "       [-0.73769513, -0.51365188],\n",
       "       [-0.73769513, -0.51365188],\n",
       "       [ 1.35557354, -0.47908701],\n",
       "       [-0.73769513, -0.32041069],\n",
       "       [-0.73769513, -0.51365188],\n",
       "       [ 1.35557354,  4.37779811],\n",
       "       [ 1.35557354, -0.51365188],\n",
       "       [-0.73769513,  0.07836229],\n",
       "       [ 1.35557354, -0.46593546],\n",
       "       [ 1.35557354, -0.51365188],\n",
       "       [-0.73769513, -0.45378285],\n",
       "       [ 1.35557354, -0.41243522],\n",
       "       [-0.73769513, -0.51365188],\n",
       "       [-0.73769513, -0.41863216],\n",
       "       [ 1.35557354, -0.39776913],\n",
       "       [-0.73769513,  0.67192488],\n",
       "       [-0.73769513, -0.29572622],\n",
       "       [ 1.35557354,  0.1073838 ],\n",
       "       [ 1.35557354, -0.50569914],\n",
       "       [-0.73769513, -0.51365188],\n",
       "       [-0.73769513, -0.51365188],\n",
       "       [-0.73769513, -0.46490263],\n",
       "       [-0.73769513, -0.51365188],\n",
       "       [-0.73769513, -0.32041069],\n",
       "       [ 1.35557354, -0.09639137],\n",
       "       [ 1.35557354, -0.12427759],\n",
       "       [-0.73769513,  0.79452263],\n",
       "       [ 1.35557354, -0.09639137],\n",
       "       [ 1.35557354,  1.48155487],\n",
       "       [-0.73769513, -0.41863216],\n",
       "       [-0.73769513,  1.48155487],\n",
       "       [ 1.35557354,  0.73647714],\n",
       "       [-0.73769513, -0.51365188],\n",
       "       [ 1.35557354,  4.37779811],\n",
       "       [-0.73769513, -0.38145053],\n",
       "       [ 1.35557354, -0.31948115],\n",
       "       [-0.73769513, -0.51323875],\n",
       "       [ 1.35557354, -0.00508981],\n",
       "       [-0.73769513, -0.41863216],\n",
       "       [-0.73769513, -0.25751176],\n",
       "       [-0.73769513,  0.06472903],\n",
       "       [-0.73769513, -0.45994508],\n",
       "       [-0.73769513, -0.42668818],\n",
       "       [-0.73769513, -0.17695157],\n",
       "       [-0.73769513, -0.51365188],\n",
       "       [-0.73769513,  2.75420027],\n",
       "       [ 1.35557354, -0.51365188],\n",
       "       [-0.73769513, -0.44961685],\n",
       "       [ 1.35557354, -0.51272234],\n",
       "       [ 1.35557354, -0.4516825 ],\n",
       "       [-0.73769513, -0.46077134],\n",
       "       [-0.73769513,  4.37779811],\n",
       "       [ 1.35557354, -0.25751176],\n",
       "       [-0.73769513, -0.44961685],\n",
       "       [-0.73769513,  0.05832635],\n",
       "       [ 1.35557354, -0.51365188],\n",
       "       [-0.73769513, -0.44961685],\n",
       "       [ 1.35557354,  0.1073838 ],\n",
       "       [-0.73769513, -0.51365188],\n",
       "       [-0.73769513, -0.39363784],\n",
       "       [-0.73769513, -0.51365188],\n",
       "       [-0.73769513,  0.33119738],\n",
       "       [ 1.35557354, -0.25751176],\n",
       "       [ 1.35557354, -0.51365188],\n",
       "       [-0.73769513,  0.47372696],\n",
       "       [ 1.35557354, -0.51365188],\n",
       "       [-0.73769513,  3.50692254],\n",
       "       [ 1.35557354,  4.37779811],\n",
       "       [-0.73769513, -0.51323875],\n",
       "       [ 1.35557354, -0.4079945 ],\n",
       "       [-0.73769513, -0.51323875],\n",
       "       [ 1.35557354, -0.44961685],\n",
       "       [-0.73769513, -0.51365188],\n",
       "       [ 1.35557354,  0.10056716],\n",
       "       [ 1.35557354, -0.45378285],\n",
       "       [-0.73769513, -0.51365188],\n",
       "       [ 1.35557354, -0.51365188],\n",
       "       [-0.73769513, -0.45498753],\n",
       "       [-0.73769513, -0.41863216],\n",
       "       [-0.73769513,  0.22584943],\n",
       "       [ 1.35557354,  0.07836229],\n",
       "       [-0.73769513, -0.51365188],\n",
       "       [-0.73769513, -0.51365188],\n",
       "       [-0.73769513,  1.1872003 ],\n",
       "       [-0.73769513, -0.51365188],\n",
       "       [-0.73769513,  1.28552588],\n",
       "       [-0.73769513, -0.51365188],\n",
       "       [ 1.35557354, -0.41863216],\n",
       "       [ 1.35557354,  2.05828409],\n",
       "       [ 1.35557354,  0.1073838 ],\n",
       "       [ 1.35557354, -0.20793626],\n",
       "       [-0.73769513,  2.75420027],\n",
       "       [-0.73769513, -0.51365188],\n",
       "       [-0.73769513, -0.38599495],\n",
       "       [-0.73769513,  0.7058023 ],\n",
       "       [ 1.35557354, -0.31948115],\n",
       "       [-0.73769513, -0.17695157],\n",
       "       [ 1.35557354, -0.25751176],\n",
       "       [ 1.35557354, -0.46032351],\n",
       "       [ 1.35557354, -0.23582248],\n",
       "       [-0.73769513, -0.51365188],\n",
       "       [-0.73769513,  2.81069651],\n",
       "       [-0.73769513, -0.50270396],\n",
       "       [-0.73769513, -0.501258  ],\n",
       "       [-0.73769513, -0.51365188],\n",
       "       [-0.73769513, -0.51365188],\n",
       "       [-0.73769513, -0.51323875],\n",
       "       [ 1.35557354, -0.41863216],\n",
       "       [-0.73769513, -0.51365188],\n",
       "       [-0.73769513, -0.43598359],\n",
       "       [-0.73769513, -0.51365188],\n",
       "       [ 1.35557354, -0.29469339],\n",
       "       [ 1.35557354, -0.47908701],\n",
       "       [-0.73769513, -0.42188555],\n",
       "       [-0.73769513, -0.51365188],\n",
       "       [-0.73769513, -0.38145053],\n",
       "       [-0.73769513, -0.51365188],\n",
       "       [ 1.35557354, -0.51323875],\n",
       "       [-0.73769513, -0.50817792],\n",
       "       [-0.73769513,  1.28532014],\n",
       "       [-0.73769513, -0.51365188],\n",
       "       [ 1.35557354,  2.81069651],\n",
       "       [ 1.35557354, -0.4516825 ],\n",
       "       [-0.73769513, -0.51365188],\n",
       "       [ 1.35557354, -0.25751176],\n",
       "       [-0.73769513, -0.44961685],\n",
       "       [-0.73769513, -0.25751176],\n",
       "       [-0.73769513, -0.31948115],\n",
       "       [-0.73769513, -0.44961685],\n",
       "       [ 1.35557354, -0.50817792],\n",
       "       [-0.73769513, -0.46593546],\n",
       "       [ 1.35557354, -0.51365188],\n",
       "       [ 1.35557354, -0.45378285],\n",
       "       [ 1.35557354, -0.41274507],\n",
       "       [-0.73769513, -0.51365188],\n",
       "       [-0.73769513, -0.51365188],\n",
       "       [-0.73769513,  1.45945411],\n",
       "       [-0.73769513, -0.51365188],\n",
       "       [-0.73769513, -0.51323875],\n",
       "       [-0.73769513,  0.40184247],\n",
       "       [ 1.35557354, -0.51365188],\n",
       "       [-0.73769513, -0.51365188],\n",
       "       [-0.73769513,  1.44933079],\n",
       "       [-0.73769513, -0.501258  ],\n",
       "       [-0.73769513, -0.51365188],\n",
       "       [ 1.35557354, -0.06442508],\n",
       "       [-0.73769513, -0.40062634],\n",
       "       [-0.73769513,  0.54809022],\n",
       "       [-0.73769513, -0.51365188],\n",
       "       [-0.73769513, -0.51365188],\n",
       "       [-0.73769513, -0.39327677],\n",
       "       [-0.73769513, -0.31948115],\n",
       "       [-0.73769513, -0.50817792],\n",
       "       [ 1.35557354, -0.51365188],\n",
       "       [ 1.35557354,  0.07836229],\n",
       "       [-0.73769513,  3.17683146],\n",
       "       [-0.73769513, -0.50249739],\n",
       "       [-0.73769513,  1.73790238],\n",
       "       [ 1.35557354, -0.46318154],\n",
       "       [-0.73769513, -0.50817792],\n",
       "       [-0.73769513, -0.51365188],\n",
       "       [-0.73769513, -0.51365188],\n",
       "       [ 1.35557354, -0.51365188],\n",
       "       [ 1.35557354,  2.78229223],\n",
       "       [ 1.35557354, -0.51365188],\n",
       "       [-0.73769513,  3.05216889],\n",
       "       [-0.73769513, -0.44961685],\n",
       "       [-0.73769513, -0.51365188],\n",
       "       [-0.73769513, -0.18934544],\n",
       "       [-0.73769513, -0.51365188],\n",
       "       [-0.73769513, -0.51365188],\n",
       "       [-0.73769513, -0.41863216],\n",
       "       [-0.73769513,  0.07836229],\n",
       "       [ 1.35557354,  4.37779811],\n",
       "       [-0.73769513, -0.51365188],\n",
       "       [ 1.35557354, -0.09639137],\n",
       "       [-0.73769513,  1.38343751],\n",
       "       [-0.73769513, -0.25751176],\n",
       "       [-0.73769513, -0.41863216],\n",
       "       [ 1.35557354, -0.12427759],\n",
       "       [-0.73769513,  0.15644372],\n",
       "       [-0.73769513, -0.51365188],\n",
       "       [ 1.35557354, -0.44968543],\n",
       "       [-0.73769513, -0.51365188],\n",
       "       [-0.73769513,  0.06472903],\n",
       "       [-0.73769513, -0.41863216],\n",
       "       [-0.73769513, -0.51365188],\n",
       "       [-0.73769513, -0.18934544],\n",
       "       [-0.73769513, -0.51365188],\n",
       "       [-0.73769513, -0.44961685],\n",
       "       [-0.73769513, -0.51365188],\n",
       "       [-0.73769513, -0.00508981],\n",
       "       [ 1.35557354,  4.37779811],\n",
       "       [-0.73769513, -0.45994508],\n",
       "       [ 1.35557354, -0.51365188],\n",
       "       [-0.73769513, -0.41863216],\n",
       "       [ 1.35557354, -0.51365188],\n",
       "       [-0.73769513, -0.41243522],\n",
       "       [ 1.35557354, -0.31948115],\n",
       "       [ 1.35557354,  0.99075735],\n",
       "       [-0.73769513, -0.44961685],\n",
       "       [-0.73769513,  0.33119738],\n",
       "       [-0.73769513,  0.22584943],\n",
       "       [ 1.35557354, -0.40974988],\n",
       "       [-0.73769513,  0.06472903],\n",
       "       [ 1.35557354,  0.69630115],\n",
       "       [-0.73769513, -0.51365188],\n",
       "       [-0.73769513, -0.51365188],\n",
       "       [ 1.35557354, -0.45126937],\n",
       "       [-0.73769513, -0.00508981],\n",
       "       [ 1.35557354, -0.12112707],\n",
       "       [ 1.35557354, -0.31948115],\n",
       "       [-0.73769513, -0.50817792],\n",
       "       [ 1.35557354,  0.79452263],\n",
       "       [ 1.35557354, -0.00508981],\n",
       "       [-0.73769513, -0.46028963],\n",
       "       [ 1.35557354, -0.25183124],\n",
       "       [ 1.35557354,  0.89263999],\n",
       "       [-0.73769513, -0.4079945 ],\n",
       "       [-0.73769513, -0.43722298],\n",
       "       [ 1.35557354,  2.75420027],\n",
       "       [-0.73769513, -0.38145053],\n",
       "       [-0.73769513, -0.41863216],\n",
       "       [ 1.35557354,  1.44933079],\n",
       "       [ 1.35557354,  4.37779811],\n",
       "       [ 1.35557354, -0.50817792],\n",
       "       [-0.73769513, -0.43722298],\n",
       "       [-0.73769513,  0.65963511],\n",
       "       [-0.73769513, -0.32041069],\n",
       "       [-0.73769513, -0.51365188],\n",
       "       [-0.73769513, -0.51365188],\n",
       "       [ 1.35557354, -0.45994508],\n",
       "       [ 1.35557354, -0.44672495],\n",
       "       [-0.73769513, -0.4201814 ],\n",
       "       [ 1.35557354,  0.22584943],\n",
       "       [-0.73769513, -0.51365188],\n",
       "       [-0.73769513, -0.41863216],\n",
       "       [-0.73769513, -0.51365188],\n",
       "       [-0.73769513, -0.40561859],\n",
       "       [-0.73769513,  1.73790238],\n",
       "       [ 1.35557354,  0.39688492],\n",
       "       [-0.73769513, -0.41243522],\n",
       "       [-0.73769513, -0.44961685],\n",
       "       [-0.73769513, -0.39776913],\n",
       "       [ 1.35557354,  0.90751264],\n",
       "       [-0.73769513, -0.51365188],\n",
       "       [ 1.35557354,  1.38343751],\n",
       "       [-0.73769513, -0.51365188],\n",
       "       [-0.73769513, -0.51365188],\n",
       "       [ 1.35557354,  3.50692254],\n",
       "       [-0.73769513, -0.31948115],\n",
       "       [ 1.35557354,  0.89263999],\n",
       "       [-0.73769513,  0.58775062],\n",
       "       [-0.73769513,  0.1073838 ],\n",
       "       [-0.73769513, -0.40794244],\n",
       "       [-0.73769513, -0.44961685],\n",
       "       [-0.73769513,  4.37779811],\n",
       "       [ 1.35557354, -0.51365188],\n",
       "       [ 1.35557354, -0.46593546],\n",
       "       [ 1.35557354, -0.51365188],\n",
       "       [ 1.35557354,  1.65114524],\n",
       "       [ 1.35557354, -0.51365188],\n",
       "       [-0.73769513, -0.51323875],\n",
       "       [ 1.35557354,  2.11963378],\n",
       "       [-0.73769513, -0.51365188],\n",
       "       [-0.73769513, -0.51323875],\n",
       "       [-0.73769513, -0.39501522]])"
      ]
     },
     "execution_count": 102,
     "metadata": {},
     "output_type": "execute_result"
    }
   ],
   "source": [
    "testSt"
   ]
  },
  {
   "cell_type": "markdown",
   "id": "b65d6169",
   "metadata": {},
   "source": [
    "#### RandomForest 모델 확인"
   ]
  },
  {
   "cell_type": "code",
   "execution_count": 103,
   "id": "62927dc4",
   "metadata": {},
   "outputs": [
    {
     "data": {
      "text/plain": [
       "0.813732833957553"
      ]
     },
     "execution_count": 103,
     "metadata": {},
     "output_type": "execute_result"
    }
   ],
   "source": [
    "result = cross_val_score(forest,X,y,cv=10)\n",
    "result.mean()"
   ]
  },
  {
   "cell_type": "code",
   "execution_count": 104,
   "id": "a902c52c",
   "metadata": {},
   "outputs": [
    {
     "data": {
      "text/plain": [
       "0.812609238451935"
      ]
     },
     "execution_count": 104,
     "metadata": {},
     "output_type": "execute_result"
    }
   ],
   "source": [
    "result = cross_val_score(forest,XSt,y,cv=10)\n",
    "result.mean()"
   ]
  },
  {
   "cell_type": "markdown",
   "id": "e4a5da3a",
   "metadata": {},
   "source": [
    "#### KNN 모델 확인"
   ]
  },
  {
   "cell_type": "code",
   "execution_count": 105,
   "id": "5cbb4de4",
   "metadata": {},
   "outputs": [
    {
     "data": {
      "text/plain": [
       "0.8059425717852683"
      ]
     },
     "execution_count": 105,
     "metadata": {},
     "output_type": "execute_result"
    }
   ],
   "source": [
    "result = cross_val_score(knn_model,X,y,cv=10)\n",
    "result.mean()"
   ]
  },
  {
   "cell_type": "code",
   "execution_count": 106,
   "id": "364b1783",
   "metadata": {
    "scrolled": true
   },
   "outputs": [
    {
     "data": {
      "text/plain": [
       "0.8227840199750311"
      ]
     },
     "execution_count": 106,
     "metadata": {},
     "output_type": "execute_result"
    }
   ],
   "source": [
    "result = cross_val_score(knn_model,XSt,y,cv=10)\n",
    "result.mean()"
   ]
  }
 ],
 "metadata": {
  "kernelspec": {
   "display_name": "Python 3 (ipykernel)",
   "language": "python",
   "name": "python3"
  },
  "language_info": {
   "codemirror_mode": {
    "name": "ipython",
    "version": 3
   },
   "file_extension": ".py",
   "mimetype": "text/x-python",
   "name": "python",
   "nbconvert_exporter": "python",
   "pygments_lexer": "ipython3",
   "version": "3.9.7"
  },
  "toc": {
   "base_numbering": 1,
   "nav_menu": {},
   "number_sections": true,
   "sideBar": true,
   "skip_h1_title": false,
   "title_cell": "Table of Contents",
   "title_sidebar": "Contents",
   "toc_cell": false,
   "toc_position": {
    "height": "calc(100% - 180px)",
    "left": "10px",
    "top": "150px",
    "width": "191.594px"
   },
   "toc_section_display": true,
   "toc_window_display": true
  }
 },
 "nbformat": 4,
 "nbformat_minor": 5
}
