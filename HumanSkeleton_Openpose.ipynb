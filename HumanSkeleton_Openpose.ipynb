{
 "cells": [
  {
   "cell_type": "code",
   "execution_count": 1,
   "id": "d959f665",
   "metadata": {},
   "outputs": [],
   "source": [
    "import cv2"
   ]
  },
  {
   "cell_type": "code",
   "execution_count": 2,
   "id": "2809a256",
   "metadata": {},
   "outputs": [],
   "source": [
    "BODY_PARTS = { \"Head\": 0, \"Neck\": 1, \"RShoulder\": 2, \"RElbow\": 3, \"RWrist\": 4,\n",
    "                \"LShoulder\": 5, \"LElbow\": 6, \"LWrist\": 7, \"RHip\": 8, \"RKnee\": 9,\n",
    "                \"RAnkle\": 10, \"LHip\": 11, \"LKnee\": 12, \"LAnkle\": 13, \"Chest\": 14,\n",
    "                \"Background\": 15 }\n",
    "\n",
    "POSE_PAIRS = [ [\"Head\", \"Neck\"], [\"Neck\", \"RShoulder\"], [\"RShoulder\", \"RElbow\"],\n",
    "                [\"RElbow\", \"RWrist\"], [\"Neck\", \"LShoulder\"], [\"LShoulder\", \"LElbow\"],\n",
    "                [\"LElbow\", \"LWrist\"], [\"Neck\", \"Chest\"], [\"Chest\", \"RHip\"], [\"RHip\", \"RKnee\"],\n",
    "                [\"RKnee\", \"RAnkle\"], [\"Chest\", \"LHip\"], [\"LHip\", \"LKnee\"], [\"LKnee\", \"LAnkle\"] ]"
   ]
  },
  {
   "cell_type": "code",
   "execution_count": 3,
   "id": "96a82cb7",
   "metadata": {},
   "outputs": [],
   "source": [
    "protoFile = \"pose_deploy_linevec.prototxt\"\n",
    "weightsFile = \"pose_iter_440000.caffemodel\""
   ]
  },
  {
   "cell_type": "code",
   "execution_count": 4,
   "id": "4f368907",
   "metadata": {},
   "outputs": [],
   "source": [
    "net = cv2.dnn.readNetFromCaffe(protoFile, weightsFile)"
   ]
  },
  {
   "cell_type": "code",
   "execution_count": 5,
   "id": "abca1ab5",
   "metadata": {},
   "outputs": [],
   "source": [
    "image = cv2.imread(\"./img/dog5.jpg\")\n",
    "image = cv2.resize(image, None, fx=5, fy=5)"
   ]
  },
  {
   "cell_type": "code",
   "execution_count": 6,
   "id": "b6649855",
   "metadata": {},
   "outputs": [],
   "source": [
    "imageHeight, imageWidth, _ = image.shape"
   ]
  },
  {
   "cell_type": "code",
   "execution_count": 7,
   "id": "83d7c6ac",
   "metadata": {},
   "outputs": [],
   "source": [
    "inpBlob = cv2.dnn.blobFromImage(image, 1.0 / 255, (imageWidth, imageHeight), (0, 0, 0), swapRB=False, crop=False)"
   ]
  },
  {
   "cell_type": "code",
   "execution_count": 8,
   "id": "7278ef17",
   "metadata": {},
   "outputs": [],
   "source": [
    "net.setInput(inpBlob)"
   ]
  },
  {
   "cell_type": "code",
   "execution_count": 9,
   "id": "045242aa",
   "metadata": {},
   "outputs": [],
   "source": [
    "output = net.forward()"
   ]
  },
  {
   "cell_type": "code",
   "execution_count": 10,
   "id": "969367fd",
   "metadata": {},
   "outputs": [
    {
     "name": "stdout",
     "output_type": "stream",
     "text": [
      "이미지 ID :  57 , H :  141 , W :  141\n"
     ]
    }
   ],
   "source": [
    "# output.shape[0] = 이미지 ID, [1] = 출력 맵의 높이, [2] = 너비\n",
    "H = output.shape[2]\n",
    "W = output.shape[3]\n",
    "print(\"이미지 ID : \", len(output[0]), \", H : \", output.shape[2], \", W : \",output.shape[3]) # 이미지 ID"
   ]
  },
  {
   "cell_type": "code",
   "execution_count": 11,
   "id": "28077d3c",
   "metadata": {},
   "outputs": [
    {
     "data": {
      "text/plain": [
       "-1"
      ]
     },
     "execution_count": 11,
     "metadata": {},
     "output_type": "execute_result"
    }
   ],
   "source": [
    "points = []\n",
    "for i in range(0,15):\n",
    "    # 해당 신체부위 신뢰도 얻음.\n",
    "    probMap = output[0, i, :, :]\n",
    " \n",
    "    # global 최대값 찾기\n",
    "    minVal, prob, minLoc, point = cv2.minMaxLoc(probMap)\n",
    "\n",
    "    # 원래 이미지에 맞게 점 위치 변경\n",
    "    x = (imageWidth * point[0]) / W\n",
    "    y = (imageHeight * point[1]) / H\n",
    "\n",
    "    # 키포인트 검출한 결과가 0.1보다 크면(검출한곳이 위 BODY_PARTS랑 맞는 부위면) points에 추가, 검출했는데 부위가 없으면 None으로    \n",
    "    if prob > 0.1 :    \n",
    "        cv2.circle(image, (int(x), int(y)), 3, (0, 255, 255), thickness=-1, lineType=cv2.FILLED)       # circle(그릴곳, 원의 중심, 반지름, 색)\n",
    "        cv2.putText(image, \"{}\".format(i), (int(x), int(y)), cv2.FONT_HERSHEY_SIMPLEX, 0.5, (0, 0, 255), 1, lineType=cv2.LINE_AA)\n",
    "        points.append((int(x), int(y)))\n",
    "    else :\n",
    "        points.append(None)\n",
    "\n",
    "cv2.imshow(\"Output-Keypoints\",image)\n",
    "cv2.waitKey(0)"
   ]
  },
  {
   "cell_type": "code",
   "execution_count": 12,
   "id": "190d77d8",
   "metadata": {},
   "outputs": [],
   "source": [
    "# 이미지 복사\n",
    "imageCopy = image\n",
    "\n",
    "# 각 POSE_PAIRS별로 선 그어줌 (머리 - 목, 목 - 왼쪽어깨, ...)\n",
    "for pair in POSE_PAIRS:\n",
    "    partA = pair[0]             # Head\n",
    "    partA = BODY_PARTS[partA]   # 0\n",
    "    partB = pair[1]             # Neck\n",
    "    partB = BODY_PARTS[partB]   # 1\n",
    "    \n",
    "    #print(partA,\" 와 \", partB, \" 연결\\n\")\n",
    "    if points[partA] and points[partB]:\n",
    "        cv2.line(imageCopy, points[partA], points[partB], (0, 255, 0), 2)\n",
    "\n",
    "\n",
    "cv2.imshow(\"Output-Keypoints\",imageCopy)\n",
    "cv2.waitKey(0)\n",
    "cv2.destroyAllWindows()"
   ]
  }
 ],
 "metadata": {
  "kernelspec": {
   "display_name": "Python 3 (ipykernel)",
   "language": "python",
   "name": "python3"
  },
  "language_info": {
   "codemirror_mode": {
    "name": "ipython",
    "version": 3
   },
   "file_extension": ".py",
   "mimetype": "text/x-python",
   "name": "python",
   "nbconvert_exporter": "python",
   "pygments_lexer": "ipython3",
   "version": "3.9.7"
  },
  "toc": {
   "base_numbering": 1,
   "nav_menu": {},
   "number_sections": true,
   "sideBar": true,
   "skip_h1_title": false,
   "title_cell": "Table of Contents",
   "title_sidebar": "Contents",
   "toc_cell": false,
   "toc_position": {},
   "toc_section_display": true,
   "toc_window_display": false
  }
 },
 "nbformat": 4,
 "nbformat_minor": 5
}
