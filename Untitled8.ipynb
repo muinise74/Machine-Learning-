{
 "cells": [
  {
   "cell_type": "code",
   "execution_count": 1,
   "id": "7f959723",
   "metadata": {},
   "outputs": [],
   "source": [
    "import cv2"
   ]
  },
  {
   "cell_type": "code",
   "execution_count": 2,
   "id": "f174d717",
   "metadata": {},
   "outputs": [],
   "source": [
    "import numpy as np"
   ]
  },
  {
   "cell_type": "code",
   "execution_count": 3,
   "id": "d4b1d172",
   "metadata": {},
   "outputs": [],
   "source": [
    "image = cv2.imread(\"./img/dog8.jpg\")\n",
    "gray = cv2.cvtColor(image, cv2.COLOR_BGR2GRAY)\n",
    "gray = cv2.GaussianBlur(gray, (7, 7), 0)"
   ]
  },
  {
   "cell_type": "code",
   "execution_count": 4,
   "id": "4aa6c67e",
   "metadata": {},
   "outputs": [],
   "source": [
    "circles = cv2.HoughCircles(gray, cv2.HOUGH_GRADIENT,1.2,30,None,200)\n",
    "if circles is not None:\n",
    "    circles = npunit(np.around(circles))\n",
    "    for i in circles[0,:]:\n",
    "        cv2.circle(image,(i[0],i[1]),i[2],(0,255,0),2)\n",
    "        cv2.circle(image,(i[0],i[1]),2,(0,255,0),5)"
   ]
  },
  {
   "cell_type": "code",
   "execution_count": 5,
   "id": "0de7b761",
   "metadata": {},
   "outputs": [],
   "source": [
    "cv2.imshow('circle',image)\n",
    "cv2.waitKey(0)\n",
    "cv2.destroyAllWindows()"
   ]
  }
 ],
 "metadata": {
  "kernelspec": {
   "display_name": "Python 3 (ipykernel)",
   "language": "python",
   "name": "python3"
  },
  "language_info": {
   "codemirror_mode": {
    "name": "ipython",
    "version": 3
   },
   "file_extension": ".py",
   "mimetype": "text/x-python",
   "name": "python",
   "nbconvert_exporter": "python",
   "pygments_lexer": "ipython3",
   "version": "3.9.7"
  },
  "toc": {
   "base_numbering": 1,
   "nav_menu": {},
   "number_sections": true,
   "sideBar": true,
   "skip_h1_title": false,
   "title_cell": "Table of Contents",
   "title_sidebar": "Contents",
   "toc_cell": false,
   "toc_position": {},
   "toc_section_display": true,
   "toc_window_display": false
  }
 },
 "nbformat": 4,
 "nbformat_minor": 5
}
